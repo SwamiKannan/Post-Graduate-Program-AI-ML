{
 "cells": [
  {
   "cell_type": "markdown",
   "metadata": {},
   "source": [
    "# AUTOMATIC TICKET ASSIGNMENT"
   ]
  },
  {
   "cell_type": "markdown",
   "metadata": {},
   "source": [
    "# Problem Statement\n",
    "\n",
    "Manual assignment of incidents is time consuming and requires human efforts. There may be mistakes due to human errors and resource consumption is carried out ineffectively because of the misaddressing. On the other hand, manual assignment increases the response and resolution times which result in user satisfaction deterioration / poor customer service"
   ]
  },
  {
   "cell_type": "markdown",
   "metadata": {},
   "source": [
    "# Business Value Proposition\n",
    "\n",
    "In the support process, incoming incidents are analyzed and assessed by organization’s support teams to fulfill the request. In many organizations, better allocation and effective usage of the valuable support resources will directly result in substantial cost savings"
   ]
  },
  {
   "cell_type": "markdown",
   "metadata": {},
   "source": [
    "# Modeling Objective\n",
    "\n",
    "Develop a model for automatic ticket assignment to the relevant team so that problem addressal can be done in an efficient manner that reduces time for resolution"
   ]
  },
  {
   "cell_type": "markdown",
   "metadata": {},
   "source": [
    "# Libraries used"
   ]
  },
  {
   "cell_type": "code",
   "execution_count": null,
   "metadata": {},
   "outputs": [],
   "source": [
    "!pip install spacy\n",
    "!pip install nltk\n",
    "pip install plotly==4.7.1\n",
    "pip install cufflinks\n",
    "!pip install gensim"
   ]
  },
  {
   "cell_type": "code",
   "execution_count": 59,
   "metadata": {},
   "outputs": [
    {
     "name": "stdout",
     "output_type": "stream",
     "text": [
      "Requirement already satisfied: en_core_web_sm==2.2.5 from https://github.com/explosion/spacy-models/releases/download/en_core_web_sm-2.2.5/en_core_web_sm-2.2.5.tar.gz#egg=en_core_web_sm==2.2.5 in c:\\programdata\\anaconda3\\lib\\site-packages (2.2.5)\n",
      "Requirement already satisfied: spacy>=2.2.2 in c:\\programdata\\anaconda3\\lib\\site-packages (from en_core_web_sm==2.2.5) (2.2.4)\n",
      "Requirement already satisfied: plac<1.2.0,>=0.9.6 in c:\\programdata\\anaconda3\\lib\\site-packages (from spacy>=2.2.2->en_core_web_sm==2.2.5) (1.1.3)\n",
      "Requirement already satisfied: preshed<3.1.0,>=3.0.2 in c:\\programdata\\anaconda3\\lib\\site-packages (from spacy>=2.2.2->en_core_web_sm==2.2.5) (3.0.2)\n",
      "Requirement already satisfied: srsly<1.1.0,>=1.0.2 in c:\\programdata\\anaconda3\\lib\\site-packages (from spacy>=2.2.2->en_core_web_sm==2.2.5) (1.0.2)\n",
      "Requirement already satisfied: murmurhash<1.1.0,>=0.28.0 in c:\\programdata\\anaconda3\\lib\\site-packages (from spacy>=2.2.2->en_core_web_sm==2.2.5) (1.0.2)\n",
      "Requirement already satisfied: blis<0.5.0,>=0.4.0 in c:\\programdata\\anaconda3\\lib\\site-packages (from spacy>=2.2.2->en_core_web_sm==2.2.5) (0.4.1)\n",
      "Requirement already satisfied: tqdm<5.0.0,>=4.38.0 in c:\\programdata\\anaconda3\\lib\\site-packages (from spacy>=2.2.2->en_core_web_sm==2.2.5) (4.46.0)\n",
      "Requirement already satisfied: cymem<2.1.0,>=2.0.2 in c:\\programdata\\anaconda3\\lib\\site-packages (from spacy>=2.2.2->en_core_web_sm==2.2.5) (2.0.3)\n",
      "Requirement already satisfied: catalogue<1.1.0,>=0.0.7 in c:\\programdata\\anaconda3\\lib\\site-packages (from spacy>=2.2.2->en_core_web_sm==2.2.5) (1.0.0)\n",
      "Requirement already satisfied: wasabi<1.1.0,>=0.4.0 in c:\\programdata\\anaconda3\\lib\\site-packages (from spacy>=2.2.2->en_core_web_sm==2.2.5) (0.6.0)\n",
      "Requirement already satisfied: thinc==7.4.0 in c:\\programdata\\anaconda3\\lib\\site-packages (from spacy>=2.2.2->en_core_web_sm==2.2.5) (7.4.0)\n",
      "Requirement already satisfied: numpy>=1.15.0 in c:\\programdata\\anaconda3\\lib\\site-packages (from spacy>=2.2.2->en_core_web_sm==2.2.5) (1.16.2)\n",
      "Requirement already satisfied: requests<3.0.0,>=2.13.0 in c:\\programdata\\anaconda3\\lib\\site-packages (from spacy>=2.2.2->en_core_web_sm==2.2.5) (2.21.0)\n",
      "Requirement already satisfied: setuptools in c:\\programdata\\anaconda3\\lib\\site-packages (from spacy>=2.2.2->en_core_web_sm==2.2.5) (40.8.0)\n",
      "Requirement already satisfied: importlib-metadata>=0.20; python_version < \"3.8\" in c:\\programdata\\anaconda3\\lib\\site-packages (from catalogue<1.1.0,>=0.0.7->spacy>=2.2.2->en_core_web_sm==2.2.5) (1.6.0)\n",
      "Requirement already satisfied: idna<2.9,>=2.5 in c:\\programdata\\anaconda3\\lib\\site-packages (from requests<3.0.0,>=2.13.0->spacy>=2.2.2->en_core_web_sm==2.2.5) (2.8)\n",
      "Requirement already satisfied: urllib3<1.25,>=1.21.1 in c:\\programdata\\anaconda3\\lib\\site-packages (from requests<3.0.0,>=2.13.0->spacy>=2.2.2->en_core_web_sm==2.2.5) (1.24.1)\n",
      "Requirement already satisfied: chardet<3.1.0,>=3.0.2 in c:\\programdata\\anaconda3\\lib\\site-packages (from requests<3.0.0,>=2.13.0->spacy>=2.2.2->en_core_web_sm==2.2.5) (3.0.4)\n",
      "Requirement already satisfied: certifi>=2017.4.17 in c:\\programdata\\anaconda3\\lib\\site-packages (from requests<3.0.0,>=2.13.0->spacy>=2.2.2->en_core_web_sm==2.2.5) (2019.11.28)\n",
      "Requirement already satisfied: zipp>=0.5 in c:\\programdata\\anaconda3\\lib\\site-packages (from importlib-metadata>=0.20; python_version < \"3.8\"->catalogue<1.1.0,>=0.0.7->spacy>=2.2.2->en_core_web_sm==2.2.5) (3.1.0)\n",
      "symbolic link created for C:\\ProgramData\\Anaconda3\\lib\\site-packages\\spacy\\data\\en <<===>> C:\\ProgramData\\Anaconda3\\lib\\site-packages\\en_core_web_sm\n",
      "[+] Download and installation successful\n",
      "You can now load the model via spacy.load('en_core_web_sm')\n",
      "[+] Linking successful\n",
      "C:\\ProgramData\\Anaconda3\\lib\\site-packages\\en_core_web_sm -->\n",
      "C:\\ProgramData\\Anaconda3\\lib\\site-packages\\spacy\\data\\en\n",
      "You can now load the model via spacy.load('en')\n"
     ]
    },
    {
     "data": {
      "text/html": [
       "\n",
       "    <div class=\"bk-root\">\n",
       "        <a href=\"https://bokeh.pydata.org\" target=\"_blank\" class=\"bk-logo bk-logo-small bk-logo-notebook\"></a>\n",
       "        <span id=\"1002\">Loading BokehJS ...</span>\n",
       "    </div>"
      ]
     },
     "metadata": {},
     "output_type": "display_data"
    },
    {
     "data": {
      "application/javascript": [
       "\n",
       "(function(root) {\n",
       "  function now() {\n",
       "    return new Date();\n",
       "  }\n",
       "\n",
       "  var force = true;\n",
       "\n",
       "  if (typeof (root._bokeh_onload_callbacks) === \"undefined\" || force === true) {\n",
       "    root._bokeh_onload_callbacks = [];\n",
       "    root._bokeh_is_loading = undefined;\n",
       "  }\n",
       "\n",
       "  var JS_MIME_TYPE = 'application/javascript';\n",
       "  var HTML_MIME_TYPE = 'text/html';\n",
       "  var EXEC_MIME_TYPE = 'application/vnd.bokehjs_exec.v0+json';\n",
       "  var CLASS_NAME = 'output_bokeh rendered_html';\n",
       "\n",
       "  /**\n",
       "   * Render data to the DOM node\n",
       "   */\n",
       "  function render(props, node) {\n",
       "    var script = document.createElement(\"script\");\n",
       "    node.appendChild(script);\n",
       "  }\n",
       "\n",
       "  /**\n",
       "   * Handle when an output is cleared or removed\n",
       "   */\n",
       "  function handleClearOutput(event, handle) {\n",
       "    var cell = handle.cell;\n",
       "\n",
       "    var id = cell.output_area._bokeh_element_id;\n",
       "    var server_id = cell.output_area._bokeh_server_id;\n",
       "    // Clean up Bokeh references\n",
       "    if (id != null && id in Bokeh.index) {\n",
       "      Bokeh.index[id].model.document.clear();\n",
       "      delete Bokeh.index[id];\n",
       "    }\n",
       "\n",
       "    if (server_id !== undefined) {\n",
       "      // Clean up Bokeh references\n",
       "      var cmd = \"from bokeh.io.state import curstate; print(curstate().uuid_to_server['\" + server_id + \"'].get_sessions()[0].document.roots[0]._id)\";\n",
       "      cell.notebook.kernel.execute(cmd, {\n",
       "        iopub: {\n",
       "          output: function(msg) {\n",
       "            var id = msg.content.text.trim();\n",
       "            if (id in Bokeh.index) {\n",
       "              Bokeh.index[id].model.document.clear();\n",
       "              delete Bokeh.index[id];\n",
       "            }\n",
       "          }\n",
       "        }\n",
       "      });\n",
       "      // Destroy server and session\n",
       "      var cmd = \"import bokeh.io.notebook as ion; ion.destroy_server('\" + server_id + \"')\";\n",
       "      cell.notebook.kernel.execute(cmd);\n",
       "    }\n",
       "  }\n",
       "\n",
       "  /**\n",
       "   * Handle when a new output is added\n",
       "   */\n",
       "  function handleAddOutput(event, handle) {\n",
       "    var output_area = handle.output_area;\n",
       "    var output = handle.output;\n",
       "\n",
       "    // limit handleAddOutput to display_data with EXEC_MIME_TYPE content only\n",
       "    if ((output.output_type != \"display_data\") || (!output.data.hasOwnProperty(EXEC_MIME_TYPE))) {\n",
       "      return\n",
       "    }\n",
       "\n",
       "    var toinsert = output_area.element.find(\".\" + CLASS_NAME.split(' ')[0]);\n",
       "\n",
       "    if (output.metadata[EXEC_MIME_TYPE][\"id\"] !== undefined) {\n",
       "      toinsert[toinsert.length - 1].firstChild.textContent = output.data[JS_MIME_TYPE];\n",
       "      // store reference to embed id on output_area\n",
       "      output_area._bokeh_element_id = output.metadata[EXEC_MIME_TYPE][\"id\"];\n",
       "    }\n",
       "    if (output.metadata[EXEC_MIME_TYPE][\"server_id\"] !== undefined) {\n",
       "      var bk_div = document.createElement(\"div\");\n",
       "      bk_div.innerHTML = output.data[HTML_MIME_TYPE];\n",
       "      var script_attrs = bk_div.children[0].attributes;\n",
       "      for (var i = 0; i < script_attrs.length; i++) {\n",
       "        toinsert[toinsert.length - 1].firstChild.setAttribute(script_attrs[i].name, script_attrs[i].value);\n",
       "      }\n",
       "      // store reference to server id on output_area\n",
       "      output_area._bokeh_server_id = output.metadata[EXEC_MIME_TYPE][\"server_id\"];\n",
       "    }\n",
       "  }\n",
       "\n",
       "  function register_renderer(events, OutputArea) {\n",
       "\n",
       "    function append_mime(data, metadata, element) {\n",
       "      // create a DOM node to render to\n",
       "      var toinsert = this.create_output_subarea(\n",
       "        metadata,\n",
       "        CLASS_NAME,\n",
       "        EXEC_MIME_TYPE\n",
       "      );\n",
       "      this.keyboard_manager.register_events(toinsert);\n",
       "      // Render to node\n",
       "      var props = {data: data, metadata: metadata[EXEC_MIME_TYPE]};\n",
       "      render(props, toinsert[toinsert.length - 1]);\n",
       "      element.append(toinsert);\n",
       "      return toinsert\n",
       "    }\n",
       "\n",
       "    /* Handle when an output is cleared or removed */\n",
       "    events.on('clear_output.CodeCell', handleClearOutput);\n",
       "    events.on('delete.Cell', handleClearOutput);\n",
       "\n",
       "    /* Handle when a new output is added */\n",
       "    events.on('output_added.OutputArea', handleAddOutput);\n",
       "\n",
       "    /**\n",
       "     * Register the mime type and append_mime function with output_area\n",
       "     */\n",
       "    OutputArea.prototype.register_mime_type(EXEC_MIME_TYPE, append_mime, {\n",
       "      /* Is output safe? */\n",
       "      safe: true,\n",
       "      /* Index of renderer in `output_area.display_order` */\n",
       "      index: 0\n",
       "    });\n",
       "  }\n",
       "\n",
       "  // register the mime type if in Jupyter Notebook environment and previously unregistered\n",
       "  if (root.Jupyter !== undefined) {\n",
       "    var events = require('base/js/events');\n",
       "    var OutputArea = require('notebook/js/outputarea').OutputArea;\n",
       "\n",
       "    if (OutputArea.prototype.mime_types().indexOf(EXEC_MIME_TYPE) == -1) {\n",
       "      register_renderer(events, OutputArea);\n",
       "    }\n",
       "  }\n",
       "\n",
       "  \n",
       "  if (typeof (root._bokeh_timeout) === \"undefined\" || force === true) {\n",
       "    root._bokeh_timeout = Date.now() + 5000;\n",
       "    root._bokeh_failed_load = false;\n",
       "  }\n",
       "\n",
       "  var NB_LOAD_WARNING = {'data': {'text/html':\n",
       "     \"<div style='background-color: #fdd'>\\n\"+\n",
       "     \"<p>\\n\"+\n",
       "     \"BokehJS does not appear to have successfully loaded. If loading BokehJS from CDN, this \\n\"+\n",
       "     \"may be due to a slow or bad network connection. Possible fixes:\\n\"+\n",
       "     \"</p>\\n\"+\n",
       "     \"<ul>\\n\"+\n",
       "     \"<li>re-rerun `output_notebook()` to attempt to load from CDN again, or</li>\\n\"+\n",
       "     \"<li>use INLINE resources instead, as so:</li>\\n\"+\n",
       "     \"</ul>\\n\"+\n",
       "     \"<code>\\n\"+\n",
       "     \"from bokeh.resources import INLINE\\n\"+\n",
       "     \"output_notebook(resources=INLINE)\\n\"+\n",
       "     \"</code>\\n\"+\n",
       "     \"</div>\"}};\n",
       "\n",
       "  function display_loaded() {\n",
       "    var el = document.getElementById(\"1002\");\n",
       "    if (el != null) {\n",
       "      el.textContent = \"BokehJS is loading...\";\n",
       "    }\n",
       "    if (root.Bokeh !== undefined) {\n",
       "      if (el != null) {\n",
       "        el.textContent = \"BokehJS \" + root.Bokeh.version + \" successfully loaded.\";\n",
       "      }\n",
       "    } else if (Date.now() < root._bokeh_timeout) {\n",
       "      setTimeout(display_loaded, 100)\n",
       "    }\n",
       "  }\n",
       "\n",
       "\n",
       "  function run_callbacks() {\n",
       "    try {\n",
       "      root._bokeh_onload_callbacks.forEach(function(callback) { callback() });\n",
       "    }\n",
       "    finally {\n",
       "      delete root._bokeh_onload_callbacks\n",
       "    }\n",
       "    console.info(\"Bokeh: all callbacks have finished\");\n",
       "  }\n",
       "\n",
       "  function load_libs(js_urls, callback) {\n",
       "    root._bokeh_onload_callbacks.push(callback);\n",
       "    if (root._bokeh_is_loading > 0) {\n",
       "      console.log(\"Bokeh: BokehJS is being loaded, scheduling callback at\", now());\n",
       "      return null;\n",
       "    }\n",
       "    if (js_urls == null || js_urls.length === 0) {\n",
       "      run_callbacks();\n",
       "      return null;\n",
       "    }\n",
       "    console.log(\"Bokeh: BokehJS not loaded, scheduling load and callback at\", now());\n",
       "    root._bokeh_is_loading = js_urls.length;\n",
       "    for (var i = 0; i < js_urls.length; i++) {\n",
       "      var url = js_urls[i];\n",
       "      var s = document.createElement('script');\n",
       "      s.src = url;\n",
       "      s.async = false;\n",
       "      s.onreadystatechange = s.onload = function() {\n",
       "        root._bokeh_is_loading--;\n",
       "        if (root._bokeh_is_loading === 0) {\n",
       "          console.log(\"Bokeh: all BokehJS libraries loaded\");\n",
       "          run_callbacks()\n",
       "        }\n",
       "      };\n",
       "      s.onerror = function() {\n",
       "        console.warn(\"failed to load library \" + url);\n",
       "      };\n",
       "      console.log(\"Bokeh: injecting script tag for BokehJS library: \", url);\n",
       "      document.getElementsByTagName(\"head\")[0].appendChild(s);\n",
       "    }\n",
       "  };var element = document.getElementById(\"1002\");\n",
       "  if (element == null) {\n",
       "    console.log(\"Bokeh: ERROR: autoload.js configured with elementid '1002' but no matching script tag was found. \")\n",
       "    return false;\n",
       "  }\n",
       "\n",
       "  var js_urls = [\"https://cdn.pydata.org/bokeh/release/bokeh-1.0.4.min.js\", \"https://cdn.pydata.org/bokeh/release/bokeh-widgets-1.0.4.min.js\", \"https://cdn.pydata.org/bokeh/release/bokeh-tables-1.0.4.min.js\", \"https://cdn.pydata.org/bokeh/release/bokeh-gl-1.0.4.min.js\"];\n",
       "\n",
       "  var inline_js = [\n",
       "    function(Bokeh) {\n",
       "      Bokeh.set_log_level(\"info\");\n",
       "    },\n",
       "    \n",
       "    function(Bokeh) {\n",
       "      \n",
       "    },\n",
       "    function(Bokeh) {\n",
       "      console.log(\"Bokeh: injecting CSS: https://cdn.pydata.org/bokeh/release/bokeh-1.0.4.min.css\");\n",
       "      Bokeh.embed.inject_css(\"https://cdn.pydata.org/bokeh/release/bokeh-1.0.4.min.css\");\n",
       "      console.log(\"Bokeh: injecting CSS: https://cdn.pydata.org/bokeh/release/bokeh-widgets-1.0.4.min.css\");\n",
       "      Bokeh.embed.inject_css(\"https://cdn.pydata.org/bokeh/release/bokeh-widgets-1.0.4.min.css\");\n",
       "      console.log(\"Bokeh: injecting CSS: https://cdn.pydata.org/bokeh/release/bokeh-tables-1.0.4.min.css\");\n",
       "      Bokeh.embed.inject_css(\"https://cdn.pydata.org/bokeh/release/bokeh-tables-1.0.4.min.css\");\n",
       "    }\n",
       "  ];\n",
       "\n",
       "  function run_inline_js() {\n",
       "    \n",
       "    if ((root.Bokeh !== undefined) || (force === true)) {\n",
       "      for (var i = 0; i < inline_js.length; i++) {\n",
       "        inline_js[i].call(root, root.Bokeh);\n",
       "      }if (force === true) {\n",
       "        display_loaded();\n",
       "      }} else if (Date.now() < root._bokeh_timeout) {\n",
       "      setTimeout(run_inline_js, 100);\n",
       "    } else if (!root._bokeh_failed_load) {\n",
       "      console.log(\"Bokeh: BokehJS failed to load within specified timeout.\");\n",
       "      root._bokeh_failed_load = true;\n",
       "    } else if (force !== true) {\n",
       "      var cell = $(document.getElementById(\"1002\")).parents('.cell').data().cell;\n",
       "      cell.output_area.append_execute_result(NB_LOAD_WARNING)\n",
       "    }\n",
       "\n",
       "  }\n",
       "\n",
       "  if (root._bokeh_is_loading === 0) {\n",
       "    console.log(\"Bokeh: BokehJS loaded, going straight to plotting\");\n",
       "    run_inline_js();\n",
       "  } else {\n",
       "    load_libs(js_urls, function() {\n",
       "      console.log(\"Bokeh: BokehJS plotting callback run at\", now());\n",
       "      run_inline_js();\n",
       "    });\n",
       "  }\n",
       "}(window));"
      ],
      "application/vnd.bokehjs_load.v0+json": "\n(function(root) {\n  function now() {\n    return new Date();\n  }\n\n  var force = true;\n\n  if (typeof (root._bokeh_onload_callbacks) === \"undefined\" || force === true) {\n    root._bokeh_onload_callbacks = [];\n    root._bokeh_is_loading = undefined;\n  }\n\n  \n\n  \n  if (typeof (root._bokeh_timeout) === \"undefined\" || force === true) {\n    root._bokeh_timeout = Date.now() + 5000;\n    root._bokeh_failed_load = false;\n  }\n\n  var NB_LOAD_WARNING = {'data': {'text/html':\n     \"<div style='background-color: #fdd'>\\n\"+\n     \"<p>\\n\"+\n     \"BokehJS does not appear to have successfully loaded. If loading BokehJS from CDN, this \\n\"+\n     \"may be due to a slow or bad network connection. Possible fixes:\\n\"+\n     \"</p>\\n\"+\n     \"<ul>\\n\"+\n     \"<li>re-rerun `output_notebook()` to attempt to load from CDN again, or</li>\\n\"+\n     \"<li>use INLINE resources instead, as so:</li>\\n\"+\n     \"</ul>\\n\"+\n     \"<code>\\n\"+\n     \"from bokeh.resources import INLINE\\n\"+\n     \"output_notebook(resources=INLINE)\\n\"+\n     \"</code>\\n\"+\n     \"</div>\"}};\n\n  function display_loaded() {\n    var el = document.getElementById(\"1002\");\n    if (el != null) {\n      el.textContent = \"BokehJS is loading...\";\n    }\n    if (root.Bokeh !== undefined) {\n      if (el != null) {\n        el.textContent = \"BokehJS \" + root.Bokeh.version + \" successfully loaded.\";\n      }\n    } else if (Date.now() < root._bokeh_timeout) {\n      setTimeout(display_loaded, 100)\n    }\n  }\n\n\n  function run_callbacks() {\n    try {\n      root._bokeh_onload_callbacks.forEach(function(callback) { callback() });\n    }\n    finally {\n      delete root._bokeh_onload_callbacks\n    }\n    console.info(\"Bokeh: all callbacks have finished\");\n  }\n\n  function load_libs(js_urls, callback) {\n    root._bokeh_onload_callbacks.push(callback);\n    if (root._bokeh_is_loading > 0) {\n      console.log(\"Bokeh: BokehJS is being loaded, scheduling callback at\", now());\n      return null;\n    }\n    if (js_urls == null || js_urls.length === 0) {\n      run_callbacks();\n      return null;\n    }\n    console.log(\"Bokeh: BokehJS not loaded, scheduling load and callback at\", now());\n    root._bokeh_is_loading = js_urls.length;\n    for (var i = 0; i < js_urls.length; i++) {\n      var url = js_urls[i];\n      var s = document.createElement('script');\n      s.src = url;\n      s.async = false;\n      s.onreadystatechange = s.onload = function() {\n        root._bokeh_is_loading--;\n        if (root._bokeh_is_loading === 0) {\n          console.log(\"Bokeh: all BokehJS libraries loaded\");\n          run_callbacks()\n        }\n      };\n      s.onerror = function() {\n        console.warn(\"failed to load library \" + url);\n      };\n      console.log(\"Bokeh: injecting script tag for BokehJS library: \", url);\n      document.getElementsByTagName(\"head\")[0].appendChild(s);\n    }\n  };var element = document.getElementById(\"1002\");\n  if (element == null) {\n    console.log(\"Bokeh: ERROR: autoload.js configured with elementid '1002' but no matching script tag was found. \")\n    return false;\n  }\n\n  var js_urls = [\"https://cdn.pydata.org/bokeh/release/bokeh-1.0.4.min.js\", \"https://cdn.pydata.org/bokeh/release/bokeh-widgets-1.0.4.min.js\", \"https://cdn.pydata.org/bokeh/release/bokeh-tables-1.0.4.min.js\", \"https://cdn.pydata.org/bokeh/release/bokeh-gl-1.0.4.min.js\"];\n\n  var inline_js = [\n    function(Bokeh) {\n      Bokeh.set_log_level(\"info\");\n    },\n    \n    function(Bokeh) {\n      \n    },\n    function(Bokeh) {\n      console.log(\"Bokeh: injecting CSS: https://cdn.pydata.org/bokeh/release/bokeh-1.0.4.min.css\");\n      Bokeh.embed.inject_css(\"https://cdn.pydata.org/bokeh/release/bokeh-1.0.4.min.css\");\n      console.log(\"Bokeh: injecting CSS: https://cdn.pydata.org/bokeh/release/bokeh-widgets-1.0.4.min.css\");\n      Bokeh.embed.inject_css(\"https://cdn.pydata.org/bokeh/release/bokeh-widgets-1.0.4.min.css\");\n      console.log(\"Bokeh: injecting CSS: https://cdn.pydata.org/bokeh/release/bokeh-tables-1.0.4.min.css\");\n      Bokeh.embed.inject_css(\"https://cdn.pydata.org/bokeh/release/bokeh-tables-1.0.4.min.css\");\n    }\n  ];\n\n  function run_inline_js() {\n    \n    if ((root.Bokeh !== undefined) || (force === true)) {\n      for (var i = 0; i < inline_js.length; i++) {\n        inline_js[i].call(root, root.Bokeh);\n      }if (force === true) {\n        display_loaded();\n      }} else if (Date.now() < root._bokeh_timeout) {\n      setTimeout(run_inline_js, 100);\n    } else if (!root._bokeh_failed_load) {\n      console.log(\"Bokeh: BokehJS failed to load within specified timeout.\");\n      root._bokeh_failed_load = true;\n    } else if (force !== true) {\n      var cell = $(document.getElementById(\"1002\")).parents('.cell').data().cell;\n      cell.output_area.append_execute_result(NB_LOAD_WARNING)\n    }\n\n  }\n\n  if (root._bokeh_is_loading === 0) {\n    console.log(\"Bokeh: BokehJS loaded, going straight to plotting\");\n    run_inline_js();\n  } else {\n    load_libs(js_urls, function() {\n      console.log(\"Bokeh: BokehJS plotting callback run at\", now());\n      run_inline_js();\n    });\n  }\n}(window));"
     },
     "metadata": {},
     "output_type": "display_data"
    },
    {
     "data": {
      "text/html": [
       "        <script type=\"text/javascript\">\n",
       "        window.PlotlyConfig = {MathJaxConfig: 'local'};\n",
       "        if (window.MathJax) {MathJax.Hub.Config({SVG: {font: \"STIX-Web\"}});}\n",
       "        if (typeof require !== 'undefined') {\n",
       "        require.undef(\"plotly\");\n",
       "        requirejs.config({\n",
       "            paths: {\n",
       "                'plotly': ['https://cdn.plot.ly/plotly-latest.min']\n",
       "            }\n",
       "        });\n",
       "        require(['plotly'], function(Plotly) {\n",
       "            window._Plotly = Plotly;\n",
       "        });\n",
       "        }\n",
       "        </script>\n",
       "        "
      ]
     },
     "metadata": {},
     "output_type": "display_data"
    },
    {
     "name": "stderr",
     "output_type": "stream",
     "text": [
      "[nltk_data] Downloading package stopwords to\n",
      "[nltk_data]     C:\\Users\\shiv\\AppData\\Roaming\\nltk_data...\n",
      "[nltk_data]   Package stopwords is already up-to-date!\n",
      "[nltk_data] Downloading package punkt to\n",
      "[nltk_data]     C:\\Users\\shiv\\AppData\\Roaming\\nltk_data...\n",
      "[nltk_data]   Package punkt is already up-to-date!\n"
     ]
    }
   ],
   "source": [
    "# Utilities\n",
    "import os\n",
    "import zipfile, warnings\n",
    "import sys\n",
    "!{sys.executable} -m spacy download en\n",
    "from time import time\n",
    "import cv2\n",
    "\n",
    "# Numerical calculation\n",
    "import numpy as np\n",
    "\n",
    "# Data Handling\n",
    "import pandas as pd\n",
    "\n",
    "# Tools & Evaluation metrics\n",
    "from sklearn.feature_extraction.text import CountVectorizer\n",
    "from sklearn.feature_extraction.text import TfidfVectorizer\n",
    "from sklearn.metrics import confusion_matrix, accuracy_score\n",
    "from sklearn.model_selection import train_test_split\n",
    "from sklearn.preprocessing import LabelEncoder,scale\n",
    "from sklearn.metrics import confusion_matrix, classification_report, roc_curve, auc, accuracy_score, precision_recall_curve\n",
    "from sklearn.manifold import TSNE\n",
    "\n",
    "# Data Visualization\n",
    "import seaborn as sns\n",
    "import matplotlib.pyplot as plt\n",
    "%matplotlib inline\n",
    "from bokeh.plotting import figure, show, output_notebook\n",
    "from bokeh.models import HoverTool, ColumnDataSource, value\n",
    "output_notebook()\n",
    "import cufflinks\n",
    "import plotly as py\n",
    "import plotly.graph_objs as go\n",
    "import plotly.figure_factory as ff\n",
    "from plotly.offline import download_plotlyjs, init_notebook_mode, plot, iplot\n",
    "cufflinks.go_offline()\n",
    "cufflinks.set_config_file(world_readable=True, theme='pearl')\n",
    "\n",
    "import re # for applying Regex pattern to subject strings\n",
    "\n",
    "# NLP toolkits\n",
    "import spacy\n",
    "import nltk as nltk\n",
    "from nltk.corpus import stopwords\n",
    "nltk.download('stopwords')\n",
    "from nltk.tokenize import word_tokenize\n",
    "nltk.download('punkt')\n",
    "import gensim\n",
    "import gensim.corpora as corpora\n",
    "from gensim.utils import simple_preprocess\n",
    "from gensim.parsing import preprocessing\n",
    "from gensim.test.utils import common_texts\n",
    "from gensim.models.doc2vec import Doc2Vec, TaggedDocument\n",
    "from gensim.models.phrases import Phraser\n",
    "from gensim.models import Phrases, CoherenceModel\n",
    "from gensim.models import Word2Vec\n",
    "\n",
    "# Sequential Modeling\n",
    "import tensorflow as tf\n",
    "from tensorflow import keras\n",
    "from keras.preprocessing.text import Tokenizer\n",
    "from keras.preprocessing.sequence import pad_sequences\n",
    "from keras.models import Sequential\n",
    "from keras.layers import *\n",
    "from keras.utils.np_utils import to_categorical\n",
    "from keras.initializers import Constant\n",
    "import keras.backend as K\n",
    "from keras import initializers\n",
    "from keras.engine.topology import Layer, InputSpec\n",
    "from keras.models import Model, Sequential\n",
    "from keras.layers import Dense, LSTM, TimeDistributed, Conv1D, MaxPooling1D\n",
    "from keras.layers import Embedding, Activation, Dropout, Flatten, Bidirectional\n",
    "from keras.layers import Permute, merge, Input, multiply, concatenate\n",
    "from keras.callbacks import Callback, ModelCheckpoint, EarlyStopping\n",
    "from keras.constraints import max_norm, unit_norm\n",
    "from keras.preprocessing.text import Tokenizer, text_to_word_sequence\n",
    "from keras.preprocessing.sequence import pad_sequences"
   ]
  },
  {
   "cell_type": "code",
   "execution_count": 2,
   "metadata": {},
   "outputs": [],
   "source": [
    "os.chdir('D:\\GreatLakes\\Capstone\\Python Code') # Set the working directory"
   ]
  },
  {
   "cell_type": "markdown",
   "metadata": {},
   "source": [
    "### Milestone 1: Pre-Processing, Data Visualisation and EDA\n",
    "● Exploring the given Data files\n",
    "<br>● Understanding the structure of data\n",
    "<br>● Missing points in data\n",
    "<br>● Finding inconsistencies in the data\n",
    "<br>● Visualizing different patterns\n",
    "<br>● Visualizing different text features\n",
    "<br>● Dealing with missing values\n",
    "<br>● Text preprocessing\n",
    "<br>● Creating word vocabulary from the corpus of report text data\n",
    "<br>● Creating tokens as required"
   ]
  },
  {
   "cell_type": "markdown",
   "metadata": {},
   "source": [
    "Read the csv file and see some records"
   ]
  },
  {
   "cell_type": "code",
   "execution_count": 3,
   "metadata": {},
   "outputs": [
    {
     "data": {
      "text/html": [
       "<div>\n",
       "<style scoped>\n",
       "    .dataframe tbody tr th:only-of-type {\n",
       "        vertical-align: middle;\n",
       "    }\n",
       "\n",
       "    .dataframe tbody tr th {\n",
       "        vertical-align: top;\n",
       "    }\n",
       "\n",
       "    .dataframe thead th {\n",
       "        text-align: right;\n",
       "    }\n",
       "</style>\n",
       "<table border=\"1\" class=\"dataframe\">\n",
       "  <thead>\n",
       "    <tr style=\"text-align: right;\">\n",
       "      <th></th>\n",
       "      <th>Short description</th>\n",
       "      <th>Description</th>\n",
       "      <th>Caller</th>\n",
       "      <th>Assignment group</th>\n",
       "    </tr>\n",
       "  </thead>\n",
       "  <tbody>\n",
       "    <tr>\n",
       "      <th>0</th>\n",
       "      <td>login issue</td>\n",
       "      <td>-verified user details.(employee# &amp; manager na...</td>\n",
       "      <td>spxjnwir pjlcoqds</td>\n",
       "      <td>GRP_0</td>\n",
       "    </tr>\n",
       "    <tr>\n",
       "      <th>1</th>\n",
       "      <td>outlook</td>\n",
       "      <td>\\r\\n\\r\\nreceived from: hmjdrvpb.komuaywn@gmail...</td>\n",
       "      <td>hmjdrvpb komuaywn</td>\n",
       "      <td>GRP_0</td>\n",
       "    </tr>\n",
       "    <tr>\n",
       "      <th>2</th>\n",
       "      <td>cant log in to vpn</td>\n",
       "      <td>\\r\\n\\r\\nreceived from: eylqgodm.ybqkwiam@gmail...</td>\n",
       "      <td>eylqgodm ybqkwiam</td>\n",
       "      <td>GRP_0</td>\n",
       "    </tr>\n",
       "    <tr>\n",
       "      <th>3</th>\n",
       "      <td>unable to access hr_tool page</td>\n",
       "      <td>unable to access hr_tool page</td>\n",
       "      <td>xbkucsvz gcpydteq</td>\n",
       "      <td>GRP_0</td>\n",
       "    </tr>\n",
       "    <tr>\n",
       "      <th>4</th>\n",
       "      <td>skype error</td>\n",
       "      <td>skype error</td>\n",
       "      <td>owlgqjme qhcozdfx</td>\n",
       "      <td>GRP_0</td>\n",
       "    </tr>\n",
       "  </tbody>\n",
       "</table>\n",
       "</div>"
      ],
      "text/plain": [
       "               Short description  \\\n",
       "0                    login issue   \n",
       "1                        outlook   \n",
       "2             cant log in to vpn   \n",
       "3  unable to access hr_tool page   \n",
       "4                   skype error    \n",
       "\n",
       "                                         Description             Caller  \\\n",
       "0  -verified user details.(employee# & manager na...  spxjnwir pjlcoqds   \n",
       "1  \\r\\n\\r\\nreceived from: hmjdrvpb.komuaywn@gmail...  hmjdrvpb komuaywn   \n",
       "2  \\r\\n\\r\\nreceived from: eylqgodm.ybqkwiam@gmail...  eylqgodm ybqkwiam   \n",
       "3                      unable to access hr_tool page  xbkucsvz gcpydteq   \n",
       "4                                       skype error   owlgqjme qhcozdfx   \n",
       "\n",
       "  Assignment group  \n",
       "0            GRP_0  \n",
       "1            GRP_0  \n",
       "2            GRP_0  \n",
       "3            GRP_0  \n",
       "4            GRP_0  "
      ]
     },
     "execution_count": 3,
     "metadata": {},
     "output_type": "execute_result"
    }
   ],
   "source": [
    "df = pd.read_csv('input_data.csv')\n",
    "df.head()"
   ]
  },
  {
   "cell_type": "code",
   "execution_count": 4,
   "metadata": {},
   "outputs": [
    {
     "data": {
      "text/plain": [
       "(8500, 4)"
      ]
     },
     "execution_count": 4,
     "metadata": {},
     "output_type": "execute_result"
    }
   ],
   "source": [
    "df.shape"
   ]
  },
  {
   "cell_type": "markdown",
   "metadata": {},
   "source": [
    "There are 8500 rows and 4 columns"
   ]
  },
  {
   "cell_type": "markdown",
   "metadata": {},
   "source": [
    "## Before Moving onto EDA, it's useful to eyeball the data for random rows"
   ]
  },
  {
   "cell_type": "code",
   "execution_count": 5,
   "metadata": {},
   "outputs": [
    {
     "name": "stdout",
     "output_type": "stream",
     "text": [
      "                                      Short description  \\\n",
      "3936                                   erp access issue   \n",
      "6803  persönliches laufwerk \"adelhmk\" nicht mehr ver...   \n",
      "2543                                    password reset    \n",
      "8245       link to ethics ethical moment does not work.   \n",
      "913                 schreibrechte für ksdvp3, ce_leiter   \n",
      "6023  check router wifi (router: sao-pollaurido-merc...   \n",
      "4826  job Job_1427 failed in job_scheduler at: 09/09...   \n",
      "5086                                    need vpn access   \n",
      "3336                         markhtyingre email as junk   \n",
      "3617                       engineering_tool not working   \n",
      "585   activation of outlook email access on samsung ...   \n",
      "2463                                         blank call   \n",
      "4620          invalid incompletion error on so#24903890   \n",
      "7690                             erp SID_34 locked out.   \n",
      "5201                            unable to load outlook    \n",
      "4921               unable to log in to engineering tool   \n",
      "7451                                  po error language   \n",
      "4938  circuit outage: apac company secondary vpn cir...   \n",
      "6270                     unable to log in to erp SID_34   \n",
      "3099                 kfdyzexr hnbetvfk : password reset   \n",
      "2111  job Job_2881 failed in job_scheduler at: 10/06...   \n",
      "2610   problem when clicking on the shop link in pur...   \n",
      "2144                    passwort geoyhurg chriuimjiann    \n",
      "8385     xerox copier prtqx7302 will not scan to email.   \n",
      "6283  usa oh operators are locked out of mii and not...   \n",
      "2109                  unable to install crm for outlook   \n",
      "4933                           telecom_vendor_3  dongle   \n",
      "2885  my 2nd monitor will not display any video, it ...   \n",
      "2415                    need access to \\\\891245132\\scan   \n",
      "1683                    account is getting locked daily   \n",
      "4185                          unable to connect to wifi   \n",
      "505   sales area selection on opportunities not filt...   \n",
      "3372                          not able to login to vpn,   \n",
      "6206  job Job_1314 failed in job_scheduler at: 08/26...   \n",
      "3703                      order products online problem   \n",
      "188   job bkwin_HostName_770_inc failed in job_sched...   \n",
      "7168  help to change the windows password using pass...   \n",
      "1781  job Job_593 failed in job_scheduler at: 10/11/...   \n",
      "620                         issue in wi fi  & erp login   \n",
      "4074             ooo until 30.9.2016 : engineering_tool   \n",
      "2590  only erp running slow in Israel.internet is wo...   \n",
      "3185                            unable to open outlook    \n",
      "409                          urgent - email delegation.   \n",
      "1341  job Job_480 failed in job_scheduler at: 10/15/...   \n",
      "764   please release access to \\\\HostName_705\\teams\\...   \n",
      "2661            :i am unable to \"port.crm.dynamics.com\"   \n",
      "4066  job snp_heu_6_regen failed in job_scheduler at...   \n",
      "6413         unlocked all accounts on password manager    \n",
      "3589                             ship-to creation error   \n",
      "6584                unable to login to dell 7350 tablet   \n",
      "\n",
      "                                            Description             Caller  \\\n",
      "3936  system (SID_34, SID_37, SID_39, SID_38, hrp, o...  udhsyljz cogbript   \n",
      "6803  bitte scghhnellstmöglich persönliches laufwerk...  wtxvqngf nxjivlmr   \n",
      "2543  \\n\\nfrom: nwfodmhc exurcwkm \\nsent: monday, oc...  vfitdsyk lpezkyqx   \n",
      "8245  i am not able to open the ethical moment link ...  dmqxwkfr olmwqzpu   \n",
      "913                 schreibrechte für ksdvp3, ce_leiter  nemzycxb xpsgkahw   \n",
      "6023  hi team, please check the router wifi sao-poll...  qasdhyzm yuglsrwx   \n",
      "4826  received from: monitoring_tool@company.com\\r\\n...  bpctwhsn kzqsbmtp   \n",
      "5086  need vpn access. new employee has a company la...  vrdjzswx rlweqdhs   \n",
      "3336  hello all\\r\\nhow are you doing?\\r\\n\\r\\nplease ...  hupnceij hyozjakb   \n",
      "3617  name:mikhghytr\\nlanguage:\\nbrowser:microsoft i...  vcyktjxp uxdojvrq   \n",
      "585   \\n\\nreceived from: kbclinop.vsczklfp@gmail.com...  kbclinop vsczklfp   \n",
      "2463                                         blank call  fumkcsji sarmtlhy   \n",
      "4620  so#35014901 has \"configuration\" incompletion f...  gtfdvnry nxsaqrfh   \n",
      "7690                             erp SID_34 locked out.  qipzctgs wjhtbpfr   \n",
      "5201                            unable to load outlook   wcrxkiqz zdsloriy   \n",
      "4921               unable to log in to engineering tool  kpuqlzwh lbpiyquf   \n",
      "7451  \\r\\n\\r\\nreceived from: xjvubmlq.vyamhjip@gmail...  xjvubmlq vyamhjip   \n",
      "4938  what type of outage:  _____network     __x___c...  jloygrwh acvztedi   \n",
      "6270                     unable to log in to erp SID_34  jfgepoay qsbjaemc   \n",
      "3099                 kfdyzexr hnbetvfk : password reset  xvwchsdg pladjmxt   \n",
      "2111  received from: monitoring_tool@company.com\\r\\n...  bpctwhsn kzqsbmtp   \n",
      "2610  \\nfrom: alkuozfr bhqgdoiu \\nsent: saturday, oc...  idlupnzr nkxylwrc   \n",
      "2144  \\r\\n\\r\\nreceived from: nsoikcyf.jhybqael@gmail...  nsoikcyf jhybqael   \n",
      "8385     xerox copier prtqx7302 will not scan to email.  tpqhevdg zluijfwv   \n",
      "6283  usa oh operators are locked out of mii and not...  epivntxc fdrxmuga   \n",
      "2109                  unable to install crm for outlook  itslpwra vybdkuoa   \n",
      "4933       help to configure the  dongle on new laptop.  yzbqwpat fdjrctbu   \n",
      "2885  my 2nd monitor will not display any video, it ...  wlsazrce uwehsqbk   \n",
      "2415  \\nzugriff auf verzeichnis angefragt.\\nfolder a...  ohdrnswl rezuibdt   \n",
      "1683                    account is getting locked daily  wqybuifo qlwfajcb   \n",
      "4185                          unable to connect to wifi  ptljghyk qhtvlrxe   \n",
      "505   sales area selection on opportunities not filt...  msarjyhi fpxdbeno   \n",
      "3372  not able to login to vpn,\\r\\n-advised the call...  psikzmba stumdcqp   \n",
      "6206  received from: monitoring_tool@company.com\\r\\n...  bpctwhsn kzqsbmtp   \n",
      "3703  from: -ebusiness service \\nsent: wednesday, se...  fkdazsmi yecbrofv   \n",
      "188   received from: monitoring_tool@company.com\\r\\n...  bpctwhsn kzqsbmtp   \n",
      "7168  help to change the windows password using pass...  deaokmqp oruitnmx   \n",
      "1781  received from: monitoring_tool@company.com\\r\\n...  bpctwhsn kzqsbmtp   \n",
      "620   \\r\\n\\r\\nreceived from: ohdrnswl.rezuibdt@gmail...  ohdrnswl rezuibdt   \n",
      "4074  \\r\\n\\r\\nreceived from: wsczgfal.hjfklsdg@gmail...  wsczgfal hjfklsdg   \n",
      "2590  only erp running slow.\\ninternet is working fi...  wqfzjycu omleknjd   \n",
      "3185                            unable to open outlook   mnsejpby xsrdtvkw   \n",
      "409   hi i had an associate leave on the vsp at the ...  nealxjbc owjduxai   \n",
      "1341  received from: monitoring_tool@company.com\\r\\n...  bpctwhsn kzqsbmtp   \n",
      "764   \\r\\n\\r\\nreceived from: byclpwmv.esafrtbh@gmail...  byclpwmv esafrtbh   \n",
      "2661  name:zdcheloy aevzsogn\\nlanguage:\\nbrowser:mic...  zdcheloy aevzsogn   \n",
      "4066  received from: monitoring_tool@company.com\\r\\n...  bpctwhsn kzqsbmtp   \n",
      "6413         unlocked all accounts on password manager   ghfvmpqi fehkscza   \n",
      "3589  since we have many users that have multiple so...  hbmwlprq ilfvyodx   \n",
      "6584                unable to login to dell 7350 tablet  bycusxji qeafbkro   \n",
      "\n",
      "     Assignment group  \n",
      "3936            GRP_2  \n",
      "6803           GRP_12  \n",
      "2543            GRP_0  \n",
      "8245            GRP_0  \n",
      "913            GRP_34  \n",
      "6023            GRP_4  \n",
      "4826            GRP_6  \n",
      "5086           GRP_34  \n",
      "3336            GRP_0  \n",
      "3617            GRP_0  \n",
      "585             GRP_0  \n",
      "2463            GRP_0  \n",
      "4620           GRP_13  \n",
      "7690            GRP_0  \n",
      "5201            GRP_0  \n",
      "4921            GRP_0  \n",
      "7451           GRP_29  \n",
      "4938            GRP_8  \n",
      "6270            GRP_0  \n",
      "3099            GRP_0  \n",
      "2111           GRP_13  \n",
      "2610           GRP_29  \n",
      "2144            GRP_0  \n",
      "8385            GRP_3  \n",
      "6283            GRP_0  \n",
      "2109            GRP_0  \n",
      "4933           GRP_19  \n",
      "2885            GRP_3  \n",
      "2415           GRP_19  \n",
      "1683            GRP_2  \n",
      "4185            GRP_0  \n",
      "505            GRP_40  \n",
      "3372            GRP_0  \n",
      "6206            GRP_9  \n",
      "3703            GRP_0  \n",
      "188             GRP_8  \n",
      "7168            GRP_0  \n",
      "1781            GRP_8  \n",
      "620             GRP_0  \n",
      "4074            GRP_0  \n",
      "2590           GRP_14  \n",
      "3185            GRP_0  \n",
      "409             GRP_2  \n",
      "1341           GRP_12  \n",
      "764            GRP_33  \n",
      "2661            GRP_0  \n",
      "4066            GRP_6  \n",
      "6413            GRP_0  \n",
      "3589           GRP_20  \n",
      "6584            GRP_0  \n"
     ]
    }
   ],
   "source": [
    "random_state=1\n",
    "random_subset = df.sample(n=50)\n",
    "print(random_subset)"
   ]
  },
  {
   "cell_type": "markdown",
   "metadata": {},
   "source": [
    "## Observations from Eye Balling:\n",
    "\n",
    "Row 1081 has perhaps chinese characters; Row 1537 seems to be German - Thus the database comprises of Descriptions in Multiple Languages and we would need to translate these into English\n",
    "\n",
    "Further the Description column has words like \"received from\", \"from\", \"hello\", \"hallo\" and perhaps other such words that do not add any value to the analysis and hence they need to be removed as part of the Stop words\n",
    "\n",
    "Also the email id of the caller is given in the Description column (for e.g. Row 1976, 7456) and it is unlikely that would add value to the analysis and hence most likely these would need to be removed"
   ]
  },
  {
   "cell_type": "markdown",
   "metadata": {},
   "source": [
    "# Language Translation"
   ]
  },
  {
   "cell_type": "markdown",
   "metadata": {},
   "source": [
    "Given the problems with using Google API from within Python, Google Sheets was used for the translation. The Excel sheet was opened in Google Sheets and by applying the formulae \"=DetectLanguage(Cell)\" and \"=GoogleTranslate(Cell, \"Auto\", en)\", we were able to understand the language in which the text was as well as get the translation of the text to English respectively and the translated file was downloaded. From this point onward, the translated Excel sheet has been used and this Sheet is also being submitted as part of the project"
   ]
  },
  {
   "cell_type": "code",
   "execution_count": 6,
   "metadata": {},
   "outputs": [
    {
     "data": {
      "text/html": [
       "<div>\n",
       "<style scoped>\n",
       "    .dataframe tbody tr th:only-of-type {\n",
       "        vertical-align: middle;\n",
       "    }\n",
       "\n",
       "    .dataframe tbody tr th {\n",
       "        vertical-align: top;\n",
       "    }\n",
       "\n",
       "    .dataframe thead th {\n",
       "        text-align: right;\n",
       "    }\n",
       "</style>\n",
       "<table border=\"1\" class=\"dataframe\">\n",
       "  <thead>\n",
       "    <tr style=\"text-align: right;\">\n",
       "      <th></th>\n",
       "      <th>Short description</th>\n",
       "      <th>Description</th>\n",
       "      <th>Caller</th>\n",
       "      <th>Assignment group</th>\n",
       "      <th>Language</th>\n",
       "    </tr>\n",
       "  </thead>\n",
       "  <tbody>\n",
       "    <tr>\n",
       "      <th>0</th>\n",
       "      <td>login issue</td>\n",
       "      <td>-verified user details.(employee# &amp; manager na...</td>\n",
       "      <td>spxjnwir pjlcoqds</td>\n",
       "      <td>GRP_0</td>\n",
       "      <td>en</td>\n",
       "    </tr>\n",
       "    <tr>\n",
       "      <th>1</th>\n",
       "      <td>outlook</td>\n",
       "      <td>\\n\\nreceived from: hmjdrvpb.komuaywn@gmail.com...</td>\n",
       "      <td>hmjdrvpb komuaywn</td>\n",
       "      <td>GRP_0</td>\n",
       "      <td>en</td>\n",
       "    </tr>\n",
       "    <tr>\n",
       "      <th>2</th>\n",
       "      <td>cant log in to vpn</td>\n",
       "      <td>\\n\\nreceived from: eylqgodm.ybqkwiam@gmail.com...</td>\n",
       "      <td>eylqgodm ybqkwiam</td>\n",
       "      <td>GRP_0</td>\n",
       "      <td>en</td>\n",
       "    </tr>\n",
       "    <tr>\n",
       "      <th>3</th>\n",
       "      <td>unable to access hr_tool page</td>\n",
       "      <td>unable to access hr_tool page</td>\n",
       "      <td>xbkucsvz gcpydteq</td>\n",
       "      <td>GRP_0</td>\n",
       "      <td>en</td>\n",
       "    </tr>\n",
       "    <tr>\n",
       "      <th>4</th>\n",
       "      <td>skype error</td>\n",
       "      <td>skype error</td>\n",
       "      <td>owlgqjme qhcozdfx</td>\n",
       "      <td>GRP_0</td>\n",
       "      <td>en</td>\n",
       "    </tr>\n",
       "  </tbody>\n",
       "</table>\n",
       "</div>"
      ],
      "text/plain": [
       "               Short description  \\\n",
       "0                    login issue   \n",
       "1                        outlook   \n",
       "2             cant log in to vpn   \n",
       "3  unable to access hr_tool page   \n",
       "4                    skype error   \n",
       "\n",
       "                                         Description             Caller  \\\n",
       "0  -verified user details.(employee# & manager na...  spxjnwir pjlcoqds   \n",
       "1  \\n\\nreceived from: hmjdrvpb.komuaywn@gmail.com...  hmjdrvpb komuaywn   \n",
       "2  \\n\\nreceived from: eylqgodm.ybqkwiam@gmail.com...  eylqgodm ybqkwiam   \n",
       "3                      unable to access hr_tool page  xbkucsvz gcpydteq   \n",
       "4                                        skype error  owlgqjme qhcozdfx   \n",
       "\n",
       "  Assignment group Language  \n",
       "0            GRP_0       en  \n",
       "1            GRP_0       en  \n",
       "2            GRP_0       en  \n",
       "3            GRP_0       en  \n",
       "4            GRP_0       en  "
      ]
     },
     "execution_count": 6,
     "metadata": {},
     "output_type": "execute_result"
    }
   ],
   "source": [
    "new_df = pd.read_csv('input_data_translated.csv', encoding='mac_roman')\n",
    "new_df.head()"
   ]
  },
  {
   "cell_type": "markdown",
   "metadata": {},
   "source": [
    "Checking for translation"
   ]
  },
  {
   "cell_type": "code",
   "execution_count": 7,
   "metadata": {},
   "outputs": [
    {
     "name": "stdout",
     "output_type": "stream",
     "text": [
      "打开已关闭的销售订单时，显示\"不能在手动或分布事物方式下创建新的链接\"\n",
      "When you open sales orders have been closed, display \"can not create new links in manual or distributed way things are.\"\n",
      "probleme mit lan am rechner \\ we_wu113 \\ essa \\wrcktgbd wzrgyunp\n",
      "problems with lan on computer \\ we_wu113 \\ essa \\ wrcktgbd wzrgyunp\n"
     ]
    }
   ],
   "source": [
    "print(df['Description'][1081])\n",
    "print(new_df['Description'][1081])\n",
    "\n",
    "print(df['Description'][1537])\n",
    "print(new_df['Description'][1537])"
   ]
  },
  {
   "cell_type": "markdown",
   "metadata": {},
   "source": [
    "The above shows that the Chinese and German have been translated into English"
   ]
  },
  {
   "cell_type": "markdown",
   "metadata": {},
   "source": [
    "## EDA\n",
    "\n",
    "Understanding of the columns is important in order to understand whether to retain/ drop some of them."
   ]
  },
  {
   "cell_type": "markdown",
   "metadata": {},
   "source": [
    "# Caller Column\n",
    "\n",
    "This perhaps indicates the person who filed the ticket; it would be useful to understand the number of such callers (If there are many unique callers with low sample bases, then it might not make sense to include this column"
   ]
  },
  {
   "cell_type": "code",
   "execution_count": 8,
   "metadata": {},
   "outputs": [
    {
     "data": {
      "text/plain": [
       "2950"
      ]
     },
     "execution_count": 8,
     "metadata": {},
     "output_type": "execute_result"
    }
   ],
   "source": [
    "new_df.Caller.nunique() # Understanding the unique no. of callers"
   ]
  },
  {
   "cell_type": "markdown",
   "metadata": {},
   "source": [
    "Thus across 8500 Rows, there are 2950 unique callers and hence each caller is unlikely to have a sufficient base for analysis. However would be interesting to check the counts of at least the callers who put in tickets more frequently"
   ]
  },
  {
   "cell_type": "code",
   "execution_count": 9,
   "metadata": {},
   "outputs": [
    {
     "data": {
      "text/plain": [
       "bpctwhsn kzqsbmtp    810\n",
       "ZkBogxib QsEJzdZO    151\n",
       "fumkcsji sarmtlhy    134\n",
       "rbozivdq gmlhrtvp     87\n",
       "rkupnshb gsmzfojw     71\n",
       "jloygrwh acvztedi     64\n",
       "spxqmiry zpwgoqju     63\n",
       "oldrctiu bxurpsyi     57\n",
       "olckhmvx pcqobjnd     54\n",
       "dkmcfreg anwmfvlg     51\n",
       "jyoqwxhz clhxsoqy     51\n",
       "efbwiadp dicafxhv     45\n",
       "afkstcev utbnkyop     32\n",
       "gzhapcld fdigznbk     30\n",
       "mnlazfsr mtqrkhnx     28\n",
       "uvrbhlnt bjrmalzi     27\n",
       "entuakhp xrnhtdmk     25\n",
       "vzqomdgt jwoqbuml     24\n",
       "jionmpsf wnkpzcmv     24\n",
       "bozdftwx smylqejw     23\n",
       "utyeofsk rdyzpwhi     21\n",
       "qasdhyzm yuglsrwx     21\n",
       "rxoynvgi ntgdsehl     21\n",
       "vbwszcqn nlbqsuyv     19\n",
       "ugyothfz ugrmkdhx     17\n",
       "hbmwlprq ilfvyodx     17\n",
       "niptbwdq csenjruz     16\n",
       "ughzilfm cfibdamq     16\n",
       "pfzxecbo ptygkvzl     16\n",
       "vfrdxtqw jfbmsenz     16\n",
       "                    ... \n",
       "qayozbcd vwglmpjq      1\n",
       "yxwniljk doveqpsy      1\n",
       "kqvbrspl jyzoklfx      1\n",
       "qzixratf wrygjncl      1\n",
       "tmjowelq ojvkxlyd      1\n",
       "hybegvwo dbgrtqhs      1\n",
       "wbecophk uwntkiar      1\n",
       "acwoflmg lvwmshcr      1\n",
       "dxqwftir hbknpyzf      1\n",
       "dnqavlem ndymoifb      1\n",
       "nhrwdaep orvxhyiw      1\n",
       "aqyjewmf ceksapdw      1\n",
       "pvjdtrya oevyhtdx      1\n",
       "gimkwnvs wpjmocut      1\n",
       "oweklxnm ubayizsq      1\n",
       "pinovmqw icafkqmw      1\n",
       "jiclynfv gwvzxdcj      1\n",
       "oblsreqg vafkmznt      1\n",
       "mfkibqgu rdvfzeba      1\n",
       "orvsydzf rbqtpdaz      1\n",
       "mnakehrf mvunqihf      1\n",
       "qhyoiwls uynrhiva      1\n",
       "fgljepar xpsarwiz      1\n",
       "tcoyfeph cqrdaunw      1\n",
       "nyrjkctu tbhkenlo      1\n",
       "yhroaeqj djtyroha      1\n",
       "pvtiqgsh orlzgfsx      1\n",
       "wsimyhro omhnjqbw      1\n",
       "seutrkhn jvdtilek      1\n",
       "etlfrucw ziewxqof      1\n",
       "Name: Caller, Length: 2950, dtype: int64"
      ]
     },
     "execution_count": 9,
     "metadata": {},
     "output_type": "execute_result"
    }
   ],
   "source": [
    "new_df.Caller.value_counts()"
   ]
  },
  {
   "cell_type": "markdown",
   "metadata": {},
   "source": [
    "There are only 11 callers who have a sample base > 50; While the top caller has 810 records, the sample per caller diminishes rapidly; thus there does not seem to be any value in retaining this column and it will be dropped "
   ]
  },
  {
   "cell_type": "markdown",
   "metadata": {},
   "source": [
    "Let's see the description"
   ]
  },
  {
   "cell_type": "code",
   "execution_count": 10,
   "metadata": {},
   "outputs": [
    {
     "data": {
      "text/html": [
       "<div>\n",
       "<style scoped>\n",
       "    .dataframe tbody tr th:only-of-type {\n",
       "        vertical-align: middle;\n",
       "    }\n",
       "\n",
       "    .dataframe tbody tr th {\n",
       "        vertical-align: top;\n",
       "    }\n",
       "\n",
       "    .dataframe thead th {\n",
       "        text-align: right;\n",
       "    }\n",
       "</style>\n",
       "<table border=\"1\" class=\"dataframe\">\n",
       "  <thead>\n",
       "    <tr style=\"text-align: right;\">\n",
       "      <th></th>\n",
       "      <th>count</th>\n",
       "      <th>unique</th>\n",
       "      <th>top</th>\n",
       "      <th>freq</th>\n",
       "    </tr>\n",
       "  </thead>\n",
       "  <tbody>\n",
       "    <tr>\n",
       "      <th>Short description</th>\n",
       "      <td>8498</td>\n",
       "      <td>7386</td>\n",
       "      <td>password reset</td>\n",
       "      <td>48</td>\n",
       "    </tr>\n",
       "    <tr>\n",
       "      <th>Description</th>\n",
       "      <td>8497</td>\n",
       "      <td>7751</td>\n",
       "      <td>the</td>\n",
       "      <td>56</td>\n",
       "    </tr>\n",
       "    <tr>\n",
       "      <th>Caller</th>\n",
       "      <td>8500</td>\n",
       "      <td>2950</td>\n",
       "      <td>bpctwhsn kzqsbmtp</td>\n",
       "      <td>810</td>\n",
       "    </tr>\n",
       "    <tr>\n",
       "      <th>Assignment group</th>\n",
       "      <td>8500</td>\n",
       "      <td>74</td>\n",
       "      <td>GRP_0</td>\n",
       "      <td>3976</td>\n",
       "    </tr>\n",
       "    <tr>\n",
       "      <th>Language</th>\n",
       "      <td>8497</td>\n",
       "      <td>27</td>\n",
       "      <td>en</td>\n",
       "      <td>7733</td>\n",
       "    </tr>\n",
       "  </tbody>\n",
       "</table>\n",
       "</div>"
      ],
      "text/plain": [
       "                  count unique                top  freq\n",
       "Short description  8498   7386     password reset    48\n",
       "Description        8497   7751                the    56\n",
       "Caller             8500   2950  bpctwhsn kzqsbmtp   810\n",
       "Assignment group   8500     74              GRP_0  3976\n",
       "Language           8497     27                 en  7733"
      ]
     },
     "execution_count": 10,
     "metadata": {},
     "output_type": "execute_result"
    }
   ],
   "source": [
    "new_df.describe().transpose()"
   ]
  },
  {
   "cell_type": "markdown",
   "metadata": {},
   "source": [
    "Above description says below observations:\n",
    "1. 'Short description' column has 2 blank values and 'Desciption' column has 3 blank values\n",
    "2. Out of 8498 there are 7386 unique values in 'Short description' column, out of 8497 there are 7751 unique values in 'Description' column and out of 8500 there are 74 unique values in 'Assignment group' column which is target column. Also there are 27 unique languages in the database\n",
    "3. \"Password reset\" is the top frequent value with 48 occurrences in 'Short description' column, \"the\" is the top frequent value with 56 occurrences in 'Description' column and \"GRP_0\" is the group which has maximum assignment of tickets i.e 3976. English is the most common language with 7733 records"
   ]
  },
  {
   "cell_type": "markdown",
   "metadata": {},
   "source": [
    "Comments: In the Description Column 'the' by itself does not add any value since it would get removed as a stop word; hence useful to see what is Short Description that is in the rows with \"the\" in the Description Column"
   ]
  },
  {
   "cell_type": "code",
   "execution_count": 11,
   "metadata": {},
   "outputs": [
    {
     "data": {
      "text/html": [
       "<div>\n",
       "<style scoped>\n",
       "    .dataframe tbody tr th:only-of-type {\n",
       "        vertical-align: middle;\n",
       "    }\n",
       "\n",
       "    .dataframe tbody tr th {\n",
       "        vertical-align: top;\n",
       "    }\n",
       "\n",
       "    .dataframe thead th {\n",
       "        text-align: right;\n",
       "    }\n",
       "</style>\n",
       "<table border=\"1\" class=\"dataframe\">\n",
       "  <thead>\n",
       "    <tr style=\"text-align: right;\">\n",
       "      <th></th>\n",
       "      <th>Short description</th>\n",
       "      <th>Description</th>\n",
       "      <th>Caller</th>\n",
       "      <th>Assignment group</th>\n",
       "      <th>Language</th>\n",
       "    </tr>\n",
       "  </thead>\n",
       "  <tbody>\n",
       "    <tr>\n",
       "      <th>1049</th>\n",
       "      <td>reset passwords for soldfnbq uhnbsvqd using pa...</td>\n",
       "      <td>the</td>\n",
       "      <td>soldfnbq uhnbsvqd</td>\n",
       "      <td>GRP_17</td>\n",
       "      <td>en</td>\n",
       "    </tr>\n",
       "    <tr>\n",
       "      <th>1054</th>\n",
       "      <td>reset passwords for fygrwuna gomcekzi using pa...</td>\n",
       "      <td>the</td>\n",
       "      <td>fygrwuna gomcekzi</td>\n",
       "      <td>GRP_17</td>\n",
       "      <td>en</td>\n",
       "    </tr>\n",
       "    <tr>\n",
       "      <th>1144</th>\n",
       "      <td>reset passwords for wvdxnkhf jirecvta using pa...</td>\n",
       "      <td>the</td>\n",
       "      <td>wvdxnkhf jirecvta</td>\n",
       "      <td>GRP_17</td>\n",
       "      <td>en</td>\n",
       "    </tr>\n",
       "    <tr>\n",
       "      <th>1184</th>\n",
       "      <td>reset passwords for pxvjczdt kizsjfpq using pa...</td>\n",
       "      <td>the</td>\n",
       "      <td>pxvjczdt kizsjfpq</td>\n",
       "      <td>GRP_17</td>\n",
       "      <td>en</td>\n",
       "    </tr>\n",
       "    <tr>\n",
       "      <th>1292</th>\n",
       "      <td>reset passwords for cubdsrml znewqgop using pa...</td>\n",
       "      <td>the</td>\n",
       "      <td>cubdsrml znewqgop</td>\n",
       "      <td>GRP_17</td>\n",
       "      <td>en</td>\n",
       "    </tr>\n",
       "    <tr>\n",
       "      <th>1476</th>\n",
       "      <td>reset passwords for bnoupaki cpeioxdz using pa...</td>\n",
       "      <td>the</td>\n",
       "      <td>bnoupaki cpeioxdz</td>\n",
       "      <td>GRP_17</td>\n",
       "      <td>en</td>\n",
       "    </tr>\n",
       "    <tr>\n",
       "      <th>1558</th>\n",
       "      <td>reset passwords for usa feathers using passwor...</td>\n",
       "      <td>the</td>\n",
       "      <td>lmqysdec ljvbnpqw</td>\n",
       "      <td>GRP_17</td>\n",
       "      <td>en</td>\n",
       "    </tr>\n",
       "    <tr>\n",
       "      <th>1693</th>\n",
       "      <td>reset passwords for eglavnhx uprodleq using pa...</td>\n",
       "      <td>the</td>\n",
       "      <td>eglavnhx uprodleq</td>\n",
       "      <td>GRP_17</td>\n",
       "      <td>en</td>\n",
       "    </tr>\n",
       "    <tr>\n",
       "      <th>1834</th>\n",
       "      <td>reset passwords for hybiaxlk lawptzir using pa...</td>\n",
       "      <td>the</td>\n",
       "      <td>hybiaxlk lawptzir</td>\n",
       "      <td>GRP_17</td>\n",
       "      <td>en</td>\n",
       "    </tr>\n",
       "    <tr>\n",
       "      <th>1850</th>\n",
       "      <td>reset passwords for fylrosuk kedgmiul using pa...</td>\n",
       "      <td>the</td>\n",
       "      <td>fylrosuk kedgmiul</td>\n",
       "      <td>GRP_17</td>\n",
       "      <td>en</td>\n",
       "    </tr>\n",
       "  </tbody>\n",
       "</table>\n",
       "</div>"
      ],
      "text/plain": [
       "                                      Short description Description  \\\n",
       "1049  reset passwords for soldfnbq uhnbsvqd using pa...         the   \n",
       "1054  reset passwords for fygrwuna gomcekzi using pa...         the   \n",
       "1144  reset passwords for wvdxnkhf jirecvta using pa...         the   \n",
       "1184  reset passwords for pxvjczdt kizsjfpq using pa...         the   \n",
       "1292  reset passwords for cubdsrml znewqgop using pa...         the   \n",
       "1476  reset passwords for bnoupaki cpeioxdz using pa...         the   \n",
       "1558  reset passwords for usa feathers using passwor...         the   \n",
       "1693  reset passwords for eglavnhx uprodleq using pa...         the   \n",
       "1834  reset passwords for hybiaxlk lawptzir using pa...         the   \n",
       "1850  reset passwords for fylrosuk kedgmiul using pa...         the   \n",
       "\n",
       "                 Caller Assignment group Language  \n",
       "1049  soldfnbq uhnbsvqd           GRP_17       en  \n",
       "1054  fygrwuna gomcekzi           GRP_17       en  \n",
       "1144  wvdxnkhf jirecvta           GRP_17       en  \n",
       "1184  pxvjczdt kizsjfpq           GRP_17       en  \n",
       "1292  cubdsrml znewqgop           GRP_17       en  \n",
       "1476  bnoupaki cpeioxdz           GRP_17       en  \n",
       "1558  lmqysdec ljvbnpqw           GRP_17       en  \n",
       "1693  eglavnhx uprodleq           GRP_17       en  \n",
       "1834  hybiaxlk lawptzir           GRP_17       en  \n",
       "1850  fylrosuk kedgmiul           GRP_17       en  "
      ]
     },
     "execution_count": 11,
     "metadata": {},
     "output_type": "execute_result"
    }
   ],
   "source": [
    "new_df[new_df.Description == 'the'].head(10)"
   ]
  },
  {
   "cell_type": "markdown",
   "metadata": {},
   "source": [
    "Most of the \"the\" in Description seem to be associated with \"reset passwords\" in the Short Description Column; thus in order to develop a reasonable model it points to the fact that it would be good to concatenate both these columns"
   ]
  },
  {
   "cell_type": "markdown",
   "metadata": {},
   "source": [
    "Checking for the Data Types"
   ]
  },
  {
   "cell_type": "code",
   "execution_count": 12,
   "metadata": {},
   "outputs": [
    {
     "data": {
      "text/plain": [
       "Short description    object\n",
       "Description          object\n",
       "Caller               object\n",
       "Assignment group     object\n",
       "Language             object\n",
       "dtype: object"
      ]
     },
     "execution_count": 12,
     "metadata": {},
     "output_type": "execute_result"
    }
   ],
   "source": [
    "new_df.dtypes"
   ]
  },
  {
   "cell_type": "markdown",
   "metadata": {},
   "source": [
    "# Understanding the Target Column"
   ]
  },
  {
   "cell_type": "markdown",
   "metadata": {},
   "source": [
    "Let's see number of tickets assigned to each group"
   ]
  },
  {
   "cell_type": "code",
   "execution_count": 17,
   "metadata": {},
   "outputs": [
    {
     "data": {
      "image/png": "[encoded data removed]",
      "text/plain": [
       "<Figure size 1440x1440 with 1 Axes>"
      ]
     },
     "metadata": {
      "needs_background": "light"
     },
     "output_type": "display_data"
    }
   ],
   "source": [
    "fig_dims = (20, 20)\n",
    "fig, ax = plt.subplots(figsize=fig_dims)\n",
    "chart=sns.countplot(x = \"Assignment group\", ax=ax, data=new_df)\n",
    "chart.set_xticklabels(chart.get_xticklabels(), rotation=90, ha=\"right\")\n",
    "plt.tight_layout()\n",
    "plt.show()"
   ]
  },
  {
   "cell_type": "code",
   "execution_count": 112,
   "metadata": {},
   "outputs": [
    {
     "name": "stdout",
     "output_type": "stream",
     "text": [
      "GRP_0     3976\n",
      "GRP_8      661\n",
      "GRP_24     289\n",
      "GRP_12     257\n",
      "GRP_9      252\n",
      "GRP_2      241\n",
      "GRP_19     215\n",
      "GRP_3      200\n",
      "GRP_6      184\n",
      "GRP_13     145\n",
      "GRP_10     140\n",
      "GRP_5      129\n",
      "GRP_14     118\n",
      "GRP_25     116\n",
      "GRP_33     107\n",
      "GRP_4      100\n",
      "GRP_29      97\n",
      "GRP_18      88\n",
      "GRP_16      85\n",
      "GRP_17      81\n",
      "GRP_31      69\n",
      "GRP_7       68\n",
      "GRP_34      62\n",
      "GRP_26      56\n",
      "GRP_40      45\n",
      "GRP_28      44\n",
      "GRP_41      40\n",
      "GRP_15      39\n",
      "GRP_30      39\n",
      "GRP_42      37\n",
      "          ... \n",
      "GRP_44      15\n",
      "GRP_36      15\n",
      "GRP_50      14\n",
      "GRP_53      11\n",
      "GRP_65      11\n",
      "GRP_52       9\n",
      "GRP_55       8\n",
      "GRP_51       8\n",
      "GRP_59       6\n",
      "GRP_49       6\n",
      "GRP_46       6\n",
      "GRP_43       5\n",
      "GRP_32       4\n",
      "GRP_66       4\n",
      "GRP_38       3\n",
      "GRP_56       3\n",
      "GRP_58       3\n",
      "GRP_68       3\n",
      "GRP_63       3\n",
      "GRP_54       2\n",
      "GRP_72       2\n",
      "GRP_71       2\n",
      "GRP_57       2\n",
      "GRP_69       2\n",
      "GRP_73       1\n",
      "GRP_61       1\n",
      "GRP_67       1\n",
      "GRP_64       1\n",
      "GRP_70       1\n",
      "GRP_35       1\n",
      "Name: Assignment group, Length: 74, dtype: int64\n"
     ]
    }
   ],
   "source": [
    "print(new_df['Assignment group'].value_counts())"
   ]
  },
  {
   "cell_type": "markdown",
   "metadata": {},
   "source": [
    "The Group variable has a very long tail and it might not be beneficial to keep the ones that have a low record base; One could potentially club the groups with low record base into 1 group called as \"Others\". Classic statistics state that beyond a sample of 30, distributions tend to be normal and thus this value could be set as a cut-off for a group to be included and all groups with a base of <30 can be combined into \"Others\""
   ]
  },
  {
   "cell_type": "markdown",
   "metadata": {},
   "source": [
    "Let's check for null values"
   ]
  },
  {
   "cell_type": "code",
   "execution_count": 18,
   "metadata": {},
   "outputs": [
    {
     "data": {
      "text/html": [
       "<div>\n",
       "<style scoped>\n",
       "    .dataframe tbody tr th:only-of-type {\n",
       "        vertical-align: middle;\n",
       "    }\n",
       "\n",
       "    .dataframe tbody tr th {\n",
       "        vertical-align: top;\n",
       "    }\n",
       "\n",
       "    .dataframe thead th {\n",
       "        text-align: right;\n",
       "    }\n",
       "</style>\n",
       "<table border=\"1\" class=\"dataframe\">\n",
       "  <thead>\n",
       "    <tr style=\"text-align: right;\">\n",
       "      <th></th>\n",
       "      <th>Short description</th>\n",
       "      <th>Description</th>\n",
       "      <th>Caller</th>\n",
       "      <th>Assignment group</th>\n",
       "      <th>Language</th>\n",
       "    </tr>\n",
       "  </thead>\n",
       "  <tbody>\n",
       "    <tr>\n",
       "      <th>False</th>\n",
       "      <td>8498</td>\n",
       "      <td>8497</td>\n",
       "      <td>8500.0</td>\n",
       "      <td>8500.0</td>\n",
       "      <td>8497</td>\n",
       "    </tr>\n",
       "    <tr>\n",
       "      <th>True</th>\n",
       "      <td>2</td>\n",
       "      <td>3</td>\n",
       "      <td>NaN</td>\n",
       "      <td>NaN</td>\n",
       "      <td>3</td>\n",
       "    </tr>\n",
       "  </tbody>\n",
       "</table>\n",
       "</div>"
      ],
      "text/plain": [
       "       Short description  Description  Caller  Assignment group  Language\n",
       "False               8498         8497  8500.0            8500.0      8497\n",
       "True                   2            3     NaN               NaN         3"
      ]
     },
     "execution_count": 18,
     "metadata": {},
     "output_type": "execute_result"
    }
   ],
   "source": [
    "new_df.isnull().apply(pd.value_counts)  "
   ]
  },
  {
   "cell_type": "markdown",
   "metadata": {},
   "source": [
    "There are 2 null values in 'Short description' column and 3 in 'Description' column.There is no null value in target column."
   ]
  },
  {
   "cell_type": "markdown",
   "metadata": {},
   "source": [
    "If there are rows, with Null values for both, then we would need to remove them; however we need to check for the same"
   ]
  },
  {
   "cell_type": "code",
   "execution_count": 19,
   "metadata": {},
   "outputs": [
    {
     "data": {
      "text/html": [
       "<div>\n",
       "<style scoped>\n",
       "    .dataframe tbody tr th:only-of-type {\n",
       "        vertical-align: middle;\n",
       "    }\n",
       "\n",
       "    .dataframe tbody tr th {\n",
       "        vertical-align: top;\n",
       "    }\n",
       "\n",
       "    .dataframe thead th {\n",
       "        text-align: right;\n",
       "    }\n",
       "</style>\n",
       "<table border=\"1\" class=\"dataframe\">\n",
       "  <thead>\n",
       "    <tr style=\"text-align: right;\">\n",
       "      <th></th>\n",
       "      <th>Short description</th>\n",
       "      <th>Description</th>\n",
       "      <th>Caller</th>\n",
       "      <th>Assignment group</th>\n",
       "      <th>Language</th>\n",
       "    </tr>\n",
       "  </thead>\n",
       "  <tbody>\n",
       "    <tr>\n",
       "      <th>2604</th>\n",
       "      <td>NaN</td>\n",
       "      <td>\\n\\nreceived from: ohdrnswl.rezuibdt@gmail.com...</td>\n",
       "      <td>ohdrnswl rezuibdt</td>\n",
       "      <td>GRP_34</td>\n",
       "      <td>en</td>\n",
       "    </tr>\n",
       "    <tr>\n",
       "      <th>3383</th>\n",
       "      <td>NaN</td>\n",
       "      <td>\\n-connected to the user system using teamview...</td>\n",
       "      <td>qftpazns fxpnytmk</td>\n",
       "      <td>GRP_0</td>\n",
       "      <td>en</td>\n",
       "    </tr>\n",
       "    <tr>\n",
       "      <th>4395</th>\n",
       "      <td>i am locked out of skype</td>\n",
       "      <td>NaN</td>\n",
       "      <td>viyglzfo ajtfzpkb</td>\n",
       "      <td>GRP_0</td>\n",
       "      <td>NaN</td>\n",
       "    </tr>\n",
       "    <tr>\n",
       "      <th>6371</th>\n",
       "      <td>authorization add/delete members</td>\n",
       "      <td>NaN</td>\n",
       "      <td>hpmwliog kqtnfvrl</td>\n",
       "      <td>GRP_0</td>\n",
       "      <td>NaN</td>\n",
       "    </tr>\n",
       "    <tr>\n",
       "      <th>7397</th>\n",
       "      <td>browser issue :</td>\n",
       "      <td>NaN</td>\n",
       "      <td>fgejnhux fnkymoht</td>\n",
       "      <td>GRP_0</td>\n",
       "      <td>NaN</td>\n",
       "    </tr>\n",
       "  </tbody>\n",
       "</table>\n",
       "</div>"
      ],
      "text/plain": [
       "                     Short description  \\\n",
       "2604                               NaN   \n",
       "3383                               NaN   \n",
       "4395          i am locked out of skype   \n",
       "6371  authorization add/delete members   \n",
       "7397                   browser issue :   \n",
       "\n",
       "                                            Description             Caller  \\\n",
       "2604  \\n\\nreceived from: ohdrnswl.rezuibdt@gmail.com...  ohdrnswl rezuibdt   \n",
       "3383  \\n-connected to the user system using teamview...  qftpazns fxpnytmk   \n",
       "4395                                                NaN  viyglzfo ajtfzpkb   \n",
       "6371                                                NaN  hpmwliog kqtnfvrl   \n",
       "7397                                                NaN  fgejnhux fnkymoht   \n",
       "\n",
       "     Assignment group Language  \n",
       "2604           GRP_34       en  \n",
       "3383            GRP_0       en  \n",
       "4395            GRP_0      NaN  \n",
       "6371            GRP_0      NaN  \n",
       "7397            GRP_0      NaN  "
      ]
     },
     "execution_count": 19,
     "metadata": {},
     "output_type": "execute_result"
    }
   ],
   "source": [
    "# Let's look at the rows with null values\n",
    "new_df[pd.isnull(new_df).any(axis=1)]"
   ]
  },
  {
   "cell_type": "markdown",
   "metadata": {},
   "source": [
    "There are no records which have Null values for both Short Description and Description; Given that for prediction it is likely that both Columns would be used, replacement of Null values can be done with a blank string (as it is likely that both Short Description and Description would be concatenated while building the model)"
   ]
  },
  {
   "cell_type": "code",
   "execution_count": 20,
   "metadata": {},
   "outputs": [
    {
     "data": {
      "text/html": [
       "<div>\n",
       "<style scoped>\n",
       "    .dataframe tbody tr th:only-of-type {\n",
       "        vertical-align: middle;\n",
       "    }\n",
       "\n",
       "    .dataframe tbody tr th {\n",
       "        vertical-align: top;\n",
       "    }\n",
       "\n",
       "    .dataframe thead th {\n",
       "        text-align: right;\n",
       "    }\n",
       "</style>\n",
       "<table border=\"1\" class=\"dataframe\">\n",
       "  <thead>\n",
       "    <tr style=\"text-align: right;\">\n",
       "      <th></th>\n",
       "      <th>Short description</th>\n",
       "      <th>Description</th>\n",
       "      <th>Caller</th>\n",
       "      <th>Assignment group</th>\n",
       "      <th>Language</th>\n",
       "    </tr>\n",
       "  </thead>\n",
       "  <tbody>\n",
       "  </tbody>\n",
       "</table>\n",
       "</div>"
      ],
      "text/plain": [
       "Empty DataFrame\n",
       "Columns: [Short description, Description, Caller, Assignment group, Language]\n",
       "Index: []"
      ]
     },
     "execution_count": 20,
     "metadata": {},
     "output_type": "execute_result"
    }
   ],
   "source": [
    "# NULL replacement\n",
    "new_df.fillna(str(), inplace=True)\n",
    "new_df[pd.isnull(new_df).any(axis=1)]"
   ]
  },
  {
   "cell_type": "markdown",
   "metadata": {},
   "source": [
    "Now there is no null value in any column"
   ]
  },
  {
   "cell_type": "markdown",
   "metadata": {},
   "source": [
    "Checking for Duplicates across Short Description and Description"
   ]
  },
  {
   "cell_type": "code",
   "execution_count": 21,
   "metadata": {},
   "outputs": [],
   "source": [
    "df_common=new_df[new_df[[\"Short description\",\"Description\"]].apply(lambda x : x[0]==x[1],axis=1)].reset_index(drop=True).copy()"
   ]
  },
  {
   "cell_type": "code",
   "execution_count": 22,
   "metadata": {},
   "outputs": [
    {
     "data": {
      "text/html": [
       "<div>\n",
       "<style scoped>\n",
       "    .dataframe tbody tr th:only-of-type {\n",
       "        vertical-align: middle;\n",
       "    }\n",
       "\n",
       "    .dataframe tbody tr th {\n",
       "        vertical-align: top;\n",
       "    }\n",
       "\n",
       "    .dataframe thead th {\n",
       "        text-align: right;\n",
       "    }\n",
       "</style>\n",
       "<table border=\"1\" class=\"dataframe\">\n",
       "  <thead>\n",
       "    <tr style=\"text-align: right;\">\n",
       "      <th></th>\n",
       "      <th>Short description</th>\n",
       "      <th>Description</th>\n",
       "      <th>Caller</th>\n",
       "      <th>Assignment group</th>\n",
       "      <th>Language</th>\n",
       "    </tr>\n",
       "  </thead>\n",
       "  <tbody>\n",
       "    <tr>\n",
       "      <th>0</th>\n",
       "      <td>unable to access hr_tool page</td>\n",
       "      <td>unable to access hr_tool page</td>\n",
       "      <td>xbkucsvz gcpydteq</td>\n",
       "      <td>GRP_0</td>\n",
       "      <td>en</td>\n",
       "    </tr>\n",
       "    <tr>\n",
       "      <th>1</th>\n",
       "      <td>skype error</td>\n",
       "      <td>skype error</td>\n",
       "      <td>owlgqjme qhcozdfx</td>\n",
       "      <td>GRP_0</td>\n",
       "      <td>en</td>\n",
       "    </tr>\n",
       "    <tr>\n",
       "      <th>2</th>\n",
       "      <td>unable to log in to engineering tool and skype</td>\n",
       "      <td>unable to log in to engineering tool and skype</td>\n",
       "      <td>eflahbxn ltdgrvkz</td>\n",
       "      <td>GRP_0</td>\n",
       "      <td>en</td>\n",
       "    </tr>\n",
       "    <tr>\n",
       "      <th>3</th>\n",
       "      <td>ticket_no1550391- employment status - new non-...</td>\n",
       "      <td>ticket_no1550391- employment status - new non-...</td>\n",
       "      <td>eqzibjhw ymebpoih</td>\n",
       "      <td>GRP_0</td>\n",
       "      <td>en</td>\n",
       "    </tr>\n",
       "    <tr>\n",
       "      <th>4</th>\n",
       "      <td>unable to disable add ins on outlook</td>\n",
       "      <td>unable to disable add ins on outlook</td>\n",
       "      <td>mdbegvct dbvichlg</td>\n",
       "      <td>GRP_0</td>\n",
       "      <td>en</td>\n",
       "    </tr>\n",
       "  </tbody>\n",
       "</table>\n",
       "</div>"
      ],
      "text/plain": [
       "                                   Short description  \\\n",
       "0                      unable to access hr_tool page   \n",
       "1                                        skype error   \n",
       "2     unable to log in to engineering tool and skype   \n",
       "3  ticket_no1550391- employment status - new non-...   \n",
       "4               unable to disable add ins on outlook   \n",
       "\n",
       "                                         Description             Caller  \\\n",
       "0                      unable to access hr_tool page  xbkucsvz gcpydteq   \n",
       "1                                        skype error  owlgqjme qhcozdfx   \n",
       "2     unable to log in to engineering tool and skype  eflahbxn ltdgrvkz   \n",
       "3  ticket_no1550391- employment status - new non-...  eqzibjhw ymebpoih   \n",
       "4               unable to disable add ins on outlook  mdbegvct dbvichlg   \n",
       "\n",
       "  Assignment group Language  \n",
       "0            GRP_0       en  \n",
       "1            GRP_0       en  \n",
       "2            GRP_0       en  \n",
       "3            GRP_0       en  \n",
       "4            GRP_0       en  "
      ]
     },
     "execution_count": 22,
     "metadata": {},
     "output_type": "execute_result"
    }
   ],
   "source": [
    "df_common.head()"
   ]
  },
  {
   "cell_type": "code",
   "execution_count": 23,
   "metadata": {},
   "outputs": [
    {
     "name": "stdout",
     "output_type": "stream",
     "text": [
      "<class 'pandas.core.frame.DataFrame'>\n",
      "RangeIndex: 2889 entries, 0 to 2888\n",
      "Data columns (total 5 columns):\n",
      "Short description    2889 non-null object\n",
      "Description          2889 non-null object\n",
      "Caller               2889 non-null object\n",
      "Assignment group     2889 non-null object\n",
      "Language             2889 non-null object\n",
      "dtypes: object(5)\n",
      "memory usage: 112.9+ KB\n"
     ]
    }
   ],
   "source": [
    "df_common.info()"
   ]
  },
  {
   "cell_type": "markdown",
   "metadata": {},
   "source": [
    "Comments: this shows that out of the 8500 records, 2889 have the same information in both Short description and Description - This would point out that it is better to concatenate the two columns for the modeling stage"
   ]
  },
  {
   "cell_type": "markdown",
   "metadata": {},
   "source": [
    "Language as a column is not required for the modeling but was just for understanding; dropping the Language Column"
   ]
  },
  {
   "cell_type": "code",
   "execution_count": 24,
   "metadata": {},
   "outputs": [
    {
     "data": {
      "text/html": [
       "<div>\n",
       "<style scoped>\n",
       "    .dataframe tbody tr th:only-of-type {\n",
       "        vertical-align: middle;\n",
       "    }\n",
       "\n",
       "    .dataframe tbody tr th {\n",
       "        vertical-align: top;\n",
       "    }\n",
       "\n",
       "    .dataframe thead th {\n",
       "        text-align: right;\n",
       "    }\n",
       "</style>\n",
       "<table border=\"1\" class=\"dataframe\">\n",
       "  <thead>\n",
       "    <tr style=\"text-align: right;\">\n",
       "      <th></th>\n",
       "      <th>Short description</th>\n",
       "      <th>Description</th>\n",
       "      <th>Caller</th>\n",
       "      <th>Assignment group</th>\n",
       "    </tr>\n",
       "  </thead>\n",
       "  <tbody>\n",
       "    <tr>\n",
       "      <th>0</th>\n",
       "      <td>login issue</td>\n",
       "      <td>-verified user details.(employee# &amp; manager na...</td>\n",
       "      <td>spxjnwir pjlcoqds</td>\n",
       "      <td>GRP_0</td>\n",
       "    </tr>\n",
       "    <tr>\n",
       "      <th>1</th>\n",
       "      <td>outlook</td>\n",
       "      <td>\\n\\nreceived from: hmjdrvpb.komuaywn@gmail.com...</td>\n",
       "      <td>hmjdrvpb komuaywn</td>\n",
       "      <td>GRP_0</td>\n",
       "    </tr>\n",
       "    <tr>\n",
       "      <th>2</th>\n",
       "      <td>cant log in to vpn</td>\n",
       "      <td>\\n\\nreceived from: eylqgodm.ybqkwiam@gmail.com...</td>\n",
       "      <td>eylqgodm ybqkwiam</td>\n",
       "      <td>GRP_0</td>\n",
       "    </tr>\n",
       "    <tr>\n",
       "      <th>3</th>\n",
       "      <td>unable to access hr_tool page</td>\n",
       "      <td>unable to access hr_tool page</td>\n",
       "      <td>xbkucsvz gcpydteq</td>\n",
       "      <td>GRP_0</td>\n",
       "    </tr>\n",
       "    <tr>\n",
       "      <th>4</th>\n",
       "      <td>skype error</td>\n",
       "      <td>skype error</td>\n",
       "      <td>owlgqjme qhcozdfx</td>\n",
       "      <td>GRP_0</td>\n",
       "    </tr>\n",
       "  </tbody>\n",
       "</table>\n",
       "</div>"
      ],
      "text/plain": [
       "               Short description  \\\n",
       "0                    login issue   \n",
       "1                        outlook   \n",
       "2             cant log in to vpn   \n",
       "3  unable to access hr_tool page   \n",
       "4                    skype error   \n",
       "\n",
       "                                         Description             Caller  \\\n",
       "0  -verified user details.(employee# & manager na...  spxjnwir pjlcoqds   \n",
       "1  \\n\\nreceived from: hmjdrvpb.komuaywn@gmail.com...  hmjdrvpb komuaywn   \n",
       "2  \\n\\nreceived from: eylqgodm.ybqkwiam@gmail.com...  eylqgodm ybqkwiam   \n",
       "3                      unable to access hr_tool page  xbkucsvz gcpydteq   \n",
       "4                                        skype error  owlgqjme qhcozdfx   \n",
       "\n",
       "  Assignment group  \n",
       "0            GRP_0  \n",
       "1            GRP_0  \n",
       "2            GRP_0  \n",
       "3            GRP_0  \n",
       "4            GRP_0  "
      ]
     },
     "execution_count": 24,
     "metadata": {},
     "output_type": "execute_result"
    }
   ],
   "source": [
    "new_df=new_df.drop('Language',axis=1)\n",
    "new_df.shape\n",
    "new_df.head()"
   ]
  },
  {
   "cell_type": "markdown",
   "metadata": {},
   "source": [
    "# Data Understanding thus far\n",
    "\n",
    "1. All text has been converted into English\n",
    "2. Need to concatenate both the short Description and Description Columns\n",
    "3. Long tails in \"Assignment group\" column need to be taken care of\n",
    "4. Null values solved for by replacing with blank string\n",
    "5. Need to remove email id's from text"
   ]
  },
  {
   "cell_type": "markdown",
   "metadata": {},
   "source": [
    "# Next Steps\n",
    "\n",
    "# Data Cleaning \n",
    "\n",
    "In this step there is a need to \n",
    "1. Convert all text to lower case\n",
    "2. Remove numbers\n",
    "3. Remove puntuations\n",
    "4. Remove blank spaces\n",
    "5. Remove stop words (along with other words identified earlier that would not contribute)\n",
    "6. Remove email id's"
   ]
  },
  {
   "cell_type": "code",
   "execution_count": 25,
   "metadata": {},
   "outputs": [],
   "source": [
    "# Fixing the different patterns\n",
    "email_pat = r\"([\\w.+-]+@[a-z\\d-]+\\.[a-z\\d.-]+)\"\n",
    "punct_pat = r\"[,|.|_|@|\\|?|\\\\|$&*|%|\\r|\\n|.:|\\s+|/|//|\\\\|/|\\||-|<|>|;|(|)|=|+|#|-|\\\"|[-\\]]|{|}]\"\n",
    "num_pat = r\"(?<!)(\\d+(?:\\.\\d+)?)\"\n",
    "\n",
    "# Define a function to treat the texts\n",
    "def preText(text):\n",
    "    # Make the text unicase (lower) \n",
    "    text = str(text).lower()\n",
    "    # Remove email adresses\n",
    "    text = re.sub(email_pat, ' ', text, flags=re.IGNORECASE)\n",
    "    # Remove all numbers\n",
    "    text = re.sub(r'\\d+',' ',text)# remove numbers\n",
    "    text = re.sub(num_pat, ' ', text)\n",
    "    # Replace all punctuations with blank space\n",
    "    text = re.sub(r'[^\\w\\s]', ' ', text)\n",
    "    text = re.sub(punct_pat, \" \", text, flags=re.MULTILINE)\n",
    "    text = re.sub(r'\\s+', ' ', text)\n",
    "    # remove HTML tags\n",
    "    text = re.sub('<.*?>', '', text)   \n",
    "    # Replace multiple spaces from prev step to single\n",
    "    text = re.sub(r' {2,}', \" \", text, flags=re.MULTILINE)\n",
    "    text = text.replace('`',\"'\")\n",
    "    return text.strip()"
   ]
  },
  {
   "cell_type": "code",
   "execution_count": 26,
   "metadata": {},
   "outputs": [
    {
     "name": "stdout",
     "output_type": "stream",
     "text": [
      "\u001b[1mOriginal text:\u001b[0m\n",
      "-verified user details.(employee# & manager name)\n",
      "-checked the user name in ad and reset the password.\n",
      "-advised the user to login and check.\n",
      "-caller confirmed that he was able to login.\n",
      "-issue resolved.\n",
      "____________________________________________________________________________________________________\n",
      "\u001b[1mCleaned text:\u001b[0m\n",
      "verified user details employee manager name checked the user name in ad and reset the password advised the user to login and check caller confirmed that he was able to login issue resolved\n"
     ]
    }
   ],
   "source": [
    "# Checking to see how the cleaning function has worked for a record\n",
    "print('\\033[1mOriginal text:\\033[0m')\n",
    "print(new_df['Description'][0])\n",
    "print('_'*100)\n",
    "print('\\033[1mCleaned text:\\033[0m')\n",
    "print(preText(new_df['Description'][0]))"
   ]
  },
  {
   "cell_type": "markdown",
   "metadata": {},
   "source": [
    "Now given that The text seems to have been pre-processed correctly, applying it on the total database"
   ]
  },
  {
   "cell_type": "code",
   "execution_count": 27,
   "metadata": {},
   "outputs": [
    {
     "data": {
      "text/html": [
       "<div>\n",
       "<style scoped>\n",
       "    .dataframe tbody tr th:only-of-type {\n",
       "        vertical-align: middle;\n",
       "    }\n",
       "\n",
       "    .dataframe tbody tr th {\n",
       "        vertical-align: top;\n",
       "    }\n",
       "\n",
       "    .dataframe thead th {\n",
       "        text-align: right;\n",
       "    }\n",
       "</style>\n",
       "<table border=\"1\" class=\"dataframe\">\n",
       "  <thead>\n",
       "    <tr style=\"text-align: right;\">\n",
       "      <th></th>\n",
       "      <th>Short description</th>\n",
       "      <th>Description</th>\n",
       "      <th>Caller</th>\n",
       "      <th>Assignment group</th>\n",
       "    </tr>\n",
       "  </thead>\n",
       "  <tbody>\n",
       "    <tr>\n",
       "      <th>0</th>\n",
       "      <td>login issue</td>\n",
       "      <td>verified user details employee manager name ch...</td>\n",
       "      <td>spxjnwir pjlcoqds</td>\n",
       "      <td>GRP_0</td>\n",
       "    </tr>\n",
       "    <tr>\n",
       "      <th>1</th>\n",
       "      <td>outlook</td>\n",
       "      <td>received from hello team my meetings skype mee...</td>\n",
       "      <td>hmjdrvpb komuaywn</td>\n",
       "      <td>GRP_0</td>\n",
       "    </tr>\n",
       "    <tr>\n",
       "      <th>2</th>\n",
       "      <td>cant log in to vpn</td>\n",
       "      <td>received from hi i cannot log on to vpn best</td>\n",
       "      <td>eylqgodm ybqkwiam</td>\n",
       "      <td>GRP_0</td>\n",
       "    </tr>\n",
       "    <tr>\n",
       "      <th>3</th>\n",
       "      <td>unable to access hr tool page</td>\n",
       "      <td>unable to access hr tool page</td>\n",
       "      <td>xbkucsvz gcpydteq</td>\n",
       "      <td>GRP_0</td>\n",
       "    </tr>\n",
       "    <tr>\n",
       "      <th>4</th>\n",
       "      <td>skype error</td>\n",
       "      <td>skype error</td>\n",
       "      <td>owlgqjme qhcozdfx</td>\n",
       "      <td>GRP_0</td>\n",
       "    </tr>\n",
       "  </tbody>\n",
       "</table>\n",
       "</div>"
      ],
      "text/plain": [
       "               Short description  \\\n",
       "0                    login issue   \n",
       "1                        outlook   \n",
       "2             cant log in to vpn   \n",
       "3  unable to access hr tool page   \n",
       "4                    skype error   \n",
       "\n",
       "                                         Description             Caller  \\\n",
       "0  verified user details employee manager name ch...  spxjnwir pjlcoqds   \n",
       "1  received from hello team my meetings skype mee...  hmjdrvpb komuaywn   \n",
       "2       received from hi i cannot log on to vpn best  eylqgodm ybqkwiam   \n",
       "3                      unable to access hr tool page  xbkucsvz gcpydteq   \n",
       "4                                        skype error  owlgqjme qhcozdfx   \n",
       "\n",
       "  Assignment group  \n",
       "0            GRP_0  \n",
       "1            GRP_0  \n",
       "2            GRP_0  \n",
       "3            GRP_0  \n",
       "4            GRP_0  "
      ]
     },
     "execution_count": 27,
     "metadata": {},
     "output_type": "execute_result"
    }
   ],
   "source": [
    "new_df['Description'] = new_df['Description'].apply(preText)\n",
    "new_df['Short description'] = new_df['Short description'].apply(preText)\n",
    "\n",
    "# Verify the data\n",
    "new_df.head()"
   ]
  },
  {
   "cell_type": "markdown",
   "metadata": {},
   "source": [
    "# Text Pre Processing\n",
    "\n",
    "As first steps, we would be concatenating Short Description and Description columns (given that more than a fourth of records have exactly the same data in both of them)"
   ]
  },
  {
   "cell_type": "code",
   "execution_count": 28,
   "metadata": {},
   "outputs": [],
   "source": [
    "new_df.insert(loc=4, \n",
    "              column='Total', \n",
    "              allow_duplicates=True, \n",
    "              value=list(new_df['Short description'].str.strip() + ' ' + new_df['Description'].str.strip()))"
   ]
  },
  {
   "cell_type": "code",
   "execution_count": 29,
   "metadata": {},
   "outputs": [
    {
     "data": {
      "text/html": [
       "<div>\n",
       "<style scoped>\n",
       "    .dataframe tbody tr th:only-of-type {\n",
       "        vertical-align: middle;\n",
       "    }\n",
       "\n",
       "    .dataframe tbody tr th {\n",
       "        vertical-align: top;\n",
       "    }\n",
       "\n",
       "    .dataframe thead th {\n",
       "        text-align: right;\n",
       "    }\n",
       "</style>\n",
       "<table border=\"1\" class=\"dataframe\">\n",
       "  <thead>\n",
       "    <tr style=\"text-align: right;\">\n",
       "      <th></th>\n",
       "      <th>Short description</th>\n",
       "      <th>Description</th>\n",
       "      <th>Caller</th>\n",
       "      <th>Assignment group</th>\n",
       "      <th>Total</th>\n",
       "    </tr>\n",
       "  </thead>\n",
       "  <tbody>\n",
       "    <tr>\n",
       "      <th>0</th>\n",
       "      <td>login issue</td>\n",
       "      <td>verified user details employee manager name ch...</td>\n",
       "      <td>spxjnwir pjlcoqds</td>\n",
       "      <td>GRP_0</td>\n",
       "      <td>login issue verified user details employee man...</td>\n",
       "    </tr>\n",
       "    <tr>\n",
       "      <th>1</th>\n",
       "      <td>outlook</td>\n",
       "      <td>received from hello team my meetings skype mee...</td>\n",
       "      <td>hmjdrvpb komuaywn</td>\n",
       "      <td>GRP_0</td>\n",
       "      <td>outlook received from hello team my meetings s...</td>\n",
       "    </tr>\n",
       "    <tr>\n",
       "      <th>2</th>\n",
       "      <td>cant log in to vpn</td>\n",
       "      <td>received from hi i cannot log on to vpn best</td>\n",
       "      <td>eylqgodm ybqkwiam</td>\n",
       "      <td>GRP_0</td>\n",
       "      <td>cant log in to vpn received from hi i cannot l...</td>\n",
       "    </tr>\n",
       "    <tr>\n",
       "      <th>3</th>\n",
       "      <td>unable to access hr tool page</td>\n",
       "      <td>unable to access hr tool page</td>\n",
       "      <td>xbkucsvz gcpydteq</td>\n",
       "      <td>GRP_0</td>\n",
       "      <td>unable to access hr tool page unable to access...</td>\n",
       "    </tr>\n",
       "    <tr>\n",
       "      <th>4</th>\n",
       "      <td>skype error</td>\n",
       "      <td>skype error</td>\n",
       "      <td>owlgqjme qhcozdfx</td>\n",
       "      <td>GRP_0</td>\n",
       "      <td>skype error skype error</td>\n",
       "    </tr>\n",
       "  </tbody>\n",
       "</table>\n",
       "</div>"
      ],
      "text/plain": [
       "               Short description  \\\n",
       "0                    login issue   \n",
       "1                        outlook   \n",
       "2             cant log in to vpn   \n",
       "3  unable to access hr tool page   \n",
       "4                    skype error   \n",
       "\n",
       "                                         Description             Caller  \\\n",
       "0  verified user details employee manager name ch...  spxjnwir pjlcoqds   \n",
       "1  received from hello team my meetings skype mee...  hmjdrvpb komuaywn   \n",
       "2       received from hi i cannot log on to vpn best  eylqgodm ybqkwiam   \n",
       "3                      unable to access hr tool page  xbkucsvz gcpydteq   \n",
       "4                                        skype error  owlgqjme qhcozdfx   \n",
       "\n",
       "  Assignment group                                              Total  \n",
       "0            GRP_0  login issue verified user details employee man...  \n",
       "1            GRP_0  outlook received from hello team my meetings s...  \n",
       "2            GRP_0  cant log in to vpn received from hi i cannot l...  \n",
       "3            GRP_0  unable to access hr tool page unable to access...  \n",
       "4            GRP_0                            skype error skype error  "
      ]
     },
     "execution_count": 29,
     "metadata": {},
     "output_type": "execute_result"
    }
   ],
   "source": [
    "new_df.head()"
   ]
  },
  {
   "cell_type": "markdown",
   "metadata": {},
   "source": [
    "Comments: As seen in case 4, there is duplication and this needs to be removed"
   ]
  },
  {
   "cell_type": "code",
   "execution_count": 30,
   "metadata": {},
   "outputs": [],
   "source": [
    "new_df[\"Total\"] = new_df[\"Total\"].apply(lambda x: ' '.join(pd.unique(x.split()))) # removing duplicates"
   ]
  },
  {
   "cell_type": "code",
   "execution_count": 31,
   "metadata": {},
   "outputs": [
    {
     "data": {
      "text/html": [
       "<div>\n",
       "<style scoped>\n",
       "    .dataframe tbody tr th:only-of-type {\n",
       "        vertical-align: middle;\n",
       "    }\n",
       "\n",
       "    .dataframe tbody tr th {\n",
       "        vertical-align: top;\n",
       "    }\n",
       "\n",
       "    .dataframe thead th {\n",
       "        text-align: right;\n",
       "    }\n",
       "</style>\n",
       "<table border=\"1\" class=\"dataframe\">\n",
       "  <thead>\n",
       "    <tr style=\"text-align: right;\">\n",
       "      <th></th>\n",
       "      <th>Short description</th>\n",
       "      <th>Description</th>\n",
       "      <th>Caller</th>\n",
       "      <th>Assignment group</th>\n",
       "      <th>Total</th>\n",
       "    </tr>\n",
       "  </thead>\n",
       "  <tbody>\n",
       "    <tr>\n",
       "      <th>0</th>\n",
       "      <td>login issue</td>\n",
       "      <td>verified user details employee manager name ch...</td>\n",
       "      <td>spxjnwir pjlcoqds</td>\n",
       "      <td>GRP_0</td>\n",
       "      <td>login issue verified user details employee man...</td>\n",
       "    </tr>\n",
       "    <tr>\n",
       "      <th>1</th>\n",
       "      <td>outlook</td>\n",
       "      <td>received from hello team my meetings skype mee...</td>\n",
       "      <td>hmjdrvpb komuaywn</td>\n",
       "      <td>GRP_0</td>\n",
       "      <td>outlook received from hello team my meetings s...</td>\n",
       "    </tr>\n",
       "    <tr>\n",
       "      <th>2</th>\n",
       "      <td>cant log in to vpn</td>\n",
       "      <td>received from hi i cannot log on to vpn best</td>\n",
       "      <td>eylqgodm ybqkwiam</td>\n",
       "      <td>GRP_0</td>\n",
       "      <td>cant log in to vpn received from hi i cannot o...</td>\n",
       "    </tr>\n",
       "    <tr>\n",
       "      <th>3</th>\n",
       "      <td>unable to access hr tool page</td>\n",
       "      <td>unable to access hr tool page</td>\n",
       "      <td>xbkucsvz gcpydteq</td>\n",
       "      <td>GRP_0</td>\n",
       "      <td>unable to access hr tool page</td>\n",
       "    </tr>\n",
       "    <tr>\n",
       "      <th>4</th>\n",
       "      <td>skype error</td>\n",
       "      <td>skype error</td>\n",
       "      <td>owlgqjme qhcozdfx</td>\n",
       "      <td>GRP_0</td>\n",
       "      <td>skype error</td>\n",
       "    </tr>\n",
       "  </tbody>\n",
       "</table>\n",
       "</div>"
      ],
      "text/plain": [
       "               Short description  \\\n",
       "0                    login issue   \n",
       "1                        outlook   \n",
       "2             cant log in to vpn   \n",
       "3  unable to access hr tool page   \n",
       "4                    skype error   \n",
       "\n",
       "                                         Description             Caller  \\\n",
       "0  verified user details employee manager name ch...  spxjnwir pjlcoqds   \n",
       "1  received from hello team my meetings skype mee...  hmjdrvpb komuaywn   \n",
       "2       received from hi i cannot log on to vpn best  eylqgodm ybqkwiam   \n",
       "3                      unable to access hr tool page  xbkucsvz gcpydteq   \n",
       "4                                        skype error  owlgqjme qhcozdfx   \n",
       "\n",
       "  Assignment group                                              Total  \n",
       "0            GRP_0  login issue verified user details employee man...  \n",
       "1            GRP_0  outlook received from hello team my meetings s...  \n",
       "2            GRP_0  cant log in to vpn received from hi i cannot o...  \n",
       "3            GRP_0                      unable to access hr tool page  \n",
       "4            GRP_0                                        skype error  "
      ]
     },
     "execution_count": 31,
     "metadata": {},
     "output_type": "execute_result"
    }
   ],
   "source": [
    "new_df.head()"
   ]
  },
  {
   "cell_type": "markdown",
   "metadata": {},
   "source": [
    "# Lemmatization\n",
    "\n",
    "We are using spaCY for this given that it also takes of POS and works well on cleaned data"
   ]
  },
  {
   "cell_type": "code",
   "execution_count": 32,
   "metadata": {},
   "outputs": [],
   "source": [
    "# Initialize spacy 'en' medium model, keeping only tagger component needed for lemmatization\n",
    "nlp = spacy.load('en_core_web_sm', disable=['parser', 'ner'])\n",
    "\n",
    "# Define a function to lemmatize the descriptions\n",
    "def lemmatizer(sentence):\n",
    "    # Parse the sentence using the loaded 'en' model object `nlp`\n",
    "    doc = nlp(sentence)\n",
    "    return \" \".join([token.lemma_ for token in doc if token.lemma_ !='-PRON-'])"
   ]
  },
  {
   "cell_type": "code",
   "execution_count": 33,
   "metadata": {},
   "outputs": [
    {
     "name": "stdout",
     "output_type": "stream",
     "text": [
      "\u001b[1mOriginal text:\u001b[0m\n",
      "login issue verified user details employee manager name checked the in ad and reset password advised to check caller confirmed that he was able resolved\n",
      "____________________________________________________________________________________________________\n",
      "\u001b[1mLemmatized text:\u001b[0m\n",
      "login issue verify user detail employee manager name check the in ad and reset password advise to check caller confirm that be able resolve\n"
     ]
    }
   ],
   "source": [
    "# Checking to see how the lemmatizer function has worked for a record\n",
    "print('\\033[1mOriginal text:\\033[0m')\n",
    "print(new_df['Total'][0])\n",
    "print('_'*100)\n",
    "print('\\033[1mLemmatized text:\\033[0m')\n",
    "print(lemmatizer(new_df['Total'][0]))"
   ]
  },
  {
   "cell_type": "code",
   "execution_count": 34,
   "metadata": {},
   "outputs": [
    {
     "data": {
      "text/html": [
       "<div>\n",
       "<style scoped>\n",
       "    .dataframe tbody tr th:only-of-type {\n",
       "        vertical-align: middle;\n",
       "    }\n",
       "\n",
       "    .dataframe tbody tr th {\n",
       "        vertical-align: top;\n",
       "    }\n",
       "\n",
       "    .dataframe thead th {\n",
       "        text-align: right;\n",
       "    }\n",
       "</style>\n",
       "<table border=\"1\" class=\"dataframe\">\n",
       "  <thead>\n",
       "    <tr style=\"text-align: right;\">\n",
       "      <th></th>\n",
       "      <th>Short description</th>\n",
       "      <th>Description</th>\n",
       "      <th>Caller</th>\n",
       "      <th>Assignment group</th>\n",
       "      <th>Total</th>\n",
       "    </tr>\n",
       "  </thead>\n",
       "  <tbody>\n",
       "    <tr>\n",
       "      <th>0</th>\n",
       "      <td>login issue</td>\n",
       "      <td>verified user details employee manager name ch...</td>\n",
       "      <td>spxjnwir pjlcoqds</td>\n",
       "      <td>GRP_0</td>\n",
       "      <td>login issue verify user detail employee manage...</td>\n",
       "    </tr>\n",
       "    <tr>\n",
       "      <th>1</th>\n",
       "      <td>outlook</td>\n",
       "      <td>received from hello team my meetings skype mee...</td>\n",
       "      <td>hmjdrvpb komuaywn</td>\n",
       "      <td>GRP_0</td>\n",
       "      <td>outlook receive from hello team meeting skype ...</td>\n",
       "    </tr>\n",
       "    <tr>\n",
       "      <th>2</th>\n",
       "      <td>cant log in to vpn</td>\n",
       "      <td>received from hi i cannot log on to vpn best</td>\n",
       "      <td>eylqgodm ybqkwiam</td>\n",
       "      <td>GRP_0</td>\n",
       "      <td>can not log in to vpn receive from hi i can no...</td>\n",
       "    </tr>\n",
       "    <tr>\n",
       "      <th>3</th>\n",
       "      <td>unable to access hr tool page</td>\n",
       "      <td>unable to access hr tool page</td>\n",
       "      <td>xbkucsvz gcpydteq</td>\n",
       "      <td>GRP_0</td>\n",
       "      <td>unable to access hr tool page</td>\n",
       "    </tr>\n",
       "    <tr>\n",
       "      <th>4</th>\n",
       "      <td>skype error</td>\n",
       "      <td>skype error</td>\n",
       "      <td>owlgqjme qhcozdfx</td>\n",
       "      <td>GRP_0</td>\n",
       "      <td>skype error</td>\n",
       "    </tr>\n",
       "  </tbody>\n",
       "</table>\n",
       "</div>"
      ],
      "text/plain": [
       "               Short description  \\\n",
       "0                    login issue   \n",
       "1                        outlook   \n",
       "2             cant log in to vpn   \n",
       "3  unable to access hr tool page   \n",
       "4                    skype error   \n",
       "\n",
       "                                         Description             Caller  \\\n",
       "0  verified user details employee manager name ch...  spxjnwir pjlcoqds   \n",
       "1  received from hello team my meetings skype mee...  hmjdrvpb komuaywn   \n",
       "2       received from hi i cannot log on to vpn best  eylqgodm ybqkwiam   \n",
       "3                      unable to access hr tool page  xbkucsvz gcpydteq   \n",
       "4                                        skype error  owlgqjme qhcozdfx   \n",
       "\n",
       "  Assignment group                                              Total  \n",
       "0            GRP_0  login issue verify user detail employee manage...  \n",
       "1            GRP_0  outlook receive from hello team meeting skype ...  \n",
       "2            GRP_0  can not log in to vpn receive from hi i can no...  \n",
       "3            GRP_0                      unable to access hr tool page  \n",
       "4            GRP_0                                        skype error  "
      ]
     },
     "execution_count": 34,
     "metadata": {},
     "output_type": "execute_result"
    }
   ],
   "source": [
    "# Applying on the database\n",
    "new_df['Total'] = new_df['Total'].apply(lemmatizer)\n",
    "\n",
    "# Verify the data\n",
    "new_df.head()"
   ]
  },
  {
   "cell_type": "markdown",
   "metadata": {},
   "source": [
    "# Preparing list of Stop words"
   ]
  },
  {
   "cell_type": "code",
   "execution_count": 35,
   "metadata": {},
   "outputs": [
    {
     "data": {
      "text/plain": [
       "179"
      ]
     },
     "execution_count": 35,
     "metadata": {},
     "output_type": "execute_result"
    }
   ],
   "source": [
    "allstp=np.array(stopwords.words('english'))\n",
    "allstp.size"
   ]
  },
  {
   "cell_type": "code",
   "execution_count": 36,
   "metadata": {},
   "outputs": [
    {
     "data": {
      "text/plain": [
       "20"
      ]
     },
     "execution_count": 36,
     "metadata": {},
     "output_type": "execute_result"
    }
   ],
   "source": [
    "#Creating an additional of stopwords that  we see as irrelevant to the modelling inputs\n",
    "new_words=np.array(['yes','hi', 'receive','hello','sir','madam', 'best','morning','evening','afternoon' 'regards','thanks','from','greeting', 'forward','reply','will','please','see','help','able'])\n",
    "new_words.size"
   ]
  },
  {
   "cell_type": "code",
   "execution_count": 37,
   "metadata": {},
   "outputs": [
    {
     "data": {
      "text/plain": [
       "199"
      ]
     },
     "execution_count": 37,
     "metadata": {},
     "output_type": "execute_result"
    }
   ],
   "source": [
    "stopwords=np.concatenate([allstp,new_words]) #Concatenating nltk list and our list of stopwords\n",
    "stopwords.size"
   ]
  },
  {
   "cell_type": "code",
   "execution_count": 38,
   "metadata": {},
   "outputs": [
    {
     "data": {
      "text/plain": [
       "(array([118], dtype=int64),)"
      ]
     },
     "execution_count": 38,
     "metadata": {},
     "output_type": "execute_result"
    }
   ],
   "source": [
    "index_not = np.where(stopwords == 'not') # find index of 'not' in the stopwords\n",
    "index_not"
   ]
  },
  {
   "cell_type": "code",
   "execution_count": 39,
   "metadata": {},
   "outputs": [
    {
     "data": {
      "text/plain": [
       "198"
      ]
     },
     "execution_count": 39,
     "metadata": {},
     "output_type": "execute_result"
    }
   ],
   "source": [
    "final_list=np.delete(stopwords, index_not)\n",
    "final_list.size"
   ]
  },
  {
   "cell_type": "code",
   "execution_count": 40,
   "metadata": {},
   "outputs": [],
   "source": [
    "#the cleaning process below removes the stopwords defined above as a string irrespective of whether it is part of another word. Example: it will remove \"i\" in input as \"i\" is a stopword. Hence, to prevent the same, we will append a space before and after every term to defined as a word\n",
    "final_list1=[]\n",
    "for i in final_list:\n",
    "#     print(\"initial\")\n",
    "#     print(i)\n",
    "    txt=i\n",
    "    txt=\" \"+txt+\" \"\n",
    "    i=txt\n",
    "    final_list1.append(i)\n",
    "#     print(\"final:\")\n",
    "#     print(i)\n",
    "# final_list1"
   ]
  },
  {
   "cell_type": "markdown",
   "metadata": {},
   "source": [
    "## Cleaning usernames and stop words from the descriptions"
   ]
  },
  {
   "cell_type": "code",
   "execution_count": 41,
   "metadata": {},
   "outputs": [
    {
     "name": "stdout",
     "output_type": "stream",
     "text": [
      "['spxjnwir pjlcoqds' 'hmjdrvpb komuaywn' 'eylqgodm ybqkwiam' ...\n",
      " 'bjitvswa yrmugfnq' 'oybwdsgx oxyhwrfz' 'kqvbrspl jyzoklfx']\n"
     ]
    },
    {
     "data": {
      "text/plain": [
       "2950"
      ]
     },
     "execution_count": 41,
     "metadata": {},
     "output_type": "execute_result"
    }
   ],
   "source": [
    "uniq=new_df['Caller'].unique()\n",
    "print(uniq)\n",
    "uniq.size"
   ]
  },
  {
   "cell_type": "code",
   "execution_count": null,
   "metadata": {},
   "outputs": [],
   "source": [
    "## We can use the same command for removing whatever stop words we want. Will append those terms to the uniq array using:\n",
    "## np.append(uniq,stopword)"
   ]
  },
  {
   "cell_type": "code",
   "execution_count": 42,
   "metadata": {},
   "outputs": [
    {
     "data": {
      "text/plain": [
       "3148"
      ]
     },
     "execution_count": 42,
     "metadata": {},
     "output_type": "execute_result"
    }
   ],
   "source": [
    "uniq1=np.concatenate([uniq,final_list1]) #preparing final list of terms that need to be deleted. This includes usernames and stopwords\n",
    "uniq1.size"
   ]
  },
  {
   "cell_type": "code",
   "execution_count": 43,
   "metadata": {},
   "outputs": [],
   "source": [
    "new_df['Clean Description']=new_df['Total'].copy()"
   ]
  },
  {
   "cell_type": "code",
   "execution_count": 44,
   "metadata": {},
   "outputs": [],
   "source": [
    "# print commands have been commented out due to issues in the IOrate. You can uncomment out the same in case you need the reference\n",
    "s=\" \"\n",
    "for key, value in new_df['Total'].iteritems():\n",
    "    r=value\n",
    "    \n",
    "    if(pd.isnull(value)):\n",
    "        s=''\n",
    "    else:\n",
    "#         print(key)\n",
    "        for u in range(uniq1.size):\n",
    "            if(r.find(uniq1[u])!=-1):\n",
    "            \n",
    "        #print(uniq[u])\n",
    "#                 print('un found: ',uniq1[u])\n",
    "                s = r.replace(uniq1[u],' ')\n",
    "                r=s\n",
    "#                 print('Key: ',key)\n",
    "#                 print('Original string: ',r)\n",
    "#                 print('Revised string: ',s)\n",
    "            else:\n",
    "                s=r\n",
    "#     print(key)\n",
    "#     print(r)\n",
    "#     print(s)\n",
    "    new_df.at[key,'Clean Description']= s\n",
    "#     print(key)"
   ]
  },
  {
   "cell_type": "code",
   "execution_count": 45,
   "metadata": {},
   "outputs": [
    {
     "data": {
      "text/html": [
       "<div>\n",
       "<style scoped>\n",
       "    .dataframe tbody tr th:only-of-type {\n",
       "        vertical-align: middle;\n",
       "    }\n",
       "\n",
       "    .dataframe tbody tr th {\n",
       "        vertical-align: top;\n",
       "    }\n",
       "\n",
       "    .dataframe thead th {\n",
       "        text-align: right;\n",
       "    }\n",
       "</style>\n",
       "<table border=\"1\" class=\"dataframe\">\n",
       "  <thead>\n",
       "    <tr style=\"text-align: right;\">\n",
       "      <th></th>\n",
       "      <th>Short description</th>\n",
       "      <th>Description</th>\n",
       "      <th>Caller</th>\n",
       "      <th>Assignment group</th>\n",
       "      <th>Total</th>\n",
       "      <th>Clean Description</th>\n",
       "    </tr>\n",
       "  </thead>\n",
       "  <tbody>\n",
       "    <tr>\n",
       "      <th>0</th>\n",
       "      <td>login issue</td>\n",
       "      <td>verified user details employee manager name ch...</td>\n",
       "      <td>spxjnwir pjlcoqds</td>\n",
       "      <td>GRP_0</td>\n",
       "      <td>login issue verify user detail employee manage...</td>\n",
       "      <td>login issue verify user detail employee manage...</td>\n",
       "    </tr>\n",
       "    <tr>\n",
       "      <th>1</th>\n",
       "      <td>outlook</td>\n",
       "      <td>received from hello team my meetings skype mee...</td>\n",
       "      <td>hmjdrvpb komuaywn</td>\n",
       "      <td>GRP_0</td>\n",
       "      <td>outlook receive from hello team meeting skype ...</td>\n",
       "      <td>outlook team meeting skype etc not appear cale...</td>\n",
       "    </tr>\n",
       "    <tr>\n",
       "      <th>2</th>\n",
       "      <td>cant log in to vpn</td>\n",
       "      <td>received from hi i cannot log on to vpn best</td>\n",
       "      <td>eylqgodm ybqkwiam</td>\n",
       "      <td>GRP_0</td>\n",
       "      <td>can not log in to vpn receive from hi i can no...</td>\n",
       "      <td>can not log vpn not best</td>\n",
       "    </tr>\n",
       "    <tr>\n",
       "      <th>3</th>\n",
       "      <td>unable to access hr tool page</td>\n",
       "      <td>unable to access hr tool page</td>\n",
       "      <td>xbkucsvz gcpydteq</td>\n",
       "      <td>GRP_0</td>\n",
       "      <td>unable to access hr tool page</td>\n",
       "      <td>unable access hr tool page</td>\n",
       "    </tr>\n",
       "    <tr>\n",
       "      <th>4</th>\n",
       "      <td>skype error</td>\n",
       "      <td>skype error</td>\n",
       "      <td>owlgqjme qhcozdfx</td>\n",
       "      <td>GRP_0</td>\n",
       "      <td>skype error</td>\n",
       "      <td>skype error</td>\n",
       "    </tr>\n",
       "  </tbody>\n",
       "</table>\n",
       "</div>"
      ],
      "text/plain": [
       "               Short description  \\\n",
       "0                    login issue   \n",
       "1                        outlook   \n",
       "2             cant log in to vpn   \n",
       "3  unable to access hr tool page   \n",
       "4                    skype error   \n",
       "\n",
       "                                         Description             Caller  \\\n",
       "0  verified user details employee manager name ch...  spxjnwir pjlcoqds   \n",
       "1  received from hello team my meetings skype mee...  hmjdrvpb komuaywn   \n",
       "2       received from hi i cannot log on to vpn best  eylqgodm ybqkwiam   \n",
       "3                      unable to access hr tool page  xbkucsvz gcpydteq   \n",
       "4                                        skype error  owlgqjme qhcozdfx   \n",
       "\n",
       "  Assignment group                                              Total  \\\n",
       "0            GRP_0  login issue verify user detail employee manage...   \n",
       "1            GRP_0  outlook receive from hello team meeting skype ...   \n",
       "2            GRP_0  can not log in to vpn receive from hi i can no...   \n",
       "3            GRP_0                      unable to access hr tool page   \n",
       "4            GRP_0                                        skype error   \n",
       "\n",
       "                                   Clean Description  \n",
       "0  login issue verify user detail employee manage...  \n",
       "1  outlook team meeting skype etc not appear cale...  \n",
       "2                           can not log vpn not best  \n",
       "3                         unable access hr tool page  \n",
       "4                                        skype error  "
      ]
     },
     "execution_count": 45,
     "metadata": {},
     "output_type": "execute_result"
    }
   ],
   "source": [
    "new_df.head()"
   ]
  },
  {
   "cell_type": "markdown",
   "metadata": {},
   "source": [
    "Comments: Now the Column \"Clean Description\" has completely clean data where all the stop words, names of people removed and we can explore this data"
   ]
  },
  {
   "cell_type": "markdown",
   "metadata": {},
   "source": [
    "# EDA on Description"
   ]
  },
  {
   "cell_type": "markdown",
   "metadata": {},
   "source": [
    "Lets understand the total number of words in the corpus"
   ]
  },
  {
   "cell_type": "code",
   "execution_count": 55,
   "metadata": {},
   "outputs": [],
   "source": [
    "cumulative_words = {}\n",
    "cumulative_column = []\n",
    "\n",
    "for x in new_df[\"Clean Description\"].values:\n",
    "    cumulative_words.update(dict.fromkeys(set(x.lower().split())))\n",
    "    cumulative_column.append(cumulative_words.keys())"
   ]
  },
  {
   "cell_type": "code",
   "execution_count": 56,
   "metadata": {},
   "outputs": [],
   "source": [
    "new_df[\"Column B\"] = cumulative_column\n",
    "new_df[\"Column C\"] = new_df[\"Column B\"].apply(len)"
   ]
  },
  {
   "cell_type": "code",
   "execution_count": 57,
   "metadata": {},
   "outputs": [
    {
     "data": {
      "text/html": [
       "<div>\n",
       "<style scoped>\n",
       "    .dataframe tbody tr th:only-of-type {\n",
       "        vertical-align: middle;\n",
       "    }\n",
       "\n",
       "    .dataframe tbody tr th {\n",
       "        vertical-align: top;\n",
       "    }\n",
       "\n",
       "    .dataframe thead th {\n",
       "        text-align: right;\n",
       "    }\n",
       "</style>\n",
       "<table border=\"1\" class=\"dataframe\">\n",
       "  <thead>\n",
       "    <tr style=\"text-align: right;\">\n",
       "      <th></th>\n",
       "      <th>Short description</th>\n",
       "      <th>Description</th>\n",
       "      <th>Caller</th>\n",
       "      <th>Assignment group</th>\n",
       "      <th>Total</th>\n",
       "      <th>Clean Description</th>\n",
       "      <th>Column B</th>\n",
       "      <th>Column C</th>\n",
       "    </tr>\n",
       "  </thead>\n",
       "  <tbody>\n",
       "    <tr>\n",
       "      <th>0</th>\n",
       "      <td>login issue</td>\n",
       "      <td>verified user details employee manager name ch...</td>\n",
       "      <td>spxjnwir pjlcoqds</td>\n",
       "      <td>GRP_0</td>\n",
       "      <td>login issue verify user detail employee manage...</td>\n",
       "      <td>login issue verify user detail employee manage...</td>\n",
       "      <td>(detail, resolve, issue, employee, advise, man...</td>\n",
       "      <td>10327</td>\n",
       "    </tr>\n",
       "    <tr>\n",
       "      <th>1</th>\n",
       "      <td>outlook</td>\n",
       "      <td>received from hello team my meetings skype mee...</td>\n",
       "      <td>hmjdrvpb komuaywn</td>\n",
       "      <td>GRP_0</td>\n",
       "      <td>outlook receive from hello team meeting skype ...</td>\n",
       "      <td>outlook team meeting skype etc not appear cale...</td>\n",
       "      <td>(detail, resolve, issue, employee, advise, man...</td>\n",
       "      <td>10327</td>\n",
       "    </tr>\n",
       "    <tr>\n",
       "      <th>2</th>\n",
       "      <td>cant log in to vpn</td>\n",
       "      <td>received from hi i cannot log on to vpn best</td>\n",
       "      <td>eylqgodm ybqkwiam</td>\n",
       "      <td>GRP_0</td>\n",
       "      <td>can not log in to vpn receive from hi i can no...</td>\n",
       "      <td>can not log vpn not best</td>\n",
       "      <td>(detail, resolve, issue, employee, advise, man...</td>\n",
       "      <td>10327</td>\n",
       "    </tr>\n",
       "    <tr>\n",
       "      <th>3</th>\n",
       "      <td>unable to access hr tool page</td>\n",
       "      <td>unable to access hr tool page</td>\n",
       "      <td>xbkucsvz gcpydteq</td>\n",
       "      <td>GRP_0</td>\n",
       "      <td>unable to access hr tool page</td>\n",
       "      <td>unable access hr tool page</td>\n",
       "      <td>(detail, resolve, issue, employee, advise, man...</td>\n",
       "      <td>10327</td>\n",
       "    </tr>\n",
       "    <tr>\n",
       "      <th>4</th>\n",
       "      <td>skype error</td>\n",
       "      <td>skype error</td>\n",
       "      <td>owlgqjme qhcozdfx</td>\n",
       "      <td>GRP_0</td>\n",
       "      <td>skype error</td>\n",
       "      <td>skype error</td>\n",
       "      <td>(detail, resolve, issue, employee, advise, man...</td>\n",
       "      <td>10327</td>\n",
       "    </tr>\n",
       "  </tbody>\n",
       "</table>\n",
       "</div>"
      ],
      "text/plain": [
       "               Short description  \\\n",
       "0                    login issue   \n",
       "1                        outlook   \n",
       "2             cant log in to vpn   \n",
       "3  unable to access hr tool page   \n",
       "4                    skype error   \n",
       "\n",
       "                                         Description             Caller  \\\n",
       "0  verified user details employee manager name ch...  spxjnwir pjlcoqds   \n",
       "1  received from hello team my meetings skype mee...  hmjdrvpb komuaywn   \n",
       "2       received from hi i cannot log on to vpn best  eylqgodm ybqkwiam   \n",
       "3                      unable to access hr tool page  xbkucsvz gcpydteq   \n",
       "4                                        skype error  owlgqjme qhcozdfx   \n",
       "\n",
       "  Assignment group                                              Total  \\\n",
       "0            GRP_0  login issue verify user detail employee manage...   \n",
       "1            GRP_0  outlook receive from hello team meeting skype ...   \n",
       "2            GRP_0  can not log in to vpn receive from hi i can no...   \n",
       "3            GRP_0                      unable to access hr tool page   \n",
       "4            GRP_0                                        skype error   \n",
       "\n",
       "                                   Clean Description  \\\n",
       "0  login issue verify user detail employee manage...   \n",
       "1  outlook team meeting skype etc not appear cale...   \n",
       "2                           can not log vpn not best   \n",
       "3                         unable access hr tool page   \n",
       "4                                        skype error   \n",
       "\n",
       "                                            Column B  Column C  \n",
       "0  (detail, resolve, issue, employee, advise, man...     10327  \n",
       "1  (detail, resolve, issue, employee, advise, man...     10327  \n",
       "2  (detail, resolve, issue, employee, advise, man...     10327  \n",
       "3  (detail, resolve, issue, employee, advise, man...     10327  \n",
       "4  (detail, resolve, issue, employee, advise, man...     10327  "
      ]
     },
     "execution_count": 57,
     "metadata": {},
     "output_type": "execute_result"
    }
   ],
   "source": [
    "new_df.head()"
   ]
  },
  {
   "cell_type": "markdown",
   "metadata": {},
   "source": [
    "Comments: We have a total of 10327 unique words in our corpus"
   ]
  },
  {
   "cell_type": "code",
   "execution_count": 58,
   "metadata": {},
   "outputs": [
    {
     "data": {
      "text/html": [
       "<div>\n",
       "<style scoped>\n",
       "    .dataframe tbody tr th:only-of-type {\n",
       "        vertical-align: middle;\n",
       "    }\n",
       "\n",
       "    .dataframe tbody tr th {\n",
       "        vertical-align: top;\n",
       "    }\n",
       "\n",
       "    .dataframe thead th {\n",
       "        text-align: right;\n",
       "    }\n",
       "</style>\n",
       "<table border=\"1\" class=\"dataframe\">\n",
       "  <thead>\n",
       "    <tr style=\"text-align: right;\">\n",
       "      <th></th>\n",
       "      <th>Short description</th>\n",
       "      <th>Description</th>\n",
       "      <th>Caller</th>\n",
       "      <th>Assignment group</th>\n",
       "      <th>Total</th>\n",
       "      <th>Clean Description</th>\n",
       "    </tr>\n",
       "  </thead>\n",
       "  <tbody>\n",
       "    <tr>\n",
       "      <th>0</th>\n",
       "      <td>login issue</td>\n",
       "      <td>verified user details employee manager name ch...</td>\n",
       "      <td>spxjnwir pjlcoqds</td>\n",
       "      <td>GRP_0</td>\n",
       "      <td>login issue verify user detail employee manage...</td>\n",
       "      <td>login issue verify user detail employee manage...</td>\n",
       "    </tr>\n",
       "    <tr>\n",
       "      <th>1</th>\n",
       "      <td>outlook</td>\n",
       "      <td>received from hello team my meetings skype mee...</td>\n",
       "      <td>hmjdrvpb komuaywn</td>\n",
       "      <td>GRP_0</td>\n",
       "      <td>outlook receive from hello team meeting skype ...</td>\n",
       "      <td>outlook team meeting skype etc not appear cale...</td>\n",
       "    </tr>\n",
       "    <tr>\n",
       "      <th>2</th>\n",
       "      <td>cant log in to vpn</td>\n",
       "      <td>received from hi i cannot log on to vpn best</td>\n",
       "      <td>eylqgodm ybqkwiam</td>\n",
       "      <td>GRP_0</td>\n",
       "      <td>can not log in to vpn receive from hi i can no...</td>\n",
       "      <td>can not log vpn not best</td>\n",
       "    </tr>\n",
       "    <tr>\n",
       "      <th>3</th>\n",
       "      <td>unable to access hr tool page</td>\n",
       "      <td>unable to access hr tool page</td>\n",
       "      <td>xbkucsvz gcpydteq</td>\n",
       "      <td>GRP_0</td>\n",
       "      <td>unable to access hr tool page</td>\n",
       "      <td>unable access hr tool page</td>\n",
       "    </tr>\n",
       "    <tr>\n",
       "      <th>4</th>\n",
       "      <td>skype error</td>\n",
       "      <td>skype error</td>\n",
       "      <td>owlgqjme qhcozdfx</td>\n",
       "      <td>GRP_0</td>\n",
       "      <td>skype error</td>\n",
       "      <td>skype error</td>\n",
       "    </tr>\n",
       "  </tbody>\n",
       "</table>\n",
       "</div>"
      ],
      "text/plain": [
       "               Short description  \\\n",
       "0                    login issue   \n",
       "1                        outlook   \n",
       "2             cant log in to vpn   \n",
       "3  unable to access hr tool page   \n",
       "4                    skype error   \n",
       "\n",
       "                                         Description             Caller  \\\n",
       "0  verified user details employee manager name ch...  spxjnwir pjlcoqds   \n",
       "1  received from hello team my meetings skype mee...  hmjdrvpb komuaywn   \n",
       "2       received from hi i cannot log on to vpn best  eylqgodm ybqkwiam   \n",
       "3                      unable to access hr tool page  xbkucsvz gcpydteq   \n",
       "4                                        skype error  owlgqjme qhcozdfx   \n",
       "\n",
       "  Assignment group                                              Total  \\\n",
       "0            GRP_0  login issue verify user detail employee manage...   \n",
       "1            GRP_0  outlook receive from hello team meeting skype ...   \n",
       "2            GRP_0  can not log in to vpn receive from hi i can no...   \n",
       "3            GRP_0                      unable to access hr tool page   \n",
       "4            GRP_0                                        skype error   \n",
       "\n",
       "                                   Clean Description  \n",
       "0  login issue verify user detail employee manage...  \n",
       "1  outlook team meeting skype etc not appear cale...  \n",
       "2                           can not log vpn not best  \n",
       "3                         unable access hr tool page  \n",
       "4                                        skype error  "
      ]
     },
     "execution_count": 58,
     "metadata": {},
     "output_type": "execute_result"
    }
   ],
   "source": [
    "# Dropping the Column B & C\n",
    "new_df=new_df.drop({'Column B','Column C'}, axis=1)\n",
    "new_df.head()"
   ]
  },
  {
   "cell_type": "markdown",
   "metadata": {},
   "source": [
    "# Understanding n-grams"
   ]
  },
  {
   "cell_type": "code",
   "execution_count": 62,
   "metadata": {},
   "outputs": [
    {
     "data": {
      "application/vnd.plotly.v1+json": {
       "config": {
        "linkText": "Export to plot.ly",
        "plotlyServerURL": "https://plot.ly",
        "showLink": true
       },
       "data": [
        {
         "marker": {
          "color": "rgba(255, 153, 51, 0.6)",
          "line": {
           "color": "rgba(255, 153, 51, 1.0)",
           "width": 1
          }
         },
         "name": "count",
         "orientation": "v",
         "text": "",
         "type": "bar",
         "x": [
          "not",
          "password",
          "erp",
          "job",
          "tool",
          "issue",
          "scheduler",
          "work",
          "fail",
          "reset",
          "unable",
          "user",
          "sid",
          "from",
          "company",
          "email",
          "access",
          "error",
          "need",
          "account",
          "ticket",
          "get",
          "system",
          "use",
          "name"
         ],
         "y": [
          2297,
          1170,
          1082,
          1035,
          1021,
          1015,
          969,
          950,
          936,
          887,
          880,
          880,
          857,
          800,
          796,
          782,
          762,
          760,
          757,
          717,
          666,
          639,
          591,
          586,
          525
         ]
        }
       ],
       "layout": {
        "legend": {
         "bgcolor": "#F5F6F9",
         "font": {
          "color": "#4D5663"
         }
        },
        "paper_bgcolor": "#F5F6F9",
        "plot_bgcolor": "#F5F6F9",
        "template": {
         "data": {
          "bar": [
           {
            "error_x": {
             "color": "#2a3f5f"
            },
            "error_y": {
             "color": "#2a3f5f"
            },
            "marker": {
             "line": {
              "color": "#E5ECF6",
              "width": 0.5
             }
            },
            "type": "bar"
           }
          ],
          "barpolar": [
           {
            "marker": {
             "line": {
              "color": "#E5ECF6",
              "width": 0.5
             }
            },
            "type": "barpolar"
           }
          ],
          "carpet": [
           {
            "aaxis": {
             "endlinecolor": "#2a3f5f",
             "gridcolor": "white",
             "linecolor": "white",
             "minorgridcolor": "white",
             "startlinecolor": "#2a3f5f"
            },
            "baxis": {
             "endlinecolor": "#2a3f5f",
             "gridcolor": "white",
             "linecolor": "white",
             "minorgridcolor": "white",
             "startlinecolor": "#2a3f5f"
            },
            "type": "carpet"
           }
          ],
          "choropleth": [
           {
            "colorbar": {
             "outlinewidth": 0,
             "ticks": ""
            },
            "type": "choropleth"
           }
          ],
          "contour": [
           {
            "colorbar": {
             "outlinewidth": 0,
             "ticks": ""
            },
            "colorscale": [
             [
              0,
              "#0d0887"
             ],
             [
              0.1111111111111111,
              "#46039f"
             ],
             [
              0.2222222222222222,
              "#7201a8"
             ],
             [
              0.3333333333333333,
              "#9c179e"
             ],
             [
              0.4444444444444444,
              "#bd3786"
             ],
             [
              0.5555555555555556,
              "#d8576b"
             ],
             [
              0.6666666666666666,
              "#ed7953"
             ],
             [
              0.7777777777777778,
              "#fb9f3a"
             ],
             [
              0.8888888888888888,
              "#fdca26"
             ],
             [
              1,
              "#f0f921"
             ]
            ],
            "type": "contour"
           }
          ],
          "contourcarpet": [
           {
            "colorbar": {
             "outlinewidth": 0,
             "ticks": ""
            },
            "type": "contourcarpet"
           }
          ],
          "heatmap": [
           {
            "colorbar": {
             "outlinewidth": 0,
             "ticks": ""
            },
            "colorscale": [
             [
              0,
              "#0d0887"
             ],
             [
              0.1111111111111111,
              "#46039f"
             ],
             [
              0.2222222222222222,
              "#7201a8"
             ],
             [
              0.3333333333333333,
              "#9c179e"
             ],
             [
              0.4444444444444444,
              "#bd3786"
             ],
             [
              0.5555555555555556,
              "#d8576b"
             ],
             [
              0.6666666666666666,
              "#ed7953"
             ],
             [
              0.7777777777777778,
              "#fb9f3a"
             ],
             [
              0.8888888888888888,
              "#fdca26"
             ],
             [
              1,
              "#f0f921"
             ]
            ],
            "type": "heatmap"
           }
          ],
          "heatmapgl": [
           {
            "colorbar": {
             "outlinewidth": 0,
             "ticks": ""
            },
            "colorscale": [
             [
              0,
              "#0d0887"
             ],
             [
              0.1111111111111111,
              "#46039f"
             ],
             [
              0.2222222222222222,
              "#7201a8"
             ],
             [
              0.3333333333333333,
              "#9c179e"
             ],
             [
              0.4444444444444444,
              "#bd3786"
             ],
             [
              0.5555555555555556,
              "#d8576b"
             ],
             [
              0.6666666666666666,
              "#ed7953"
             ],
             [
              0.7777777777777778,
              "#fb9f3a"
             ],
             [
              0.8888888888888888,
              "#fdca26"
             ],
             [
              1,
              "#f0f921"
             ]
            ],
            "type": "heatmapgl"
           }
          ],
          "histogram": [
           {
            "marker": {
             "colorbar": {
              "outlinewidth": 0,
              "ticks": ""
             }
            },
            "type": "histogram"
           }
          ],
          "histogram2d": [
           {
            "colorbar": {
             "outlinewidth": 0,
             "ticks": ""
            },
            "colorscale": [
             [
              0,
              "#0d0887"
             ],
             [
              0.1111111111111111,
              "#46039f"
             ],
             [
              0.2222222222222222,
              "#7201a8"
             ],
             [
              0.3333333333333333,
              "#9c179e"
             ],
             [
              0.4444444444444444,
              "#bd3786"
             ],
             [
              0.5555555555555556,
              "#d8576b"
             ],
             [
              0.6666666666666666,
              "#ed7953"
             ],
             [
              0.7777777777777778,
              "#fb9f3a"
             ],
             [
              0.8888888888888888,
              "#fdca26"
             ],
             [
              1,
              "#f0f921"
             ]
            ],
            "type": "histogram2d"
           }
          ],
          "histogram2dcontour": [
           {
            "colorbar": {
             "outlinewidth": 0,
             "ticks": ""
            },
            "colorscale": [
             [
              0,
              "#0d0887"
             ],
             [
              0.1111111111111111,
              "#46039f"
             ],
             [
              0.2222222222222222,
              "#7201a8"
             ],
             [
              0.3333333333333333,
              "#9c179e"
             ],
             [
              0.4444444444444444,
              "#bd3786"
             ],
             [
              0.5555555555555556,
              "#d8576b"
             ],
             [
              0.6666666666666666,
              "#ed7953"
             ],
             [
              0.7777777777777778,
              "#fb9f3a"
             ],
             [
              0.8888888888888888,
              "#fdca26"
             ],
             [
              1,
              "#f0f921"
             ]
            ],
            "type": "histogram2dcontour"
           }
          ],
          "mesh3d": [
           {
            "colorbar": {
             "outlinewidth": 0,
             "ticks": ""
            },
            "type": "mesh3d"
           }
          ],
          "parcoords": [
           {
            "line": {
             "colorbar": {
              "outlinewidth": 0,
              "ticks": ""
             }
            },
            "type": "parcoords"
           }
          ],
          "pie": [
           {
            "automargin": true,
            "type": "pie"
           }
          ],
          "scatter": [
           {
            "marker": {
             "colorbar": {
              "outlinewidth": 0,
              "ticks": ""
             }
            },
            "type": "scatter"
           }
          ],
          "scatter3d": [
           {
            "line": {
             "colorbar": {
              "outlinewidth": 0,
              "ticks": ""
             }
            },
            "marker": {
             "colorbar": {
              "outlinewidth": 0,
              "ticks": ""
             }
            },
            "type": "scatter3d"
           }
          ],
          "scattercarpet": [
           {
            "marker": {
             "colorbar": {
              "outlinewidth": 0,
              "ticks": ""
             }
            },
            "type": "scattercarpet"
           }
          ],
          "scattergeo": [
           {
            "marker": {
             "colorbar": {
              "outlinewidth": 0,
              "ticks": ""
             }
            },
            "type": "scattergeo"
           }
          ],
          "scattergl": [
           {
            "marker": {
             "colorbar": {
              "outlinewidth": 0,
              "ticks": ""
             }
            },
            "type": "scattergl"
           }
          ],
          "scattermapbox": [
           {
            "marker": {
             "colorbar": {
              "outlinewidth": 0,
              "ticks": ""
             }
            },
            "type": "scattermapbox"
           }
          ],
          "scatterpolar": [
           {
            "marker": {
             "colorbar": {
              "outlinewidth": 0,
              "ticks": ""
             }
            },
            "type": "scatterpolar"
           }
          ],
          "scatterpolargl": [
           {
            "marker": {
             "colorbar": {
              "outlinewidth": 0,
              "ticks": ""
             }
            },
            "type": "scatterpolargl"
           }
          ],
          "scatterternary": [
           {
            "marker": {
             "colorbar": {
              "outlinewidth": 0,
              "ticks": ""
             }
            },
            "type": "scatterternary"
           }
          ],
          "surface": [
           {
            "colorbar": {
             "outlinewidth": 0,
             "ticks": ""
            },
            "colorscale": [
             [
              0,
              "#0d0887"
             ],
             [
              0.1111111111111111,
              "#46039f"
             ],
             [
              0.2222222222222222,
              "#7201a8"
             ],
             [
              0.3333333333333333,
              "#9c179e"
             ],
             [
              0.4444444444444444,
              "#bd3786"
             ],
             [
              0.5555555555555556,
              "#d8576b"
             ],
             [
              0.6666666666666666,
              "#ed7953"
             ],
             [
              0.7777777777777778,
              "#fb9f3a"
             ],
             [
              0.8888888888888888,
              "#fdca26"
             ],
             [
              1,
              "#f0f921"
             ]
            ],
            "type": "surface"
           }
          ],
          "table": [
           {
            "cells": {
             "fill": {
              "color": "#EBF0F8"
             },
             "line": {
              "color": "white"
             }
            },
            "header": {
             "fill": {
              "color": "#C8D4E3"
             },
             "line": {
              "color": "white"
             }
            },
            "type": "table"
           }
          ]
         },
         "layout": {
          "annotationdefaults": {
           "arrowcolor": "#2a3f5f",
           "arrowhead": 0,
           "arrowwidth": 1
          },
          "coloraxis": {
           "colorbar": {
            "outlinewidth": 0,
            "ticks": ""
           }
          },
          "colorscale": {
           "diverging": [
            [
             0,
             "#8e0152"
            ],
            [
             0.1,
             "#c51b7d"
            ],
            [
             0.2,
             "#de77ae"
            ],
            [
             0.3,
             "#f1b6da"
            ],
            [
             0.4,
             "#fde0ef"
            ],
            [
             0.5,
             "#f7f7f7"
            ],
            [
             0.6,
             "#e6f5d0"
            ],
            [
             0.7,
             "#b8e186"
            ],
            [
             0.8,
             "#7fbc41"
            ],
            [
             0.9,
             "#4d9221"
            ],
            [
             1,
             "#276419"
            ]
           ],
           "sequential": [
            [
             0,
             "#0d0887"
            ],
            [
             0.1111111111111111,
             "#46039f"
            ],
            [
             0.2222222222222222,
             "#7201a8"
            ],
            [
             0.3333333333333333,
             "#9c179e"
            ],
            [
             0.4444444444444444,
             "#bd3786"
            ],
            [
             0.5555555555555556,
             "#d8576b"
            ],
            [
             0.6666666666666666,
             "#ed7953"
            ],
            [
             0.7777777777777778,
             "#fb9f3a"
            ],
            [
             0.8888888888888888,
             "#fdca26"
            ],
            [
             1,
             "#f0f921"
            ]
           ],
           "sequentialminus": [
            [
             0,
             "#0d0887"
            ],
            [
             0.1111111111111111,
             "#46039f"
            ],
            [
             0.2222222222222222,
             "#7201a8"
            ],
            [
             0.3333333333333333,
             "#9c179e"
            ],
            [
             0.4444444444444444,
             "#bd3786"
            ],
            [
             0.5555555555555556,
             "#d8576b"
            ],
            [
             0.6666666666666666,
             "#ed7953"
            ],
            [
             0.7777777777777778,
             "#fb9f3a"
            ],
            [
             0.8888888888888888,
             "#fdca26"
            ],
            [
             1,
             "#f0f921"
            ]
           ]
          },
          "colorway": [
           "#636efa",
           "#EF553B",
           "#00cc96",
           "#ab63fa",
           "#FFA15A",
           "#19d3f3",
           "#FF6692",
           "#B6E880",
           "#FF97FF",
           "#FECB52"
          ],
          "font": {
           "color": "#2a3f5f"
          },
          "geo": {
           "bgcolor": "white",
           "lakecolor": "white",
           "landcolor": "#E5ECF6",
           "showlakes": true,
           "showland": true,
           "subunitcolor": "white"
          },
          "hoverlabel": {
           "align": "left"
          },
          "hovermode": "closest",
          "mapbox": {
           "style": "light"
          },
          "paper_bgcolor": "white",
          "plot_bgcolor": "#E5ECF6",
          "polar": {
           "angularaxis": {
            "gridcolor": "white",
            "linecolor": "white",
            "ticks": ""
           },
           "bgcolor": "#E5ECF6",
           "radialaxis": {
            "gridcolor": "white",
            "linecolor": "white",
            "ticks": ""
           }
          },
          "scene": {
           "xaxis": {
            "backgroundcolor": "#E5ECF6",
            "gridcolor": "white",
            "gridwidth": 2,
            "linecolor": "white",
            "showbackground": true,
            "ticks": "",
            "zerolinecolor": "white"
           },
           "yaxis": {
            "backgroundcolor": "#E5ECF6",
            "gridcolor": "white",
            "gridwidth": 2,
            "linecolor": "white",
            "showbackground": true,
            "ticks": "",
            "zerolinecolor": "white"
           },
           "zaxis": {
            "backgroundcolor": "#E5ECF6",
            "gridcolor": "white",
            "gridwidth": 2,
            "linecolor": "white",
            "showbackground": true,
            "ticks": "",
            "zerolinecolor": "white"
           }
          },
          "shapedefaults": {
           "line": {
            "color": "#2a3f5f"
           }
          },
          "ternary": {
           "aaxis": {
            "gridcolor": "white",
            "linecolor": "white",
            "ticks": ""
           },
           "baxis": {
            "gridcolor": "white",
            "linecolor": "white",
            "ticks": ""
           },
           "bgcolor": "#E5ECF6",
           "caxis": {
            "gridcolor": "white",
            "linecolor": "white",
            "ticks": ""
           }
          },
          "title": {
           "x": 0.05
          },
          "xaxis": {
           "automargin": true,
           "gridcolor": "white",
           "linecolor": "white",
           "ticks": "",
           "title": {
            "standoff": 15
           },
           "zerolinecolor": "white",
           "zerolinewidth": 2
          },
          "yaxis": {
           "automargin": true,
           "gridcolor": "white",
           "linecolor": "white",
           "ticks": "",
           "title": {
            "standoff": 15
           },
           "zerolinecolor": "white",
           "zerolinewidth": 2
          }
         }
        },
        "title": {
         "font": {
          "color": "#4D5663"
         },
         "text": "Top 25 Unigrams"
        },
        "xaxis": {
         "gridcolor": "#E1E5ED",
         "linecolor": "black",
         "showgrid": true,
         "tickfont": {
          "color": "#4D5663"
         },
         "title": {
          "font": {
           "color": "#4D5663"
          },
          "text": ""
         },
         "zerolinecolor": "#E1E5ED"
        },
        "yaxis": {
         "gridcolor": "#E1E5ED",
         "linecolor": "black",
         "showgrid": true,
         "tickfont": {
          "color": "#4D5663"
         },
         "title": {
          "font": {
           "color": "#4D5663"
          },
          "text": "Count"
         },
         "zerolinecolor": "#E1E5ED"
        }
       }
      },
      "text/html": [
       "<div>\n",
       "        \n",
       "        \n",
       "            <div id=\"cc753cf4-14e4-4a7b-8132-0c10c32dcfaf\" class=\"plotly-graph-div\" style=\"height:525px; width:100%;\"></div>\n",
       "            <script type=\"text/javascript\">\n",
       "                require([\"plotly\"], function(Plotly) {\n",
       "                    window.PLOTLYENV=window.PLOTLYENV || {};\n",
       "                    window.PLOTLYENV.BASE_URL='https://plot.ly';\n",
       "                    \n",
       "                if (document.getElementById(\"cc753cf4-14e4-4a7b-8132-0c10c32dcfaf\")) {\n",
       "                    Plotly.newPlot(\n",
       "                        'cc753cf4-14e4-4a7b-8132-0c10c32dcfaf',\n",
       "                        [{\"marker\": {\"color\": \"rgba(255, 153, 51, 0.6)\", \"line\": {\"color\": \"rgba(255, 153, 51, 1.0)\", \"width\": 1}}, \"name\": \"count\", \"orientation\": \"v\", \"text\": \"\", \"type\": \"bar\", \"x\": [\"not\", \"password\", \"erp\", \"job\", \"tool\", \"issue\", \"scheduler\", \"work\", \"fail\", \"reset\", \"unable\", \"user\", \"sid\", \"from\", \"company\", \"email\", \"access\", \"error\", \"need\", \"account\", \"ticket\", \"get\", \"system\", \"use\", \"name\"], \"y\": [2297, 1170, 1082, 1035, 1021, 1015, 969, 950, 936, 887, 880, 880, 857, 800, 796, 782, 762, 760, 757, 717, 666, 639, 591, 586, 525]}],\n",
       "                        {\"legend\": {\"bgcolor\": \"#F5F6F9\", \"font\": {\"color\": \"#4D5663\"}}, \"paper_bgcolor\": \"#F5F6F9\", \"plot_bgcolor\": \"#F5F6F9\", \"template\": {\"data\": {\"bar\": [{\"error_x\": {\"color\": \"#2a3f5f\"}, \"error_y\": {\"color\": \"#2a3f5f\"}, \"marker\": {\"line\": {\"color\": \"#E5ECF6\", \"width\": 0.5}}, \"type\": \"bar\"}], \"barpolar\": [{\"marker\": {\"line\": {\"color\": \"#E5ECF6\", \"width\": 0.5}}, \"type\": \"barpolar\"}], \"carpet\": [{\"aaxis\": {\"endlinecolor\": \"#2a3f5f\", \"gridcolor\": \"white\", \"linecolor\": \"white\", \"minorgridcolor\": \"white\", \"startlinecolor\": \"#2a3f5f\"}, \"baxis\": {\"endlinecolor\": \"#2a3f5f\", \"gridcolor\": \"white\", \"linecolor\": \"white\", \"minorgridcolor\": \"white\", \"startlinecolor\": \"#2a3f5f\"}, \"type\": \"carpet\"}], \"choropleth\": [{\"colorbar\": {\"outlinewidth\": 0, \"ticks\": \"\"}, \"type\": \"choropleth\"}], \"contour\": [{\"colorbar\": {\"outlinewidth\": 0, \"ticks\": \"\"}, \"colorscale\": [[0.0, \"#0d0887\"], [0.1111111111111111, \"#46039f\"], [0.2222222222222222, \"#7201a8\"], [0.3333333333333333, \"#9c179e\"], [0.4444444444444444, \"#bd3786\"], [0.5555555555555556, \"#d8576b\"], [0.6666666666666666, \"#ed7953\"], [0.7777777777777778, \"#fb9f3a\"], [0.8888888888888888, \"#fdca26\"], [1.0, \"#f0f921\"]], \"type\": \"contour\"}], \"contourcarpet\": [{\"colorbar\": {\"outlinewidth\": 0, \"ticks\": \"\"}, \"type\": \"contourcarpet\"}], \"heatmap\": [{\"colorbar\": {\"outlinewidth\": 0, \"ticks\": \"\"}, \"colorscale\": [[0.0, \"#0d0887\"], [0.1111111111111111, \"#46039f\"], [0.2222222222222222, \"#7201a8\"], [0.3333333333333333, \"#9c179e\"], [0.4444444444444444, \"#bd3786\"], [0.5555555555555556, \"#d8576b\"], [0.6666666666666666, \"#ed7953\"], [0.7777777777777778, \"#fb9f3a\"], [0.8888888888888888, \"#fdca26\"], [1.0, \"#f0f921\"]], \"type\": \"heatmap\"}], \"heatmapgl\": [{\"colorbar\": {\"outlinewidth\": 0, \"ticks\": \"\"}, \"colorscale\": [[0.0, \"#0d0887\"], [0.1111111111111111, \"#46039f\"], [0.2222222222222222, \"#7201a8\"], [0.3333333333333333, \"#9c179e\"], [0.4444444444444444, \"#bd3786\"], [0.5555555555555556, \"#d8576b\"], [0.6666666666666666, \"#ed7953\"], [0.7777777777777778, \"#fb9f3a\"], [0.8888888888888888, \"#fdca26\"], [1.0, \"#f0f921\"]], \"type\": \"heatmapgl\"}], \"histogram\": [{\"marker\": {\"colorbar\": {\"outlinewidth\": 0, \"ticks\": \"\"}}, \"type\": \"histogram\"}], \"histogram2d\": [{\"colorbar\": {\"outlinewidth\": 0, \"ticks\": \"\"}, \"colorscale\": [[0.0, \"#0d0887\"], [0.1111111111111111, \"#46039f\"], [0.2222222222222222, \"#7201a8\"], [0.3333333333333333, \"#9c179e\"], [0.4444444444444444, \"#bd3786\"], [0.5555555555555556, \"#d8576b\"], [0.6666666666666666, \"#ed7953\"], [0.7777777777777778, \"#fb9f3a\"], [0.8888888888888888, \"#fdca26\"], [1.0, \"#f0f921\"]], \"type\": \"histogram2d\"}], \"histogram2dcontour\": [{\"colorbar\": {\"outlinewidth\": 0, \"ticks\": \"\"}, \"colorscale\": [[0.0, \"#0d0887\"], [0.1111111111111111, \"#46039f\"], [0.2222222222222222, \"#7201a8\"], [0.3333333333333333, \"#9c179e\"], [0.4444444444444444, \"#bd3786\"], [0.5555555555555556, \"#d8576b\"], [0.6666666666666666, \"#ed7953\"], [0.7777777777777778, \"#fb9f3a\"], [0.8888888888888888, \"#fdca26\"], [1.0, \"#f0f921\"]], \"type\": \"histogram2dcontour\"}], \"mesh3d\": [{\"colorbar\": {\"outlinewidth\": 0, \"ticks\": \"\"}, \"type\": \"mesh3d\"}], \"parcoords\": [{\"line\": {\"colorbar\": {\"outlinewidth\": 0, \"ticks\": \"\"}}, \"type\": \"parcoords\"}], \"pie\": [{\"automargin\": true, \"type\": \"pie\"}], \"scatter\": [{\"marker\": {\"colorbar\": {\"outlinewidth\": 0, \"ticks\": \"\"}}, \"type\": \"scatter\"}], \"scatter3d\": [{\"line\": {\"colorbar\": {\"outlinewidth\": 0, \"ticks\": \"\"}}, \"marker\": {\"colorbar\": {\"outlinewidth\": 0, \"ticks\": \"\"}}, \"type\": \"scatter3d\"}], \"scattercarpet\": [{\"marker\": {\"colorbar\": {\"outlinewidth\": 0, \"ticks\": \"\"}}, \"type\": \"scattercarpet\"}], \"scattergeo\": [{\"marker\": {\"colorbar\": {\"outlinewidth\": 0, \"ticks\": \"\"}}, \"type\": \"scattergeo\"}], \"scattergl\": [{\"marker\": {\"colorbar\": {\"outlinewidth\": 0, \"ticks\": \"\"}}, \"type\": \"scattergl\"}], \"scattermapbox\": [{\"marker\": {\"colorbar\": {\"outlinewidth\": 0, \"ticks\": \"\"}}, \"type\": \"scattermapbox\"}], \"scatterpolar\": [{\"marker\": {\"colorbar\": {\"outlinewidth\": 0, \"ticks\": \"\"}}, \"type\": \"scatterpolar\"}], \"scatterpolargl\": [{\"marker\": {\"colorbar\": {\"outlinewidth\": 0, \"ticks\": \"\"}}, \"type\": \"scatterpolargl\"}], \"scatterternary\": [{\"marker\": {\"colorbar\": {\"outlinewidth\": 0, \"ticks\": \"\"}}, \"type\": \"scatterternary\"}], \"surface\": [{\"colorbar\": {\"outlinewidth\": 0, \"ticks\": \"\"}, \"colorscale\": [[0.0, \"#0d0887\"], [0.1111111111111111, \"#46039f\"], [0.2222222222222222, \"#7201a8\"], [0.3333333333333333, \"#9c179e\"], [0.4444444444444444, \"#bd3786\"], [0.5555555555555556, \"#d8576b\"], [0.6666666666666666, \"#ed7953\"], [0.7777777777777778, \"#fb9f3a\"], [0.8888888888888888, \"#fdca26\"], [1.0, \"#f0f921\"]], \"type\": \"surface\"}], \"table\": [{\"cells\": {\"fill\": {\"color\": \"#EBF0F8\"}, \"line\": {\"color\": \"white\"}}, \"header\": {\"fill\": {\"color\": \"#C8D4E3\"}, \"line\": {\"color\": \"white\"}}, \"type\": \"table\"}]}, \"layout\": {\"annotationdefaults\": {\"arrowcolor\": \"#2a3f5f\", \"arrowhead\": 0, \"arrowwidth\": 1}, \"coloraxis\": {\"colorbar\": {\"outlinewidth\": 0, \"ticks\": \"\"}}, \"colorscale\": {\"diverging\": [[0, \"#8e0152\"], [0.1, \"#c51b7d\"], [0.2, \"#de77ae\"], [0.3, \"#f1b6da\"], [0.4, \"#fde0ef\"], [0.5, \"#f7f7f7\"], [0.6, \"#e6f5d0\"], [0.7, \"#b8e186\"], [0.8, \"#7fbc41\"], [0.9, \"#4d9221\"], [1, \"#276419\"]], \"sequential\": [[0.0, \"#0d0887\"], [0.1111111111111111, \"#46039f\"], [0.2222222222222222, \"#7201a8\"], [0.3333333333333333, \"#9c179e\"], [0.4444444444444444, \"#bd3786\"], [0.5555555555555556, \"#d8576b\"], [0.6666666666666666, \"#ed7953\"], [0.7777777777777778, \"#fb9f3a\"], [0.8888888888888888, \"#fdca26\"], [1.0, \"#f0f921\"]], \"sequentialminus\": [[0.0, \"#0d0887\"], [0.1111111111111111, \"#46039f\"], [0.2222222222222222, \"#7201a8\"], [0.3333333333333333, \"#9c179e\"], [0.4444444444444444, \"#bd3786\"], [0.5555555555555556, \"#d8576b\"], [0.6666666666666666, \"#ed7953\"], [0.7777777777777778, \"#fb9f3a\"], [0.8888888888888888, \"#fdca26\"], [1.0, \"#f0f921\"]]}, \"colorway\": [\"#636efa\", \"#EF553B\", \"#00cc96\", \"#ab63fa\", \"#FFA15A\", \"#19d3f3\", \"#FF6692\", \"#B6E880\", \"#FF97FF\", \"#FECB52\"], \"font\": {\"color\": \"#2a3f5f\"}, \"geo\": {\"bgcolor\": \"white\", \"lakecolor\": \"white\", \"landcolor\": \"#E5ECF6\", \"showlakes\": true, \"showland\": true, \"subunitcolor\": \"white\"}, \"hoverlabel\": {\"align\": \"left\"}, \"hovermode\": \"closest\", \"mapbox\": {\"style\": \"light\"}, \"paper_bgcolor\": \"white\", \"plot_bgcolor\": \"#E5ECF6\", \"polar\": {\"angularaxis\": {\"gridcolor\": \"white\", \"linecolor\": \"white\", \"ticks\": \"\"}, \"bgcolor\": \"#E5ECF6\", \"radialaxis\": {\"gridcolor\": \"white\", \"linecolor\": \"white\", \"ticks\": \"\"}}, \"scene\": {\"xaxis\": {\"backgroundcolor\": \"#E5ECF6\", \"gridcolor\": \"white\", \"gridwidth\": 2, \"linecolor\": \"white\", \"showbackground\": true, \"ticks\": \"\", \"zerolinecolor\": \"white\"}, \"yaxis\": {\"backgroundcolor\": \"#E5ECF6\", \"gridcolor\": \"white\", \"gridwidth\": 2, \"linecolor\": \"white\", \"showbackground\": true, \"ticks\": \"\", \"zerolinecolor\": \"white\"}, \"zaxis\": {\"backgroundcolor\": \"#E5ECF6\", \"gridcolor\": \"white\", \"gridwidth\": 2, \"linecolor\": \"white\", \"showbackground\": true, \"ticks\": \"\", \"zerolinecolor\": \"white\"}}, \"shapedefaults\": {\"line\": {\"color\": \"#2a3f5f\"}}, \"ternary\": {\"aaxis\": {\"gridcolor\": \"white\", \"linecolor\": \"white\", \"ticks\": \"\"}, \"baxis\": {\"gridcolor\": \"white\", \"linecolor\": \"white\", \"ticks\": \"\"}, \"bgcolor\": \"#E5ECF6\", \"caxis\": {\"gridcolor\": \"white\", \"linecolor\": \"white\", \"ticks\": \"\"}}, \"title\": {\"x\": 0.05}, \"xaxis\": {\"automargin\": true, \"gridcolor\": \"white\", \"linecolor\": \"white\", \"ticks\": \"\", \"title\": {\"standoff\": 15}, \"zerolinecolor\": \"white\", \"zerolinewidth\": 2}, \"yaxis\": {\"automargin\": true, \"gridcolor\": \"white\", \"linecolor\": \"white\", \"ticks\": \"\", \"title\": {\"standoff\": 15}, \"zerolinecolor\": \"white\", \"zerolinewidth\": 2}}}, \"title\": {\"font\": {\"color\": \"#4D5663\"}, \"text\": \"Top 25 Unigrams\"}, \"xaxis\": {\"gridcolor\": \"#E1E5ED\", \"linecolor\": \"black\", \"showgrid\": true, \"tickfont\": {\"color\": \"#4D5663\"}, \"title\": {\"font\": {\"color\": \"#4D5663\"}, \"text\": \"\"}, \"zerolinecolor\": \"#E1E5ED\"}, \"yaxis\": {\"gridcolor\": \"#E1E5ED\", \"linecolor\": \"black\", \"showgrid\": true, \"tickfont\": {\"color\": \"#4D5663\"}, \"title\": {\"font\": {\"color\": \"#4D5663\"}, \"text\": \"Count\"}, \"zerolinecolor\": \"#E1E5ED\"}},\n",
       "                        {\"showLink\": true, \"linkText\": \"Export to plot.ly\", \"plotlyServerURL\": \"https://plot.ly\", \"responsive\": true}\n",
       "                    ).then(function(){\n",
       "                            \n",
       "var gd = document.getElementById('cc753cf4-14e4-4a7b-8132-0c10c32dcfaf');\n",
       "var x = new MutationObserver(function (mutations, observer) {{\n",
       "        var display = window.getComputedStyle(gd).display;\n",
       "        if (!display || display === 'none') {{\n",
       "            console.log([gd, 'removed!']);\n",
       "            Plotly.purge(gd);\n",
       "            observer.disconnect();\n",
       "        }}\n",
       "}});\n",
       "\n",
       "// Listen for the removal of the full notebook cells\n",
       "var notebookContainer = gd.closest('#notebook-container');\n",
       "if (notebookContainer) {{\n",
       "    x.observe(notebookContainer, {childList: true});\n",
       "}}\n",
       "\n",
       "// Listen for the clearing of the current output cell\n",
       "var outputEl = gd.closest('.output');\n",
       "if (outputEl) {{\n",
       "    x.observe(outputEl, {childList: true});\n",
       "}}\n",
       "\n",
       "                        })\n",
       "                };\n",
       "                });\n",
       "            </script>\n",
       "        </div>"
      ]
     },
     "metadata": {},
     "output_type": "display_data"
    }
   ],
   "source": [
    "def get_top_n_words(corpus, n=None):\n",
    "    vec = CountVectorizer().fit(corpus)\n",
    "    bag_of_words = vec.transform(corpus)\n",
    "    sum_words = bag_of_words.sum(axis=0) \n",
    "    words_freq = [(word, sum_words[0, idx]) for word, idx in vec.vocabulary_.items()]\n",
    "    words_freq =sorted(words_freq, key = lambda x: x[1], reverse=True)\n",
    "    return words_freq[:n]\n",
    "common_words = get_top_n_words(new_df['Clean Description'], 25)\n",
    "df1 = pd.DataFrame(common_words, columns = ['Clean Description' , 'count'])\n",
    "df1.groupby('Clean Description').sum()['count'].sort_values(ascending=False).iplot(\n",
    "    kind='bar', yTitle='Count', linecolor='black',title='Top 25 Unigrams')"
   ]
  },
  {
   "cell_type": "code",
   "execution_count": 63,
   "metadata": {},
   "outputs": [
    {
     "data": {
      "application/vnd.plotly.v1+json": {
       "config": {
        "linkText": "Export to plot.ly",
        "plotlyServerURL": "https://plot.ly",
        "showLink": true
       },
       "data": [
        {
         "marker": {
          "color": "rgba(255, 153, 51, 0.6)",
          "line": {
           "color": "rgba(255, 153, 51, 1.0)",
           "width": 1
          }
         },
         "name": "count",
         "orientation": "v",
         "text": "",
         "type": "bar",
         "x": [
          "fail scheduler",
          "scheduler from",
          "job fail",
          "not work",
          "password reset",
          "erp sid",
          "account lock",
          "management tool",
          "engineering tool",
          "reset password",
          "collaboration platform",
          "internet explorer",
          "error message",
          "email customer",
          "language browser",
          "telephone summary",
          "browser microsoft",
          "customer number",
          "explorer email",
          "microsoft internet",
          "password management",
          "number telephone",
          "job scheduler",
          "ticket update",
          "phone email"
         ],
         "y": [
          809,
          780,
          477,
          414,
          354,
          297,
          231,
          211,
          204,
          189,
          186,
          184,
          184,
          168,
          167,
          167,
          167,
          167,
          166,
          166,
          164,
          158,
          157,
          154,
          148
         ]
        }
       ],
       "layout": {
        "legend": {
         "bgcolor": "#F5F6F9",
         "font": {
          "color": "#4D5663"
         }
        },
        "paper_bgcolor": "#F5F6F9",
        "plot_bgcolor": "#F5F6F9",
        "template": {
         "data": {
          "bar": [
           {
            "error_x": {
             "color": "#2a3f5f"
            },
            "error_y": {
             "color": "#2a3f5f"
            },
            "marker": {
             "line": {
              "color": "#E5ECF6",
              "width": 0.5
             }
            },
            "type": "bar"
           }
          ],
          "barpolar": [
           {
            "marker": {
             "line": {
              "color": "#E5ECF6",
              "width": 0.5
             }
            },
            "type": "barpolar"
           }
          ],
          "carpet": [
           {
            "aaxis": {
             "endlinecolor": "#2a3f5f",
             "gridcolor": "white",
             "linecolor": "white",
             "minorgridcolor": "white",
             "startlinecolor": "#2a3f5f"
            },
            "baxis": {
             "endlinecolor": "#2a3f5f",
             "gridcolor": "white",
             "linecolor": "white",
             "minorgridcolor": "white",
             "startlinecolor": "#2a3f5f"
            },
            "type": "carpet"
           }
          ],
          "choropleth": [
           {
            "colorbar": {
             "outlinewidth": 0,
             "ticks": ""
            },
            "type": "choropleth"
           }
          ],
          "contour": [
           {
            "colorbar": {
             "outlinewidth": 0,
             "ticks": ""
            },
            "colorscale": [
             [
              0,
              "#0d0887"
             ],
             [
              0.1111111111111111,
              "#46039f"
             ],
             [
              0.2222222222222222,
              "#7201a8"
             ],
             [
              0.3333333333333333,
              "#9c179e"
             ],
             [
              0.4444444444444444,
              "#bd3786"
             ],
             [
              0.5555555555555556,
              "#d8576b"
             ],
             [
              0.6666666666666666,
              "#ed7953"
             ],
             [
              0.7777777777777778,
              "#fb9f3a"
             ],
             [
              0.8888888888888888,
              "#fdca26"
             ],
             [
              1,
              "#f0f921"
             ]
            ],
            "type": "contour"
           }
          ],
          "contourcarpet": [
           {
            "colorbar": {
             "outlinewidth": 0,
             "ticks": ""
            },
            "type": "contourcarpet"
           }
          ],
          "heatmap": [
           {
            "colorbar": {
             "outlinewidth": 0,
             "ticks": ""
            },
            "colorscale": [
             [
              0,
              "#0d0887"
             ],
             [
              0.1111111111111111,
              "#46039f"
             ],
             [
              0.2222222222222222,
              "#7201a8"
             ],
             [
              0.3333333333333333,
              "#9c179e"
             ],
             [
              0.4444444444444444,
              "#bd3786"
             ],
             [
              0.5555555555555556,
              "#d8576b"
             ],
             [
              0.6666666666666666,
              "#ed7953"
             ],
             [
              0.7777777777777778,
              "#fb9f3a"
             ],
             [
              0.8888888888888888,
              "#fdca26"
             ],
             [
              1,
              "#f0f921"
             ]
            ],
            "type": "heatmap"
           }
          ],
          "heatmapgl": [
           {
            "colorbar": {
             "outlinewidth": 0,
             "ticks": ""
            },
            "colorscale": [
             [
              0,
              "#0d0887"
             ],
             [
              0.1111111111111111,
              "#46039f"
             ],
             [
              0.2222222222222222,
              "#7201a8"
             ],
             [
              0.3333333333333333,
              "#9c179e"
             ],
             [
              0.4444444444444444,
              "#bd3786"
             ],
             [
              0.5555555555555556,
              "#d8576b"
             ],
             [
              0.6666666666666666,
              "#ed7953"
             ],
             [
              0.7777777777777778,
              "#fb9f3a"
             ],
             [
              0.8888888888888888,
              "#fdca26"
             ],
             [
              1,
              "#f0f921"
             ]
            ],
            "type": "heatmapgl"
           }
          ],
          "histogram": [
           {
            "marker": {
             "colorbar": {
              "outlinewidth": 0,
              "ticks": ""
             }
            },
            "type": "histogram"
           }
          ],
          "histogram2d": [
           {
            "colorbar": {
             "outlinewidth": 0,
             "ticks": ""
            },
            "colorscale": [
             [
              0,
              "#0d0887"
             ],
             [
              0.1111111111111111,
              "#46039f"
             ],
             [
              0.2222222222222222,
              "#7201a8"
             ],
             [
              0.3333333333333333,
              "#9c179e"
             ],
             [
              0.4444444444444444,
              "#bd3786"
             ],
             [
              0.5555555555555556,
              "#d8576b"
             ],
             [
              0.6666666666666666,
              "#ed7953"
             ],
             [
              0.7777777777777778,
              "#fb9f3a"
             ],
             [
              0.8888888888888888,
              "#fdca26"
             ],
             [
              1,
              "#f0f921"
             ]
            ],
            "type": "histogram2d"
           }
          ],
          "histogram2dcontour": [
           {
            "colorbar": {
             "outlinewidth": 0,
             "ticks": ""
            },
            "colorscale": [
             [
              0,
              "#0d0887"
             ],
             [
              0.1111111111111111,
              "#46039f"
             ],
             [
              0.2222222222222222,
              "#7201a8"
             ],
             [
              0.3333333333333333,
              "#9c179e"
             ],
             [
              0.4444444444444444,
              "#bd3786"
             ],
             [
              0.5555555555555556,
              "#d8576b"
             ],
             [
              0.6666666666666666,
              "#ed7953"
             ],
             [
              0.7777777777777778,
              "#fb9f3a"
             ],
             [
              0.8888888888888888,
              "#fdca26"
             ],
             [
              1,
              "#f0f921"
             ]
            ],
            "type": "histogram2dcontour"
           }
          ],
          "mesh3d": [
           {
            "colorbar": {
             "outlinewidth": 0,
             "ticks": ""
            },
            "type": "mesh3d"
           }
          ],
          "parcoords": [
           {
            "line": {
             "colorbar": {
              "outlinewidth": 0,
              "ticks": ""
             }
            },
            "type": "parcoords"
           }
          ],
          "pie": [
           {
            "automargin": true,
            "type": "pie"
           }
          ],
          "scatter": [
           {
            "marker": {
             "colorbar": {
              "outlinewidth": 0,
              "ticks": ""
             }
            },
            "type": "scatter"
           }
          ],
          "scatter3d": [
           {
            "line": {
             "colorbar": {
              "outlinewidth": 0,
              "ticks": ""
             }
            },
            "marker": {
             "colorbar": {
              "outlinewidth": 0,
              "ticks": ""
             }
            },
            "type": "scatter3d"
           }
          ],
          "scattercarpet": [
           {
            "marker": {
             "colorbar": {
              "outlinewidth": 0,
              "ticks": ""
             }
            },
            "type": "scattercarpet"
           }
          ],
          "scattergeo": [
           {
            "marker": {
             "colorbar": {
              "outlinewidth": 0,
              "ticks": ""
             }
            },
            "type": "scattergeo"
           }
          ],
          "scattergl": [
           {
            "marker": {
             "colorbar": {
              "outlinewidth": 0,
              "ticks": ""
             }
            },
            "type": "scattergl"
           }
          ],
          "scattermapbox": [
           {
            "marker": {
             "colorbar": {
              "outlinewidth": 0,
              "ticks": ""
             }
            },
            "type": "scattermapbox"
           }
          ],
          "scatterpolar": [
           {
            "marker": {
             "colorbar": {
              "outlinewidth": 0,
              "ticks": ""
             }
            },
            "type": "scatterpolar"
           }
          ],
          "scatterpolargl": [
           {
            "marker": {
             "colorbar": {
              "outlinewidth": 0,
              "ticks": ""
             }
            },
            "type": "scatterpolargl"
           }
          ],
          "scatterternary": [
           {
            "marker": {
             "colorbar": {
              "outlinewidth": 0,
              "ticks": ""
             }
            },
            "type": "scatterternary"
           }
          ],
          "surface": [
           {
            "colorbar": {
             "outlinewidth": 0,
             "ticks": ""
            },
            "colorscale": [
             [
              0,
              "#0d0887"
             ],
             [
              0.1111111111111111,
              "#46039f"
             ],
             [
              0.2222222222222222,
              "#7201a8"
             ],
             [
              0.3333333333333333,
              "#9c179e"
             ],
             [
              0.4444444444444444,
              "#bd3786"
             ],
             [
              0.5555555555555556,
              "#d8576b"
             ],
             [
              0.6666666666666666,
              "#ed7953"
             ],
             [
              0.7777777777777778,
              "#fb9f3a"
             ],
             [
              0.8888888888888888,
              "#fdca26"
             ],
             [
              1,
              "#f0f921"
             ]
            ],
            "type": "surface"
           }
          ],
          "table": [
           {
            "cells": {
             "fill": {
              "color": "#EBF0F8"
             },
             "line": {
              "color": "white"
             }
            },
            "header": {
             "fill": {
              "color": "#C8D4E3"
             },
             "line": {
              "color": "white"
             }
            },
            "type": "table"
           }
          ]
         },
         "layout": {
          "annotationdefaults": {
           "arrowcolor": "#2a3f5f",
           "arrowhead": 0,
           "arrowwidth": 1
          },
          "coloraxis": {
           "colorbar": {
            "outlinewidth": 0,
            "ticks": ""
           }
          },
          "colorscale": {
           "diverging": [
            [
             0,
             "#8e0152"
            ],
            [
             0.1,
             "#c51b7d"
            ],
            [
             0.2,
             "#de77ae"
            ],
            [
             0.3,
             "#f1b6da"
            ],
            [
             0.4,
             "#fde0ef"
            ],
            [
             0.5,
             "#f7f7f7"
            ],
            [
             0.6,
             "#e6f5d0"
            ],
            [
             0.7,
             "#b8e186"
            ],
            [
             0.8,
             "#7fbc41"
            ],
            [
             0.9,
             "#4d9221"
            ],
            [
             1,
             "#276419"
            ]
           ],
           "sequential": [
            [
             0,
             "#0d0887"
            ],
            [
             0.1111111111111111,
             "#46039f"
            ],
            [
             0.2222222222222222,
             "#7201a8"
            ],
            [
             0.3333333333333333,
             "#9c179e"
            ],
            [
             0.4444444444444444,
             "#bd3786"
            ],
            [
             0.5555555555555556,
             "#d8576b"
            ],
            [
             0.6666666666666666,
             "#ed7953"
            ],
            [
             0.7777777777777778,
             "#fb9f3a"
            ],
            [
             0.8888888888888888,
             "#fdca26"
            ],
            [
             1,
             "#f0f921"
            ]
           ],
           "sequentialminus": [
            [
             0,
             "#0d0887"
            ],
            [
             0.1111111111111111,
             "#46039f"
            ],
            [
             0.2222222222222222,
             "#7201a8"
            ],
            [
             0.3333333333333333,
             "#9c179e"
            ],
            [
             0.4444444444444444,
             "#bd3786"
            ],
            [
             0.5555555555555556,
             "#d8576b"
            ],
            [
             0.6666666666666666,
             "#ed7953"
            ],
            [
             0.7777777777777778,
             "#fb9f3a"
            ],
            [
             0.8888888888888888,
             "#fdca26"
            ],
            [
             1,
             "#f0f921"
            ]
           ]
          },
          "colorway": [
           "#636efa",
           "#EF553B",
           "#00cc96",
           "#ab63fa",
           "#FFA15A",
           "#19d3f3",
           "#FF6692",
           "#B6E880",
           "#FF97FF",
           "#FECB52"
          ],
          "font": {
           "color": "#2a3f5f"
          },
          "geo": {
           "bgcolor": "white",
           "lakecolor": "white",
           "landcolor": "#E5ECF6",
           "showlakes": true,
           "showland": true,
           "subunitcolor": "white"
          },
          "hoverlabel": {
           "align": "left"
          },
          "hovermode": "closest",
          "mapbox": {
           "style": "light"
          },
          "paper_bgcolor": "white",
          "plot_bgcolor": "#E5ECF6",
          "polar": {
           "angularaxis": {
            "gridcolor": "white",
            "linecolor": "white",
            "ticks": ""
           },
           "bgcolor": "#E5ECF6",
           "radialaxis": {
            "gridcolor": "white",
            "linecolor": "white",
            "ticks": ""
           }
          },
          "scene": {
           "xaxis": {
            "backgroundcolor": "#E5ECF6",
            "gridcolor": "white",
            "gridwidth": 2,
            "linecolor": "white",
            "showbackground": true,
            "ticks": "",
            "zerolinecolor": "white"
           },
           "yaxis": {
            "backgroundcolor": "#E5ECF6",
            "gridcolor": "white",
            "gridwidth": 2,
            "linecolor": "white",
            "showbackground": true,
            "ticks": "",
            "zerolinecolor": "white"
           },
           "zaxis": {
            "backgroundcolor": "#E5ECF6",
            "gridcolor": "white",
            "gridwidth": 2,
            "linecolor": "white",
            "showbackground": true,
            "ticks": "",
            "zerolinecolor": "white"
           }
          },
          "shapedefaults": {
           "line": {
            "color": "#2a3f5f"
           }
          },
          "ternary": {
           "aaxis": {
            "gridcolor": "white",
            "linecolor": "white",
            "ticks": ""
           },
           "baxis": {
            "gridcolor": "white",
            "linecolor": "white",
            "ticks": ""
           },
           "bgcolor": "#E5ECF6",
           "caxis": {
            "gridcolor": "white",
            "linecolor": "white",
            "ticks": ""
           }
          },
          "title": {
           "x": 0.05
          },
          "xaxis": {
           "automargin": true,
           "gridcolor": "white",
           "linecolor": "white",
           "ticks": "",
           "title": {
            "standoff": 15
           },
           "zerolinecolor": "white",
           "zerolinewidth": 2
          },
          "yaxis": {
           "automargin": true,
           "gridcolor": "white",
           "linecolor": "white",
           "ticks": "",
           "title": {
            "standoff": 15
           },
           "zerolinecolor": "white",
           "zerolinewidth": 2
          }
         }
        },
        "title": {
         "font": {
          "color": "#4D5663"
         },
         "text": "Top 25 bigrams"
        },
        "xaxis": {
         "gridcolor": "#E1E5ED",
         "linecolor": "black",
         "showgrid": true,
         "tickfont": {
          "color": "#4D5663"
         },
         "title": {
          "font": {
           "color": "#4D5663"
          },
          "text": ""
         },
         "zerolinecolor": "#E1E5ED"
        },
        "yaxis": {
         "gridcolor": "#E1E5ED",
         "linecolor": "black",
         "showgrid": true,
         "tickfont": {
          "color": "#4D5663"
         },
         "title": {
          "font": {
           "color": "#4D5663"
          },
          "text": "Count"
         },
         "zerolinecolor": "#E1E5ED"
        }
       }
      },
      "text/html": [
       "<div>\n",
       "        \n",
       "        \n",
       "            <div id=\"bb6ce93f-ca18-420e-b673-4541413d43bb\" class=\"plotly-graph-div\" style=\"height:525px; width:100%;\"></div>\n",
       "            <script type=\"text/javascript\">\n",
       "                require([\"plotly\"], function(Plotly) {\n",
       "                    window.PLOTLYENV=window.PLOTLYENV || {};\n",
       "                    window.PLOTLYENV.BASE_URL='https://plot.ly';\n",
       "                    \n",
       "                if (document.getElementById(\"bb6ce93f-ca18-420e-b673-4541413d43bb\")) {\n",
       "                    Plotly.newPlot(\n",
       "                        'bb6ce93f-ca18-420e-b673-4541413d43bb',\n",
       "                        [{\"marker\": {\"color\": \"rgba(255, 153, 51, 0.6)\", \"line\": {\"color\": \"rgba(255, 153, 51, 1.0)\", \"width\": 1}}, \"name\": \"count\", \"orientation\": \"v\", \"text\": \"\", \"type\": \"bar\", \"x\": [\"fail scheduler\", \"scheduler from\", \"job fail\", \"not work\", \"password reset\", \"erp sid\", \"account lock\", \"management tool\", \"engineering tool\", \"reset password\", \"collaboration platform\", \"internet explorer\", \"error message\", \"email customer\", \"language browser\", \"telephone summary\", \"browser microsoft\", \"customer number\", \"explorer email\", \"microsoft internet\", \"password management\", \"number telephone\", \"job scheduler\", \"ticket update\", \"phone email\"], \"y\": [809, 780, 477, 414, 354, 297, 231, 211, 204, 189, 186, 184, 184, 168, 167, 167, 167, 167, 166, 166, 164, 158, 157, 154, 148]}],\n",
       "                        {\"legend\": {\"bgcolor\": \"#F5F6F9\", \"font\": {\"color\": \"#4D5663\"}}, \"paper_bgcolor\": \"#F5F6F9\", \"plot_bgcolor\": \"#F5F6F9\", \"template\": {\"data\": {\"bar\": [{\"error_x\": {\"color\": \"#2a3f5f\"}, \"error_y\": {\"color\": \"#2a3f5f\"}, \"marker\": {\"line\": {\"color\": \"#E5ECF6\", \"width\": 0.5}}, \"type\": \"bar\"}], \"barpolar\": [{\"marker\": {\"line\": {\"color\": \"#E5ECF6\", \"width\": 0.5}}, \"type\": \"barpolar\"}], \"carpet\": [{\"aaxis\": {\"endlinecolor\": \"#2a3f5f\", \"gridcolor\": \"white\", \"linecolor\": \"white\", \"minorgridcolor\": \"white\", \"startlinecolor\": \"#2a3f5f\"}, \"baxis\": {\"endlinecolor\": \"#2a3f5f\", \"gridcolor\": \"white\", \"linecolor\": \"white\", \"minorgridcolor\": \"white\", \"startlinecolor\": \"#2a3f5f\"}, \"type\": \"carpet\"}], \"choropleth\": [{\"colorbar\": {\"outlinewidth\": 0, \"ticks\": \"\"}, \"type\": \"choropleth\"}], \"contour\": [{\"colorbar\": {\"outlinewidth\": 0, \"ticks\": \"\"}, \"colorscale\": [[0.0, \"#0d0887\"], [0.1111111111111111, \"#46039f\"], [0.2222222222222222, \"#7201a8\"], [0.3333333333333333, \"#9c179e\"], [0.4444444444444444, \"#bd3786\"], [0.5555555555555556, \"#d8576b\"], [0.6666666666666666, \"#ed7953\"], [0.7777777777777778, \"#fb9f3a\"], [0.8888888888888888, \"#fdca26\"], [1.0, \"#f0f921\"]], \"type\": \"contour\"}], \"contourcarpet\": [{\"colorbar\": {\"outlinewidth\": 0, \"ticks\": \"\"}, \"type\": \"contourcarpet\"}], \"heatmap\": [{\"colorbar\": {\"outlinewidth\": 0, \"ticks\": \"\"}, \"colorscale\": [[0.0, \"#0d0887\"], [0.1111111111111111, \"#46039f\"], [0.2222222222222222, \"#7201a8\"], [0.3333333333333333, \"#9c179e\"], [0.4444444444444444, \"#bd3786\"], [0.5555555555555556, \"#d8576b\"], [0.6666666666666666, \"#ed7953\"], [0.7777777777777778, \"#fb9f3a\"], [0.8888888888888888, \"#fdca26\"], [1.0, \"#f0f921\"]], \"type\": \"heatmap\"}], \"heatmapgl\": [{\"colorbar\": {\"outlinewidth\": 0, \"ticks\": \"\"}, \"colorscale\": [[0.0, \"#0d0887\"], [0.1111111111111111, \"#46039f\"], [0.2222222222222222, \"#7201a8\"], [0.3333333333333333, \"#9c179e\"], [0.4444444444444444, \"#bd3786\"], [0.5555555555555556, \"#d8576b\"], [0.6666666666666666, \"#ed7953\"], [0.7777777777777778, \"#fb9f3a\"], [0.8888888888888888, \"#fdca26\"], [1.0, \"#f0f921\"]], \"type\": \"heatmapgl\"}], \"histogram\": [{\"marker\": {\"colorbar\": {\"outlinewidth\": 0, \"ticks\": \"\"}}, \"type\": \"histogram\"}], \"histogram2d\": [{\"colorbar\": {\"outlinewidth\": 0, \"ticks\": \"\"}, \"colorscale\": [[0.0, \"#0d0887\"], [0.1111111111111111, \"#46039f\"], [0.2222222222222222, \"#7201a8\"], [0.3333333333333333, \"#9c179e\"], [0.4444444444444444, \"#bd3786\"], [0.5555555555555556, \"#d8576b\"], [0.6666666666666666, \"#ed7953\"], [0.7777777777777778, \"#fb9f3a\"], [0.8888888888888888, \"#fdca26\"], [1.0, \"#f0f921\"]], \"type\": \"histogram2d\"}], \"histogram2dcontour\": [{\"colorbar\": {\"outlinewidth\": 0, \"ticks\": \"\"}, \"colorscale\": [[0.0, \"#0d0887\"], [0.1111111111111111, \"#46039f\"], [0.2222222222222222, \"#7201a8\"], [0.3333333333333333, \"#9c179e\"], [0.4444444444444444, \"#bd3786\"], [0.5555555555555556, \"#d8576b\"], [0.6666666666666666, \"#ed7953\"], [0.7777777777777778, \"#fb9f3a\"], [0.8888888888888888, \"#fdca26\"], [1.0, \"#f0f921\"]], \"type\": \"histogram2dcontour\"}], \"mesh3d\": [{\"colorbar\": {\"outlinewidth\": 0, \"ticks\": \"\"}, \"type\": \"mesh3d\"}], \"parcoords\": [{\"line\": {\"colorbar\": {\"outlinewidth\": 0, \"ticks\": \"\"}}, \"type\": \"parcoords\"}], \"pie\": [{\"automargin\": true, \"type\": \"pie\"}], \"scatter\": [{\"marker\": {\"colorbar\": {\"outlinewidth\": 0, \"ticks\": \"\"}}, \"type\": \"scatter\"}], \"scatter3d\": [{\"line\": {\"colorbar\": {\"outlinewidth\": 0, \"ticks\": \"\"}}, \"marker\": {\"colorbar\": {\"outlinewidth\": 0, \"ticks\": \"\"}}, \"type\": \"scatter3d\"}], \"scattercarpet\": [{\"marker\": {\"colorbar\": {\"outlinewidth\": 0, \"ticks\": \"\"}}, \"type\": \"scattercarpet\"}], \"scattergeo\": [{\"marker\": {\"colorbar\": {\"outlinewidth\": 0, \"ticks\": \"\"}}, \"type\": \"scattergeo\"}], \"scattergl\": [{\"marker\": {\"colorbar\": {\"outlinewidth\": 0, \"ticks\": \"\"}}, \"type\": \"scattergl\"}], \"scattermapbox\": [{\"marker\": {\"colorbar\": {\"outlinewidth\": 0, \"ticks\": \"\"}}, \"type\": \"scattermapbox\"}], \"scatterpolar\": [{\"marker\": {\"colorbar\": {\"outlinewidth\": 0, \"ticks\": \"\"}}, \"type\": \"scatterpolar\"}], \"scatterpolargl\": [{\"marker\": {\"colorbar\": {\"outlinewidth\": 0, \"ticks\": \"\"}}, \"type\": \"scatterpolargl\"}], \"scatterternary\": [{\"marker\": {\"colorbar\": {\"outlinewidth\": 0, \"ticks\": \"\"}}, \"type\": \"scatterternary\"}], \"surface\": [{\"colorbar\": {\"outlinewidth\": 0, \"ticks\": \"\"}, \"colorscale\": [[0.0, \"#0d0887\"], [0.1111111111111111, \"#46039f\"], [0.2222222222222222, \"#7201a8\"], [0.3333333333333333, \"#9c179e\"], [0.4444444444444444, \"#bd3786\"], [0.5555555555555556, \"#d8576b\"], [0.6666666666666666, \"#ed7953\"], [0.7777777777777778, \"#fb9f3a\"], [0.8888888888888888, \"#fdca26\"], [1.0, \"#f0f921\"]], \"type\": \"surface\"}], \"table\": [{\"cells\": {\"fill\": {\"color\": \"#EBF0F8\"}, \"line\": {\"color\": \"white\"}}, \"header\": {\"fill\": {\"color\": \"#C8D4E3\"}, \"line\": {\"color\": \"white\"}}, \"type\": \"table\"}]}, \"layout\": {\"annotationdefaults\": {\"arrowcolor\": \"#2a3f5f\", \"arrowhead\": 0, \"arrowwidth\": 1}, \"coloraxis\": {\"colorbar\": {\"outlinewidth\": 0, \"ticks\": \"\"}}, \"colorscale\": {\"diverging\": [[0, \"#8e0152\"], [0.1, \"#c51b7d\"], [0.2, \"#de77ae\"], [0.3, \"#f1b6da\"], [0.4, \"#fde0ef\"], [0.5, \"#f7f7f7\"], [0.6, \"#e6f5d0\"], [0.7, \"#b8e186\"], [0.8, \"#7fbc41\"], [0.9, \"#4d9221\"], [1, \"#276419\"]], \"sequential\": [[0.0, \"#0d0887\"], [0.1111111111111111, \"#46039f\"], [0.2222222222222222, \"#7201a8\"], [0.3333333333333333, \"#9c179e\"], [0.4444444444444444, \"#bd3786\"], [0.5555555555555556, \"#d8576b\"], [0.6666666666666666, \"#ed7953\"], [0.7777777777777778, \"#fb9f3a\"], [0.8888888888888888, \"#fdca26\"], [1.0, \"#f0f921\"]], \"sequentialminus\": [[0.0, \"#0d0887\"], [0.1111111111111111, \"#46039f\"], [0.2222222222222222, \"#7201a8\"], [0.3333333333333333, \"#9c179e\"], [0.4444444444444444, \"#bd3786\"], [0.5555555555555556, \"#d8576b\"], [0.6666666666666666, \"#ed7953\"], [0.7777777777777778, \"#fb9f3a\"], [0.8888888888888888, \"#fdca26\"], [1.0, \"#f0f921\"]]}, \"colorway\": [\"#636efa\", \"#EF553B\", \"#00cc96\", \"#ab63fa\", \"#FFA15A\", \"#19d3f3\", \"#FF6692\", \"#B6E880\", \"#FF97FF\", \"#FECB52\"], \"font\": {\"color\": \"#2a3f5f\"}, \"geo\": {\"bgcolor\": \"white\", \"lakecolor\": \"white\", \"landcolor\": \"#E5ECF6\", \"showlakes\": true, \"showland\": true, \"subunitcolor\": \"white\"}, \"hoverlabel\": {\"align\": \"left\"}, \"hovermode\": \"closest\", \"mapbox\": {\"style\": \"light\"}, \"paper_bgcolor\": \"white\", \"plot_bgcolor\": \"#E5ECF6\", \"polar\": {\"angularaxis\": {\"gridcolor\": \"white\", \"linecolor\": \"white\", \"ticks\": \"\"}, \"bgcolor\": \"#E5ECF6\", \"radialaxis\": {\"gridcolor\": \"white\", \"linecolor\": \"white\", \"ticks\": \"\"}}, \"scene\": {\"xaxis\": {\"backgroundcolor\": \"#E5ECF6\", \"gridcolor\": \"white\", \"gridwidth\": 2, \"linecolor\": \"white\", \"showbackground\": true, \"ticks\": \"\", \"zerolinecolor\": \"white\"}, \"yaxis\": {\"backgroundcolor\": \"#E5ECF6\", \"gridcolor\": \"white\", \"gridwidth\": 2, \"linecolor\": \"white\", \"showbackground\": true, \"ticks\": \"\", \"zerolinecolor\": \"white\"}, \"zaxis\": {\"backgroundcolor\": \"#E5ECF6\", \"gridcolor\": \"white\", \"gridwidth\": 2, \"linecolor\": \"white\", \"showbackground\": true, \"ticks\": \"\", \"zerolinecolor\": \"white\"}}, \"shapedefaults\": {\"line\": {\"color\": \"#2a3f5f\"}}, \"ternary\": {\"aaxis\": {\"gridcolor\": \"white\", \"linecolor\": \"white\", \"ticks\": \"\"}, \"baxis\": {\"gridcolor\": \"white\", \"linecolor\": \"white\", \"ticks\": \"\"}, \"bgcolor\": \"#E5ECF6\", \"caxis\": {\"gridcolor\": \"white\", \"linecolor\": \"white\", \"ticks\": \"\"}}, \"title\": {\"x\": 0.05}, \"xaxis\": {\"automargin\": true, \"gridcolor\": \"white\", \"linecolor\": \"white\", \"ticks\": \"\", \"title\": {\"standoff\": 15}, \"zerolinecolor\": \"white\", \"zerolinewidth\": 2}, \"yaxis\": {\"automargin\": true, \"gridcolor\": \"white\", \"linecolor\": \"white\", \"ticks\": \"\", \"title\": {\"standoff\": 15}, \"zerolinecolor\": \"white\", \"zerolinewidth\": 2}}}, \"title\": {\"font\": {\"color\": \"#4D5663\"}, \"text\": \"Top 25 bigrams\"}, \"xaxis\": {\"gridcolor\": \"#E1E5ED\", \"linecolor\": \"black\", \"showgrid\": true, \"tickfont\": {\"color\": \"#4D5663\"}, \"title\": {\"font\": {\"color\": \"#4D5663\"}, \"text\": \"\"}, \"zerolinecolor\": \"#E1E5ED\"}, \"yaxis\": {\"gridcolor\": \"#E1E5ED\", \"linecolor\": \"black\", \"showgrid\": true, \"tickfont\": {\"color\": \"#4D5663\"}, \"title\": {\"font\": {\"color\": \"#4D5663\"}, \"text\": \"Count\"}, \"zerolinecolor\": \"#E1E5ED\"}},\n",
       "                        {\"showLink\": true, \"linkText\": \"Export to plot.ly\", \"plotlyServerURL\": \"https://plot.ly\", \"responsive\": true}\n",
       "                    ).then(function(){\n",
       "                            \n",
       "var gd = document.getElementById('bb6ce93f-ca18-420e-b673-4541413d43bb');\n",
       "var x = new MutationObserver(function (mutations, observer) {{\n",
       "        var display = window.getComputedStyle(gd).display;\n",
       "        if (!display || display === 'none') {{\n",
       "            console.log([gd, 'removed!']);\n",
       "            Plotly.purge(gd);\n",
       "            observer.disconnect();\n",
       "        }}\n",
       "}});\n",
       "\n",
       "// Listen for the removal of the full notebook cells\n",
       "var notebookContainer = gd.closest('#notebook-container');\n",
       "if (notebookContainer) {{\n",
       "    x.observe(notebookContainer, {childList: true});\n",
       "}}\n",
       "\n",
       "// Listen for the clearing of the current output cell\n",
       "var outputEl = gd.closest('.output');\n",
       "if (outputEl) {{\n",
       "    x.observe(outputEl, {childList: true});\n",
       "}}\n",
       "\n",
       "                        })\n",
       "                };\n",
       "                });\n",
       "            </script>\n",
       "        </div>"
      ]
     },
     "metadata": {},
     "output_type": "display_data"
    }
   ],
   "source": [
    "def get_top_n_bigram(corpus, n=None):\n",
    "    vec = CountVectorizer(ngram_range=(2, 2)).fit(corpus)\n",
    "    bag_of_words = vec.transform(corpus)\n",
    "    sum_words = bag_of_words.sum(axis=0) \n",
    "    words_freq = [(word, sum_words[0, idx]) for word, idx in vec.vocabulary_.items()]\n",
    "    words_freq =sorted(words_freq, key = lambda x: x[1], reverse=True)\n",
    "    return words_freq[:n]\n",
    "common_words = get_top_n_bigram(new_df['Clean Description'], 25)\n",
    "df2 = pd.DataFrame(common_words, columns = ['Clean Description' , 'count'])\n",
    "df2.groupby('Clean Description').sum()['count'].sort_values(ascending=False).iplot(\n",
    "    kind='bar', yTitle='Count', linecolor='black', title='Top 25 bigrams')\n"
   ]
  },
  {
   "cell_type": "code",
   "execution_count": 64,
   "metadata": {},
   "outputs": [
    {
     "data": {
      "application/vnd.plotly.v1+json": {
       "config": {
        "linkText": "Export to plot.ly",
        "plotlyServerURL": "https://plot.ly",
        "showLink": true
       },
       "data": [
        {
         "marker": {
          "color": "rgba(255, 153, 51, 0.6)",
          "line": {
           "color": "rgba(255, 153, 51, 1.0)",
           "width": 1
          }
         },
         "name": "count",
         "orientation": "v",
         "text": "",
         "type": "bar",
         "x": [
          "fail scheduler from",
          "job fail scheduler",
          "browser microsoft internet",
          "microsoft internet explorer",
          "internet explorer email",
          "language browser microsoft",
          "email customer number",
          "explorer email customer",
          "password management tool",
          "customer number telephone",
          "number telephone summary",
          "abended job scheduler",
          "notify phone email",
          "equipment reset verify",
          "remote dial equipment",
          "dial equipment reset",
          "contact notify phone",
          "specify top cert",
          "start additional diagnostic",
          "gsc start additional",
          "phone email remote",
          "provider maint ticket",
          "email remote dial",
          "reset verify work",
          "start schedule maintenance"
         ],
         "y": [
          780,
          471,
          166,
          166,
          165,
          164,
          163,
          162,
          158,
          157,
          154,
          147,
          143,
          143,
          143,
          143,
          143,
          143,
          142,
          142,
          141,
          141,
          141,
          141,
          141
         ]
        }
       ],
       "layout": {
        "legend": {
         "bgcolor": "#F5F6F9",
         "font": {
          "color": "#4D5663"
         }
        },
        "paper_bgcolor": "#F5F6F9",
        "plot_bgcolor": "#F5F6F9",
        "template": {
         "data": {
          "bar": [
           {
            "error_x": {
             "color": "#2a3f5f"
            },
            "error_y": {
             "color": "#2a3f5f"
            },
            "marker": {
             "line": {
              "color": "#E5ECF6",
              "width": 0.5
             }
            },
            "type": "bar"
           }
          ],
          "barpolar": [
           {
            "marker": {
             "line": {
              "color": "#E5ECF6",
              "width": 0.5
             }
            },
            "type": "barpolar"
           }
          ],
          "carpet": [
           {
            "aaxis": {
             "endlinecolor": "#2a3f5f",
             "gridcolor": "white",
             "linecolor": "white",
             "minorgridcolor": "white",
             "startlinecolor": "#2a3f5f"
            },
            "baxis": {
             "endlinecolor": "#2a3f5f",
             "gridcolor": "white",
             "linecolor": "white",
             "minorgridcolor": "white",
             "startlinecolor": "#2a3f5f"
            },
            "type": "carpet"
           }
          ],
          "choropleth": [
           {
            "colorbar": {
             "outlinewidth": 0,
             "ticks": ""
            },
            "type": "choropleth"
           }
          ],
          "contour": [
           {
            "colorbar": {
             "outlinewidth": 0,
             "ticks": ""
            },
            "colorscale": [
             [
              0,
              "#0d0887"
             ],
             [
              0.1111111111111111,
              "#46039f"
             ],
             [
              0.2222222222222222,
              "#7201a8"
             ],
             [
              0.3333333333333333,
              "#9c179e"
             ],
             [
              0.4444444444444444,
              "#bd3786"
             ],
             [
              0.5555555555555556,
              "#d8576b"
             ],
             [
              0.6666666666666666,
              "#ed7953"
             ],
             [
              0.7777777777777778,
              "#fb9f3a"
             ],
             [
              0.8888888888888888,
              "#fdca26"
             ],
             [
              1,
              "#f0f921"
             ]
            ],
            "type": "contour"
           }
          ],
          "contourcarpet": [
           {
            "colorbar": {
             "outlinewidth": 0,
             "ticks": ""
            },
            "type": "contourcarpet"
           }
          ],
          "heatmap": [
           {
            "colorbar": {
             "outlinewidth": 0,
             "ticks": ""
            },
            "colorscale": [
             [
              0,
              "#0d0887"
             ],
             [
              0.1111111111111111,
              "#46039f"
             ],
             [
              0.2222222222222222,
              "#7201a8"
             ],
             [
              0.3333333333333333,
              "#9c179e"
             ],
             [
              0.4444444444444444,
              "#bd3786"
             ],
             [
              0.5555555555555556,
              "#d8576b"
             ],
             [
              0.6666666666666666,
              "#ed7953"
             ],
             [
              0.7777777777777778,
              "#fb9f3a"
             ],
             [
              0.8888888888888888,
              "#fdca26"
             ],
             [
              1,
              "#f0f921"
             ]
            ],
            "type": "heatmap"
           }
          ],
          "heatmapgl": [
           {
            "colorbar": {
             "outlinewidth": 0,
             "ticks": ""
            },
            "colorscale": [
             [
              0,
              "#0d0887"
             ],
             [
              0.1111111111111111,
              "#46039f"
             ],
             [
              0.2222222222222222,
              "#7201a8"
             ],
             [
              0.3333333333333333,
              "#9c179e"
             ],
             [
              0.4444444444444444,
              "#bd3786"
             ],
             [
              0.5555555555555556,
              "#d8576b"
             ],
             [
              0.6666666666666666,
              "#ed7953"
             ],
             [
              0.7777777777777778,
              "#fb9f3a"
             ],
             [
              0.8888888888888888,
              "#fdca26"
             ],
             [
              1,
              "#f0f921"
             ]
            ],
            "type": "heatmapgl"
           }
          ],
          "histogram": [
           {
            "marker": {
             "colorbar": {
              "outlinewidth": 0,
              "ticks": ""
             }
            },
            "type": "histogram"
           }
          ],
          "histogram2d": [
           {
            "colorbar": {
             "outlinewidth": 0,
             "ticks": ""
            },
            "colorscale": [
             [
              0,
              "#0d0887"
             ],
             [
              0.1111111111111111,
              "#46039f"
             ],
             [
              0.2222222222222222,
              "#7201a8"
             ],
             [
              0.3333333333333333,
              "#9c179e"
             ],
             [
              0.4444444444444444,
              "#bd3786"
             ],
             [
              0.5555555555555556,
              "#d8576b"
             ],
             [
              0.6666666666666666,
              "#ed7953"
             ],
             [
              0.7777777777777778,
              "#fb9f3a"
             ],
             [
              0.8888888888888888,
              "#fdca26"
             ],
             [
              1,
              "#f0f921"
             ]
            ],
            "type": "histogram2d"
           }
          ],
          "histogram2dcontour": [
           {
            "colorbar": {
             "outlinewidth": 0,
             "ticks": ""
            },
            "colorscale": [
             [
              0,
              "#0d0887"
             ],
             [
              0.1111111111111111,
              "#46039f"
             ],
             [
              0.2222222222222222,
              "#7201a8"
             ],
             [
              0.3333333333333333,
              "#9c179e"
             ],
             [
              0.4444444444444444,
              "#bd3786"
             ],
             [
              0.5555555555555556,
              "#d8576b"
             ],
             [
              0.6666666666666666,
              "#ed7953"
             ],
             [
              0.7777777777777778,
              "#fb9f3a"
             ],
             [
              0.8888888888888888,
              "#fdca26"
             ],
             [
              1,
              "#f0f921"
             ]
            ],
            "type": "histogram2dcontour"
           }
          ],
          "mesh3d": [
           {
            "colorbar": {
             "outlinewidth": 0,
             "ticks": ""
            },
            "type": "mesh3d"
           }
          ],
          "parcoords": [
           {
            "line": {
             "colorbar": {
              "outlinewidth": 0,
              "ticks": ""
             }
            },
            "type": "parcoords"
           }
          ],
          "pie": [
           {
            "automargin": true,
            "type": "pie"
           }
          ],
          "scatter": [
           {
            "marker": {
             "colorbar": {
              "outlinewidth": 0,
              "ticks": ""
             }
            },
            "type": "scatter"
           }
          ],
          "scatter3d": [
           {
            "line": {
             "colorbar": {
              "outlinewidth": 0,
              "ticks": ""
             }
            },
            "marker": {
             "colorbar": {
              "outlinewidth": 0,
              "ticks": ""
             }
            },
            "type": "scatter3d"
           }
          ],
          "scattercarpet": [
           {
            "marker": {
             "colorbar": {
              "outlinewidth": 0,
              "ticks": ""
             }
            },
            "type": "scattercarpet"
           }
          ],
          "scattergeo": [
           {
            "marker": {
             "colorbar": {
              "outlinewidth": 0,
              "ticks": ""
             }
            },
            "type": "scattergeo"
           }
          ],
          "scattergl": [
           {
            "marker": {
             "colorbar": {
              "outlinewidth": 0,
              "ticks": ""
             }
            },
            "type": "scattergl"
           }
          ],
          "scattermapbox": [
           {
            "marker": {
             "colorbar": {
              "outlinewidth": 0,
              "ticks": ""
             }
            },
            "type": "scattermapbox"
           }
          ],
          "scatterpolar": [
           {
            "marker": {
             "colorbar": {
              "outlinewidth": 0,
              "ticks": ""
             }
            },
            "type": "scatterpolar"
           }
          ],
          "scatterpolargl": [
           {
            "marker": {
             "colorbar": {
              "outlinewidth": 0,
              "ticks": ""
             }
            },
            "type": "scatterpolargl"
           }
          ],
          "scatterternary": [
           {
            "marker": {
             "colorbar": {
              "outlinewidth": 0,
              "ticks": ""
             }
            },
            "type": "scatterternary"
           }
          ],
          "surface": [
           {
            "colorbar": {
             "outlinewidth": 0,
             "ticks": ""
            },
            "colorscale": [
             [
              0,
              "#0d0887"
             ],
             [
              0.1111111111111111,
              "#46039f"
             ],
             [
              0.2222222222222222,
              "#7201a8"
             ],
             [
              0.3333333333333333,
              "#9c179e"
             ],
             [
              0.4444444444444444,
              "#bd3786"
             ],
             [
              0.5555555555555556,
              "#d8576b"
             ],
             [
              0.6666666666666666,
              "#ed7953"
             ],
             [
              0.7777777777777778,
              "#fb9f3a"
             ],
             [
              0.8888888888888888,
              "#fdca26"
             ],
             [
              1,
              "#f0f921"
             ]
            ],
            "type": "surface"
           }
          ],
          "table": [
           {
            "cells": {
             "fill": {
              "color": "#EBF0F8"
             },
             "line": {
              "color": "white"
             }
            },
            "header": {
             "fill": {
              "color": "#C8D4E3"
             },
             "line": {
              "color": "white"
             }
            },
            "type": "table"
           }
          ]
         },
         "layout": {
          "annotationdefaults": {
           "arrowcolor": "#2a3f5f",
           "arrowhead": 0,
           "arrowwidth": 1
          },
          "coloraxis": {
           "colorbar": {
            "outlinewidth": 0,
            "ticks": ""
           }
          },
          "colorscale": {
           "diverging": [
            [
             0,
             "#8e0152"
            ],
            [
             0.1,
             "#c51b7d"
            ],
            [
             0.2,
             "#de77ae"
            ],
            [
             0.3,
             "#f1b6da"
            ],
            [
             0.4,
             "#fde0ef"
            ],
            [
             0.5,
             "#f7f7f7"
            ],
            [
             0.6,
             "#e6f5d0"
            ],
            [
             0.7,
             "#b8e186"
            ],
            [
             0.8,
             "#7fbc41"
            ],
            [
             0.9,
             "#4d9221"
            ],
            [
             1,
             "#276419"
            ]
           ],
           "sequential": [
            [
             0,
             "#0d0887"
            ],
            [
             0.1111111111111111,
             "#46039f"
            ],
            [
             0.2222222222222222,
             "#7201a8"
            ],
            [
             0.3333333333333333,
             "#9c179e"
            ],
            [
             0.4444444444444444,
             "#bd3786"
            ],
            [
             0.5555555555555556,
             "#d8576b"
            ],
            [
             0.6666666666666666,
             "#ed7953"
            ],
            [
             0.7777777777777778,
             "#fb9f3a"
            ],
            [
             0.8888888888888888,
             "#fdca26"
            ],
            [
             1,
             "#f0f921"
            ]
           ],
           "sequentialminus": [
            [
             0,
             "#0d0887"
            ],
            [
             0.1111111111111111,
             "#46039f"
            ],
            [
             0.2222222222222222,
             "#7201a8"
            ],
            [
             0.3333333333333333,
             "#9c179e"
            ],
            [
             0.4444444444444444,
             "#bd3786"
            ],
            [
             0.5555555555555556,
             "#d8576b"
            ],
            [
             0.6666666666666666,
             "#ed7953"
            ],
            [
             0.7777777777777778,
             "#fb9f3a"
            ],
            [
             0.8888888888888888,
             "#fdca26"
            ],
            [
             1,
             "#f0f921"
            ]
           ]
          },
          "colorway": [
           "#636efa",
           "#EF553B",
           "#00cc96",
           "#ab63fa",
           "#FFA15A",
           "#19d3f3",
           "#FF6692",
           "#B6E880",
           "#FF97FF",
           "#FECB52"
          ],
          "font": {
           "color": "#2a3f5f"
          },
          "geo": {
           "bgcolor": "white",
           "lakecolor": "white",
           "landcolor": "#E5ECF6",
           "showlakes": true,
           "showland": true,
           "subunitcolor": "white"
          },
          "hoverlabel": {
           "align": "left"
          },
          "hovermode": "closest",
          "mapbox": {
           "style": "light"
          },
          "paper_bgcolor": "white",
          "plot_bgcolor": "#E5ECF6",
          "polar": {
           "angularaxis": {
            "gridcolor": "white",
            "linecolor": "white",
            "ticks": ""
           },
           "bgcolor": "#E5ECF6",
           "radialaxis": {
            "gridcolor": "white",
            "linecolor": "white",
            "ticks": ""
           }
          },
          "scene": {
           "xaxis": {
            "backgroundcolor": "#E5ECF6",
            "gridcolor": "white",
            "gridwidth": 2,
            "linecolor": "white",
            "showbackground": true,
            "ticks": "",
            "zerolinecolor": "white"
           },
           "yaxis": {
            "backgroundcolor": "#E5ECF6",
            "gridcolor": "white",
            "gridwidth": 2,
            "linecolor": "white",
            "showbackground": true,
            "ticks": "",
            "zerolinecolor": "white"
           },
           "zaxis": {
            "backgroundcolor": "#E5ECF6",
            "gridcolor": "white",
            "gridwidth": 2,
            "linecolor": "white",
            "showbackground": true,
            "ticks": "",
            "zerolinecolor": "white"
           }
          },
          "shapedefaults": {
           "line": {
            "color": "#2a3f5f"
           }
          },
          "ternary": {
           "aaxis": {
            "gridcolor": "white",
            "linecolor": "white",
            "ticks": ""
           },
           "baxis": {
            "gridcolor": "white",
            "linecolor": "white",
            "ticks": ""
           },
           "bgcolor": "#E5ECF6",
           "caxis": {
            "gridcolor": "white",
            "linecolor": "white",
            "ticks": ""
           }
          },
          "title": {
           "x": 0.05
          },
          "xaxis": {
           "automargin": true,
           "gridcolor": "white",
           "linecolor": "white",
           "ticks": "",
           "title": {
            "standoff": 15
           },
           "zerolinecolor": "white",
           "zerolinewidth": 2
          },
          "yaxis": {
           "automargin": true,
           "gridcolor": "white",
           "linecolor": "white",
           "ticks": "",
           "title": {
            "standoff": 15
           },
           "zerolinecolor": "white",
           "zerolinewidth": 2
          }
         }
        },
        "title": {
         "font": {
          "color": "#4D5663"
         },
         "text": "Top 25 trigrams"
        },
        "xaxis": {
         "gridcolor": "#E1E5ED",
         "linecolor": "black",
         "showgrid": true,
         "tickfont": {
          "color": "#4D5663"
         },
         "title": {
          "font": {
           "color": "#4D5663"
          },
          "text": ""
         },
         "zerolinecolor": "#E1E5ED"
        },
        "yaxis": {
         "gridcolor": "#E1E5ED",
         "linecolor": "black",
         "showgrid": true,
         "tickfont": {
          "color": "#4D5663"
         },
         "title": {
          "font": {
           "color": "#4D5663"
          },
          "text": "Count"
         },
         "zerolinecolor": "#E1E5ED"
        }
       }
      },
      "text/html": [
       "<div>\n",
       "        \n",
       "        \n",
       "            <div id=\"bda51f12-7528-45b0-9738-f11310f011f0\" class=\"plotly-graph-div\" style=\"height:525px; width:100%;\"></div>\n",
       "            <script type=\"text/javascript\">\n",
       "                require([\"plotly\"], function(Plotly) {\n",
       "                    window.PLOTLYENV=window.PLOTLYENV || {};\n",
       "                    window.PLOTLYENV.BASE_URL='https://plot.ly';\n",
       "                    \n",
       "                if (document.getElementById(\"bda51f12-7528-45b0-9738-f11310f011f0\")) {\n",
       "                    Plotly.newPlot(\n",
       "                        'bda51f12-7528-45b0-9738-f11310f011f0',\n",
       "                        [{\"marker\": {\"color\": \"rgba(255, 153, 51, 0.6)\", \"line\": {\"color\": \"rgba(255, 153, 51, 1.0)\", \"width\": 1}}, \"name\": \"count\", \"orientation\": \"v\", \"text\": \"\", \"type\": \"bar\", \"x\": [\"fail scheduler from\", \"job fail scheduler\", \"browser microsoft internet\", \"microsoft internet explorer\", \"internet explorer email\", \"language browser microsoft\", \"email customer number\", \"explorer email customer\", \"password management tool\", \"customer number telephone\", \"number telephone summary\", \"abended job scheduler\", \"notify phone email\", \"equipment reset verify\", \"remote dial equipment\", \"dial equipment reset\", \"contact notify phone\", \"specify top cert\", \"start additional diagnostic\", \"gsc start additional\", \"phone email remote\", \"provider maint ticket\", \"email remote dial\", \"reset verify work\", \"start schedule maintenance\"], \"y\": [780, 471, 166, 166, 165, 164, 163, 162, 158, 157, 154, 147, 143, 143, 143, 143, 143, 143, 142, 142, 141, 141, 141, 141, 141]}],\n",
       "                        {\"legend\": {\"bgcolor\": \"#F5F6F9\", \"font\": {\"color\": \"#4D5663\"}}, \"paper_bgcolor\": \"#F5F6F9\", \"plot_bgcolor\": \"#F5F6F9\", \"template\": {\"data\": {\"bar\": [{\"error_x\": {\"color\": \"#2a3f5f\"}, \"error_y\": {\"color\": \"#2a3f5f\"}, \"marker\": {\"line\": {\"color\": \"#E5ECF6\", \"width\": 0.5}}, \"type\": \"bar\"}], \"barpolar\": [{\"marker\": {\"line\": {\"color\": \"#E5ECF6\", \"width\": 0.5}}, \"type\": \"barpolar\"}], \"carpet\": [{\"aaxis\": {\"endlinecolor\": \"#2a3f5f\", \"gridcolor\": \"white\", \"linecolor\": \"white\", \"minorgridcolor\": \"white\", \"startlinecolor\": \"#2a3f5f\"}, \"baxis\": {\"endlinecolor\": \"#2a3f5f\", \"gridcolor\": \"white\", \"linecolor\": \"white\", \"minorgridcolor\": \"white\", \"startlinecolor\": \"#2a3f5f\"}, \"type\": \"carpet\"}], \"choropleth\": [{\"colorbar\": {\"outlinewidth\": 0, \"ticks\": \"\"}, \"type\": \"choropleth\"}], \"contour\": [{\"colorbar\": {\"outlinewidth\": 0, \"ticks\": \"\"}, \"colorscale\": [[0.0, \"#0d0887\"], [0.1111111111111111, \"#46039f\"], [0.2222222222222222, \"#7201a8\"], [0.3333333333333333, \"#9c179e\"], [0.4444444444444444, \"#bd3786\"], [0.5555555555555556, \"#d8576b\"], [0.6666666666666666, \"#ed7953\"], [0.7777777777777778, \"#fb9f3a\"], [0.8888888888888888, \"#fdca26\"], [1.0, \"#f0f921\"]], \"type\": \"contour\"}], \"contourcarpet\": [{\"colorbar\": {\"outlinewidth\": 0, \"ticks\": \"\"}, \"type\": \"contourcarpet\"}], \"heatmap\": [{\"colorbar\": {\"outlinewidth\": 0, \"ticks\": \"\"}, \"colorscale\": [[0.0, \"#0d0887\"], [0.1111111111111111, \"#46039f\"], [0.2222222222222222, \"#7201a8\"], [0.3333333333333333, \"#9c179e\"], [0.4444444444444444, \"#bd3786\"], [0.5555555555555556, \"#d8576b\"], [0.6666666666666666, \"#ed7953\"], [0.7777777777777778, \"#fb9f3a\"], [0.8888888888888888, \"#fdca26\"], [1.0, \"#f0f921\"]], \"type\": \"heatmap\"}], \"heatmapgl\": [{\"colorbar\": {\"outlinewidth\": 0, \"ticks\": \"\"}, \"colorscale\": [[0.0, \"#0d0887\"], [0.1111111111111111, \"#46039f\"], [0.2222222222222222, \"#7201a8\"], [0.3333333333333333, \"#9c179e\"], [0.4444444444444444, \"#bd3786\"], [0.5555555555555556, \"#d8576b\"], [0.6666666666666666, \"#ed7953\"], [0.7777777777777778, \"#fb9f3a\"], [0.8888888888888888, \"#fdca26\"], [1.0, \"#f0f921\"]], \"type\": \"heatmapgl\"}], \"histogram\": [{\"marker\": {\"colorbar\": {\"outlinewidth\": 0, \"ticks\": \"\"}}, \"type\": \"histogram\"}], \"histogram2d\": [{\"colorbar\": {\"outlinewidth\": 0, \"ticks\": \"\"}, \"colorscale\": [[0.0, \"#0d0887\"], [0.1111111111111111, \"#46039f\"], [0.2222222222222222, \"#7201a8\"], [0.3333333333333333, \"#9c179e\"], [0.4444444444444444, \"#bd3786\"], [0.5555555555555556, \"#d8576b\"], [0.6666666666666666, \"#ed7953\"], [0.7777777777777778, \"#fb9f3a\"], [0.8888888888888888, \"#fdca26\"], [1.0, \"#f0f921\"]], \"type\": \"histogram2d\"}], \"histogram2dcontour\": [{\"colorbar\": {\"outlinewidth\": 0, \"ticks\": \"\"}, \"colorscale\": [[0.0, \"#0d0887\"], [0.1111111111111111, \"#46039f\"], [0.2222222222222222, \"#7201a8\"], [0.3333333333333333, \"#9c179e\"], [0.4444444444444444, \"#bd3786\"], [0.5555555555555556, \"#d8576b\"], [0.6666666666666666, \"#ed7953\"], [0.7777777777777778, \"#fb9f3a\"], [0.8888888888888888, \"#fdca26\"], [1.0, \"#f0f921\"]], \"type\": \"histogram2dcontour\"}], \"mesh3d\": [{\"colorbar\": {\"outlinewidth\": 0, \"ticks\": \"\"}, \"type\": \"mesh3d\"}], \"parcoords\": [{\"line\": {\"colorbar\": {\"outlinewidth\": 0, \"ticks\": \"\"}}, \"type\": \"parcoords\"}], \"pie\": [{\"automargin\": true, \"type\": \"pie\"}], \"scatter\": [{\"marker\": {\"colorbar\": {\"outlinewidth\": 0, \"ticks\": \"\"}}, \"type\": \"scatter\"}], \"scatter3d\": [{\"line\": {\"colorbar\": {\"outlinewidth\": 0, \"ticks\": \"\"}}, \"marker\": {\"colorbar\": {\"outlinewidth\": 0, \"ticks\": \"\"}}, \"type\": \"scatter3d\"}], \"scattercarpet\": [{\"marker\": {\"colorbar\": {\"outlinewidth\": 0, \"ticks\": \"\"}}, \"type\": \"scattercarpet\"}], \"scattergeo\": [{\"marker\": {\"colorbar\": {\"outlinewidth\": 0, \"ticks\": \"\"}}, \"type\": \"scattergeo\"}], \"scattergl\": [{\"marker\": {\"colorbar\": {\"outlinewidth\": 0, \"ticks\": \"\"}}, \"type\": \"scattergl\"}], \"scattermapbox\": [{\"marker\": {\"colorbar\": {\"outlinewidth\": 0, \"ticks\": \"\"}}, \"type\": \"scattermapbox\"}], \"scatterpolar\": [{\"marker\": {\"colorbar\": {\"outlinewidth\": 0, \"ticks\": \"\"}}, \"type\": \"scatterpolar\"}], \"scatterpolargl\": [{\"marker\": {\"colorbar\": {\"outlinewidth\": 0, \"ticks\": \"\"}}, \"type\": \"scatterpolargl\"}], \"scatterternary\": [{\"marker\": {\"colorbar\": {\"outlinewidth\": 0, \"ticks\": \"\"}}, \"type\": \"scatterternary\"}], \"surface\": [{\"colorbar\": {\"outlinewidth\": 0, \"ticks\": \"\"}, \"colorscale\": [[0.0, \"#0d0887\"], [0.1111111111111111, \"#46039f\"], [0.2222222222222222, \"#7201a8\"], [0.3333333333333333, \"#9c179e\"], [0.4444444444444444, \"#bd3786\"], [0.5555555555555556, \"#d8576b\"], [0.6666666666666666, \"#ed7953\"], [0.7777777777777778, \"#fb9f3a\"], [0.8888888888888888, \"#fdca26\"], [1.0, \"#f0f921\"]], \"type\": \"surface\"}], \"table\": [{\"cells\": {\"fill\": {\"color\": \"#EBF0F8\"}, \"line\": {\"color\": \"white\"}}, \"header\": {\"fill\": {\"color\": \"#C8D4E3\"}, \"line\": {\"color\": \"white\"}}, \"type\": \"table\"}]}, \"layout\": {\"annotationdefaults\": {\"arrowcolor\": \"#2a3f5f\", \"arrowhead\": 0, \"arrowwidth\": 1}, \"coloraxis\": {\"colorbar\": {\"outlinewidth\": 0, \"ticks\": \"\"}}, \"colorscale\": {\"diverging\": [[0, \"#8e0152\"], [0.1, \"#c51b7d\"], [0.2, \"#de77ae\"], [0.3, \"#f1b6da\"], [0.4, \"#fde0ef\"], [0.5, \"#f7f7f7\"], [0.6, \"#e6f5d0\"], [0.7, \"#b8e186\"], [0.8, \"#7fbc41\"], [0.9, \"#4d9221\"], [1, \"#276419\"]], \"sequential\": [[0.0, \"#0d0887\"], [0.1111111111111111, \"#46039f\"], [0.2222222222222222, \"#7201a8\"], [0.3333333333333333, \"#9c179e\"], [0.4444444444444444, \"#bd3786\"], [0.5555555555555556, \"#d8576b\"], [0.6666666666666666, \"#ed7953\"], [0.7777777777777778, \"#fb9f3a\"], [0.8888888888888888, \"#fdca26\"], [1.0, \"#f0f921\"]], \"sequentialminus\": [[0.0, \"#0d0887\"], [0.1111111111111111, \"#46039f\"], [0.2222222222222222, \"#7201a8\"], [0.3333333333333333, \"#9c179e\"], [0.4444444444444444, \"#bd3786\"], [0.5555555555555556, \"#d8576b\"], [0.6666666666666666, \"#ed7953\"], [0.7777777777777778, \"#fb9f3a\"], [0.8888888888888888, \"#fdca26\"], [1.0, \"#f0f921\"]]}, \"colorway\": [\"#636efa\", \"#EF553B\", \"#00cc96\", \"#ab63fa\", \"#FFA15A\", \"#19d3f3\", \"#FF6692\", \"#B6E880\", \"#FF97FF\", \"#FECB52\"], \"font\": {\"color\": \"#2a3f5f\"}, \"geo\": {\"bgcolor\": \"white\", \"lakecolor\": \"white\", \"landcolor\": \"#E5ECF6\", \"showlakes\": true, \"showland\": true, \"subunitcolor\": \"white\"}, \"hoverlabel\": {\"align\": \"left\"}, \"hovermode\": \"closest\", \"mapbox\": {\"style\": \"light\"}, \"paper_bgcolor\": \"white\", \"plot_bgcolor\": \"#E5ECF6\", \"polar\": {\"angularaxis\": {\"gridcolor\": \"white\", \"linecolor\": \"white\", \"ticks\": \"\"}, \"bgcolor\": \"#E5ECF6\", \"radialaxis\": {\"gridcolor\": \"white\", \"linecolor\": \"white\", \"ticks\": \"\"}}, \"scene\": {\"xaxis\": {\"backgroundcolor\": \"#E5ECF6\", \"gridcolor\": \"white\", \"gridwidth\": 2, \"linecolor\": \"white\", \"showbackground\": true, \"ticks\": \"\", \"zerolinecolor\": \"white\"}, \"yaxis\": {\"backgroundcolor\": \"#E5ECF6\", \"gridcolor\": \"white\", \"gridwidth\": 2, \"linecolor\": \"white\", \"showbackground\": true, \"ticks\": \"\", \"zerolinecolor\": \"white\"}, \"zaxis\": {\"backgroundcolor\": \"#E5ECF6\", \"gridcolor\": \"white\", \"gridwidth\": 2, \"linecolor\": \"white\", \"showbackground\": true, \"ticks\": \"\", \"zerolinecolor\": \"white\"}}, \"shapedefaults\": {\"line\": {\"color\": \"#2a3f5f\"}}, \"ternary\": {\"aaxis\": {\"gridcolor\": \"white\", \"linecolor\": \"white\", \"ticks\": \"\"}, \"baxis\": {\"gridcolor\": \"white\", \"linecolor\": \"white\", \"ticks\": \"\"}, \"bgcolor\": \"#E5ECF6\", \"caxis\": {\"gridcolor\": \"white\", \"linecolor\": \"white\", \"ticks\": \"\"}}, \"title\": {\"x\": 0.05}, \"xaxis\": {\"automargin\": true, \"gridcolor\": \"white\", \"linecolor\": \"white\", \"ticks\": \"\", \"title\": {\"standoff\": 15}, \"zerolinecolor\": \"white\", \"zerolinewidth\": 2}, \"yaxis\": {\"automargin\": true, \"gridcolor\": \"white\", \"linecolor\": \"white\", \"ticks\": \"\", \"title\": {\"standoff\": 15}, \"zerolinecolor\": \"white\", \"zerolinewidth\": 2}}}, \"title\": {\"font\": {\"color\": \"#4D5663\"}, \"text\": \"Top 25 trigrams\"}, \"xaxis\": {\"gridcolor\": \"#E1E5ED\", \"linecolor\": \"black\", \"showgrid\": true, \"tickfont\": {\"color\": \"#4D5663\"}, \"title\": {\"font\": {\"color\": \"#4D5663\"}, \"text\": \"\"}, \"zerolinecolor\": \"#E1E5ED\"}, \"yaxis\": {\"gridcolor\": \"#E1E5ED\", \"linecolor\": \"black\", \"showgrid\": true, \"tickfont\": {\"color\": \"#4D5663\"}, \"title\": {\"font\": {\"color\": \"#4D5663\"}, \"text\": \"Count\"}, \"zerolinecolor\": \"#E1E5ED\"}},\n",
       "                        {\"showLink\": true, \"linkText\": \"Export to plot.ly\", \"plotlyServerURL\": \"https://plot.ly\", \"responsive\": true}\n",
       "                    ).then(function(){\n",
       "                            \n",
       "var gd = document.getElementById('bda51f12-7528-45b0-9738-f11310f011f0');\n",
       "var x = new MutationObserver(function (mutations, observer) {{\n",
       "        var display = window.getComputedStyle(gd).display;\n",
       "        if (!display || display === 'none') {{\n",
       "            console.log([gd, 'removed!']);\n",
       "            Plotly.purge(gd);\n",
       "            observer.disconnect();\n",
       "        }}\n",
       "}});\n",
       "\n",
       "// Listen for the removal of the full notebook cells\n",
       "var notebookContainer = gd.closest('#notebook-container');\n",
       "if (notebookContainer) {{\n",
       "    x.observe(notebookContainer, {childList: true});\n",
       "}}\n",
       "\n",
       "// Listen for the clearing of the current output cell\n",
       "var outputEl = gd.closest('.output');\n",
       "if (outputEl) {{\n",
       "    x.observe(outputEl, {childList: true});\n",
       "}}\n",
       "\n",
       "                        })\n",
       "                };\n",
       "                });\n",
       "            </script>\n",
       "        </div>"
      ]
     },
     "metadata": {},
     "output_type": "display_data"
    }
   ],
   "source": [
    "def get_top_n_trigram(corpus, n=None):\n",
    "    vec = CountVectorizer(ngram_range=(3, 3)).fit(corpus)\n",
    "    bag_of_words = vec.transform(corpus)\n",
    "    sum_words = bag_of_words.sum(axis=0) \n",
    "    words_freq = [(word, sum_words[0, idx]) for word, idx in vec.vocabulary_.items()]\n",
    "    words_freq =sorted(words_freq, key = lambda x: x[1], reverse=True)\n",
    "    return words_freq[:n]\n",
    "common_words = get_top_n_trigram(new_df['Clean Description'], 25)\n",
    "df3 = pd.DataFrame(common_words, columns = ['Clean Description' , 'count'])\n",
    "df3.groupby('Clean Description').sum()['count'].sort_values(ascending=False).iplot(\n",
    "    kind='bar', yTitle='Count', linecolor='black', title='Top 25 trigrams')\n"
   ]
  },
  {
   "cell_type": "markdown",
   "metadata": {},
   "source": [
    "Understanding whether the length of the ticket has an implication on the group it belongs to"
   ]
  },
  {
   "cell_type": "code",
   "execution_count": 65,
   "metadata": {},
   "outputs": [],
   "source": [
    "#creating a column for determining word count\n",
    "new_df['word_count'] = new_df['Clean Description'].str.split().map(len)"
   ]
  },
  {
   "cell_type": "code",
   "execution_count": 66,
   "metadata": {},
   "outputs": [
    {
     "data": {
      "image/png": "[encoded data removed]",
      "text/plain": [
       "<Figure size 1440x1440 with 1 Axes>"
      ]
     },
     "metadata": {
      "needs_background": "light"
     },
     "output_type": "display_data"
    }
   ],
   "source": [
    "fig_dims = (20, 20)\n",
    "fig, ax = plt.subplots(figsize=fig_dims)\n",
    "chart=sns.boxplot(x=\"Assignment group\", y=\"word_count\",ax=ax, data=new_df) \n",
    "chart.set_xticklabels(chart.get_xticklabels(), rotation=90, ha=\"right\")\n",
    "plt.tight_layout()\n",
    "plt.show()"
   ]
  },
  {
   "cell_type": "markdown",
   "metadata": {},
   "source": [
    "Excepting for some groups like group 56 & 70 that stand out in terms of the large no. of words used, difficult to see a pattern emerging across other groups"
   ]
  },
  {
   "cell_type": "markdown",
   "metadata": {},
   "source": [
    "# Thematic analysis of data"
   ]
  },
  {
   "cell_type": "code",
   "execution_count": 97,
   "metadata": {},
   "outputs": [],
   "source": [
    "df_theme=new_df.copy() #Creating a new dataframe"
   ]
  },
  {
   "cell_type": "code",
   "execution_count": 98,
   "metadata": {},
   "outputs": [
    {
     "data": {
      "text/html": [
       "<div>\n",
       "<style scoped>\n",
       "    .dataframe tbody tr th:only-of-type {\n",
       "        vertical-align: middle;\n",
       "    }\n",
       "\n",
       "    .dataframe tbody tr th {\n",
       "        vertical-align: top;\n",
       "    }\n",
       "\n",
       "    .dataframe thead th {\n",
       "        text-align: right;\n",
       "    }\n",
       "</style>\n",
       "<table border=\"1\" class=\"dataframe\">\n",
       "  <thead>\n",
       "    <tr style=\"text-align: right;\">\n",
       "      <th></th>\n",
       "      <th>Short description</th>\n",
       "      <th>Description</th>\n",
       "      <th>Caller</th>\n",
       "      <th>Assignment group</th>\n",
       "      <th>Total</th>\n",
       "      <th>Clean Description</th>\n",
       "      <th>word_count</th>\n",
       "      <th>New grouping</th>\n",
       "    </tr>\n",
       "  </thead>\n",
       "  <tbody>\n",
       "    <tr>\n",
       "      <th>0</th>\n",
       "      <td>login issue</td>\n",
       "      <td>verified user details employee manager name ch...</td>\n",
       "      <td>spxjnwir pjlcoqds</td>\n",
       "      <td>GRP_0</td>\n",
       "      <td>login issue verify user detail employee manage...</td>\n",
       "      <td>login issue verify user detail employee manage...</td>\n",
       "      <td>17</td>\n",
       "      <td>GRP_0</td>\n",
       "    </tr>\n",
       "    <tr>\n",
       "      <th>1</th>\n",
       "      <td>outlook</td>\n",
       "      <td>received from hello team my meetings skype mee...</td>\n",
       "      <td>hmjdrvpb komuaywn</td>\n",
       "      <td>GRP_0</td>\n",
       "      <td>outlook receive from hello team meeting skype ...</td>\n",
       "      <td>outlook team meeting skype etc not appear cale...</td>\n",
       "      <td>12</td>\n",
       "      <td>GRP_0</td>\n",
       "    </tr>\n",
       "    <tr>\n",
       "      <th>2</th>\n",
       "      <td>cant log in to vpn</td>\n",
       "      <td>received from hi i cannot log on to vpn best</td>\n",
       "      <td>eylqgodm ybqkwiam</td>\n",
       "      <td>GRP_0</td>\n",
       "      <td>can not log in to vpn receive from hi i can no...</td>\n",
       "      <td>can not log vpn not best</td>\n",
       "      <td>6</td>\n",
       "      <td>GRP_0</td>\n",
       "    </tr>\n",
       "    <tr>\n",
       "      <th>3</th>\n",
       "      <td>unable to access hr tool page</td>\n",
       "      <td>unable to access hr tool page</td>\n",
       "      <td>xbkucsvz gcpydteq</td>\n",
       "      <td>GRP_0</td>\n",
       "      <td>unable to access hr tool page</td>\n",
       "      <td>unable access hr tool page</td>\n",
       "      <td>5</td>\n",
       "      <td>GRP_0</td>\n",
       "    </tr>\n",
       "    <tr>\n",
       "      <th>4</th>\n",
       "      <td>skype error</td>\n",
       "      <td>skype error</td>\n",
       "      <td>owlgqjme qhcozdfx</td>\n",
       "      <td>GRP_0</td>\n",
       "      <td>skype error</td>\n",
       "      <td>skype error</td>\n",
       "      <td>2</td>\n",
       "      <td>GRP_0</td>\n",
       "    </tr>\n",
       "  </tbody>\n",
       "</table>\n",
       "</div>"
      ],
      "text/plain": [
       "               Short description  \\\n",
       "0                    login issue   \n",
       "1                        outlook   \n",
       "2             cant log in to vpn   \n",
       "3  unable to access hr tool page   \n",
       "4                    skype error   \n",
       "\n",
       "                                         Description             Caller  \\\n",
       "0  verified user details employee manager name ch...  spxjnwir pjlcoqds   \n",
       "1  received from hello team my meetings skype mee...  hmjdrvpb komuaywn   \n",
       "2       received from hi i cannot log on to vpn best  eylqgodm ybqkwiam   \n",
       "3                      unable to access hr tool page  xbkucsvz gcpydteq   \n",
       "4                                        skype error  owlgqjme qhcozdfx   \n",
       "\n",
       "  Assignment group                                              Total  \\\n",
       "0            GRP_0  login issue verify user detail employee manage...   \n",
       "1            GRP_0  outlook receive from hello team meeting skype ...   \n",
       "2            GRP_0  can not log in to vpn receive from hi i can no...   \n",
       "3            GRP_0                      unable to access hr tool page   \n",
       "4            GRP_0                                        skype error   \n",
       "\n",
       "                                   Clean Description  word_count New grouping  \n",
       "0  login issue verify user detail employee manage...          17        GRP_0  \n",
       "1  outlook team meeting skype etc not appear cale...          12        GRP_0  \n",
       "2                           can not log vpn not best           6        GRP_0  \n",
       "3                         unable access hr tool page           5        GRP_0  \n",
       "4                                        skype error           2        GRP_0  "
      ]
     },
     "execution_count": 98,
     "metadata": {},
     "output_type": "execute_result"
    }
   ],
   "source": [
    "df_theme.head(5)"
   ]
  },
  {
   "cell_type": "code",
   "execution_count": 101,
   "metadata": {},
   "outputs": [],
   "source": [
    "# creating a corpus from Clean Decsription Column\n",
    "corpus_text = '\\n'.join(df_theme[:]['Clean Description'])\n",
    "sentences = corpus_text.split('\\n')\n",
    "sentences = [line.lower().split(' ') for line in sentences]"
   ]
  },
  {
   "cell_type": "code",
   "execution_count": 102,
   "metadata": {},
   "outputs": [
    {
     "data": {
      "text/plain": [
       "['unable', 'log', 'engineering', 'tool', 'skype']"
      ]
     },
     "execution_count": 102,
     "metadata": {},
     "output_type": "execute_result"
    }
   ],
   "source": [
    "sentences[5]"
   ]
  },
  {
   "cell_type": "code",
   "execution_count": 103,
   "metadata": {},
   "outputs": [],
   "source": [
    "def clean(s): #removing additional punctuation\n",
    "    return [w.strip(',.\"!?:;()\\'') for w in s]\n",
    "sentences = [clean(s) for s in sentences if len(s) > 0]"
   ]
  },
  {
   "cell_type": "code",
   "execution_count": 104,
   "metadata": {},
   "outputs": [],
   "source": [
    "from gensim.models import Word2Vec\n",
    "\n",
    "model = Word2Vec(sentences, size=8000, window=3, min_count=3, workers=4) \n",
    "#Tried a size of 100, 1000 and 2000 but the similarity qualitatively did not seem all that good"
   ]
  },
  {
   "cell_type": "code",
   "execution_count": 105,
   "metadata": {},
   "outputs": [],
   "source": [
    "model.save(\"word2vec.mdl\") # Saving the model for later use"
   ]
  },
  {
   "cell_type": "code",
   "execution_count": 106,
   "metadata": {},
   "outputs": [
    {
     "data": {
      "text/plain": [
       "3135"
      ]
     },
     "execution_count": 106,
     "metadata": {},
     "output_type": "execute_result"
    }
   ],
   "source": [
    "vectors = model.wv #keeping only the vector values\n",
    "len(model.wv.vocab)"
   ]
  },
  {
   "cell_type": "code",
   "execution_count": 107,
   "metadata": {},
   "outputs": [
    {
     "name": "stdout",
     "output_type": "stream",
     "text": [
      "0.93913275\n",
      "0.975186\n"
     ]
    }
   ],
   "source": [
    "print(vectors.similarity('access', 'login')) #taking sample value and analysing the relationships\n",
    "print(vectors.similarity('access', 'skype'))"
   ]
  },
  {
   "cell_type": "code",
   "execution_count": 108,
   "metadata": {},
   "outputs": [
    {
     "data": {
      "text/plain": [
       "[('platform', 0.9793061017990112),\n",
       " ('collaboration', 0.9783681631088257),\n",
       " ('connect', 0.976498007774353),\n",
       " ('tologin', 0.9747147560119629),\n",
       " ('alt', 0.9720966219902039),\n",
       " ('doug', 0.9705219864845276),\n",
       " ('march', 0.968325138092041),\n",
       " ('detail', 0.9640535712242126),\n",
       " ('caller', 0.9639269709587097),\n",
       " ('roboworker', 0.9623376131057739)]"
      ]
     },
     "execution_count": 108,
     "metadata": {},
     "output_type": "execute_result"
    }
   ],
   "source": [
    "vectors.most_similar('vpn')"
   ]
  },
  {
   "cell_type": "markdown",
   "metadata": {},
   "source": [
    "So we can see strong connects with <b>platform</b>, <b>Collaboration</b>, <b>connect</b>,<b>tologin</b>  - words which are typically used for a connectivity session which is what a VPN is used for. This implies that our vectors seem to be defined well"
   ]
  },
  {
   "cell_type": "code",
   "execution_count": 111,
   "metadata": {},
   "outputs": [
    {
     "name": "stdout",
     "output_type": "stream",
     "text": [
      "\n",
      "\n",
      "For term: \u001b[1m reset \u001b[0m the most similar words are:\n",
      "password 0.9656\n",
      "passwords 0.9533\n",
      "user 0.9529\n",
      "management 0.9511\n",
      "manager 0.9441\n",
      "windows 0.9394\n",
      "login 0.9368\n",
      "use 0.9361\n",
      "ad 0.9283\n",
      "produktion 0.9247\n",
      "\n",
      "\n",
      "For term: \u001b[1m account \u001b[0m the most similar words are:\n",
      "unlock 0.9975\n",
      "lock 0.9965\n",
      "erp 0.9937\n",
      "windows 0.9747\n",
      "ad 0.9714\n",
      "unlocked 0.9645\n",
      "system 0.9604\n",
      "password 0.9551\n",
      "tool 0.9502\n",
      "login 0.949\n"
     ]
    },
    {
     "name": "stderr",
     "output_type": "stream",
     "text": [
      "C:\\ProgramData\\Anaconda3\\lib\\site-packages\\ipykernel_launcher.py:5: DeprecationWarning:\n",
      "\n",
      "Call to deprecated `most_similar` (Method will be removed in 4.0.0, use self.wv.most_similar() instead).\n",
      "\n"
     ]
    }
   ],
   "source": [
    "term = ['reset','account']\n",
    "for i in term:\n",
    "    print('\\n')\n",
    "    print('For term: \\033[1m',i,'\\033[0m the most similar words are:')\n",
    "    for word, similarity in model.most_similar(positive=i, topn=10): #Identifying similar words\n",
    "            print (word, round(similarity, 4))"
   ]
  },
  {
   "cell_type": "markdown",
   "metadata": {},
   "source": [
    "# Making it easy to visualize word relationships"
   ]
  },
  {
   "cell_type": "code",
   "execution_count": 112,
   "metadata": {},
   "outputs": [
    {
     "name": "stderr",
     "output_type": "stream",
     "text": [
      "C:\\ProgramData\\Anaconda3\\lib\\site-packages\\ipykernel_launcher.py:7: DeprecationWarning:\n",
      "\n",
      "Call to deprecated `syn0norm` (Attribute will be removed in 4.0.0, use self.vectors_norm instead).\n",
      "\n"
     ]
    }
   ],
   "source": [
    "ordered_vocab = [(term, voc.index, voc.count) for term, voc in model.wv.vocab.items()]\n",
    "ordered_vocab = sorted(ordered_vocab, key=lambda k: -k[2])\n",
    "ordered_terms, term_indices, term_counts = zip(*ordered_vocab)\n",
    "# print(ordered_terms)\n",
    "# create a DataFrame with the vectors as data,\n",
    "# and the terms as row labels\n",
    "word_vectors = pd.DataFrame(model.wv.syn0norm[term_indices, :], index=ordered_terms)"
   ]
  },
  {
   "cell_type": "code",
   "execution_count": 113,
   "metadata": {},
   "outputs": [
    {
     "data": {
      "text/html": [
       "<div>\n",
       "<style scoped>\n",
       "    .dataframe tbody tr th:only-of-type {\n",
       "        vertical-align: middle;\n",
       "    }\n",
       "\n",
       "    .dataframe tbody tr th {\n",
       "        vertical-align: top;\n",
       "    }\n",
       "\n",
       "    .dataframe thead th {\n",
       "        text-align: right;\n",
       "    }\n",
       "</style>\n",
       "<table border=\"1\" class=\"dataframe\">\n",
       "  <thead>\n",
       "    <tr style=\"text-align: right;\">\n",
       "      <th></th>\n",
       "      <th>0</th>\n",
       "      <th>1</th>\n",
       "      <th>2</th>\n",
       "      <th>3</th>\n",
       "      <th>4</th>\n",
       "      <th>5</th>\n",
       "      <th>6</th>\n",
       "      <th>7</th>\n",
       "      <th>8</th>\n",
       "      <th>9</th>\n",
       "      <th>...</th>\n",
       "      <th>7990</th>\n",
       "      <th>7991</th>\n",
       "      <th>7992</th>\n",
       "      <th>7993</th>\n",
       "      <th>7994</th>\n",
       "      <th>7995</th>\n",
       "      <th>7996</th>\n",
       "      <th>7997</th>\n",
       "      <th>7998</th>\n",
       "      <th>7999</th>\n",
       "    </tr>\n",
       "  </thead>\n",
       "  <tbody>\n",
       "    <tr>\n",
       "      <th></th>\n",
       "      <td>-0.008200</td>\n",
       "      <td>-0.004274</td>\n",
       "      <td>0.007369</td>\n",
       "      <td>0.002968</td>\n",
       "      <td>0.002071</td>\n",
       "      <td>0.008801</td>\n",
       "      <td>-0.001482</td>\n",
       "      <td>0.004184</td>\n",
       "      <td>-0.005004</td>\n",
       "      <td>0.015172</td>\n",
       "      <td>...</td>\n",
       "      <td>0.008955</td>\n",
       "      <td>0.010702</td>\n",
       "      <td>0.011363</td>\n",
       "      <td>-0.003172</td>\n",
       "      <td>-0.010541</td>\n",
       "      <td>-0.028656</td>\n",
       "      <td>0.008682</td>\n",
       "      <td>0.012150</td>\n",
       "      <td>-0.003976</td>\n",
       "      <td>-0.006338</td>\n",
       "    </tr>\n",
       "    <tr>\n",
       "      <th>not</th>\n",
       "      <td>-0.014580</td>\n",
       "      <td>-0.005491</td>\n",
       "      <td>0.007220</td>\n",
       "      <td>0.008396</td>\n",
       "      <td>-0.003233</td>\n",
       "      <td>0.008646</td>\n",
       "      <td>-0.002785</td>\n",
       "      <td>0.009224</td>\n",
       "      <td>0.005558</td>\n",
       "      <td>0.018986</td>\n",
       "      <td>...</td>\n",
       "      <td>0.003407</td>\n",
       "      <td>0.010763</td>\n",
       "      <td>0.005201</td>\n",
       "      <td>-0.015919</td>\n",
       "      <td>-0.008925</td>\n",
       "      <td>-0.015553</td>\n",
       "      <td>0.002417</td>\n",
       "      <td>0.007530</td>\n",
       "      <td>0.002180</td>\n",
       "      <td>-0.012525</td>\n",
       "    </tr>\n",
       "    <tr>\n",
       "      <th>password</th>\n",
       "      <td>-0.014561</td>\n",
       "      <td>-0.009291</td>\n",
       "      <td>0.001716</td>\n",
       "      <td>0.007289</td>\n",
       "      <td>-0.004867</td>\n",
       "      <td>0.004147</td>\n",
       "      <td>-0.005295</td>\n",
       "      <td>0.002033</td>\n",
       "      <td>0.001133</td>\n",
       "      <td>0.011751</td>\n",
       "      <td>...</td>\n",
       "      <td>0.011042</td>\n",
       "      <td>0.015335</td>\n",
       "      <td>0.005390</td>\n",
       "      <td>-0.012515</td>\n",
       "      <td>-0.008048</td>\n",
       "      <td>-0.019716</td>\n",
       "      <td>0.008608</td>\n",
       "      <td>0.007078</td>\n",
       "      <td>-0.001281</td>\n",
       "      <td>-0.011512</td>\n",
       "    </tr>\n",
       "    <tr>\n",
       "      <th>erp</th>\n",
       "      <td>-0.016242</td>\n",
       "      <td>-0.010345</td>\n",
       "      <td>-0.000480</td>\n",
       "      <td>0.005536</td>\n",
       "      <td>-0.005607</td>\n",
       "      <td>0.002996</td>\n",
       "      <td>-0.006145</td>\n",
       "      <td>-0.005761</td>\n",
       "      <td>0.003316</td>\n",
       "      <td>0.009516</td>\n",
       "      <td>...</td>\n",
       "      <td>0.009934</td>\n",
       "      <td>0.014764</td>\n",
       "      <td>0.007027</td>\n",
       "      <td>-0.018371</td>\n",
       "      <td>-0.004719</td>\n",
       "      <td>-0.014782</td>\n",
       "      <td>0.002812</td>\n",
       "      <td>0.004615</td>\n",
       "      <td>0.001645</td>\n",
       "      <td>-0.011892</td>\n",
       "    </tr>\n",
       "    <tr>\n",
       "      <th>job</th>\n",
       "      <td>-0.008651</td>\n",
       "      <td>-0.001555</td>\n",
       "      <td>-0.004076</td>\n",
       "      <td>-0.001120</td>\n",
       "      <td>-0.004862</td>\n",
       "      <td>0.002705</td>\n",
       "      <td>0.002882</td>\n",
       "      <td>-0.007530</td>\n",
       "      <td>0.005956</td>\n",
       "      <td>0.011128</td>\n",
       "      <td>...</td>\n",
       "      <td>-0.001708</td>\n",
       "      <td>0.001051</td>\n",
       "      <td>-0.001987</td>\n",
       "      <td>-0.021489</td>\n",
       "      <td>0.000793</td>\n",
       "      <td>0.004713</td>\n",
       "      <td>-0.010177</td>\n",
       "      <td>-0.000716</td>\n",
       "      <td>0.004099</td>\n",
       "      <td>-0.007206</td>\n",
       "    </tr>\n",
       "    <tr>\n",
       "      <th>tool</th>\n",
       "      <td>-0.011865</td>\n",
       "      <td>-0.009342</td>\n",
       "      <td>-0.001504</td>\n",
       "      <td>0.005254</td>\n",
       "      <td>-0.003472</td>\n",
       "      <td>0.005583</td>\n",
       "      <td>-0.006662</td>\n",
       "      <td>-0.000416</td>\n",
       "      <td>0.006649</td>\n",
       "      <td>0.016287</td>\n",
       "      <td>...</td>\n",
       "      <td>0.009960</td>\n",
       "      <td>0.010881</td>\n",
       "      <td>0.000766</td>\n",
       "      <td>-0.019515</td>\n",
       "      <td>-0.002002</td>\n",
       "      <td>-0.016077</td>\n",
       "      <td>0.006048</td>\n",
       "      <td>0.004214</td>\n",
       "      <td>0.004135</td>\n",
       "      <td>-0.014657</td>\n",
       "    </tr>\n",
       "    <tr>\n",
       "      <th>issue</th>\n",
       "      <td>-0.015772</td>\n",
       "      <td>-0.006304</td>\n",
       "      <td>0.005411</td>\n",
       "      <td>0.006732</td>\n",
       "      <td>-0.003413</td>\n",
       "      <td>0.008267</td>\n",
       "      <td>-0.003869</td>\n",
       "      <td>0.005201</td>\n",
       "      <td>0.005445</td>\n",
       "      <td>0.018389</td>\n",
       "      <td>...</td>\n",
       "      <td>0.004397</td>\n",
       "      <td>0.011000</td>\n",
       "      <td>0.005984</td>\n",
       "      <td>-0.017564</td>\n",
       "      <td>-0.007555</td>\n",
       "      <td>-0.014874</td>\n",
       "      <td>0.001849</td>\n",
       "      <td>0.007921</td>\n",
       "      <td>0.001594</td>\n",
       "      <td>-0.013562</td>\n",
       "    </tr>\n",
       "    <tr>\n",
       "      <th>scheduler</th>\n",
       "      <td>-0.008531</td>\n",
       "      <td>-0.001188</td>\n",
       "      <td>-0.003922</td>\n",
       "      <td>-0.001104</td>\n",
       "      <td>-0.005031</td>\n",
       "      <td>0.002717</td>\n",
       "      <td>0.003521</td>\n",
       "      <td>-0.006577</td>\n",
       "      <td>0.005959</td>\n",
       "      <td>0.011360</td>\n",
       "      <td>...</td>\n",
       "      <td>-0.002262</td>\n",
       "      <td>0.000548</td>\n",
       "      <td>-0.002183</td>\n",
       "      <td>-0.021260</td>\n",
       "      <td>0.000675</td>\n",
       "      <td>0.004915</td>\n",
       "      <td>-0.010356</td>\n",
       "      <td>-0.000444</td>\n",
       "      <td>0.003768</td>\n",
       "      <td>-0.006824</td>\n",
       "    </tr>\n",
       "    <tr>\n",
       "      <th>work</th>\n",
       "      <td>-0.014140</td>\n",
       "      <td>-0.002805</td>\n",
       "      <td>0.006086</td>\n",
       "      <td>0.011184</td>\n",
       "      <td>-0.008162</td>\n",
       "      <td>0.003416</td>\n",
       "      <td>0.002514</td>\n",
       "      <td>0.016811</td>\n",
       "      <td>0.002897</td>\n",
       "      <td>0.017283</td>\n",
       "      <td>...</td>\n",
       "      <td>0.001308</td>\n",
       "      <td>0.010734</td>\n",
       "      <td>-0.002394</td>\n",
       "      <td>-0.010437</td>\n",
       "      <td>-0.014324</td>\n",
       "      <td>-0.011632</td>\n",
       "      <td>0.001650</td>\n",
       "      <td>0.004375</td>\n",
       "      <td>-0.001095</td>\n",
       "      <td>-0.009012</td>\n",
       "    </tr>\n",
       "    <tr>\n",
       "      <th>fail</th>\n",
       "      <td>-0.008738</td>\n",
       "      <td>-0.001691</td>\n",
       "      <td>-0.003742</td>\n",
       "      <td>-0.001179</td>\n",
       "      <td>-0.004922</td>\n",
       "      <td>0.002983</td>\n",
       "      <td>0.002825</td>\n",
       "      <td>-0.007226</td>\n",
       "      <td>0.006206</td>\n",
       "      <td>0.011175</td>\n",
       "      <td>...</td>\n",
       "      <td>-0.001702</td>\n",
       "      <td>0.000872</td>\n",
       "      <td>-0.001763</td>\n",
       "      <td>-0.021593</td>\n",
       "      <td>0.000650</td>\n",
       "      <td>0.004871</td>\n",
       "      <td>-0.010370</td>\n",
       "      <td>-0.000546</td>\n",
       "      <td>0.004171</td>\n",
       "      <td>-0.007238</td>\n",
       "    </tr>\n",
       "    <tr>\n",
       "      <th>reset</th>\n",
       "      <td>-0.016957</td>\n",
       "      <td>-0.007187</td>\n",
       "      <td>0.002438</td>\n",
       "      <td>0.009352</td>\n",
       "      <td>-0.008369</td>\n",
       "      <td>0.000960</td>\n",
       "      <td>-0.002797</td>\n",
       "      <td>0.008084</td>\n",
       "      <td>-0.001200</td>\n",
       "      <td>0.011152</td>\n",
       "      <td>...</td>\n",
       "      <td>0.007417</td>\n",
       "      <td>0.014480</td>\n",
       "      <td>0.001661</td>\n",
       "      <td>-0.007406</td>\n",
       "      <td>-0.013147</td>\n",
       "      <td>-0.016364</td>\n",
       "      <td>0.006600</td>\n",
       "      <td>0.005860</td>\n",
       "      <td>-0.005484</td>\n",
       "      <td>-0.010170</td>\n",
       "    </tr>\n",
       "    <tr>\n",
       "      <th>user</th>\n",
       "      <td>-0.015664</td>\n",
       "      <td>-0.008731</td>\n",
       "      <td>0.003361</td>\n",
       "      <td>0.007956</td>\n",
       "      <td>-0.004463</td>\n",
       "      <td>0.005586</td>\n",
       "      <td>-0.005172</td>\n",
       "      <td>0.005408</td>\n",
       "      <td>0.003570</td>\n",
       "      <td>0.015744</td>\n",
       "      <td>...</td>\n",
       "      <td>0.007546</td>\n",
       "      <td>0.013191</td>\n",
       "      <td>0.004381</td>\n",
       "      <td>-0.013601</td>\n",
       "      <td>-0.008196</td>\n",
       "      <td>-0.017945</td>\n",
       "      <td>0.006993</td>\n",
       "      <td>0.007477</td>\n",
       "      <td>-0.000277</td>\n",
       "      <td>-0.013686</td>\n",
       "    </tr>\n",
       "    <tr>\n",
       "      <th>unable</th>\n",
       "      <td>-0.013354</td>\n",
       "      <td>-0.007491</td>\n",
       "      <td>0.004365</td>\n",
       "      <td>0.007656</td>\n",
       "      <td>-0.002077</td>\n",
       "      <td>0.009068</td>\n",
       "      <td>-0.004379</td>\n",
       "      <td>0.005155</td>\n",
       "      <td>0.006820</td>\n",
       "      <td>0.019105</td>\n",
       "      <td>...</td>\n",
       "      <td>0.006568</td>\n",
       "      <td>0.011228</td>\n",
       "      <td>0.004238</td>\n",
       "      <td>-0.018194</td>\n",
       "      <td>-0.005399</td>\n",
       "      <td>-0.016847</td>\n",
       "      <td>0.005449</td>\n",
       "      <td>0.006777</td>\n",
       "      <td>0.003373</td>\n",
       "      <td>-0.013935</td>\n",
       "    </tr>\n",
       "    <tr>\n",
       "      <th>sid</th>\n",
       "      <td>-0.013086</td>\n",
       "      <td>-0.008095</td>\n",
       "      <td>-0.006078</td>\n",
       "      <td>0.001360</td>\n",
       "      <td>-0.006839</td>\n",
       "      <td>-0.000897</td>\n",
       "      <td>-0.004127</td>\n",
       "      <td>-0.014565</td>\n",
       "      <td>0.004964</td>\n",
       "      <td>0.004448</td>\n",
       "      <td>...</td>\n",
       "      <td>0.007097</td>\n",
       "      <td>0.010946</td>\n",
       "      <td>0.003693</td>\n",
       "      <td>-0.021954</td>\n",
       "      <td>0.000903</td>\n",
       "      <td>-0.003145</td>\n",
       "      <td>-0.005057</td>\n",
       "      <td>-0.000901</td>\n",
       "      <td>0.003819</td>\n",
       "      <td>-0.008964</td>\n",
       "    </tr>\n",
       "    <tr>\n",
       "      <th>from</th>\n",
       "      <td>-0.008617</td>\n",
       "      <td>-0.001124</td>\n",
       "      <td>-0.003839</td>\n",
       "      <td>-0.001300</td>\n",
       "      <td>-0.004745</td>\n",
       "      <td>0.002808</td>\n",
       "      <td>0.003293</td>\n",
       "      <td>-0.007138</td>\n",
       "      <td>0.005786</td>\n",
       "      <td>0.011227</td>\n",
       "      <td>...</td>\n",
       "      <td>-0.002356</td>\n",
       "      <td>0.000530</td>\n",
       "      <td>-0.002177</td>\n",
       "      <td>-0.021059</td>\n",
       "      <td>0.000531</td>\n",
       "      <td>0.005391</td>\n",
       "      <td>-0.010607</td>\n",
       "      <td>-0.000748</td>\n",
       "      <td>0.003853</td>\n",
       "      <td>-0.006947</td>\n",
       "    </tr>\n",
       "    <tr>\n",
       "      <th>company</th>\n",
       "      <td>-0.005056</td>\n",
       "      <td>-0.001372</td>\n",
       "      <td>0.000107</td>\n",
       "      <td>0.004634</td>\n",
       "      <td>-0.002671</td>\n",
       "      <td>0.009932</td>\n",
       "      <td>0.008550</td>\n",
       "      <td>0.016746</td>\n",
       "      <td>0.005586</td>\n",
       "      <td>0.024671</td>\n",
       "      <td>...</td>\n",
       "      <td>-0.003821</td>\n",
       "      <td>-0.006151</td>\n",
       "      <td>-0.013500</td>\n",
       "      <td>-0.014670</td>\n",
       "      <td>-0.005249</td>\n",
       "      <td>-0.005040</td>\n",
       "      <td>0.003257</td>\n",
       "      <td>0.003545</td>\n",
       "      <td>0.002505</td>\n",
       "      <td>-0.010382</td>\n",
       "    </tr>\n",
       "    <tr>\n",
       "      <th>email</th>\n",
       "      <td>-0.018406</td>\n",
       "      <td>-0.003147</td>\n",
       "      <td>0.006774</td>\n",
       "      <td>0.005796</td>\n",
       "      <td>-0.005749</td>\n",
       "      <td>0.006363</td>\n",
       "      <td>-0.001367</td>\n",
       "      <td>0.013495</td>\n",
       "      <td>-0.001311</td>\n",
       "      <td>0.016445</td>\n",
       "      <td>...</td>\n",
       "      <td>-0.003209</td>\n",
       "      <td>0.004667</td>\n",
       "      <td>0.003695</td>\n",
       "      <td>-0.003275</td>\n",
       "      <td>-0.013097</td>\n",
       "      <td>-0.009641</td>\n",
       "      <td>0.001773</td>\n",
       "      <td>0.011418</td>\n",
       "      <td>-0.009057</td>\n",
       "      <td>-0.012678</td>\n",
       "    </tr>\n",
       "    <tr>\n",
       "      <th>access</th>\n",
       "      <td>-0.012054</td>\n",
       "      <td>-0.006713</td>\n",
       "      <td>0.003107</td>\n",
       "      <td>0.006068</td>\n",
       "      <td>-0.002036</td>\n",
       "      <td>0.009308</td>\n",
       "      <td>-0.002120</td>\n",
       "      <td>0.004760</td>\n",
       "      <td>0.006907</td>\n",
       "      <td>0.020842</td>\n",
       "      <td>...</td>\n",
       "      <td>0.005703</td>\n",
       "      <td>0.009282</td>\n",
       "      <td>0.001618</td>\n",
       "      <td>-0.018866</td>\n",
       "      <td>-0.004915</td>\n",
       "      <td>-0.015008</td>\n",
       "      <td>0.004724</td>\n",
       "      <td>0.006794</td>\n",
       "      <td>0.003274</td>\n",
       "      <td>-0.013999</td>\n",
       "    </tr>\n",
       "    <tr>\n",
       "      <th>error</th>\n",
       "      <td>-0.013686</td>\n",
       "      <td>-0.007898</td>\n",
       "      <td>0.003513</td>\n",
       "      <td>0.005546</td>\n",
       "      <td>-0.001920</td>\n",
       "      <td>0.008509</td>\n",
       "      <td>-0.005222</td>\n",
       "      <td>0.001067</td>\n",
       "      <td>0.009251</td>\n",
       "      <td>0.019197</td>\n",
       "      <td>...</td>\n",
       "      <td>0.005133</td>\n",
       "      <td>0.010186</td>\n",
       "      <td>0.005072</td>\n",
       "      <td>-0.021274</td>\n",
       "      <td>-0.002990</td>\n",
       "      <td>-0.013269</td>\n",
       "      <td>0.001723</td>\n",
       "      <td>0.006160</td>\n",
       "      <td>0.005694</td>\n",
       "      <td>-0.014772</td>\n",
       "    </tr>\n",
       "    <tr>\n",
       "      <th>need</th>\n",
       "      <td>-0.015528</td>\n",
       "      <td>-0.006670</td>\n",
       "      <td>0.004603</td>\n",
       "      <td>0.006141</td>\n",
       "      <td>-0.003643</td>\n",
       "      <td>0.008308</td>\n",
       "      <td>-0.003169</td>\n",
       "      <td>0.005836</td>\n",
       "      <td>0.005116</td>\n",
       "      <td>0.019390</td>\n",
       "      <td>...</td>\n",
       "      <td>0.004520</td>\n",
       "      <td>0.009384</td>\n",
       "      <td>0.004144</td>\n",
       "      <td>-0.017416</td>\n",
       "      <td>-0.007557</td>\n",
       "      <td>-0.014671</td>\n",
       "      <td>0.002855</td>\n",
       "      <td>0.008301</td>\n",
       "      <td>0.001397</td>\n",
       "      <td>-0.013955</td>\n",
       "    </tr>\n",
       "    <tr>\n",
       "      <th>account</th>\n",
       "      <td>-0.017671</td>\n",
       "      <td>-0.012711</td>\n",
       "      <td>-0.001093</td>\n",
       "      <td>0.006753</td>\n",
       "      <td>-0.005794</td>\n",
       "      <td>0.003952</td>\n",
       "      <td>-0.005886</td>\n",
       "      <td>-0.003546</td>\n",
       "      <td>0.004123</td>\n",
       "      <td>0.011295</td>\n",
       "      <td>...</td>\n",
       "      <td>0.010053</td>\n",
       "      <td>0.013908</td>\n",
       "      <td>0.005225</td>\n",
       "      <td>-0.017615</td>\n",
       "      <td>-0.004858</td>\n",
       "      <td>-0.014934</td>\n",
       "      <td>0.005855</td>\n",
       "      <td>0.005157</td>\n",
       "      <td>0.001986</td>\n",
       "      <td>-0.013286</td>\n",
       "    </tr>\n",
       "    <tr>\n",
       "      <th>ticket</th>\n",
       "      <td>-0.008886</td>\n",
       "      <td>-0.007169</td>\n",
       "      <td>-0.002459</td>\n",
       "      <td>0.007755</td>\n",
       "      <td>-0.005046</td>\n",
       "      <td>0.003372</td>\n",
       "      <td>-0.002652</td>\n",
       "      <td>0.021080</td>\n",
       "      <td>0.005462</td>\n",
       "      <td>0.022630</td>\n",
       "      <td>...</td>\n",
       "      <td>-0.004557</td>\n",
       "      <td>-0.005492</td>\n",
       "      <td>-0.016179</td>\n",
       "      <td>-0.002727</td>\n",
       "      <td>-0.004086</td>\n",
       "      <td>-0.007299</td>\n",
       "      <td>0.009929</td>\n",
       "      <td>0.004478</td>\n",
       "      <td>-0.002195</td>\n",
       "      <td>-0.018840</td>\n",
       "    </tr>\n",
       "    <tr>\n",
       "      <th>get</th>\n",
       "      <td>-0.014323</td>\n",
       "      <td>-0.007594</td>\n",
       "      <td>0.004556</td>\n",
       "      <td>0.005822</td>\n",
       "      <td>-0.001993</td>\n",
       "      <td>0.009261</td>\n",
       "      <td>-0.004328</td>\n",
       "      <td>0.002558</td>\n",
       "      <td>0.008015</td>\n",
       "      <td>0.019544</td>\n",
       "      <td>...</td>\n",
       "      <td>0.005120</td>\n",
       "      <td>0.010142</td>\n",
       "      <td>0.005842</td>\n",
       "      <td>-0.020581</td>\n",
       "      <td>-0.004403</td>\n",
       "      <td>-0.014305</td>\n",
       "      <td>0.002112</td>\n",
       "      <td>0.007133</td>\n",
       "      <td>0.004817</td>\n",
       "      <td>-0.014124</td>\n",
       "    </tr>\n",
       "    <tr>\n",
       "      <th>system</th>\n",
       "      <td>-0.014523</td>\n",
       "      <td>-0.008446</td>\n",
       "      <td>0.002117</td>\n",
       "      <td>0.007017</td>\n",
       "      <td>-0.003987</td>\n",
       "      <td>0.006013</td>\n",
       "      <td>-0.004699</td>\n",
       "      <td>0.002207</td>\n",
       "      <td>0.005949</td>\n",
       "      <td>0.016736</td>\n",
       "      <td>...</td>\n",
       "      <td>0.007802</td>\n",
       "      <td>0.012763</td>\n",
       "      <td>0.003946</td>\n",
       "      <td>-0.018060</td>\n",
       "      <td>-0.005805</td>\n",
       "      <td>-0.015816</td>\n",
       "      <td>0.004822</td>\n",
       "      <td>0.006190</td>\n",
       "      <td>0.002424</td>\n",
       "      <td>-0.013688</td>\n",
       "    </tr>\n",
       "    <tr>\n",
       "      <th>use</th>\n",
       "      <td>-0.014506</td>\n",
       "      <td>-0.007727</td>\n",
       "      <td>0.003771</td>\n",
       "      <td>0.006965</td>\n",
       "      <td>-0.003420</td>\n",
       "      <td>0.007315</td>\n",
       "      <td>-0.003472</td>\n",
       "      <td>0.005341</td>\n",
       "      <td>0.003142</td>\n",
       "      <td>0.017311</td>\n",
       "      <td>...</td>\n",
       "      <td>0.008320</td>\n",
       "      <td>0.012519</td>\n",
       "      <td>0.004246</td>\n",
       "      <td>-0.014856</td>\n",
       "      <td>-0.008216</td>\n",
       "      <td>-0.019179</td>\n",
       "      <td>0.007032</td>\n",
       "      <td>0.008002</td>\n",
       "      <td>-0.000003</td>\n",
       "      <td>-0.012354</td>\n",
       "    </tr>\n",
       "    <tr>\n",
       "      <th>name</th>\n",
       "      <td>-0.016558</td>\n",
       "      <td>-0.007066</td>\n",
       "      <td>0.007053</td>\n",
       "      <td>0.005167</td>\n",
       "      <td>-0.001657</td>\n",
       "      <td>0.009203</td>\n",
       "      <td>-0.002065</td>\n",
       "      <td>0.004628</td>\n",
       "      <td>-0.002377</td>\n",
       "      <td>0.014555</td>\n",
       "      <td>...</td>\n",
       "      <td>0.003663</td>\n",
       "      <td>0.011356</td>\n",
       "      <td>0.011394</td>\n",
       "      <td>-0.009183</td>\n",
       "      <td>-0.010178</td>\n",
       "      <td>-0.021397</td>\n",
       "      <td>0.003511</td>\n",
       "      <td>0.010471</td>\n",
       "      <td>-0.003717</td>\n",
       "      <td>-0.008952</td>\n",
       "    </tr>\n",
       "    <tr>\n",
       "      <th>would</th>\n",
       "      <td>-0.017143</td>\n",
       "      <td>-0.007782</td>\n",
       "      <td>0.004701</td>\n",
       "      <td>0.005736</td>\n",
       "      <td>-0.003532</td>\n",
       "      <td>0.008272</td>\n",
       "      <td>-0.004717</td>\n",
       "      <td>0.004562</td>\n",
       "      <td>0.003953</td>\n",
       "      <td>0.017967</td>\n",
       "      <td>...</td>\n",
       "      <td>0.006495</td>\n",
       "      <td>0.010865</td>\n",
       "      <td>0.006347</td>\n",
       "      <td>-0.016016</td>\n",
       "      <td>-0.008082</td>\n",
       "      <td>-0.016101</td>\n",
       "      <td>0.004655</td>\n",
       "      <td>0.009844</td>\n",
       "      <td>-0.000120</td>\n",
       "      <td>-0.014471</td>\n",
       "    </tr>\n",
       "    <tr>\n",
       "      <th>outlook</th>\n",
       "      <td>-0.015702</td>\n",
       "      <td>-0.005542</td>\n",
       "      <td>0.007299</td>\n",
       "      <td>0.007356</td>\n",
       "      <td>-0.002870</td>\n",
       "      <td>0.009487</td>\n",
       "      <td>-0.002022</td>\n",
       "      <td>0.008648</td>\n",
       "      <td>0.003705</td>\n",
       "      <td>0.019360</td>\n",
       "      <td>...</td>\n",
       "      <td>0.002155</td>\n",
       "      <td>0.009561</td>\n",
       "      <td>0.006744</td>\n",
       "      <td>-0.014369</td>\n",
       "      <td>-0.009167</td>\n",
       "      <td>-0.016211</td>\n",
       "      <td>0.001766</td>\n",
       "      <td>0.008663</td>\n",
       "      <td>0.000166</td>\n",
       "      <td>-0.011936</td>\n",
       "    </tr>\n",
       "    <tr>\n",
       "      <th>update</th>\n",
       "      <td>-0.012265</td>\n",
       "      <td>-0.009746</td>\n",
       "      <td>-0.000433</td>\n",
       "      <td>0.006884</td>\n",
       "      <td>-0.004199</td>\n",
       "      <td>0.005462</td>\n",
       "      <td>-0.006105</td>\n",
       "      <td>0.015310</td>\n",
       "      <td>0.006860</td>\n",
       "      <td>0.022564</td>\n",
       "      <td>...</td>\n",
       "      <td>-0.000106</td>\n",
       "      <td>0.000460</td>\n",
       "      <td>-0.008593</td>\n",
       "      <td>-0.008701</td>\n",
       "      <td>-0.003105</td>\n",
       "      <td>-0.011893</td>\n",
       "      <td>0.008894</td>\n",
       "      <td>0.005573</td>\n",
       "      <td>0.000464</td>\n",
       "      <td>-0.019192</td>\n",
       "    </tr>\n",
       "    <tr>\n",
       "      <th>change</th>\n",
       "      <td>-0.015139</td>\n",
       "      <td>-0.007969</td>\n",
       "      <td>0.003990</td>\n",
       "      <td>0.006907</td>\n",
       "      <td>-0.003304</td>\n",
       "      <td>0.008043</td>\n",
       "      <td>-0.003242</td>\n",
       "      <td>0.005110</td>\n",
       "      <td>0.004342</td>\n",
       "      <td>0.018304</td>\n",
       "      <td>...</td>\n",
       "      <td>0.007601</td>\n",
       "      <td>0.011749</td>\n",
       "      <td>0.004092</td>\n",
       "      <td>-0.017061</td>\n",
       "      <td>-0.007668</td>\n",
       "      <td>-0.017600</td>\n",
       "      <td>0.005779</td>\n",
       "      <td>0.007660</td>\n",
       "      <td>0.001472</td>\n",
       "      <td>-0.012742</td>\n",
       "    </tr>\n",
       "    <tr>\n",
       "      <th>...</th>\n",
       "      <td>...</td>\n",
       "      <td>...</td>\n",
       "      <td>...</td>\n",
       "      <td>...</td>\n",
       "      <td>...</td>\n",
       "      <td>...</td>\n",
       "      <td>...</td>\n",
       "      <td>...</td>\n",
       "      <td>...</td>\n",
       "      <td>...</td>\n",
       "      <td>...</td>\n",
       "      <td>...</td>\n",
       "      <td>...</td>\n",
       "      <td>...</td>\n",
       "      <td>...</td>\n",
       "      <td>...</td>\n",
       "      <td>...</td>\n",
       "      <td>...</td>\n",
       "      <td>...</td>\n",
       "      <td>...</td>\n",
       "      <td>...</td>\n",
       "    </tr>\n",
       "    <tr>\n",
       "      <th>international</th>\n",
       "      <td>-0.013679</td>\n",
       "      <td>-0.004855</td>\n",
       "      <td>0.003289</td>\n",
       "      <td>0.005587</td>\n",
       "      <td>-0.004167</td>\n",
       "      <td>0.008056</td>\n",
       "      <td>0.000965</td>\n",
       "      <td>0.007207</td>\n",
       "      <td>0.005222</td>\n",
       "      <td>0.021272</td>\n",
       "      <td>...</td>\n",
       "      <td>0.001985</td>\n",
       "      <td>0.006648</td>\n",
       "      <td>-0.000206</td>\n",
       "      <td>-0.017803</td>\n",
       "      <td>-0.007618</td>\n",
       "      <td>-0.010950</td>\n",
       "      <td>0.000510</td>\n",
       "      <td>0.006629</td>\n",
       "      <td>0.001650</td>\n",
       "      <td>-0.012226</td>\n",
       "    </tr>\n",
       "    <tr>\n",
       "      <th>affiliate</th>\n",
       "      <td>-0.013289</td>\n",
       "      <td>-0.004119</td>\n",
       "      <td>0.003201</td>\n",
       "      <td>0.005151</td>\n",
       "      <td>-0.004339</td>\n",
       "      <td>0.008491</td>\n",
       "      <td>0.002319</td>\n",
       "      <td>0.007036</td>\n",
       "      <td>0.005489</td>\n",
       "      <td>0.021271</td>\n",
       "      <td>...</td>\n",
       "      <td>0.000780</td>\n",
       "      <td>0.005255</td>\n",
       "      <td>-0.000347</td>\n",
       "      <td>-0.018631</td>\n",
       "      <td>-0.007163</td>\n",
       "      <td>-0.008946</td>\n",
       "      <td>-0.000721</td>\n",
       "      <td>0.006052</td>\n",
       "      <td>0.001787</td>\n",
       "      <td>-0.011693</td>\n",
       "    </tr>\n",
       "    <tr>\n",
       "      <th>definitely</th>\n",
       "      <td>-0.012710</td>\n",
       "      <td>-0.004472</td>\n",
       "      <td>0.003271</td>\n",
       "      <td>0.004858</td>\n",
       "      <td>-0.003800</td>\n",
       "      <td>0.008438</td>\n",
       "      <td>0.001748</td>\n",
       "      <td>0.007143</td>\n",
       "      <td>0.005467</td>\n",
       "      <td>0.021833</td>\n",
       "      <td>...</td>\n",
       "      <td>0.001730</td>\n",
       "      <td>0.006043</td>\n",
       "      <td>-0.000258</td>\n",
       "      <td>-0.018586</td>\n",
       "      <td>-0.007200</td>\n",
       "      <td>-0.009836</td>\n",
       "      <td>0.000377</td>\n",
       "      <td>0.006484</td>\n",
       "      <td>0.001528</td>\n",
       "      <td>-0.012192</td>\n",
       "    </tr>\n",
       "    <tr>\n",
       "      <th>sc</th>\n",
       "      <td>-0.012097</td>\n",
       "      <td>-0.003584</td>\n",
       "      <td>0.002190</td>\n",
       "      <td>0.003929</td>\n",
       "      <td>-0.003810</td>\n",
       "      <td>0.008434</td>\n",
       "      <td>0.002648</td>\n",
       "      <td>0.005399</td>\n",
       "      <td>0.006300</td>\n",
       "      <td>0.021236</td>\n",
       "      <td>...</td>\n",
       "      <td>0.000087</td>\n",
       "      <td>0.004220</td>\n",
       "      <td>-0.001280</td>\n",
       "      <td>-0.020077</td>\n",
       "      <td>-0.005551</td>\n",
       "      <td>-0.006872</td>\n",
       "      <td>-0.002175</td>\n",
       "      <td>0.004946</td>\n",
       "      <td>0.002928</td>\n",
       "      <td>-0.011127</td>\n",
       "    </tr>\n",
       "    <tr>\n",
       "      <th>suhrhtyju</th>\n",
       "      <td>-0.012229</td>\n",
       "      <td>-0.003716</td>\n",
       "      <td>0.003707</td>\n",
       "      <td>0.004582</td>\n",
       "      <td>-0.003343</td>\n",
       "      <td>0.008983</td>\n",
       "      <td>0.003017</td>\n",
       "      <td>0.007951</td>\n",
       "      <td>0.005264</td>\n",
       "      <td>0.022710</td>\n",
       "      <td>...</td>\n",
       "      <td>0.000883</td>\n",
       "      <td>0.004666</td>\n",
       "      <td>-0.000943</td>\n",
       "      <td>-0.017988</td>\n",
       "      <td>-0.007209</td>\n",
       "      <td>-0.009310</td>\n",
       "      <td>-0.000287</td>\n",
       "      <td>0.006416</td>\n",
       "      <td>0.001651</td>\n",
       "      <td>-0.011534</td>\n",
       "    </tr>\n",
       "    <tr>\n",
       "      <th>migration</th>\n",
       "      <td>-0.011110</td>\n",
       "      <td>-0.003673</td>\n",
       "      <td>0.002637</td>\n",
       "      <td>0.003269</td>\n",
       "      <td>-0.002555</td>\n",
       "      <td>0.009120</td>\n",
       "      <td>0.002756</td>\n",
       "      <td>0.005402</td>\n",
       "      <td>0.006825</td>\n",
       "      <td>0.021696</td>\n",
       "      <td>...</td>\n",
       "      <td>-0.000356</td>\n",
       "      <td>0.003588</td>\n",
       "      <td>-0.001218</td>\n",
       "      <td>-0.020298</td>\n",
       "      <td>-0.004457</td>\n",
       "      <td>-0.006273</td>\n",
       "      <td>-0.001636</td>\n",
       "      <td>0.005356</td>\n",
       "      <td>0.003826</td>\n",
       "      <td>-0.012179</td>\n",
       "    </tr>\n",
       "    <tr>\n",
       "      <th>disturb</th>\n",
       "      <td>-0.013448</td>\n",
       "      <td>-0.004422</td>\n",
       "      <td>0.003838</td>\n",
       "      <td>0.004832</td>\n",
       "      <td>-0.003603</td>\n",
       "      <td>0.008836</td>\n",
       "      <td>0.002194</td>\n",
       "      <td>0.007758</td>\n",
       "      <td>0.005071</td>\n",
       "      <td>0.021723</td>\n",
       "      <td>...</td>\n",
       "      <td>0.001367</td>\n",
       "      <td>0.006056</td>\n",
       "      <td>0.000162</td>\n",
       "      <td>-0.018052</td>\n",
       "      <td>-0.007738</td>\n",
       "      <td>-0.009982</td>\n",
       "      <td>0.000200</td>\n",
       "      <td>0.006935</td>\n",
       "      <td>0.001397</td>\n",
       "      <td>-0.011603</td>\n",
       "    </tr>\n",
       "    <tr>\n",
       "      <th>vmax</th>\n",
       "      <td>-0.010233</td>\n",
       "      <td>-0.002363</td>\n",
       "      <td>-0.000788</td>\n",
       "      <td>0.001945</td>\n",
       "      <td>-0.003485</td>\n",
       "      <td>0.006705</td>\n",
       "      <td>0.004411</td>\n",
       "      <td>0.001385</td>\n",
       "      <td>0.006602</td>\n",
       "      <td>0.018330</td>\n",
       "      <td>...</td>\n",
       "      <td>-0.000037</td>\n",
       "      <td>0.002825</td>\n",
       "      <td>-0.003548</td>\n",
       "      <td>-0.022104</td>\n",
       "      <td>-0.003038</td>\n",
       "      <td>-0.001276</td>\n",
       "      <td>-0.004693</td>\n",
       "      <td>0.002524</td>\n",
       "      <td>0.003172</td>\n",
       "      <td>-0.010280</td>\n",
       "    </tr>\n",
       "    <tr>\n",
       "      <th>filesystem</th>\n",
       "      <td>-0.013321</td>\n",
       "      <td>-0.004065</td>\n",
       "      <td>0.002739</td>\n",
       "      <td>0.005527</td>\n",
       "      <td>-0.005210</td>\n",
       "      <td>0.007545</td>\n",
       "      <td>0.002248</td>\n",
       "      <td>0.008262</td>\n",
       "      <td>0.005868</td>\n",
       "      <td>0.021553</td>\n",
       "      <td>...</td>\n",
       "      <td>0.000706</td>\n",
       "      <td>0.005261</td>\n",
       "      <td>-0.002717</td>\n",
       "      <td>-0.018338</td>\n",
       "      <td>-0.007890</td>\n",
       "      <td>-0.007450</td>\n",
       "      <td>-0.000403</td>\n",
       "      <td>0.006028</td>\n",
       "      <td>0.001405</td>\n",
       "      <td>-0.012417</td>\n",
       "    </tr>\n",
       "    <tr>\n",
       "      <th>mswineventlog</th>\n",
       "      <td>-0.013187</td>\n",
       "      <td>-0.003976</td>\n",
       "      <td>0.002411</td>\n",
       "      <td>0.004458</td>\n",
       "      <td>-0.004126</td>\n",
       "      <td>0.007967</td>\n",
       "      <td>0.002644</td>\n",
       "      <td>0.006446</td>\n",
       "      <td>0.005767</td>\n",
       "      <td>0.021294</td>\n",
       "      <td>...</td>\n",
       "      <td>0.000827</td>\n",
       "      <td>0.005163</td>\n",
       "      <td>-0.001148</td>\n",
       "      <td>-0.019201</td>\n",
       "      <td>-0.006789</td>\n",
       "      <td>-0.008378</td>\n",
       "      <td>-0.000805</td>\n",
       "      <td>0.005760</td>\n",
       "      <td>0.002020</td>\n",
       "      <td>-0.011870</td>\n",
       "    </tr>\n",
       "    <tr>\n",
       "      <th>mmaster</th>\n",
       "      <td>-0.014656</td>\n",
       "      <td>-0.003887</td>\n",
       "      <td>0.003296</td>\n",
       "      <td>0.003896</td>\n",
       "      <td>-0.004671</td>\n",
       "      <td>0.008229</td>\n",
       "      <td>0.001100</td>\n",
       "      <td>0.005589</td>\n",
       "      <td>0.004629</td>\n",
       "      <td>0.020242</td>\n",
       "      <td>...</td>\n",
       "      <td>-0.000100</td>\n",
       "      <td>0.005236</td>\n",
       "      <td>0.000954</td>\n",
       "      <td>-0.018405</td>\n",
       "      <td>-0.006825</td>\n",
       "      <td>-0.007580</td>\n",
       "      <td>-0.002160</td>\n",
       "      <td>0.006606</td>\n",
       "      <td>0.000572</td>\n",
       "      <td>-0.012182</td>\n",
       "    </tr>\n",
       "    <tr>\n",
       "      <th>infoblox</th>\n",
       "      <td>-0.013127</td>\n",
       "      <td>-0.004208</td>\n",
       "      <td>0.003658</td>\n",
       "      <td>0.004904</td>\n",
       "      <td>-0.003964</td>\n",
       "      <td>0.009049</td>\n",
       "      <td>0.002336</td>\n",
       "      <td>0.008625</td>\n",
       "      <td>0.005166</td>\n",
       "      <td>0.022124</td>\n",
       "      <td>...</td>\n",
       "      <td>0.000820</td>\n",
       "      <td>0.005284</td>\n",
       "      <td>-0.001176</td>\n",
       "      <td>-0.017725</td>\n",
       "      <td>-0.007390</td>\n",
       "      <td>-0.009921</td>\n",
       "      <td>0.000828</td>\n",
       "      <td>0.006787</td>\n",
       "      <td>0.001492</td>\n",
       "      <td>-0.012155</td>\n",
       "    </tr>\n",
       "    <tr>\n",
       "      <th>mss</th>\n",
       "      <td>-0.011166</td>\n",
       "      <td>-0.003121</td>\n",
       "      <td>0.003715</td>\n",
       "      <td>0.004233</td>\n",
       "      <td>-0.002351</td>\n",
       "      <td>0.009729</td>\n",
       "      <td>0.002875</td>\n",
       "      <td>0.007745</td>\n",
       "      <td>0.007288</td>\n",
       "      <td>0.022242</td>\n",
       "      <td>...</td>\n",
       "      <td>0.000122</td>\n",
       "      <td>0.003833</td>\n",
       "      <td>-0.001769</td>\n",
       "      <td>-0.019359</td>\n",
       "      <td>-0.006005</td>\n",
       "      <td>-0.007335</td>\n",
       "      <td>-0.000219</td>\n",
       "      <td>0.006225</td>\n",
       "      <td>0.002696</td>\n",
       "      <td>-0.012479</td>\n",
       "    </tr>\n",
       "    <tr>\n",
       "      <th>deposit</th>\n",
       "      <td>-0.012673</td>\n",
       "      <td>-0.004294</td>\n",
       "      <td>0.002074</td>\n",
       "      <td>0.004525</td>\n",
       "      <td>-0.003898</td>\n",
       "      <td>0.007784</td>\n",
       "      <td>0.001386</td>\n",
       "      <td>0.005841</td>\n",
       "      <td>0.006411</td>\n",
       "      <td>0.021117</td>\n",
       "      <td>...</td>\n",
       "      <td>0.000767</td>\n",
       "      <td>0.004908</td>\n",
       "      <td>-0.000820</td>\n",
       "      <td>-0.019178</td>\n",
       "      <td>-0.006159</td>\n",
       "      <td>-0.007916</td>\n",
       "      <td>-0.001294</td>\n",
       "      <td>0.005795</td>\n",
       "      <td>0.002286</td>\n",
       "      <td>-0.012223</td>\n",
       "    </tr>\n",
       "    <tr>\n",
       "      <th>andrdgrtew</th>\n",
       "      <td>-0.013679</td>\n",
       "      <td>-0.004713</td>\n",
       "      <td>0.002809</td>\n",
       "      <td>0.005009</td>\n",
       "      <td>-0.004210</td>\n",
       "      <td>0.008266</td>\n",
       "      <td>0.001300</td>\n",
       "      <td>0.006160</td>\n",
       "      <td>0.005422</td>\n",
       "      <td>0.020742</td>\n",
       "      <td>...</td>\n",
       "      <td>0.001604</td>\n",
       "      <td>0.006164</td>\n",
       "      <td>0.000253</td>\n",
       "      <td>-0.018495</td>\n",
       "      <td>-0.007217</td>\n",
       "      <td>-0.009606</td>\n",
       "      <td>-0.000009</td>\n",
       "      <td>0.006520</td>\n",
       "      <td>0.001867</td>\n",
       "      <td>-0.012349</td>\n",
       "    </tr>\n",
       "    <tr>\n",
       "      <th>typ</th>\n",
       "      <td>-0.013183</td>\n",
       "      <td>-0.004540</td>\n",
       "      <td>0.002558</td>\n",
       "      <td>0.004321</td>\n",
       "      <td>-0.004110</td>\n",
       "      <td>0.008382</td>\n",
       "      <td>0.002219</td>\n",
       "      <td>0.005350</td>\n",
       "      <td>0.005844</td>\n",
       "      <td>0.020845</td>\n",
       "      <td>...</td>\n",
       "      <td>0.001169</td>\n",
       "      <td>0.005569</td>\n",
       "      <td>-0.000428</td>\n",
       "      <td>-0.019643</td>\n",
       "      <td>-0.006506</td>\n",
       "      <td>-0.008450</td>\n",
       "      <td>-0.000763</td>\n",
       "      <td>0.005943</td>\n",
       "      <td>0.002330</td>\n",
       "      <td>-0.011879</td>\n",
       "    </tr>\n",
       "    <tr>\n",
       "      <th>daghyunny</th>\n",
       "      <td>-0.014070</td>\n",
       "      <td>-0.004526</td>\n",
       "      <td>0.004212</td>\n",
       "      <td>0.005499</td>\n",
       "      <td>-0.003332</td>\n",
       "      <td>0.008943</td>\n",
       "      <td>0.000965</td>\n",
       "      <td>0.008436</td>\n",
       "      <td>0.005001</td>\n",
       "      <td>0.022088</td>\n",
       "      <td>...</td>\n",
       "      <td>0.002121</td>\n",
       "      <td>0.006235</td>\n",
       "      <td>0.001085</td>\n",
       "      <td>-0.016666</td>\n",
       "      <td>-0.008142</td>\n",
       "      <td>-0.012175</td>\n",
       "      <td>0.001828</td>\n",
       "      <td>0.007714</td>\n",
       "      <td>0.000848</td>\n",
       "      <td>-0.013021</td>\n",
       "    </tr>\n",
       "    <tr>\n",
       "      <th>kds</th>\n",
       "      <td>-0.013335</td>\n",
       "      <td>-0.004089</td>\n",
       "      <td>0.003017</td>\n",
       "      <td>0.004251</td>\n",
       "      <td>-0.003776</td>\n",
       "      <td>0.008977</td>\n",
       "      <td>0.002461</td>\n",
       "      <td>0.005336</td>\n",
       "      <td>0.005021</td>\n",
       "      <td>0.020947</td>\n",
       "      <td>...</td>\n",
       "      <td>0.001521</td>\n",
       "      <td>0.005669</td>\n",
       "      <td>0.000517</td>\n",
       "      <td>-0.019218</td>\n",
       "      <td>-0.006628</td>\n",
       "      <td>-0.009144</td>\n",
       "      <td>-0.000477</td>\n",
       "      <td>0.006580</td>\n",
       "      <td>0.001693</td>\n",
       "      <td>-0.011256</td>\n",
       "    </tr>\n",
       "    <tr>\n",
       "      <th>santiago</th>\n",
       "      <td>-0.012749</td>\n",
       "      <td>-0.005023</td>\n",
       "      <td>0.004555</td>\n",
       "      <td>0.005477</td>\n",
       "      <td>-0.002831</td>\n",
       "      <td>0.009549</td>\n",
       "      <td>0.001609</td>\n",
       "      <td>0.009605</td>\n",
       "      <td>0.004035</td>\n",
       "      <td>0.022587</td>\n",
       "      <td>...</td>\n",
       "      <td>0.001993</td>\n",
       "      <td>0.006582</td>\n",
       "      <td>0.000498</td>\n",
       "      <td>-0.015778</td>\n",
       "      <td>-0.008274</td>\n",
       "      <td>-0.013365</td>\n",
       "      <td>0.003253</td>\n",
       "      <td>0.007663</td>\n",
       "      <td>0.000488</td>\n",
       "      <td>-0.012183</td>\n",
       "    </tr>\n",
       "    <tr>\n",
       "      <th>zcnc</th>\n",
       "      <td>-0.012281</td>\n",
       "      <td>-0.004267</td>\n",
       "      <td>0.002406</td>\n",
       "      <td>0.004658</td>\n",
       "      <td>-0.003653</td>\n",
       "      <td>0.008870</td>\n",
       "      <td>0.002811</td>\n",
       "      <td>0.007273</td>\n",
       "      <td>0.006763</td>\n",
       "      <td>0.021938</td>\n",
       "      <td>...</td>\n",
       "      <td>0.001471</td>\n",
       "      <td>0.004808</td>\n",
       "      <td>-0.002670</td>\n",
       "      <td>-0.020259</td>\n",
       "      <td>-0.006018</td>\n",
       "      <td>-0.008089</td>\n",
       "      <td>0.000275</td>\n",
       "      <td>0.005598</td>\n",
       "      <td>0.003335</td>\n",
       "      <td>-0.011872</td>\n",
       "    </tr>\n",
       "    <tr>\n",
       "      <th>olibercsu</th>\n",
       "      <td>-0.013466</td>\n",
       "      <td>-0.004353</td>\n",
       "      <td>0.003607</td>\n",
       "      <td>0.005024</td>\n",
       "      <td>-0.004050</td>\n",
       "      <td>0.008550</td>\n",
       "      <td>0.001689</td>\n",
       "      <td>0.007034</td>\n",
       "      <td>0.005231</td>\n",
       "      <td>0.021285</td>\n",
       "      <td>...</td>\n",
       "      <td>0.001349</td>\n",
       "      <td>0.006570</td>\n",
       "      <td>0.000250</td>\n",
       "      <td>-0.018759</td>\n",
       "      <td>-0.007678</td>\n",
       "      <td>-0.009963</td>\n",
       "      <td>-0.000160</td>\n",
       "      <td>0.006818</td>\n",
       "      <td>0.001773</td>\n",
       "      <td>-0.012027</td>\n",
       "    </tr>\n",
       "    <tr>\n",
       "      <th>sbinuxja</th>\n",
       "      <td>-0.014058</td>\n",
       "      <td>-0.004818</td>\n",
       "      <td>0.003773</td>\n",
       "      <td>0.005631</td>\n",
       "      <td>-0.003822</td>\n",
       "      <td>0.008974</td>\n",
       "      <td>0.001784</td>\n",
       "      <td>0.008623</td>\n",
       "      <td>0.004919</td>\n",
       "      <td>0.021851</td>\n",
       "      <td>...</td>\n",
       "      <td>0.001437</td>\n",
       "      <td>0.006138</td>\n",
       "      <td>-0.000232</td>\n",
       "      <td>-0.016977</td>\n",
       "      <td>-0.008118</td>\n",
       "      <td>-0.011185</td>\n",
       "      <td>0.001262</td>\n",
       "      <td>0.007223</td>\n",
       "      <td>0.000992</td>\n",
       "      <td>-0.012043</td>\n",
       "    </tr>\n",
       "    <tr>\n",
       "      <th>vtbegcho</th>\n",
       "      <td>-0.013925</td>\n",
       "      <td>-0.004315</td>\n",
       "      <td>0.003605</td>\n",
       "      <td>0.004970</td>\n",
       "      <td>-0.003839</td>\n",
       "      <td>0.009375</td>\n",
       "      <td>0.002452</td>\n",
       "      <td>0.008413</td>\n",
       "      <td>0.004752</td>\n",
       "      <td>0.021844</td>\n",
       "      <td>...</td>\n",
       "      <td>0.000701</td>\n",
       "      <td>0.005267</td>\n",
       "      <td>-0.000193</td>\n",
       "      <td>-0.017454</td>\n",
       "      <td>-0.007806</td>\n",
       "      <td>-0.009865</td>\n",
       "      <td>0.000289</td>\n",
       "      <td>0.007390</td>\n",
       "      <td>0.000907</td>\n",
       "      <td>-0.012183</td>\n",
       "    </tr>\n",
       "    <tr>\n",
       "      <th>nicolmghyu</th>\n",
       "      <td>-0.012899</td>\n",
       "      <td>-0.004089</td>\n",
       "      <td>0.003162</td>\n",
       "      <td>0.004704</td>\n",
       "      <td>-0.003764</td>\n",
       "      <td>0.008791</td>\n",
       "      <td>0.002896</td>\n",
       "      <td>0.006866</td>\n",
       "      <td>0.005719</td>\n",
       "      <td>0.021564</td>\n",
       "      <td>...</td>\n",
       "      <td>0.000721</td>\n",
       "      <td>0.005231</td>\n",
       "      <td>-0.000551</td>\n",
       "      <td>-0.019058</td>\n",
       "      <td>-0.006864</td>\n",
       "      <td>-0.008849</td>\n",
       "      <td>-0.000599</td>\n",
       "      <td>0.005981</td>\n",
       "      <td>0.002076</td>\n",
       "      <td>-0.011292</td>\n",
       "    </tr>\n",
       "    <tr>\n",
       "      <th>docx</th>\n",
       "      <td>-0.013886</td>\n",
       "      <td>-0.004833</td>\n",
       "      <td>0.003778</td>\n",
       "      <td>0.004954</td>\n",
       "      <td>-0.003522</td>\n",
       "      <td>0.008879</td>\n",
       "      <td>0.000978</td>\n",
       "      <td>0.007037</td>\n",
       "      <td>0.004638</td>\n",
       "      <td>0.021040</td>\n",
       "      <td>...</td>\n",
       "      <td>0.002015</td>\n",
       "      <td>0.006556</td>\n",
       "      <td>0.001149</td>\n",
       "      <td>-0.017335</td>\n",
       "      <td>-0.007926</td>\n",
       "      <td>-0.011692</td>\n",
       "      <td>0.000627</td>\n",
       "      <td>0.007518</td>\n",
       "      <td>0.000925</td>\n",
       "      <td>-0.012216</td>\n",
       "    </tr>\n",
       "    <tr>\n",
       "      <th>division</th>\n",
       "      <td>-0.014229</td>\n",
       "      <td>-0.004583</td>\n",
       "      <td>0.003879</td>\n",
       "      <td>0.004928</td>\n",
       "      <td>-0.003931</td>\n",
       "      <td>0.008956</td>\n",
       "      <td>0.001736</td>\n",
       "      <td>0.006690</td>\n",
       "      <td>0.004358</td>\n",
       "      <td>0.020806</td>\n",
       "      <td>...</td>\n",
       "      <td>0.001438</td>\n",
       "      <td>0.006413</td>\n",
       "      <td>0.001594</td>\n",
       "      <td>-0.017892</td>\n",
       "      <td>-0.007866</td>\n",
       "      <td>-0.010999</td>\n",
       "      <td>-0.000042</td>\n",
       "      <td>0.007146</td>\n",
       "      <td>0.001284</td>\n",
       "      <td>-0.011487</td>\n",
       "    </tr>\n",
       "    <tr>\n",
       "      <th>rak</th>\n",
       "      <td>-0.012335</td>\n",
       "      <td>-0.004055</td>\n",
       "      <td>0.004398</td>\n",
       "      <td>0.004852</td>\n",
       "      <td>-0.002718</td>\n",
       "      <td>0.009090</td>\n",
       "      <td>0.001507</td>\n",
       "      <td>0.007844</td>\n",
       "      <td>0.004261</td>\n",
       "      <td>0.022678</td>\n",
       "      <td>...</td>\n",
       "      <td>0.003089</td>\n",
       "      <td>0.006165</td>\n",
       "      <td>0.001252</td>\n",
       "      <td>-0.016335</td>\n",
       "      <td>-0.008425</td>\n",
       "      <td>-0.013429</td>\n",
       "      <td>0.001831</td>\n",
       "      <td>0.008102</td>\n",
       "      <td>0.000906</td>\n",
       "      <td>-0.012226</td>\n",
       "    </tr>\n",
       "    <tr>\n",
       "      <th>gncpezhx</th>\n",
       "      <td>-0.014807</td>\n",
       "      <td>-0.004062</td>\n",
       "      <td>0.004486</td>\n",
       "      <td>0.005188</td>\n",
       "      <td>-0.004017</td>\n",
       "      <td>0.008973</td>\n",
       "      <td>0.001713</td>\n",
       "      <td>0.009416</td>\n",
       "      <td>0.003447</td>\n",
       "      <td>0.021034</td>\n",
       "      <td>...</td>\n",
       "      <td>-0.000114</td>\n",
       "      <td>0.005569</td>\n",
       "      <td>0.001100</td>\n",
       "      <td>-0.015577</td>\n",
       "      <td>-0.008968</td>\n",
       "      <td>-0.010562</td>\n",
       "      <td>0.000473</td>\n",
       "      <td>0.007680</td>\n",
       "      <td>-0.000627</td>\n",
       "      <td>-0.011784</td>\n",
       "    </tr>\n",
       "    <tr>\n",
       "      <th>hopqcvza</th>\n",
       "      <td>-0.013480</td>\n",
       "      <td>-0.004154</td>\n",
       "      <td>0.003420</td>\n",
       "      <td>0.004605</td>\n",
       "      <td>-0.003759</td>\n",
       "      <td>0.009066</td>\n",
       "      <td>0.003035</td>\n",
       "      <td>0.007448</td>\n",
       "      <td>0.004853</td>\n",
       "      <td>0.021533</td>\n",
       "      <td>...</td>\n",
       "      <td>0.000211</td>\n",
       "      <td>0.005016</td>\n",
       "      <td>-0.000502</td>\n",
       "      <td>-0.018418</td>\n",
       "      <td>-0.007503</td>\n",
       "      <td>-0.009276</td>\n",
       "      <td>-0.000624</td>\n",
       "      <td>0.006289</td>\n",
       "      <td>0.001605</td>\n",
       "      <td>-0.011371</td>\n",
       "    </tr>\n",
       "    <tr>\n",
       "      <th>wilsfgtjl</th>\n",
       "      <td>-0.013902</td>\n",
       "      <td>-0.005238</td>\n",
       "      <td>0.004485</td>\n",
       "      <td>0.005473</td>\n",
       "      <td>-0.003377</td>\n",
       "      <td>0.008795</td>\n",
       "      <td>0.000614</td>\n",
       "      <td>0.007286</td>\n",
       "      <td>0.003576</td>\n",
       "      <td>0.020711</td>\n",
       "      <td>...</td>\n",
       "      <td>0.003185</td>\n",
       "      <td>0.007685</td>\n",
       "      <td>0.002365</td>\n",
       "      <td>-0.016311</td>\n",
       "      <td>-0.008485</td>\n",
       "      <td>-0.014309</td>\n",
       "      <td>0.002175</td>\n",
       "      <td>0.008101</td>\n",
       "      <td>0.000333</td>\n",
       "      <td>-0.011750</td>\n",
       "    </tr>\n",
       "  </tbody>\n",
       "</table>\n",
       "<p>3135 rows × 8000 columns</p>\n",
       "</div>"
      ],
      "text/plain": [
       "                   0         1         2         3         4         5     \\\n",
       "              -0.008200 -0.004274  0.007369  0.002968  0.002071  0.008801   \n",
       "not           -0.014580 -0.005491  0.007220  0.008396 -0.003233  0.008646   \n",
       "password      -0.014561 -0.009291  0.001716  0.007289 -0.004867  0.004147   \n",
       "erp           -0.016242 -0.010345 -0.000480  0.005536 -0.005607  0.002996   \n",
       "job           -0.008651 -0.001555 -0.004076 -0.001120 -0.004862  0.002705   \n",
       "tool          -0.011865 -0.009342 -0.001504  0.005254 -0.003472  0.005583   \n",
       "issue         -0.015772 -0.006304  0.005411  0.006732 -0.003413  0.008267   \n",
       "scheduler     -0.008531 -0.001188 -0.003922 -0.001104 -0.005031  0.002717   \n",
       "work          -0.014140 -0.002805  0.006086  0.011184 -0.008162  0.003416   \n",
       "fail          -0.008738 -0.001691 -0.003742 -0.001179 -0.004922  0.002983   \n",
       "reset         -0.016957 -0.007187  0.002438  0.009352 -0.008369  0.000960   \n",
       "user          -0.015664 -0.008731  0.003361  0.007956 -0.004463  0.005586   \n",
       "unable        -0.013354 -0.007491  0.004365  0.007656 -0.002077  0.009068   \n",
       "sid           -0.013086 -0.008095 -0.006078  0.001360 -0.006839 -0.000897   \n",
       "from          -0.008617 -0.001124 -0.003839 -0.001300 -0.004745  0.002808   \n",
       "company       -0.005056 -0.001372  0.000107  0.004634 -0.002671  0.009932   \n",
       "email         -0.018406 -0.003147  0.006774  0.005796 -0.005749  0.006363   \n",
       "access        -0.012054 -0.006713  0.003107  0.006068 -0.002036  0.009308   \n",
       "error         -0.013686 -0.007898  0.003513  0.005546 -0.001920  0.008509   \n",
       "need          -0.015528 -0.006670  0.004603  0.006141 -0.003643  0.008308   \n",
       "account       -0.017671 -0.012711 -0.001093  0.006753 -0.005794  0.003952   \n",
       "ticket        -0.008886 -0.007169 -0.002459  0.007755 -0.005046  0.003372   \n",
       "get           -0.014323 -0.007594  0.004556  0.005822 -0.001993  0.009261   \n",
       "system        -0.014523 -0.008446  0.002117  0.007017 -0.003987  0.006013   \n",
       "use           -0.014506 -0.007727  0.003771  0.006965 -0.003420  0.007315   \n",
       "name          -0.016558 -0.007066  0.007053  0.005167 -0.001657  0.009203   \n",
       "would         -0.017143 -0.007782  0.004701  0.005736 -0.003532  0.008272   \n",
       "outlook       -0.015702 -0.005542  0.007299  0.007356 -0.002870  0.009487   \n",
       "update        -0.012265 -0.009746 -0.000433  0.006884 -0.004199  0.005462   \n",
       "change        -0.015139 -0.007969  0.003990  0.006907 -0.003304  0.008043   \n",
       "...                 ...       ...       ...       ...       ...       ...   \n",
       "international -0.013679 -0.004855  0.003289  0.005587 -0.004167  0.008056   \n",
       "affiliate     -0.013289 -0.004119  0.003201  0.005151 -0.004339  0.008491   \n",
       "definitely    -0.012710 -0.004472  0.003271  0.004858 -0.003800  0.008438   \n",
       "sc            -0.012097 -0.003584  0.002190  0.003929 -0.003810  0.008434   \n",
       "suhrhtyju     -0.012229 -0.003716  0.003707  0.004582 -0.003343  0.008983   \n",
       "migration     -0.011110 -0.003673  0.002637  0.003269 -0.002555  0.009120   \n",
       "disturb       -0.013448 -0.004422  0.003838  0.004832 -0.003603  0.008836   \n",
       "vmax          -0.010233 -0.002363 -0.000788  0.001945 -0.003485  0.006705   \n",
       "filesystem    -0.013321 -0.004065  0.002739  0.005527 -0.005210  0.007545   \n",
       "mswineventlog -0.013187 -0.003976  0.002411  0.004458 -0.004126  0.007967   \n",
       "mmaster       -0.014656 -0.003887  0.003296  0.003896 -0.004671  0.008229   \n",
       "infoblox      -0.013127 -0.004208  0.003658  0.004904 -0.003964  0.009049   \n",
       "mss           -0.011166 -0.003121  0.003715  0.004233 -0.002351  0.009729   \n",
       "deposit       -0.012673 -0.004294  0.002074  0.004525 -0.003898  0.007784   \n",
       "andrdgrtew    -0.013679 -0.004713  0.002809  0.005009 -0.004210  0.008266   \n",
       "typ           -0.013183 -0.004540  0.002558  0.004321 -0.004110  0.008382   \n",
       "daghyunny     -0.014070 -0.004526  0.004212  0.005499 -0.003332  0.008943   \n",
       "kds           -0.013335 -0.004089  0.003017  0.004251 -0.003776  0.008977   \n",
       "santiago      -0.012749 -0.005023  0.004555  0.005477 -0.002831  0.009549   \n",
       "zcnc          -0.012281 -0.004267  0.002406  0.004658 -0.003653  0.008870   \n",
       "olibercsu     -0.013466 -0.004353  0.003607  0.005024 -0.004050  0.008550   \n",
       "sbinuxja      -0.014058 -0.004818  0.003773  0.005631 -0.003822  0.008974   \n",
       "vtbegcho      -0.013925 -0.004315  0.003605  0.004970 -0.003839  0.009375   \n",
       "nicolmghyu    -0.012899 -0.004089  0.003162  0.004704 -0.003764  0.008791   \n",
       "docx          -0.013886 -0.004833  0.003778  0.004954 -0.003522  0.008879   \n",
       "division      -0.014229 -0.004583  0.003879  0.004928 -0.003931  0.008956   \n",
       "rak           -0.012335 -0.004055  0.004398  0.004852 -0.002718  0.009090   \n",
       "gncpezhx      -0.014807 -0.004062  0.004486  0.005188 -0.004017  0.008973   \n",
       "hopqcvza      -0.013480 -0.004154  0.003420  0.004605 -0.003759  0.009066   \n",
       "wilsfgtjl     -0.013902 -0.005238  0.004485  0.005473 -0.003377  0.008795   \n",
       "\n",
       "                   6         7         8         9     ...      7990  \\\n",
       "              -0.001482  0.004184 -0.005004  0.015172  ...  0.008955   \n",
       "not           -0.002785  0.009224  0.005558  0.018986  ...  0.003407   \n",
       "password      -0.005295  0.002033  0.001133  0.011751  ...  0.011042   \n",
       "erp           -0.006145 -0.005761  0.003316  0.009516  ...  0.009934   \n",
       "job            0.002882 -0.007530  0.005956  0.011128  ... -0.001708   \n",
       "tool          -0.006662 -0.000416  0.006649  0.016287  ...  0.009960   \n",
       "issue         -0.003869  0.005201  0.005445  0.018389  ...  0.004397   \n",
       "scheduler      0.003521 -0.006577  0.005959  0.011360  ... -0.002262   \n",
       "work           0.002514  0.016811  0.002897  0.017283  ...  0.001308   \n",
       "fail           0.002825 -0.007226  0.006206  0.011175  ... -0.001702   \n",
       "reset         -0.002797  0.008084 -0.001200  0.011152  ...  0.007417   \n",
       "user          -0.005172  0.005408  0.003570  0.015744  ...  0.007546   \n",
       "unable        -0.004379  0.005155  0.006820  0.019105  ...  0.006568   \n",
       "sid           -0.004127 -0.014565  0.004964  0.004448  ...  0.007097   \n",
       "from           0.003293 -0.007138  0.005786  0.011227  ... -0.002356   \n",
       "company        0.008550  0.016746  0.005586  0.024671  ... -0.003821   \n",
       "email         -0.001367  0.013495 -0.001311  0.016445  ... -0.003209   \n",
       "access        -0.002120  0.004760  0.006907  0.020842  ...  0.005703   \n",
       "error         -0.005222  0.001067  0.009251  0.019197  ...  0.005133   \n",
       "need          -0.003169  0.005836  0.005116  0.019390  ...  0.004520   \n",
       "account       -0.005886 -0.003546  0.004123  0.011295  ...  0.010053   \n",
       "ticket        -0.002652  0.021080  0.005462  0.022630  ... -0.004557   \n",
       "get           -0.004328  0.002558  0.008015  0.019544  ...  0.005120   \n",
       "system        -0.004699  0.002207  0.005949  0.016736  ...  0.007802   \n",
       "use           -0.003472  0.005341  0.003142  0.017311  ...  0.008320   \n",
       "name          -0.002065  0.004628 -0.002377  0.014555  ...  0.003663   \n",
       "would         -0.004717  0.004562  0.003953  0.017967  ...  0.006495   \n",
       "outlook       -0.002022  0.008648  0.003705  0.019360  ...  0.002155   \n",
       "update        -0.006105  0.015310  0.006860  0.022564  ... -0.000106   \n",
       "change        -0.003242  0.005110  0.004342  0.018304  ...  0.007601   \n",
       "...                 ...       ...       ...       ...  ...       ...   \n",
       "international  0.000965  0.007207  0.005222  0.021272  ...  0.001985   \n",
       "affiliate      0.002319  0.007036  0.005489  0.021271  ...  0.000780   \n",
       "definitely     0.001748  0.007143  0.005467  0.021833  ...  0.001730   \n",
       "sc             0.002648  0.005399  0.006300  0.021236  ...  0.000087   \n",
       "suhrhtyju      0.003017  0.007951  0.005264  0.022710  ...  0.000883   \n",
       "migration      0.002756  0.005402  0.006825  0.021696  ... -0.000356   \n",
       "disturb        0.002194  0.007758  0.005071  0.021723  ...  0.001367   \n",
       "vmax           0.004411  0.001385  0.006602  0.018330  ... -0.000037   \n",
       "filesystem     0.002248  0.008262  0.005868  0.021553  ...  0.000706   \n",
       "mswineventlog  0.002644  0.006446  0.005767  0.021294  ...  0.000827   \n",
       "mmaster        0.001100  0.005589  0.004629  0.020242  ... -0.000100   \n",
       "infoblox       0.002336  0.008625  0.005166  0.022124  ...  0.000820   \n",
       "mss            0.002875  0.007745  0.007288  0.022242  ...  0.000122   \n",
       "deposit        0.001386  0.005841  0.006411  0.021117  ...  0.000767   \n",
       "andrdgrtew     0.001300  0.006160  0.005422  0.020742  ...  0.001604   \n",
       "typ            0.002219  0.005350  0.005844  0.020845  ...  0.001169   \n",
       "daghyunny      0.000965  0.008436  0.005001  0.022088  ...  0.002121   \n",
       "kds            0.002461  0.005336  0.005021  0.020947  ...  0.001521   \n",
       "santiago       0.001609  0.009605  0.004035  0.022587  ...  0.001993   \n",
       "zcnc           0.002811  0.007273  0.006763  0.021938  ...  0.001471   \n",
       "olibercsu      0.001689  0.007034  0.005231  0.021285  ...  0.001349   \n",
       "sbinuxja       0.001784  0.008623  0.004919  0.021851  ...  0.001437   \n",
       "vtbegcho       0.002452  0.008413  0.004752  0.021844  ...  0.000701   \n",
       "nicolmghyu     0.002896  0.006866  0.005719  0.021564  ...  0.000721   \n",
       "docx           0.000978  0.007037  0.004638  0.021040  ...  0.002015   \n",
       "division       0.001736  0.006690  0.004358  0.020806  ...  0.001438   \n",
       "rak            0.001507  0.007844  0.004261  0.022678  ...  0.003089   \n",
       "gncpezhx       0.001713  0.009416  0.003447  0.021034  ... -0.000114   \n",
       "hopqcvza       0.003035  0.007448  0.004853  0.021533  ...  0.000211   \n",
       "wilsfgtjl      0.000614  0.007286  0.003576  0.020711  ...  0.003185   \n",
       "\n",
       "                   7991      7992      7993      7994      7995      7996  \\\n",
       "               0.010702  0.011363 -0.003172 -0.010541 -0.028656  0.008682   \n",
       "not            0.010763  0.005201 -0.015919 -0.008925 -0.015553  0.002417   \n",
       "password       0.015335  0.005390 -0.012515 -0.008048 -0.019716  0.008608   \n",
       "erp            0.014764  0.007027 -0.018371 -0.004719 -0.014782  0.002812   \n",
       "job            0.001051 -0.001987 -0.021489  0.000793  0.004713 -0.010177   \n",
       "tool           0.010881  0.000766 -0.019515 -0.002002 -0.016077  0.006048   \n",
       "issue          0.011000  0.005984 -0.017564 -0.007555 -0.014874  0.001849   \n",
       "scheduler      0.000548 -0.002183 -0.021260  0.000675  0.004915 -0.010356   \n",
       "work           0.010734 -0.002394 -0.010437 -0.014324 -0.011632  0.001650   \n",
       "fail           0.000872 -0.001763 -0.021593  0.000650  0.004871 -0.010370   \n",
       "reset          0.014480  0.001661 -0.007406 -0.013147 -0.016364  0.006600   \n",
       "user           0.013191  0.004381 -0.013601 -0.008196 -0.017945  0.006993   \n",
       "unable         0.011228  0.004238 -0.018194 -0.005399 -0.016847  0.005449   \n",
       "sid            0.010946  0.003693 -0.021954  0.000903 -0.003145 -0.005057   \n",
       "from           0.000530 -0.002177 -0.021059  0.000531  0.005391 -0.010607   \n",
       "company       -0.006151 -0.013500 -0.014670 -0.005249 -0.005040  0.003257   \n",
       "email          0.004667  0.003695 -0.003275 -0.013097 -0.009641  0.001773   \n",
       "access         0.009282  0.001618 -0.018866 -0.004915 -0.015008  0.004724   \n",
       "error          0.010186  0.005072 -0.021274 -0.002990 -0.013269  0.001723   \n",
       "need           0.009384  0.004144 -0.017416 -0.007557 -0.014671  0.002855   \n",
       "account        0.013908  0.005225 -0.017615 -0.004858 -0.014934  0.005855   \n",
       "ticket        -0.005492 -0.016179 -0.002727 -0.004086 -0.007299  0.009929   \n",
       "get            0.010142  0.005842 -0.020581 -0.004403 -0.014305  0.002112   \n",
       "system         0.012763  0.003946 -0.018060 -0.005805 -0.015816  0.004822   \n",
       "use            0.012519  0.004246 -0.014856 -0.008216 -0.019179  0.007032   \n",
       "name           0.011356  0.011394 -0.009183 -0.010178 -0.021397  0.003511   \n",
       "would          0.010865  0.006347 -0.016016 -0.008082 -0.016101  0.004655   \n",
       "outlook        0.009561  0.006744 -0.014369 -0.009167 -0.016211  0.001766   \n",
       "update         0.000460 -0.008593 -0.008701 -0.003105 -0.011893  0.008894   \n",
       "change         0.011749  0.004092 -0.017061 -0.007668 -0.017600  0.005779   \n",
       "...                 ...       ...       ...       ...       ...       ...   \n",
       "international  0.006648 -0.000206 -0.017803 -0.007618 -0.010950  0.000510   \n",
       "affiliate      0.005255 -0.000347 -0.018631 -0.007163 -0.008946 -0.000721   \n",
       "definitely     0.006043 -0.000258 -0.018586 -0.007200 -0.009836  0.000377   \n",
       "sc             0.004220 -0.001280 -0.020077 -0.005551 -0.006872 -0.002175   \n",
       "suhrhtyju      0.004666 -0.000943 -0.017988 -0.007209 -0.009310 -0.000287   \n",
       "migration      0.003588 -0.001218 -0.020298 -0.004457 -0.006273 -0.001636   \n",
       "disturb        0.006056  0.000162 -0.018052 -0.007738 -0.009982  0.000200   \n",
       "vmax           0.002825 -0.003548 -0.022104 -0.003038 -0.001276 -0.004693   \n",
       "filesystem     0.005261 -0.002717 -0.018338 -0.007890 -0.007450 -0.000403   \n",
       "mswineventlog  0.005163 -0.001148 -0.019201 -0.006789 -0.008378 -0.000805   \n",
       "mmaster        0.005236  0.000954 -0.018405 -0.006825 -0.007580 -0.002160   \n",
       "infoblox       0.005284 -0.001176 -0.017725 -0.007390 -0.009921  0.000828   \n",
       "mss            0.003833 -0.001769 -0.019359 -0.006005 -0.007335 -0.000219   \n",
       "deposit        0.004908 -0.000820 -0.019178 -0.006159 -0.007916 -0.001294   \n",
       "andrdgrtew     0.006164  0.000253 -0.018495 -0.007217 -0.009606 -0.000009   \n",
       "typ            0.005569 -0.000428 -0.019643 -0.006506 -0.008450 -0.000763   \n",
       "daghyunny      0.006235  0.001085 -0.016666 -0.008142 -0.012175  0.001828   \n",
       "kds            0.005669  0.000517 -0.019218 -0.006628 -0.009144 -0.000477   \n",
       "santiago       0.006582  0.000498 -0.015778 -0.008274 -0.013365  0.003253   \n",
       "zcnc           0.004808 -0.002670 -0.020259 -0.006018 -0.008089  0.000275   \n",
       "olibercsu      0.006570  0.000250 -0.018759 -0.007678 -0.009963 -0.000160   \n",
       "sbinuxja       0.006138 -0.000232 -0.016977 -0.008118 -0.011185  0.001262   \n",
       "vtbegcho       0.005267 -0.000193 -0.017454 -0.007806 -0.009865  0.000289   \n",
       "nicolmghyu     0.005231 -0.000551 -0.019058 -0.006864 -0.008849 -0.000599   \n",
       "docx           0.006556  0.001149 -0.017335 -0.007926 -0.011692  0.000627   \n",
       "division       0.006413  0.001594 -0.017892 -0.007866 -0.010999 -0.000042   \n",
       "rak            0.006165  0.001252 -0.016335 -0.008425 -0.013429  0.001831   \n",
       "gncpezhx       0.005569  0.001100 -0.015577 -0.008968 -0.010562  0.000473   \n",
       "hopqcvza       0.005016 -0.000502 -0.018418 -0.007503 -0.009276 -0.000624   \n",
       "wilsfgtjl      0.007685  0.002365 -0.016311 -0.008485 -0.014309  0.002175   \n",
       "\n",
       "                   7997      7998      7999  \n",
       "               0.012150 -0.003976 -0.006338  \n",
       "not            0.007530  0.002180 -0.012525  \n",
       "password       0.007078 -0.001281 -0.011512  \n",
       "erp            0.004615  0.001645 -0.011892  \n",
       "job           -0.000716  0.004099 -0.007206  \n",
       "tool           0.004214  0.004135 -0.014657  \n",
       "issue          0.007921  0.001594 -0.013562  \n",
       "scheduler     -0.000444  0.003768 -0.006824  \n",
       "work           0.004375 -0.001095 -0.009012  \n",
       "fail          -0.000546  0.004171 -0.007238  \n",
       "reset          0.005860 -0.005484 -0.010170  \n",
       "user           0.007477 -0.000277 -0.013686  \n",
       "unable         0.006777  0.003373 -0.013935  \n",
       "sid           -0.000901  0.003819 -0.008964  \n",
       "from          -0.000748  0.003853 -0.006947  \n",
       "company        0.003545  0.002505 -0.010382  \n",
       "email          0.011418 -0.009057 -0.012678  \n",
       "access         0.006794  0.003274 -0.013999  \n",
       "error          0.006160  0.005694 -0.014772  \n",
       "need           0.008301  0.001397 -0.013955  \n",
       "account        0.005157  0.001986 -0.013286  \n",
       "ticket         0.004478 -0.002195 -0.018840  \n",
       "get            0.007133  0.004817 -0.014124  \n",
       "system         0.006190  0.002424 -0.013688  \n",
       "use            0.008002 -0.000003 -0.012354  \n",
       "name           0.010471 -0.003717 -0.008952  \n",
       "would          0.009844 -0.000120 -0.014471  \n",
       "outlook        0.008663  0.000166 -0.011936  \n",
       "update         0.005573  0.000464 -0.019192  \n",
       "change         0.007660  0.001472 -0.012742  \n",
       "...                 ...       ...       ...  \n",
       "international  0.006629  0.001650 -0.012226  \n",
       "affiliate      0.006052  0.001787 -0.011693  \n",
       "definitely     0.006484  0.001528 -0.012192  \n",
       "sc             0.004946  0.002928 -0.011127  \n",
       "suhrhtyju      0.006416  0.001651 -0.011534  \n",
       "migration      0.005356  0.003826 -0.012179  \n",
       "disturb        0.006935  0.001397 -0.011603  \n",
       "vmax           0.002524  0.003172 -0.010280  \n",
       "filesystem     0.006028  0.001405 -0.012417  \n",
       "mswineventlog  0.005760  0.002020 -0.011870  \n",
       "mmaster        0.006606  0.000572 -0.012182  \n",
       "infoblox       0.006787  0.001492 -0.012155  \n",
       "mss            0.006225  0.002696 -0.012479  \n",
       "deposit        0.005795  0.002286 -0.012223  \n",
       "andrdgrtew     0.006520  0.001867 -0.012349  \n",
       "typ            0.005943  0.002330 -0.011879  \n",
       "daghyunny      0.007714  0.000848 -0.013021  \n",
       "kds            0.006580  0.001693 -0.011256  \n",
       "santiago       0.007663  0.000488 -0.012183  \n",
       "zcnc           0.005598  0.003335 -0.011872  \n",
       "olibercsu      0.006818  0.001773 -0.012027  \n",
       "sbinuxja       0.007223  0.000992 -0.012043  \n",
       "vtbegcho       0.007390  0.000907 -0.012183  \n",
       "nicolmghyu     0.005981  0.002076 -0.011292  \n",
       "docx           0.007518  0.000925 -0.012216  \n",
       "division       0.007146  0.001284 -0.011487  \n",
       "rak            0.008102  0.000906 -0.012226  \n",
       "gncpezhx       0.007680 -0.000627 -0.011784  \n",
       "hopqcvza       0.006289  0.001605 -0.011371  \n",
       "wilsfgtjl      0.008101  0.000333 -0.011750  \n",
       "\n",
       "[3135 rows x 8000 columns]"
      ]
     },
     "execution_count": 113,
     "metadata": {},
     "output_type": "execute_result"
    }
   ],
   "source": [
    "word_vectors"
   ]
  },
  {
   "cell_type": "code",
   "execution_count": 114,
   "metadata": {},
   "outputs": [],
   "source": [
    "tsne_input = word_vectors"
   ]
  },
  {
   "cell_type": "code",
   "execution_count": 115,
   "metadata": {},
   "outputs": [],
   "source": [
    "tsne = TSNE()\n",
    "tsne_vectors = tsne.fit_transform(tsne_input.values)"
   ]
  },
  {
   "cell_type": "code",
   "execution_count": 116,
   "metadata": {},
   "outputs": [
    {
     "data": {
      "text/plain": [
       "array([[ 12.129013 , -73.66862  ],\n",
       "       [ -3.3575761, -76.012924 ],\n",
       "       [-10.908725 , -82.0562   ],\n",
       "       ...,\n",
       "       [ 35.849987 , -44.7367   ],\n",
       "       [ 16.187765 ,   7.0224175],\n",
       "       [  5.2726274, -65.492256 ]], dtype=float32)"
      ]
     },
     "execution_count": 116,
     "metadata": {},
     "output_type": "execute_result"
    }
   ],
   "source": [
    "tsne_vectors"
   ]
  },
  {
   "cell_type": "code",
   "execution_count": 117,
   "metadata": {},
   "outputs": [],
   "source": [
    "tsne_vectors1 = pd.DataFrame(tsne_vectors,\n",
    "                            index=pd.Index(tsne_input.index),\n",
    "                            columns=['x_coord', 'y_coord'])\n",
    "tsne_vectors1['word'] = tsne_vectors1.index"
   ]
  },
  {
   "cell_type": "code",
   "execution_count": 118,
   "metadata": {},
   "outputs": [
    {
     "data": {
      "text/html": [
       "\n",
       "\n",
       "\n",
       "\n",
       "\n",
       "\n",
       "  <div class=\"bk-root\" id=\"02b69e34-62c9-4cea-ae24-bb84071859c9\" data-root-id=\"1005\"></div>\n"
      ]
     },
     "metadata": {},
     "output_type": "display_data"
    },
    {
     "data": {
      "application/javascript": [
       "(function(root) {\n",
       "  function embed_document(root) {\n",
       "    \n",
       "  var docs_json = {\"e4021356-f795-418d-b0ab-bf38bcce40db\":{\"roots\":{\"references\":[{\"attributes\":{\"below\":[{\"id\":\"1015\",\"type\":\"LinearAxis\"}],\"left\":[{\"id\":\"1020\",\"type\":\"LinearAxis\"}],\"outline_line_color\":{\"value\":null},\"plot_height\":800,\"plot_width\":800,\"renderers\":[{\"id\":\"1015\",\"type\":\"LinearAxis\"},{\"id\":\"1019\",\"type\":\"Grid\"},{\"id\":\"1020\",\"type\":\"LinearAxis\"},{\"id\":\"1024\",\"type\":\"Grid\"},{\"id\":\"1032\",\"type\":\"BoxAnnotation\"},{\"id\":\"1035\",\"type\":\"BoxAnnotation\"},{\"id\":\"1046\",\"type\":\"GlyphRenderer\"}],\"title\":{\"id\":\"1004\",\"type\":\"Title\"},\"toolbar\":{\"id\":\"1030\",\"type\":\"Toolbar\"},\"x_range\":{\"id\":\"1007\",\"type\":\"DataRange1d\"},\"x_scale\":{\"id\":\"1011\",\"type\":\"LinearScale\"},\"y_range\":{\"id\":\"1009\",\"type\":\"DataRange1d\"},\"y_scale\":{\"id\":\"1013\",\"type\":\"LinearScale\"}},\"id\":\"1005\",\"subtype\":\"Figure\",\"type\":\"Plot\"},{\"attributes\":{\"dimension\":1,\"grid_line_color\":{\"value\":null},\"plot\":{\"id\":\"1005\",\"subtype\":\"Figure\",\"type\":\"Plot\"},\"ticker\":{\"id\":\"1021\",\"type\":\"BasicTicker\"}},\"id\":\"1024\",\"type\":\"Grid\"},{\"attributes\":{\"data_source\":{\"id\":\"1003\",\"type\":\"ColumnDataSource\"},\"glyph\":{\"id\":\"1043\",\"type\":\"Circle\"},\"hover_glyph\":{\"id\":\"1045\",\"type\":\"Circle\"},\"muted_glyph\":null,\"nonselection_glyph\":{\"id\":\"1044\",\"type\":\"Circle\"},\"selection_glyph\":null,\"view\":{\"id\":\"1047\",\"type\":\"CDSView\"}},\"id\":\"1046\",\"type\":\"GlyphRenderer\"},{\"attributes\":{\"grid_line_color\":{\"value\":null},\"plot\":{\"id\":\"1005\",\"subtype\":\"Figure\",\"type\":\"Plot\"},\"ticker\":{\"id\":\"1016\",\"type\":\"BasicTicker\"}},\"id\":\"1019\",\"type\":\"Grid\"},{\"attributes\":{\"bottom_units\":\"screen\",\"fill_alpha\":{\"value\":0.5},\"fill_color\":{\"value\":\"lightgrey\"},\"left_units\":\"screen\",\"level\":\"overlay\",\"line_alpha\":{\"value\":1.0},\"line_color\":{\"value\":\"black\"},\"line_dash\":[4,4],\"line_width\":{\"value\":2},\"plot\":null,\"render_mode\":\"css\",\"right_units\":\"screen\",\"top_units\":\"screen\"},\"id\":\"1035\",\"type\":\"BoxAnnotation\"},{\"attributes\":{},\"id\":\"1025\",\"type\":\"PanTool\"},{\"attributes\":{},\"id\":\"1016\",\"type\":\"BasicTicker\"},{\"attributes\":{\"callback\":null,\"data\":{\"index\":[\"\",\"not\",\"password\",\"erp\",\"job\",\"tool\",\"issue\",\"scheduler\",\"work\",\"fail\",\"reset\",\"user\",\"unable\",\"sid\",\"from\",\"company\",\"email\",\"access\",\"error\",\"need\",\"account\",\"ticket\",\"get\",\"system\",\"use\",\"name\",\"would\",\"outlook\",\"update\",\"change\",\"login\",\"message\",\"check\",\"start\",\"problem\",\"try\",\"hostname\",\"send\",\"phone\",\"lock\",\"connect\",\"contact\",\"team\",\"open\",\"new\",\"cid\",\"network\",\"log\",\"call\",\"time\",\"customer\",\"number\",\"request\",\"since\",\"attach\",\"server\",\"summary\",\"report\",\"create\",\"manager\",\"vpn\",\"pm\",\"order\",\"show\",\"usa\",\"microsoft\",\"pc\",\"site\",\"engineering\",\"print\",\"management\",\"type\",\"good\",\"skype\",\"mailto\",\"e\",\"computer\",\"file\",\"resolve\",\"internet\",\"crm\",\"printer\",\"subject\",\"unlock\",\"could\",\"et\",\"follow\",\"vendor\",\"language\",\"detail\",\"power\",\"screen\",\"na\",\"dear\",\"add\",\"plant\",\"x\",\"global\",\"also\",\"sale\",\"device\",\"find\",\"verify\",\"mail\",\"browser\",\"com\",\"go\",\"active\",\"remote\",\"explorer\",\"telephone\",\"platform\",\"service\",\"information\",\"application\",\"connection\",\"available\",\"run\",\"enter\",\"collaboration\",\"provide\",\"software\",\"backup\",\"production\",\"best\",\"one\",\"notify\",\"office\",\"laptop\",\"employee\",\"schedule\",\"windows\",\"outage\",\"know\",\"hr\",\"additional\",\"address\",\"maintenance\",\"gsc\",\"at\",\"telecom\",\"specify\",\"confirm\",\"back\",\"link\",\"top\",\"please\",\"complete\",\"circuit\",\"c\",\"image\",\"dial\",\"equipment\",\"let\",\"provider\",\"germany\",\"business\",\"the\",\"cert\",\"view\",\"abended\",\"advise\",\"block\",\"can\",\"maint\",\"verizon\",\"diagnostic\",\"window\",\"nwfodmhc\",\"exurcwkm\",\"note\",\"eu\",\"f\",\"require\",\"datum\",\"set\",\"b\",\"make\",\"location\",\"look\",\"folder\",\"drive\",\"support\",\"uacyltoe\",\"event\",\"delivery\",\"process\",\"like\",\"day\",\"inc\",\"no\",\"fix\",\"still\",\"possible\",\"document\",\"client\",\"install\",\"cc\",\"list\",\"status\",\"kindly\",\"code\",\"today\",\"may\",\"urgent\",\"portal\",\"come\",\"ad\",\"hxgaycze\",\"want\",\"\\u00f1\",\"take\",\"delete\",\"click\",\"give\",\"high\",\"per\",\"load\",\"attachment\",\"due\",\"i\",\"page\",\"incident\",\"mobile\",\"inplant\",\"via\",\"august\",\"material\",\"september\",\"correct\",\"assign\",\"group\",\"ask\",\"agent\",\"display\",\"mm\",\"item\",\"center\",\"screenshot\",\"say\",\"last\",\"app\",\"alert\",\"full\",\"inwarehouse\",\"ap\",\"miss\",\"driver\",\"october\",\"transaction\",\"question\",\"thank\",\"machine\",\"field\",\"sign\",\"g\",\"security\",\"caller\",\"appear\",\"setup\",\"approve\",\"ms\",\"pls\",\"happen\",\"ip\",\"label\",\"space\",\"download\",\"help\",\"old\",\"notification\",\"telephony\",\"monitor\",\"slow\",\"option\",\"many\",\"source\",\"instal\",\"week\",\"date\",\"be\",\"submit\",\"product\",\"select\",\"meeting\",\"teamviewer\",\"keep\",\"interface\",\"restart\",\"save\",\"jpg\",\"version\",\"two\",\"sw\",\"action\",\"host\",\"logon\",\"excel\",\"blank\",\"on\",\"assist\",\"india\",\"automatically\",\"longer\",\"priority\",\"dell\",\"query\",\"multiple\",\"wrong\",\"post\",\"seem\",\"model\",\"sincerely\",\"ess\",\"generate\",\"share\",\"aerp\",\"return\",\"respond\",\"port\",\"png\",\"result\",\"internal\",\"review\",\"passwords\",\"vip\",\"warehouse\",\"friendly\",\"kind\",\"local\",\"fine\",\"win\",\"disk\",\"indicate\",\"apac\",\"attempt\",\"this\",\"even\",\"close\",\"already\",\"copy\",\"remove\",\"another\",\"expense\",\"right\",\"supply\",\"engineer\",\"volume\",\"move\",\"form\",\"example\",\"mii\",\"default\",\"data\",\"end\",\"hard\",\"allow\",\"k\",\"scan\",\"wifi\",\"correctly\",\"u\",\"stop\",\"search\",\"external\",\"fw\",\"ethic\",\"next\",\"yesterday\",\"website\",\"switch\",\"setting\",\"enable\",\"refer\",\"monday\",\"impact\",\"friday\",\"iphone\",\"hana\",\"installation\",\"every\",\"currently\",\"solve\",\"exist\",\"ship\",\"expire\",\"consume\",\"sync\",\"several\",\"person\",\"well\",\"hrp\",\"distributor\",\"defective\",\"line\",\"response\",\"total\",\"out\",\"net\",\"without\",\"dsw\",\"r\",\"programdnty\",\"include\",\"etc\",\"home\",\"n\",\"distribution\",\"sure\",\"failure\",\"either\",\"reason\",\"activation\",\"exchange\",\"someone\",\"online\",\"desk\",\"launch\",\"month\",\"transfer\",\"function\",\"purchase\",\"reference\",\"hour\",\"ie\",\"hub\",\"cause\",\"admin\",\"interaction\",\"write\",\"drawing\",\"destination\",\"finance\",\"first\",\"turn\",\"web\",\"audio\",\"reach\",\"relate\",\"in\",\"greeting\",\"prompt\",\"handle\",\"occurrence\",\"dn\",\"release\",\"payroll\",\"plm\",\"investigate\",\"w\",\"training\",\"desktop\",\"sep\",\"primary\",\"operation\",\"medium\",\"procedure\",\"stock\",\"description\",\"tuesday\",\"quote\",\"upgrade\",\"pl\",\"occur\",\"prod\",\"area\",\"approval\",\"face\",\"read\",\"th\",\"content\",\"temporarily\",\"administrator\",\"gso\",\"immediately\",\"rtr\",\"join\",\"department\",\"condition\",\"database\",\"boot\",\"p\",\"however\",\"sender\",\"certificate\",\"case\",\"welcome\",\"concern\",\"reboot\",\"traffic\",\"value\",\"restore\",\"future\",\"people\",\"count\",\"po\",\"regard\",\"username\",\"authorize\",\"directory\",\"recipient\",\"chain\",\"supervisor\",\"importance\",\"determine\",\"replace\",\"daily\",\"unlocked\",\"pdf\",\"mention\",\"\\u00ef\",\"cost\",\"project\",\"south\",\"control\",\"warning\",\"purpose\",\"sr\",\"nothing\",\"incorrect\",\"sto\",\"personal\",\"different\",\"configure\",\"deny\",\"current\",\"continue\",\"activity\",\"wednesday\",\"delegate\",\"free\",\"tcp\",\"wireless\",\"cold\",\"netweaver\",\"director\",\"within\",\"output\",\"bobj\",\"locate\",\"exe\",\"processing\",\"ws\",\"technical\",\"gb\",\"ewew\",\"button\",\"needful\",\"reporting\",\"thursday\",\"affect\",\"record\",\"accept\",\"price\",\"minute\",\"plan\",\"describe\",\"tab\",\"always\",\"colleague\",\"permission\",\"analysis\",\"contain\",\"to\",\"extend\",\"shot\",\"perform\",\"something\",\"bex\",\"must\",\"mr\",\"recently\",\"state\",\"directly\",\"re\",\"tell\",\"partner\",\"box\",\"soon\",\"escalate\",\"floor\",\"co\",\"gmbh\",\"correspond\",\"pick\",\"hp\",\"way\",\"mistake\",\"detect\",\"ex\",\"discount\",\"room\",\"credential\",\"mit\",\"h\",\"explicit\",\"calendar\",\"lose\",\"step\",\"bkwin\",\"pp\",\"workflow\",\"leave\",\"valid\",\"with\",\"domain\",\"rule\",\"escalation\",\"original\",\"following\",\"disclosure\",\"alternate\",\"point\",\"past\",\"ic\",\"services\",\"mailbox\",\"sms\",\"dmvpn\",\"put\",\"repeat\",\"amerirtca\",\"inform\",\"reinstall\",\"communication\",\"organization\",\"notice\",\"pop\",\"sample\",\"differently\",\"part\",\"entry\",\"java\",\"base\",\"applicable\",\"strictly\",\"prohibit\",\"org\",\"netch\",\"conversation\",\"effective\",\"guest\",\"long\",\"mpls\",\"repair\",\"instead\",\"info\",\"configuration\",\"think\",\"tax\",\"batch\",\"dc\",\"rakthyesh\",\"threshold\",\"session\",\"anymore\",\"disconnect\",\"law\",\"disclaimer\",\"place\",\"dev\",\"command\",\"shortly\",\"balance\",\"v\",\"shop\",\"ok\",\"lean\",\"drop\",\"german\",\"route\",\"gr\",\"critical\",\"non\",\"sound\",\"basis\",\"experience\",\"manage\",\"pull\",\"shipment\",\"profile\",\"assignment\",\"visitor\",\"for\",\"size\",\"shoot\",\"properly\",\"confidential\",\"cvss\",\"asa\",\"handling\",\"lan\",\"freeze\",\"cancel\",\"lot\",\"www\",\"lockout\",\"assistance\",\"manually\",\"blue\",\"url\",\"bw\",\"packet\",\"http\",\"j\",\"operator\",\"hear\",\"expect\",\"average\",\"aug\",\"soc\",\"upload\",\"etime\",\"attendance\",\"have\",\"forget\",\"bkbackup\",\"license\",\"member\",\"refresh\",\"side\",\"lead\",\"word\",\"activate\",\"alerting\",\"a\",\"early\",\"path\",\"card\",\"replacement\",\"task\",\"performance\",\"key\",\"ping\",\"least\",\"hotf\",\"recreate\",\"src\",\"dst\",\"urgently\",\"ensure\",\"method\",\"object\",\"de\",\"trouble\",\"travel\",\"text\",\"confirmation\",\"hq\",\"saturday\",\"warm\",\"input\",\"bk\",\"mb\",\"nsu\",\"latitude\",\"unique\",\"intend\",\"amar\",\"directionality\",\"protocol\",\"scwx\",\"sherlock\",\"sle\",\"inspector\",\"duplication\",\"master\",\"identify\",\"billing\",\"cell\",\"dynamics\",\"resource\",\"anything\",\"necessary\",\"station\",\"reply\",\"bad\",\"and\",\"vlan\",\"overview\",\"tomorrow\",\"msd\",\"crash\",\"yet\",\"scanner\",\"general\",\"hxgayczeing\",\"edit\",\"none\",\"pr\",\"userid\",\"freundlichen\",\"spam\",\"dat\",\"protection\",\"spread\",\"empty\",\"tiyhum\",\"kuyiomar\",\"classification\",\"utc\",\"vid\",\"reroute\",\"outside\",\"single\",\"null\",\"qa\",\"node\",\"clear\",\"outbound\",\"mikhghytr\",\"behalf\",\"quality\",\"fy\",\"amount\",\"rth\",\"consider\",\"authorization\",\"ce\",\"firewall\",\"tablet\",\"format\",\"z\",\"pay\",\"wy\",\"comment\",\"mode\",\"est\",\"tag\",\"tracker\",\"validate\",\"moment\",\"daypay\",\"dp\",\"register\",\"dashbankrd\",\"light\",\"video\",\"snp\",\"heu\",\"regen\",\"sensor\",\"ramdntythanjesh\",\"l\",\"score\",\"malware\",\"worm\",\"ago\",\"match\",\"related\",\"activesync\",\"controller\",\"target\",\"year\",\"environment\",\"synchronize\",\"though\",\"receipt\",\"thing\",\"down\",\"bit\",\"ltd\",\"termination\",\"solution\",\"quick\",\"icon\",\"conference\",\"incoming\",\"proto\",\"infection\",\"disable\",\"when\",\"second\",\"companysecure\",\"matheywter\",\"hang\",\"arrange\",\"paper\",\"everything\",\"do\",\"senior\",\"azure\",\"mfg\",\"nee\",\"os\",\"wu\",\"mouse\",\"owner\",\"sorry\",\"terminate\",\"book\",\"secondary\",\"direct\",\"rad\",\"payment\",\"addressee\",\"cover\",\"battery\",\"true\",\"ontology\",\"flash\",\"speaker\",\"st\",\"stack\",\"apo\",\"observe\",\"shipping\",\"afternoon\",\"course\",\"ae\",\"connectivity\",\"requester\",\"appropriate\",\"detailed\",\"important\",\"instruction\",\"q\",\"filesys\",\"fill\",\"synchronization\",\"charge\",\"sa\",\"nd\",\"inside\",\"csr\",\"raise\",\"various\",\"symantec\",\"earlier\",\"infopath\",\"solely\",\"archive\",\"renew\",\"antivirus\",\"asset\",\"df\",\"arc\",\"rpc\",\"isensor\",\"malicious\",\"around\",\"appreciate\",\"standard\",\"till\",\"table\",\"oct\",\"cycle\",\"quarantine\",\"pricing\",\"onto\",\"fi\",\"credit\",\"period\",\"us\",\"router\",\"unit\",\"plug\",\"offline\",\"previous\",\"deu\",\"quantity\",\"successfully\",\"cable\",\"correlation\",\"picture\",\"virus\",\"european\",\"pad\",\"geolocation\",\"deliver\",\"sys\",\"gigabitethernet\",\"printing\",\"viewer\",\"requirement\",\"noise\",\"aw\",\"advance\",\"bill\",\"break\",\"agreement\",\"purchasing\",\"filter\",\"catalog\",\"hcm\",\"authentic\",\"intune\",\"automatic\",\"receive\",\"opening\",\"md\",\"shut\",\"inbox\",\"abort\",\"mac\",\"financial\",\"whenever\",\"\\ufb02en\",\"instance\",\"analyst\",\"bar\",\"legitimate\",\"min\",\"facility\",\"lhqsm\",\"israel\",\"flag\",\"ttl\",\"tos\",\"ascii\",\"hex\",\"signature\",\"recall\",\"hello\",\"usb\",\"utilization\",\"tel\",\"vacation\",\"map\",\"clock\",\"unavailable\",\"technology\",\"pa\",\"sartlgeo\",\"carrier\",\"eng\",\"fc\",\"unmonitored\",\"never\",\"again\",\"db\",\"wait\",\"much\",\"extra\",\"bottom\",\"conduct\",\"up\",\"execute\",\"rqfhiong\",\"public\",\"framdntyework\",\"whether\",\"deployment\",\"lauacyltoe\",\"sport\",\"itype\",\"dport\",\"icode\",\"iplen\",\"dgmlen\",\"seq\",\"ack\",\"tcplen\",\"pcap\",\"duration\",\"destine\",\"player\",\"markhtyete\",\"channel\",\"regional\",\"sql\",\"creation\",\"apply\",\"present\",\"flowchart\",\"word\\u00f6etc\",\"asia\",\"lhqksbdx\",\"workstation\",\"inquiry\",\"citrix\",\"suggest\",\"english\",\"press\",\"pssword\",\"gl\",\"statistic\",\"russia\",\"unauthorized\",\"choose\",\"pgi\",\"thx\",\"believe\",\"become\",\"across\",\"warn\",\"mp\",\"hoti\",\"emea\",\"discuss\",\"determined\",\"understand\",\"frequent\",\"figure\",\"role\",\"dock\",\"level\",\"hardware\",\"build\",\"cache\",\"therefore\",\"propagate\",\"oracle\",\"pwd\",\"stay\",\"vitalyst\",\"keybankrd\",\"extract\",\"fastethernet\",\"disabled\",\"section\",\"pe\",\"msg\",\"delay\",\"talk\",\"play\",\"assistant\",\"same\",\"fyi\",\"ecc\",\"after\",\"enterprise\",\"unfortunately\",\"sunday\",\"award\",\"core\",\"stick\",\"working\",\"barcode\",\"define\",\"bank\",\"owa\",\"zkwfqagb\",\"conversion\",\"sales\",\"stefyty\",\"adobe\",\"twice\",\"qty\",\"replicate\",\"party\",\"ee\",\"trojan\",\"couple\",\"self\",\"store\",\"gui\",\"revert\",\"variable\",\"pos\",\"authentication\",\"cpu\",\"loud\",\"export\",\"inbound\",\"monitoring\",\"trust\",\"wi\",\"ind\",\"tc\",\"relevant\",\"europe\",\"dwfiykeo\",\"argtxmvcumar\",\"of\",\"all\",\"opportunity\",\"qlhmawgi\",\"final\",\"responsible\",\"north\",\"hope\",\"pw\",\"engine\",\"really\",\"big\",\"ds\",\"duplicate\",\"normal\",\"red\",\"insert\",\"policy\",\"doc\",\"feedback\",\"visible\",\"frequently\",\"dac\",\"alicona\",\"er\",\"wg\",\"zebra\",\"sometimes\",\"okay\",\"three\",\"va\",\"tooltion\",\"main\",\"child\",\"july\",\"sf\",\"eventid\",\"compromise\",\"misconfiguration\",\"helpdesk\",\"bring\",\"benefit\",\"sp\",\"addition\",\"rectify\",\"order\\u00f6etc\",\"programdntys\",\"dns\",\"cookie\",\"reminder\",\"calculate\",\"corporate\",\"meet\",\"chg\",\"sgwipoxn\",\"pte\",\"personally\",\"complaint\",\"length\",\"queuing\",\"mbyte\",\"cl\",\"usually\",\"t\",\"template\",\"consultant\",\"import\",\"distribute\",\"exit\",\"cmp\",\"modify\",\"recognize\",\"limit\",\"ph\",\"op\",\"later\",\"extension\",\"fb\",\"eb\",\"ed\",\"third\",\"patching\",\"indicator\",\"paramdntyeter\",\"relay\",\"lease\",\"foreseeconndirection\",\"outgoing\",\"foreseeinternalip\",\"inspectoreventid\",\"ileatdatacenter\",\"foreseemaliciouscomment\",\"sherlockruleid\",\"att\",\"weaver\",\"securework\",\"chat\",\"zscr\",\"dly\",\"chn\",\"finally\",\"separate\",\"fa\",\"resolution\",\"module\",\"private\",\"rma\",\"reactivate\",\"hallo\",\"ts\",\"feature\",\"industrial\",\"weekly\",\"shift\",\"powder\",\"although\",\"suspect\",\"cut\",\"ooo\",\"encounter\",\"hot\",\"inventory\",\"background\",\"special\",\"piece\",\"monthly\",\"audit\",\"infrastructure\",\"emp\",\"kis\",\"contract\",\"visit\",\"pollaurid\",\"ac\",\"worker\",\"personnel\",\"o\",\"capture\",\"memory\",\"hold\",\"draw\",\"kls\",\"html\",\"android\",\"opportstorage\",\"now\",\"passive\",\"uri\",\"dhcpd\",\"dhcpack\",\"eth\",\"irreceivedtime\",\"unblock\",\"outbreak\",\"acl\",\"functionality\",\"sinkhole\",\"likely\",\"vulnerability\",\"autoresolve\",\"live\",\"static\",\"queue\",\"manufacturing\",\"intermittent\",\"en\",\"root\",\"prtgghj\",\"acce\",\"designate\",\"accounting\",\"aware\",\"hi\",\"see\",\"begin\",\"davidthd\",\"compliance\",\"maintain\",\"limited\",\"especially\",\"administration\",\"associate\",\"requisition\",\"toolmail\",\"retrieve\",\"edt\",\"normally\",\"awyl\",\"availability\",\"else\",\"toolkuznetsk\",\"region\",\"planner\",\"rgds\",\"hardpoint\",\"major\",\"poland\",\"addin\",\"registration\",\"country\",\"title\",\"bb\",\"far\",\"previously\",\"factory\",\"fan\",\"eemw\",\"staff\",\"manual\",\"category\",\"idea\",\"difficult\",\"zz\",\"road\",\"usd\",\"component\",\"weekend\",\"unknown\",\"immediate\",\"wgq\",\"pu\",\"unless\",\"recent\",\"remain\",\"shatryung\",\"amerirtcas\",\"possibility\",\"ability\",\"dthyan\",\"matheywtyuews\",\"loading\",\"rep\",\"slo\",\"hence\",\"real\",\"proceed\",\"kirtyle\",\"specification\",\"ff\",\"difference\",\"successful\",\"kirty\",\"convert\",\"srchostname\",\"inspectorruleid\",\"agentid\",\"ctainstanceid\",\"logtimestamp\",\"reject\",\"suspicious\",\"mapping\",\"ca\",\"damage\",\"dynamic\",\"bwhrattr\",\"ring\",\"thru\",\"configair\",\"probably\",\"invoke\",\"util\",\"iterator\",\"assume\",\"great\",\"dissemination\",\"recover\",\"notebook\",\"grind\",\"white\",\"acct\",\"maybe\",\"australia\",\"throw\",\"persist\",\"zip\",\"hand\",\"broadband\",\"safe\",\"forecast\",\"statement\",\"delegation\",\"erpgui\",\"ec\",\"docking\",\"datacenter\",\"nvyjtmca\",\"startup\",\"position\",\"wly\",\"dr\",\"bio\",\"vl\",\"trigger\",\"rate\",\"measure\",\"disconnection\",\"complain\",\"remotely\",\"impossible\",\"completely\",\"sit\",\"br\",\"knowledge\",\"manufacture\",\"adapter\",\"accordingly\",\"m\",\"establish\",\"here\",\"tracking\",\"custom\",\"s\",\"suddenly\",\"seat\",\"alarm\",\"particular\",\"judthtihty\",\"zhuyhts\",\"threat\",\"hall\",\"vogelfontein\",\"africa\",\"everyone\",\"gesch\",\"ftsf\",\"hrer\",\"nr\",\"secure\",\"ext\",\"answer\",\"large\",\"human\",\"resources\",\"fax\",\"tech\",\"prior\",\"runtime\",\"there\",\"belong\",\"exact\",\"currency\",\"ribbon\",\"auto\",\"utilize\",\"privilege\",\"completion\",\"mill\",\"eventtypeid\",\"ontologyid\",\"dstport\",\"srcport\",\"eventtypepriority\",\"koga\",\"sell\",\"connc\",\"permit\",\"gmt\",\"rebuild\",\"nt\",\"specific\",\"package\",\"bc\",\"inactive\",\"rfc\",\"wkly\",\"ef\",\"kiosk\",\"sv\",\"finish\",\"robhyertyj\",\"confidentiality\",\"mean\",\"pbx\",\"push\",\"dept\",\"ag\",\"administrative\",\"reassign\",\"permanently\",\"prtqx\",\"involve\",\"professional\",\"ready\",\"rd\",\"selection\",\"doubt\",\"deletion\",\"recommend\",\"mobility\",\"loss\",\"populate\",\"programdntyme\",\"only\",\"speed\",\"similar\",\"library\",\"slowly\",\"certain\",\"design\",\"quickly\",\"laserjet\",\"building\",\"fd\",\"locallist\",\"advice\",\"af\",\"companyguest\",\"temp\",\"often\",\"webpage\",\"von\",\"scanning\",\"bd\",\"ceo\",\"everybody\",\"bankrd\",\"neither\",\"huge\",\"fe\",\"low\",\"signal\",\"effect\",\"alwaysupservice\",\"near\",\"mine\",\"kick\",\"or\",\"und\",\"adjust\",\"hydstheud\",\"mddwwyleh\",\"night\",\"header\",\"highlight\",\"awyw\",\"headset\",\"grant\",\"accord\",\"keheu\",\"speak\",\"dd\",\"laser\",\"worklist\",\"actual\",\"away\",\"suppose\",\"along\",\"revenue\",\"sort\",\"greet\",\"marftgytin\",\"column\",\"regular\",\"dierppear\",\"little\",\"ios\",\"logic\",\"insufficient\",\"sheet\",\"operate\",\"serve\",\"kurtyar\",\"round\",\"useid\",\"robot\",\"kg\",\"ab\",\"switzerland\",\"double\",\"reverse\",\"practice\",\"ctoc\",\"attacker\",\"iso\",\"gte\",\"singapore\",\"evaluationmodels\",\"ngm\",\"employment\",\"payslip\",\"dierppeare\",\"uk\",\"stamp\",\"rollfgyuej\",\"slip\",\"specifically\",\"continuously\",\"that\",\"privileged\",\"copying\",\"despite\",\"below\",\"virtual\",\"upon\",\"sept\",\"ndigung\",\"sponsor\",\"reflect\",\"small\",\"entire\",\"catalogue\",\"wk\",\"stand\",\"success\",\"sso\",\"beshryu\",\"guard\",\"ignore\",\"misplace\",\"head\",\"respect\",\"flow\",\"hpqc\",\"analytic\",\"gesendet\",\"betreff\",\"prevent\",\"touch\",\"dba\",\"samsung\",\"lib\",\"salary\",\"powerpoint\",\"zero\",\"sd\",\"disconnected\",\"hardcopy\",\"constantly\",\"depend\",\"cif\",\"analyzer\",\"short\",\"term\",\"invalid\",\"johthryugftyson\",\"quotation\",\"aa\",\"tr\",\"drucker\",\"empw\",\"validity\",\"xlsx\",\"pass\",\"uninstalle\",\"storage\",\"plus\",\"initial\",\"cb\",\"eh\",\"improvement\",\"registergerirtcht\",\"than\",\"rfwlsoej\",\"yvtjzkaw\",\"track\",\"temperature\",\"nx\",\"forward\",\"cad\",\"def\",\"possibly\",\"chk\",\"ref\",\"rest\",\"reconfigure\",\"uplink\",\"enclose\",\"sev\",\"proper\",\"browse\",\"ramdnty\",\"anti\",\"intercompany\",\"pradtheyp\",\"attribute\",\"loop\",\"marfhtyio\",\"finished\",\"johthryu\",\"chance\",\"epmsystem\",\"incorrectly\",\"less\",\"counter\",\"engg\",\"synche\",\"chrome\",\"transport\",\"hit\",\"busy\",\"spreadsheet\",\"permanent\",\"potential\",\"ssl\",\"phishe\",\"avoid\",\"zhengpe\",\"da\",\"feed\",\"demand\",\"invoice\",\"index\",\"china\",\"zone\",\"reading\",\"except\",\"endpoint\",\"mscrm\",\"gru\\ufb02\",\"anubis\",\"probable\",\"infected\",\"nginx\",\"thu\",\"ng\",\"situation\",\"kathght\",\"shfhyw\",\"te\",\"mozilla\",\"lhqsid\",\"kb\",\"skv\",\"initiate\",\"how\",\"michghytuael\",\"what\",\"infect\",\"divestiture\",\"netbio\",\"blaster\",\"msblast\",\"lovsan\",\"welchia\",\"nachi\",\"reatle\",\"rerun\",\"encryption\",\"hw\",\"enquiry\",\"amssm\",\"rather\",\"enough\",\"participate\",\"seek\",\"consignment\",\"pi\",\"vice\",\"kd\",\"fwd\",\"indirect\",\"development\",\"wafglhdrhjop\",\"abap\",\"probleme\",\"font\",\"conf\",\"intranet\",\"reopen\",\"ticketing\",\"mbps\",\"president\",\"beyond\",\"rqxw\",\"accidentally\",\"gigaset\",\"terminal\",\"mass\",\"steel\",\"msc\",\"half\",\"vmsliazh\",\"ltksxmyv\",\"logo\",\"deactivate\",\"range\",\"himghtmelreich\",\"approver\",\"usas\",\"byte\",\"operational\",\"yellow\",\"menu\",\"mexico\",\"nc\",\"cv\",\"plugin\",\"interrupt\",\"pende\",\"\\u00f6\",\"sequence\",\"bma\",\"ps\",\"technician\",\"serial\",\"profit\",\"faulty\",\"apprentice\",\"logistics\",\"cf\",\"specialist\",\"xerox\",\"trial\",\"ever\",\"npc\",\"eagcldaten\",\"grade\",\"imei\",\"an\",\"kpm\",\"sao\",\"ist\",\"united\",\"maximum\",\"joiner\",\"difficulty\",\"unsuccessful\",\"cisco\",\"defect\",\"reader\",\"lunch\",\"centre\",\"punch\",\"posting\",\"carry\",\"ora\",\"bulk\",\"dir\",\"as\",\"dan\",\"vh\",\"supplier\",\"siemens\",\"ewewx\",\"pose\",\"miro\",\"automate\",\"nxd\",\"eagw\",\"absolutely\",\"designer\",\"into\",\"sm\",\"feel\",\"june\",\"newly\",\"reimbursement\",\"partial\",\"correction\",\"anyway\",\"cd\",\"bf\",\"mgr\",\"history\",\"participant\",\"force\",\"tape\",\"research\",\"sabrthy\",\"swap\",\"tess\",\"d\",\"vfx\",\"panel\",\"markhty\",\"ba\",\"snapshot\",\"nicrhty\",\"erirtc\",\"snip\",\"usaed\",\"ea\",\"saver\",\"universal\",\"actually\",\"authority\",\"google\",\"smtp\",\"cvd\",\"together\",\"while\",\"fault\",\"prt\",\"movement\",\"nop\",\"dce\",\"certify\",\"easy\",\"thomklmas\",\"cec\",\"attend\",\"tologin\",\"victim\",\"execution\",\"srinfhyath\",\"dv\",\"attack\",\"shutdown\",\"ansi\",\"reimage\",\"usage\",\"ru\",\"relationship\",\"oneteam\",\"common\",\"jul\",\"misconfigure\",\"zdsxmcwu\",\"abende\",\"karaffa\",\"calculation\",\"srv\",\"accessible\",\"trace\",\"scratch\",\"scrap\",\"hxgayczeed\",\"dispatch\",\"acknowledgement\",\"parent\",\"inspection\",\"prospect\",\"await\",\"behavior\",\"sfb\",\"everytime\",\"publish\",\"otc\",\"sn\",\"dialog\",\"ftp\",\"lmsl\",\"updation\",\"optiplex\",\"memo\",\"mam\",\"by\",\"through\",\"temporary\",\"meter\",\"ewel\",\"auditor\",\"purchasingupstreamsso\",\"samaccountname\",\"xjhpznds\",\"odbc\",\"aidl\",\"hd\",\"repeatedly\",\"erro\",\"otherwise\",\"uwe\",\"workplace\",\"rrc\",\"trail\",\"shopfloor\",\"balancing\",\"encrypt\",\"pre\",\"central\",\"logistic\",\"indexing\",\"morning\",\"expedite\",\"pcs\",\"calculator\",\"dv\\u02c6zlettel\",\"rmt\",\"synch\",\"corrupt\",\"tooling\",\"almost\",\"thus\",\"variant\",\"letter\",\"bitte\",\"sie\",\"air\",\"hu\",\"physical\",\"zsd\",\"circle\",\"greatly\",\"color\",\"csd\",\"ha\",\"precision\",\"construct\",\"turkey\",\"invoicing\",\"evhw\",\"pro\",\"exception\",\"hash\",\"ui\",\"capacity\",\"severity\",\"sk\",\"liable\",\"bay\",\"remember\",\"rr\",\"launcher\",\"bob\",\"combination\",\"su\",\"earthwork\",\"ground\",\"duty\",\"fu\",\"ecs\",\"late\",\"sridthshar\",\"herytur\",\"pradyhtueep\",\"yyufs\",\"fmxcnwpu\",\"tcwrdqboinition\",\"timeout\",\"regardless\",\"sim\",\"briefly\",\"deal\",\"gtehdnyu\",\"trurthyuft\",\"visio\",\"defekt\",\"tier\",\"totally\",\"voucher\",\"validation\",\"blink\",\"connected\",\"allocate\",\"proxy\",\"coat\",\"stuck\",\"presentation\",\"agree\",\"karghyuen\",\"sec\",\"processor\",\"snap\",\"pcl\",\"shall\",\"exclude\",\"inter\",\"why\",\"fca\",\"clarification\",\"gt\",\"dealer\",\"definition\",\"responsibility\",\"compatibility\",\"appointment\",\"timecard\",\"shrugott\",\"tyhuellis\",\"characteristic\",\"kingdom\",\"communicate\",\"incomplete\",\"serious\",\"life\",\"inconvenience\",\"invite\",\"ppt\",\"world\",\"ahead\",\"script\",\"extraction\",\"unauthorised\",\"canada\",\"explain\",\"pack\",\"ipc\",\"commit\",\"former\",\"eastern\",\"nicht\",\"hrb\",\"alive\",\"foreseeexternalip\",\"vendorpriority\",\"isp\",\"furnace\",\"lacw\",\"familiar\",\"direction\",\"compensation\",\"gergryth\",\"cpic\",\"structure\",\"awareness\",\"accompany\",\"exempt\",\"shopping\",\"peer\",\"deploy\",\"gdhyrt\",\"muggftyali\",\"xt\",\"pds\",\"bin\",\"clean\",\"lisbon\",\"anbtr\",\"xf\",\"bluetooth\",\"trade\",\"sl\",\"sproc\",\"compatible\",\"ehs\",\"primarily\",\"germanytially\",\"compromised\",\"individual\",\"isensplant\",\"discover\",\"vulnerable\",\"effectively\",\"choice\",\"exploit\",\"exploitation\",\"constraint\",\"bom\",\"whole\",\"grugermany\",\"deeghyupak\",\"efdl\",\"sab\",\"news\",\"dot\",\"av\",\"quite\",\"screensaver\",\"historically\",\"epmap\",\"mapper\",\"locator\",\"datagramdnty\",\"smb\",\"ebhsm\",\"callie\",\"pollaurido\",\"tor\",\"thdjzolwronization\",\"palo\",\"patch\",\"integrity\",\"icmp\",\"srcassetofinterest\",\"xed\",\"scm\",\"mx\",\"bda\",\"gain\",\"expert\",\"cs\",\"outbox\",\"acrobat\",\"rom\",\"shi\",\"educate\",\"acc\",\"guide\",\"insurance\",\"receiver\",\"troubleshooting\",\"jan\",\"babiluntr\",\"eagl\",\"layer\",\"flicker\",\"cnc\",\"shortcut\",\"invitation\",\"am\",\"land\",\"soft\",\"freezing\",\"vsp\",\"alakrisyuhnyrtn\",\"collegue\",\"too\",\"consulting\",\"above\",\"poncacity\",\"cyber\",\"fr\",\"ii\",\"lowercase\",\"november\",\"topic\",\"jump\",\"bug\",\"spot\",\"transportation\",\"approximately\",\"csqe\",\"infonet\",\"perhaps\",\"mi\",\"vb\",\"anyone\",\"toold\",\"corp\",\"wzs\",\"fast\",\"portion\",\"vat\",\"documentation\",\"suite\",\"del\",\"implementation\",\"class\",\"roboworker\",\"city\",\"rmb\",\"console\",\"cantabria\",\"stat\",\"weight\",\"nice\",\"lagp\",\"networking\",\"used\",\"coast\",\"train\",\"cpp\",\"programdntym\",\"legal\",\"wild\",\"gentleman\",\"restriction\",\"projector\",\"commstorage\",\"prepare\",\"representative\",\"sha\",\"jet\",\"row\",\"backorder\",\"tim\",\"qs\",\"cursor\",\"manipulate\",\"partially\",\"max\",\"apple\",\"troubleshoot\",\"servers\",\"dabhruji\",\"receiving\",\"brand\",\"freundlichem\",\"planning\",\"loaner\",\"offer\",\"transmission\",\"analyze\",\"mtb\",\"adaptor\",\"elengineere\",\"un\",\"lrrsm\",\"generirtc\",\"popup\",\"obtain\",\"awb\",\"authorisation\",\"verification\",\"rj\",\"intermittently\",\"workgroup\",\"nov\",\"random\",\"petrghada\",\"trainer\",\"nathyresh\",\"oa\",\"rs\",\"bakyhr\",\"huhuyghe\",\"christgry\",\"knock\",\"regularly\",\"bhayhtrathramdnty\",\"mamilujli\",\"asst\",\"markhtye\",\"numerirtcal\",\"pur\",\"suhtnhdyio\",\"extent\",\"parkeyhrt\",\"jeffrghryey\",\"erkheim\",\"construction\",\"ir\",\"keyhtyvin\",\"toriaytun\",\"reduce\",\"front\",\"mismatch\",\"vvamrtryot\",\"reg\",\"flap\",\"npr\",\"ron\",\"more\",\"rzucjgvp\",\"ioqjgmah\",\"jdamieul\",\"fandyhgg\",\"vf\",\"character\",\"keyboard\",\"resale\",\"man\",\"wonder\",\"hrs\",\"hxgayczee\",\"reconciliation\",\"hotel\",\"toolcal\",\"mess\",\"correspondence\",\"checking\",\"printout\",\"indication\",\"favorite\",\"il\",\"buyer\",\"nyifqpmv\",\"kfirxjag\",\"copier\",\"failagain\",\"territory\",\"sufficient\",\"hello\\u00f6\",\"facilities\",\"prtqv\",\"tone\",\"workbook\",\"detection\",\"cust\",\"finding\",\"taiwan\",\"oss\",\"vv\",\"survey\",\"wrench\",\"earliest\",\"jb\",\"delta\",\"qiantang\",\"xin\",\"shanghai\",\"postal\",\"drill\",\"settle\",\"risk\",\"manjgtiry\",\"con\",\"cloud\",\"hsh\",\"aqihfoly\",\"xsrkthvf\",\"bls\",\"embed\",\"productivity\",\"bcd\",\"tom\",\"executable\",\"downloader\",\"xe\",\"lhql\",\"refererproxycorrelationurl\",\"vendoreventid\",\"tcpflag\",\"inlineaction\",\"globalproxycorrelationurl\",\"vendorversion\",\"element\",\"massive\",\"claim\",\"settlement\",\"edi\",\"liuytre\",\"udp\",\"noris\",\"watch\",\"segment\",\"realize\",\"suggestion\",\"able\",\"se\",\"environmental\",\"caution\",\"sole\",\"destrtgoy\",\"cart\",\"revise\",\"effort\",\"undeliverable\",\"txt\",\"selector\",\"lu\",\"ft\",\"val\",\"crosscomp\",\"posrt\",\"showing\",\"proposal\",\"smxoklny\",\"hbecskgl\",\"shathyra\",\"authorized\",\"produce\",\"coating\",\"csscdrill\",\"au\",\"cde\",\"cont\",\"ent\",\"xsso\",\"encoding\",\"foreign\",\"concerned\",\"campaign\",\"slowness\",\"hnynhsth\",\"jsuyhwssad\",\"xjhpznd\",\"rod\",\"es\",\"cn\",\"php\",\"scenario\",\"wlan\",\"workshop\",\"onsite\",\"dscsag\",\"zigioachstyac\",\"attachement\",\"indonesia\",\"pvd\",\"jashyht\",\"apul\",\"ita\",\"milano\",\"examine\",\"translate\",\"assigning\",\"easily\",\"certainly\",\"additionally\",\"dmz\",\"cve\",\"grid\",\"leverage\",\"urlencoded\",\"editor\",\"fact\",\"king\",\"rn\",\"apparently\",\"digital\",\"estorage\",\"productly\",\"imts\",\"respective\",\"orange\",\"erpstartsrv\",\"meantime\",\"zcor\",\"tip\",\"malaysia\",\"productive\",\"bokrgadu\",\"euobrlcn\",\"ctu\",\"intern\",\"paycheck\",\"pptx\",\"koenigsee\",\"dsccache\",\"flags\",\"syn\",\"macro\",\"iid\",\"ar\",\"vs\",\"wh\",\"lhqwx\",\"kt\",\"anonymize\",\"holiday\",\"fall\",\"assurance\",\"folk\",\"wanrtyg\",\"cutview\",\"franhtyu\",\"eight\",\"article\",\"echo\",\"tooldcvcgenratn\",\"filename\",\"uidgt\",\"flat\",\"versions\",\"reputation\",\"intrusion\",\"prevention\",\"eraser\",\"revocation\",\"sonar\",\"dsthostname\",\"xwbesorf\",\"dhcp\",\"guess\",\"care\",\"initiative\",\"abc\",\"al\",\"campus\",\"tm\",\"api\",\"bapi\",\"expiry\",\"roll\",\"waste\",\"mms\",\"apart\",\"pozna\",\"enhance\",\"wtqdyoin\",\"house\",\"prs\",\"both\",\"misplaced\",\"commercial\",\"ipbl\",\"beshryuliste\",\"uploading\",\"very\",\"wherein\",\"entrie\",\"beamer\",\"ware\",\"sandplant\",\"preserve\",\"ownership\",\"overall\",\"fully\",\"acceptance\",\"vksfrhdx\",\"njhaqket\",\"hint\",\"ksem\",\"globalengservice\",\"ia\",\"ransomware\",\"badge\",\"beginning\",\"before\",\"explore\",\"daylight\",\"saving\",\"crack\",\"hz\",\"mount\",\"ost\",\"automation\",\"develop\",\"music\",\"bwdpmbkp\",\"interruption\",\"ctc\",\"refuse\",\"commodity\",\"ethics\",\"emsw\",\"applications\",\"shared\",\"merdivan\",\"sinc\\u00ebre\",\"salutation\",\"eps\",\"kentip\",\"zheqafyo\",\"bqirpxag\",\"fence\",\"april\",\"modem\",\"sub\",\"guy\",\"off\",\"pasword\",\"iten\",\"qc\",\"cubicle\",\"corpbusinessdev\",\"whose\",\"capability\",\"leiter\",\"money\",\"configurator\",\"ibm\",\"pwr\",\"hmc\",\"mecftgobusa\",\"kenci\",\"iak\",\"wire\",\"attached\",\"scheduling\",\"stage\",\"interns\",\"west\",\"polycom\",\"fert\",\"holemake\",\"mex\",\"gray\",\"ear\",\"fp\",\"lady\",\"pin\",\"pweaver\",\"string\",\"glovia\",\"reinstate\",\"submittal\",\"bernardo\",\"campo\",\"edksm\",\"pray\",\"ups\",\"aplication\",\"court\",\"harald\",\"nnlein\",\"rar\",\"den\",\"hop\",\"intelligence\",\"msoffice\",\"formatheywte\",\"aspx\",\"nda\",\"exceed\",\"configured\",\"giuliasana\",\"byhdderni\",\"mat\",\"infostand\",\"quota\",\"lync\",\"graphic\",\"express\",\"ver\",\"bld\",\"psf\",\"zaf\",\"hire\",\"blocker\",\"archived\",\"tomashtgd\",\"mchectg\",\"itclukpe\",\"aimcfeko\",\"attention\",\"exec\",\"vc\",\"phishing\",\"fjaqbgnld\",\"yukdzwxs\",\"ramdntyassthywamy\",\"produktion\",\"pethrywr\",\"alt\",\"maryhtutina\",\"bauuyternfeyt\",\"gayhtjula\",\"mu\",\"danyhuie\",\"deyhtwet\",\"randomly\",\"property\",\"counsel\",\"migo\",\"zkwfqagbs\",\"closing\",\"mgmt\",\"lalthy\",\"vivthyek\",\"byuihand\",\"hotline\",\"li\",\"std\",\"vga\",\"solid\",\"bwhrertran\",\"psfshytd\",\"numerous\",\"doug\",\"systems\",\"afe\",\"black\",\"prtqi\",\"malfunction\",\"gokcerthy\",\"lt\",\"eva\",\"azm\",\"edksw\",\"javascript\",\"safety\",\"dialing\",\"unchecked\",\"photo\",\"iom\",\"chassis\",\"dob\",\"thrgxqsuojr\",\"tracert\",\"vsphere\",\"eagcutview\",\"virakv\",\"reachable\",\"dsc\",\"unreachable\",\"hierarchy\",\"pathuick\",\"march\",\"geoyhurg\",\"chriuimjiann\",\"compare\",\"bi\",\"charm\",\"wrongly\",\"vtykrubi\",\"whsipqno\",\"shesyhur\",\"wise\",\"managing\",\"sls\",\"left\",\"pulverleitstand\",\"abend\",\"config\",\"hrt\",\"st\\u02c6hr\",\"wothyehre\",\"oh\",\"pressure\",\"understanding\",\"symbol\",\"stream\",\"schlumhdyhter\",\"will\",\"closed\",\"apps\",\"ebus\",\"sind\",\"bunch\",\"fellow\",\"cash\",\"xhaomnjl\",\"ctusaqpr\",\"spool\",\"clearly\",\"anybody\",\"executive\",\"accordance\",\"spend\",\"scorecard\",\"erathyur\",\"smartphone\",\"vmware\",\"der\",\"aus\",\"originally\",\"ethical\",\"sipppr\",\"these\",\"estimate\",\"wish\",\"qwsjptlo\",\"krisyuhnyrt\",\"strange\",\"massage\",\"poor\",\"oprbatch\",\"consign\",\"tommyth\",\"duyhurmont\",\"eject\",\"grey\",\"excellence\",\"mwst\",\"qualify\",\"dardabthyr\",\"sun\",\"fengxian\",\"district\",\"chen\",\"qiao\",\"liu\",\"companycenter\",\"ot\",\"clhqsm\",\"alrthyu\",\"toolonic\",\"kvp\",\"panghyiraj\",\"shthuihog\",\"beschichtungsleitstand\",\"handheld\",\"gj\",\"operating\",\"knethyen\",\"grechduy\",\"mae\",\"smhdyhti\",\"haunm\",\"raw\",\"schtrtgoyht\",\"basic\",\"ssen\",\"inconsistent\",\"street\",\"bare\",\"xref\",\"foreseedstipgeo\",\"nld\",\"srcmacaddress\",\"bucket\",\"woman\",\"bridgex\",\"atp\",\"safrgyynjit\",\"disconnecting\",\"dg\",\"zno\",\"christgrytoph\",\"ti\",\"miiadmin\",\"weird\",\"sense\",\"accout\",\"nightly\",\"defender\",\"village\",\"required\",\"aes\",\"references\",\"yb\",\"vw\",\"cm\",\"planet\",\"earth\",\"les\",\"olympus\",\"sebfghkasthian\",\"tempuser\",\"layout\",\"recieve\",\"ghkkytu\",\"tempo\",\"rarily\",\"tml\",\"cook\",\"doma\",\"gzip\",\"abb\",\"banking\",\"oe\",\"closet\",\"usx\",\"chandruhdty\",\"xp\",\"ytd\",\"adjustment\",\"programdntya\",\"docad\",\"ebusiness\",\"msie\",\"xb\",\"invest\",\"organisation\",\"nobody\",\"estate\",\"sethdyr\",\"hdtyr\",\"opposite\",\"fiber\",\"restoration\",\"excise\",\"pthsqroz\",\"moedyanvess\",\"doe\",\"charger\",\"shed\",\"reconnect\",\"coworker\",\"dallas\",\"rm\",\"branch\",\"sinkholes\",\"false\",\"enforcement\",\"mitigation\",\"curious\",\"hierarchical\",\"naming\",\"entity\",\"locating\",\"authoritative\",\"subdomain\",\"hole\",\"routable\",\"logs\",\"somewhat\",\"benign\",\"ramdntyification\",\"leakage\",\"unlikely\",\"identifiable\",\"reputational\",\"beshryulist\",\"impede\",\"fea\",\"four\",\"simple\",\"smart\",\"corresponding\",\"toner\",\"mic\",\"infotype\",\"gthydanp\",\"lack\",\"injection\",\"running\",\"relatively\",\"cms\",\"zw\",\"lid\",\"dt\",\"but\",\"raghyvhdra\",\"najuty\",\"aborting\",\"zload\",\"nieghjyukea\",\"italy\",\"gf\",\"behind\",\"mti\",\"vbda\",\"stanfghyley\",\"guhtyke\",\"fmp\",\"tonight\",\"mandatory\",\"ghjkzalez\",\"abstechprogramdntym\",\"february\",\"earbud\",\"rabhtui\",\"zedlet\",\"january\",\"wear\",\"homburg\",\"junior\",\"contractor\",\"unlocking\",\"lhbsm\",\"leader\",\"emporarily\",\"serv\",\"over\",\"contribute\",\"oc\",\"implement\",\"eligibility\",\"nter\",\"gecko\",\"modific\",\"bur\",\"gap\",\"hebrew\",\"lmxl\",\"simfghon\",\"apologize\",\"aghynil\",\"formatheywting\",\"grinding\",\"dump\",\"khrtyujuine\",\"adoption\",\"cube\",\"presence\",\"vpns\",\"registry\",\"dnc\",\"danghtnuell\",\"rdp\",\"homepage\",\"lbdw\",\"matghyuthdw\",\"vk\",\"jc\",\"edml\",\"radiant\",\"phr\",\"uperform\",\"treat\",\"mercedes\",\"benz\",\"caas\",\"pogredrty\",\"reconnaissance\",\"discovery\",\"hartbearbeitung\",\"cord\",\"globalview\",\"tru\",\"projekte\",\"jusfrttin\",\"gtehdnyuerrf\",\"debgrtybie\",\"savgrtyuille\",\"svc\",\"msfc\",\"domestic\",\"international\",\"affiliate\",\"definitely\",\"sc\",\"suhrhtyju\",\"migration\",\"disturb\",\"vmax\",\"filesystem\",\"mswineventlog\",\"mmaster\",\"infoblox\",\"mss\",\"deposit\",\"andrdgrtew\",\"typ\",\"daghyunny\",\"kds\",\"santiago\",\"zcnc\",\"olibercsu\",\"sbinuxja\",\"vtbegcho\",\"nicolmghyu\",\"docx\",\"division\",\"rak\",\"gncpezhx\",\"hopqcvza\",\"wilsfgtjl\"],\"word\":[\"\",\"not\",\"password\",\"erp\",\"job\",\"tool\",\"issue\",\"scheduler\",\"work\",\"fail\",\"reset\",\"user\",\"unable\",\"sid\",\"from\",\"company\",\"email\",\"access\",\"error\",\"need\",\"account\",\"ticket\",\"get\",\"system\",\"use\",\"name\",\"would\",\"outlook\",\"update\",\"change\",\"login\",\"message\",\"check\",\"start\",\"problem\",\"try\",\"hostname\",\"send\",\"phone\",\"lock\",\"connect\",\"contact\",\"team\",\"open\",\"new\",\"cid\",\"network\",\"log\",\"call\",\"time\",\"customer\",\"number\",\"request\",\"since\",\"attach\",\"server\",\"summary\",\"report\",\"create\",\"manager\",\"vpn\",\"pm\",\"order\",\"show\",\"usa\",\"microsoft\",\"pc\",\"site\",\"engineering\",\"print\",\"management\",\"type\",\"good\",\"skype\",\"mailto\",\"e\",\"computer\",\"file\",\"resolve\",\"internet\",\"crm\",\"printer\",\"subject\",\"unlock\",\"could\",\"et\",\"follow\",\"vendor\",\"language\",\"detail\",\"power\",\"screen\",\"na\",\"dear\",\"add\",\"plant\",\"x\",\"global\",\"also\",\"sale\",\"device\",\"find\",\"verify\",\"mail\",\"browser\",\"com\",\"go\",\"active\",\"remote\",\"explorer\",\"telephone\",\"platform\",\"service\",\"information\",\"application\",\"connection\",\"available\",\"run\",\"enter\",\"collaboration\",\"provide\",\"software\",\"backup\",\"production\",\"best\",\"one\",\"notify\",\"office\",\"laptop\",\"employee\",\"schedule\",\"windows\",\"outage\",\"know\",\"hr\",\"additional\",\"address\",\"maintenance\",\"gsc\",\"at\",\"telecom\",\"specify\",\"confirm\",\"back\",\"link\",\"top\",\"please\",\"complete\",\"circuit\",\"c\",\"image\",\"dial\",\"equipment\",\"let\",\"provider\",\"germany\",\"business\",\"the\",\"cert\",\"view\",\"abended\",\"advise\",\"block\",\"can\",\"maint\",\"verizon\",\"diagnostic\",\"window\",\"nwfodmhc\",\"exurcwkm\",\"note\",\"eu\",\"f\",\"require\",\"datum\",\"set\",\"b\",\"make\",\"location\",\"look\",\"folder\",\"drive\",\"support\",\"uacyltoe\",\"event\",\"delivery\",\"process\",\"like\",\"day\",\"inc\",\"no\",\"fix\",\"still\",\"possible\",\"document\",\"client\",\"install\",\"cc\",\"list\",\"status\",\"kindly\",\"code\",\"today\",\"may\",\"urgent\",\"portal\",\"come\",\"ad\",\"hxgaycze\",\"want\",\"\\u00f1\",\"take\",\"delete\",\"click\",\"give\",\"high\",\"per\",\"load\",\"attachment\",\"due\",\"i\",\"page\",\"incident\",\"mobile\",\"inplant\",\"via\",\"august\",\"material\",\"september\",\"correct\",\"assign\",\"group\",\"ask\",\"agent\",\"display\",\"mm\",\"item\",\"center\",\"screenshot\",\"say\",\"last\",\"app\",\"alert\",\"full\",\"inwarehouse\",\"ap\",\"miss\",\"driver\",\"october\",\"transaction\",\"question\",\"thank\",\"machine\",\"field\",\"sign\",\"g\",\"security\",\"caller\",\"appear\",\"setup\",\"approve\",\"ms\",\"pls\",\"happen\",\"ip\",\"label\",\"space\",\"download\",\"help\",\"old\",\"notification\",\"telephony\",\"monitor\",\"slow\",\"option\",\"many\",\"source\",\"instal\",\"week\",\"date\",\"be\",\"submit\",\"product\",\"select\",\"meeting\",\"teamviewer\",\"keep\",\"interface\",\"restart\",\"save\",\"jpg\",\"version\",\"two\",\"sw\",\"action\",\"host\",\"logon\",\"excel\",\"blank\",\"on\",\"assist\",\"india\",\"automatically\",\"longer\",\"priority\",\"dell\",\"query\",\"multiple\",\"wrong\",\"post\",\"seem\",\"model\",\"sincerely\",\"ess\",\"generate\",\"share\",\"aerp\",\"return\",\"respond\",\"port\",\"png\",\"result\",\"internal\",\"review\",\"passwords\",\"vip\",\"warehouse\",\"friendly\",\"kind\",\"local\",\"fine\",\"win\",\"disk\",\"indicate\",\"apac\",\"attempt\",\"this\",\"even\",\"close\",\"already\",\"copy\",\"remove\",\"another\",\"expense\",\"right\",\"supply\",\"engineer\",\"volume\",\"move\",\"form\",\"example\",\"mii\",\"default\",\"data\",\"end\",\"hard\",\"allow\",\"k\",\"scan\",\"wifi\",\"correctly\",\"u\",\"stop\",\"search\",\"external\",\"fw\",\"ethic\",\"next\",\"yesterday\",\"website\",\"switch\",\"setting\",\"enable\",\"refer\",\"monday\",\"impact\",\"friday\",\"iphone\",\"hana\",\"installation\",\"every\",\"currently\",\"solve\",\"exist\",\"ship\",\"expire\",\"consume\",\"sync\",\"several\",\"person\",\"well\",\"hrp\",\"distributor\",\"defective\",\"line\",\"response\",\"total\",\"out\",\"net\",\"without\",\"dsw\",\"r\",\"programdnty\",\"include\",\"etc\",\"home\",\"n\",\"distribution\",\"sure\",\"failure\",\"either\",\"reason\",\"activation\",\"exchange\",\"someone\",\"online\",\"desk\",\"launch\",\"month\",\"transfer\",\"function\",\"purchase\",\"reference\",\"hour\",\"ie\",\"hub\",\"cause\",\"admin\",\"interaction\",\"write\",\"drawing\",\"destination\",\"finance\",\"first\",\"turn\",\"web\",\"audio\",\"reach\",\"relate\",\"in\",\"greeting\",\"prompt\",\"handle\",\"occurrence\",\"dn\",\"release\",\"payroll\",\"plm\",\"investigate\",\"w\",\"training\",\"desktop\",\"sep\",\"primary\",\"operation\",\"medium\",\"procedure\",\"stock\",\"description\",\"tuesday\",\"quote\",\"upgrade\",\"pl\",\"occur\",\"prod\",\"area\",\"approval\",\"face\",\"read\",\"th\",\"content\",\"temporarily\",\"administrator\",\"gso\",\"immediately\",\"rtr\",\"join\",\"department\",\"condition\",\"database\",\"boot\",\"p\",\"however\",\"sender\",\"certificate\",\"case\",\"welcome\",\"concern\",\"reboot\",\"traffic\",\"value\",\"restore\",\"future\",\"people\",\"count\",\"po\",\"regard\",\"username\",\"authorize\",\"directory\",\"recipient\",\"chain\",\"supervisor\",\"importance\",\"determine\",\"replace\",\"daily\",\"unlocked\",\"pdf\",\"mention\",\"\\u00ef\",\"cost\",\"project\",\"south\",\"control\",\"warning\",\"purpose\",\"sr\",\"nothing\",\"incorrect\",\"sto\",\"personal\",\"different\",\"configure\",\"deny\",\"current\",\"continue\",\"activity\",\"wednesday\",\"delegate\",\"free\",\"tcp\",\"wireless\",\"cold\",\"netweaver\",\"director\",\"within\",\"output\",\"bobj\",\"locate\",\"exe\",\"processing\",\"ws\",\"technical\",\"gb\",\"ewew\",\"button\",\"needful\",\"reporting\",\"thursday\",\"affect\",\"record\",\"accept\",\"price\",\"minute\",\"plan\",\"describe\",\"tab\",\"always\",\"colleague\",\"permission\",\"analysis\",\"contain\",\"to\",\"extend\",\"shot\",\"perform\",\"something\",\"bex\",\"must\",\"mr\",\"recently\",\"state\",\"directly\",\"re\",\"tell\",\"partner\",\"box\",\"soon\",\"escalate\",\"floor\",\"co\",\"gmbh\",\"correspond\",\"pick\",\"hp\",\"way\",\"mistake\",\"detect\",\"ex\",\"discount\",\"room\",\"credential\",\"mit\",\"h\",\"explicit\",\"calendar\",\"lose\",\"step\",\"bkwin\",\"pp\",\"workflow\",\"leave\",\"valid\",\"with\",\"domain\",\"rule\",\"escalation\",\"original\",\"following\",\"disclosure\",\"alternate\",\"point\",\"past\",\"ic\",\"services\",\"mailbox\",\"sms\",\"dmvpn\",\"put\",\"repeat\",\"amerirtca\",\"inform\",\"reinstall\",\"communication\",\"organization\",\"notice\",\"pop\",\"sample\",\"differently\",\"part\",\"entry\",\"java\",\"base\",\"applicable\",\"strictly\",\"prohibit\",\"org\",\"netch\",\"conversation\",\"effective\",\"guest\",\"long\",\"mpls\",\"repair\",\"instead\",\"info\",\"configuration\",\"think\",\"tax\",\"batch\",\"dc\",\"rakthyesh\",\"threshold\",\"session\",\"anymore\",\"disconnect\",\"law\",\"disclaimer\",\"place\",\"dev\",\"command\",\"shortly\",\"balance\",\"v\",\"shop\",\"ok\",\"lean\",\"drop\",\"german\",\"route\",\"gr\",\"critical\",\"non\",\"sound\",\"basis\",\"experience\",\"manage\",\"pull\",\"shipment\",\"profile\",\"assignment\",\"visitor\",\"for\",\"size\",\"shoot\",\"properly\",\"confidential\",\"cvss\",\"asa\",\"handling\",\"lan\",\"freeze\",\"cancel\",\"lot\",\"www\",\"lockout\",\"assistance\",\"manually\",\"blue\",\"url\",\"bw\",\"packet\",\"http\",\"j\",\"operator\",\"hear\",\"expect\",\"average\",\"aug\",\"soc\",\"upload\",\"etime\",\"attendance\",\"have\",\"forget\",\"bkbackup\",\"license\",\"member\",\"refresh\",\"side\",\"lead\",\"word\",\"activate\",\"alerting\",\"a\",\"early\",\"path\",\"card\",\"replacement\",\"task\",\"performance\",\"key\",\"ping\",\"least\",\"hotf\",\"recreate\",\"src\",\"dst\",\"urgently\",\"ensure\",\"method\",\"object\",\"de\",\"trouble\",\"travel\",\"text\",\"confirmation\",\"hq\",\"saturday\",\"warm\",\"input\",\"bk\",\"mb\",\"nsu\",\"latitude\",\"unique\",\"intend\",\"amar\",\"directionality\",\"protocol\",\"scwx\",\"sherlock\",\"sle\",\"inspector\",\"duplication\",\"master\",\"identify\",\"billing\",\"cell\",\"dynamics\",\"resource\",\"anything\",\"necessary\",\"station\",\"reply\",\"bad\",\"and\",\"vlan\",\"overview\",\"tomorrow\",\"msd\",\"crash\",\"yet\",\"scanner\",\"general\",\"hxgayczeing\",\"edit\",\"none\",\"pr\",\"userid\",\"freundlichen\",\"spam\",\"dat\",\"protection\",\"spread\",\"empty\",\"tiyhum\",\"kuyiomar\",\"classification\",\"utc\",\"vid\",\"reroute\",\"outside\",\"single\",\"null\",\"qa\",\"node\",\"clear\",\"outbound\",\"mikhghytr\",\"behalf\",\"quality\",\"fy\",\"amount\",\"rth\",\"consider\",\"authorization\",\"ce\",\"firewall\",\"tablet\",\"format\",\"z\",\"pay\",\"wy\",\"comment\",\"mode\",\"est\",\"tag\",\"tracker\",\"validate\",\"moment\",\"daypay\",\"dp\",\"register\",\"dashbankrd\",\"light\",\"video\",\"snp\",\"heu\",\"regen\",\"sensor\",\"ramdntythanjesh\",\"l\",\"score\",\"malware\",\"worm\",\"ago\",\"match\",\"related\",\"activesync\",\"controller\",\"target\",\"year\",\"environment\",\"synchronize\",\"though\",\"receipt\",\"thing\",\"down\",\"bit\",\"ltd\",\"termination\",\"solution\",\"quick\",\"icon\",\"conference\",\"incoming\",\"proto\",\"infection\",\"disable\",\"when\",\"second\",\"companysecure\",\"matheywter\",\"hang\",\"arrange\",\"paper\",\"everything\",\"do\",\"senior\",\"azure\",\"mfg\",\"nee\",\"os\",\"wu\",\"mouse\",\"owner\",\"sorry\",\"terminate\",\"book\",\"secondary\",\"direct\",\"rad\",\"payment\",\"addressee\",\"cover\",\"battery\",\"true\",\"ontology\",\"flash\",\"speaker\",\"st\",\"stack\",\"apo\",\"observe\",\"shipping\",\"afternoon\",\"course\",\"ae\",\"connectivity\",\"requester\",\"appropriate\",\"detailed\",\"important\",\"instruction\",\"q\",\"filesys\",\"fill\",\"synchronization\",\"charge\",\"sa\",\"nd\",\"inside\",\"csr\",\"raise\",\"various\",\"symantec\",\"earlier\",\"infopath\",\"solely\",\"archive\",\"renew\",\"antivirus\",\"asset\",\"df\",\"arc\",\"rpc\",\"isensor\",\"malicious\",\"around\",\"appreciate\",\"standard\",\"till\",\"table\",\"oct\",\"cycle\",\"quarantine\",\"pricing\",\"onto\",\"fi\",\"credit\",\"period\",\"us\",\"router\",\"unit\",\"plug\",\"offline\",\"previous\",\"deu\",\"quantity\",\"successfully\",\"cable\",\"correlation\",\"picture\",\"virus\",\"european\",\"pad\",\"geolocation\",\"deliver\",\"sys\",\"gigabitethernet\",\"printing\",\"viewer\",\"requirement\",\"noise\",\"aw\",\"advance\",\"bill\",\"break\",\"agreement\",\"purchasing\",\"filter\",\"catalog\",\"hcm\",\"authentic\",\"intune\",\"automatic\",\"receive\",\"opening\",\"md\",\"shut\",\"inbox\",\"abort\",\"mac\",\"financial\",\"whenever\",\"\\ufb02en\",\"instance\",\"analyst\",\"bar\",\"legitimate\",\"min\",\"facility\",\"lhqsm\",\"israel\",\"flag\",\"ttl\",\"tos\",\"ascii\",\"hex\",\"signature\",\"recall\",\"hello\",\"usb\",\"utilization\",\"tel\",\"vacation\",\"map\",\"clock\",\"unavailable\",\"technology\",\"pa\",\"sartlgeo\",\"carrier\",\"eng\",\"fc\",\"unmonitored\",\"never\",\"again\",\"db\",\"wait\",\"much\",\"extra\",\"bottom\",\"conduct\",\"up\",\"execute\",\"rqfhiong\",\"public\",\"framdntyework\",\"whether\",\"deployment\",\"lauacyltoe\",\"sport\",\"itype\",\"dport\",\"icode\",\"iplen\",\"dgmlen\",\"seq\",\"ack\",\"tcplen\",\"pcap\",\"duration\",\"destine\",\"player\",\"markhtyete\",\"channel\",\"regional\",\"sql\",\"creation\",\"apply\",\"present\",\"flowchart\",\"word\\u00f6etc\",\"asia\",\"lhqksbdx\",\"workstation\",\"inquiry\",\"citrix\",\"suggest\",\"english\",\"press\",\"pssword\",\"gl\",\"statistic\",\"russia\",\"unauthorized\",\"choose\",\"pgi\",\"thx\",\"believe\",\"become\",\"across\",\"warn\",\"mp\",\"hoti\",\"emea\",\"discuss\",\"determined\",\"understand\",\"frequent\",\"figure\",\"role\",\"dock\",\"level\",\"hardware\",\"build\",\"cache\",\"therefore\",\"propagate\",\"oracle\",\"pwd\",\"stay\",\"vitalyst\",\"keybankrd\",\"extract\",\"fastethernet\",\"disabled\",\"section\",\"pe\",\"msg\",\"delay\",\"talk\",\"play\",\"assistant\",\"same\",\"fyi\",\"ecc\",\"after\",\"enterprise\",\"unfortunately\",\"sunday\",\"award\",\"core\",\"stick\",\"working\",\"barcode\",\"define\",\"bank\",\"owa\",\"zkwfqagb\",\"conversion\",\"sales\",\"stefyty\",\"adobe\",\"twice\",\"qty\",\"replicate\",\"party\",\"ee\",\"trojan\",\"couple\",\"self\",\"store\",\"gui\",\"revert\",\"variable\",\"pos\",\"authentication\",\"cpu\",\"loud\",\"export\",\"inbound\",\"monitoring\",\"trust\",\"wi\",\"ind\",\"tc\",\"relevant\",\"europe\",\"dwfiykeo\",\"argtxmvcumar\",\"of\",\"all\",\"opportunity\",\"qlhmawgi\",\"final\",\"responsible\",\"north\",\"hope\",\"pw\",\"engine\",\"really\",\"big\",\"ds\",\"duplicate\",\"normal\",\"red\",\"insert\",\"policy\",\"doc\",\"feedback\",\"visible\",\"frequently\",\"dac\",\"alicona\",\"er\",\"wg\",\"zebra\",\"sometimes\",\"okay\",\"three\",\"va\",\"tooltion\",\"main\",\"child\",\"july\",\"sf\",\"eventid\",\"compromise\",\"misconfiguration\",\"helpdesk\",\"bring\",\"benefit\",\"sp\",\"addition\",\"rectify\",\"order\\u00f6etc\",\"programdntys\",\"dns\",\"cookie\",\"reminder\",\"calculate\",\"corporate\",\"meet\",\"chg\",\"sgwipoxn\",\"pte\",\"personally\",\"complaint\",\"length\",\"queuing\",\"mbyte\",\"cl\",\"usually\",\"t\",\"template\",\"consultant\",\"import\",\"distribute\",\"exit\",\"cmp\",\"modify\",\"recognize\",\"limit\",\"ph\",\"op\",\"later\",\"extension\",\"fb\",\"eb\",\"ed\",\"third\",\"patching\",\"indicator\",\"paramdntyeter\",\"relay\",\"lease\",\"foreseeconndirection\",\"outgoing\",\"foreseeinternalip\",\"inspectoreventid\",\"ileatdatacenter\",\"foreseemaliciouscomment\",\"sherlockruleid\",\"att\",\"weaver\",\"securework\",\"chat\",\"zscr\",\"dly\",\"chn\",\"finally\",\"separate\",\"fa\",\"resolution\",\"module\",\"private\",\"rma\",\"reactivate\",\"hallo\",\"ts\",\"feature\",\"industrial\",\"weekly\",\"shift\",\"powder\",\"although\",\"suspect\",\"cut\",\"ooo\",\"encounter\",\"hot\",\"inventory\",\"background\",\"special\",\"piece\",\"monthly\",\"audit\",\"infrastructure\",\"emp\",\"kis\",\"contract\",\"visit\",\"pollaurid\",\"ac\",\"worker\",\"personnel\",\"o\",\"capture\",\"memory\",\"hold\",\"draw\",\"kls\",\"html\",\"android\",\"opportstorage\",\"now\",\"passive\",\"uri\",\"dhcpd\",\"dhcpack\",\"eth\",\"irreceivedtime\",\"unblock\",\"outbreak\",\"acl\",\"functionality\",\"sinkhole\",\"likely\",\"vulnerability\",\"autoresolve\",\"live\",\"static\",\"queue\",\"manufacturing\",\"intermittent\",\"en\",\"root\",\"prtgghj\",\"acce\",\"designate\",\"accounting\",\"aware\",\"hi\",\"see\",\"begin\",\"davidthd\",\"compliance\",\"maintain\",\"limited\",\"especially\",\"administration\",\"associate\",\"requisition\",\"toolmail\",\"retrieve\",\"edt\",\"normally\",\"awyl\",\"availability\",\"else\",\"toolkuznetsk\",\"region\",\"planner\",\"rgds\",\"hardpoint\",\"major\",\"poland\",\"addin\",\"registration\",\"country\",\"title\",\"bb\",\"far\",\"previously\",\"factory\",\"fan\",\"eemw\",\"staff\",\"manual\",\"category\",\"idea\",\"difficult\",\"zz\",\"road\",\"usd\",\"component\",\"weekend\",\"unknown\",\"immediate\",\"wgq\",\"pu\",\"unless\",\"recent\",\"remain\",\"shatryung\",\"amerirtcas\",\"possibility\",\"ability\",\"dthyan\",\"matheywtyuews\",\"loading\",\"rep\",\"slo\",\"hence\",\"real\",\"proceed\",\"kirtyle\",\"specification\",\"ff\",\"difference\",\"successful\",\"kirty\",\"convert\",\"srchostname\",\"inspectorruleid\",\"agentid\",\"ctainstanceid\",\"logtimestamp\",\"reject\",\"suspicious\",\"mapping\",\"ca\",\"damage\",\"dynamic\",\"bwhrattr\",\"ring\",\"thru\",\"configair\",\"probably\",\"invoke\",\"util\",\"iterator\",\"assume\",\"great\",\"dissemination\",\"recover\",\"notebook\",\"grind\",\"white\",\"acct\",\"maybe\",\"australia\",\"throw\",\"persist\",\"zip\",\"hand\",\"broadband\",\"safe\",\"forecast\",\"statement\",\"delegation\",\"erpgui\",\"ec\",\"docking\",\"datacenter\",\"nvyjtmca\",\"startup\",\"position\",\"wly\",\"dr\",\"bio\",\"vl\",\"trigger\",\"rate\",\"measure\",\"disconnection\",\"complain\",\"remotely\",\"impossible\",\"completely\",\"sit\",\"br\",\"knowledge\",\"manufacture\",\"adapter\",\"accordingly\",\"m\",\"establish\",\"here\",\"tracking\",\"custom\",\"s\",\"suddenly\",\"seat\",\"alarm\",\"particular\",\"judthtihty\",\"zhuyhts\",\"threat\",\"hall\",\"vogelfontein\",\"africa\",\"everyone\",\"gesch\",\"ftsf\",\"hrer\",\"nr\",\"secure\",\"ext\",\"answer\",\"large\",\"human\",\"resources\",\"fax\",\"tech\",\"prior\",\"runtime\",\"there\",\"belong\",\"exact\",\"currency\",\"ribbon\",\"auto\",\"utilize\",\"privilege\",\"completion\",\"mill\",\"eventtypeid\",\"ontologyid\",\"dstport\",\"srcport\",\"eventtypepriority\",\"koga\",\"sell\",\"connc\",\"permit\",\"gmt\",\"rebuild\",\"nt\",\"specific\",\"package\",\"bc\",\"inactive\",\"rfc\",\"wkly\",\"ef\",\"kiosk\",\"sv\",\"finish\",\"robhyertyj\",\"confidentiality\",\"mean\",\"pbx\",\"push\",\"dept\",\"ag\",\"administrative\",\"reassign\",\"permanently\",\"prtqx\",\"involve\",\"professional\",\"ready\",\"rd\",\"selection\",\"doubt\",\"deletion\",\"recommend\",\"mobility\",\"loss\",\"populate\",\"programdntyme\",\"only\",\"speed\",\"similar\",\"library\",\"slowly\",\"certain\",\"design\",\"quickly\",\"laserjet\",\"building\",\"fd\",\"locallist\",\"advice\",\"af\",\"companyguest\",\"temp\",\"often\",\"webpage\",\"von\",\"scanning\",\"bd\",\"ceo\",\"everybody\",\"bankrd\",\"neither\",\"huge\",\"fe\",\"low\",\"signal\",\"effect\",\"alwaysupservice\",\"near\",\"mine\",\"kick\",\"or\",\"und\",\"adjust\",\"hydstheud\",\"mddwwyleh\",\"night\",\"header\",\"highlight\",\"awyw\",\"headset\",\"grant\",\"accord\",\"keheu\",\"speak\",\"dd\",\"laser\",\"worklist\",\"actual\",\"away\",\"suppose\",\"along\",\"revenue\",\"sort\",\"greet\",\"marftgytin\",\"column\",\"regular\",\"dierppear\",\"little\",\"ios\",\"logic\",\"insufficient\",\"sheet\",\"operate\",\"serve\",\"kurtyar\",\"round\",\"useid\",\"robot\",\"kg\",\"ab\",\"switzerland\",\"double\",\"reverse\",\"practice\",\"ctoc\",\"attacker\",\"iso\",\"gte\",\"singapore\",\"evaluationmodels\",\"ngm\",\"employment\",\"payslip\",\"dierppeare\",\"uk\",\"stamp\",\"rollfgyuej\",\"slip\",\"specifically\",\"continuously\",\"that\",\"privileged\",\"copying\",\"despite\",\"below\",\"virtual\",\"upon\",\"sept\",\"ndigung\",\"sponsor\",\"reflect\",\"small\",\"entire\",\"catalogue\",\"wk\",\"stand\",\"success\",\"sso\",\"beshryu\",\"guard\",\"ignore\",\"misplace\",\"head\",\"respect\",\"flow\",\"hpqc\",\"analytic\",\"gesendet\",\"betreff\",\"prevent\",\"touch\",\"dba\",\"samsung\",\"lib\",\"salary\",\"powerpoint\",\"zero\",\"sd\",\"disconnected\",\"hardcopy\",\"constantly\",\"depend\",\"cif\",\"analyzer\",\"short\",\"term\",\"invalid\",\"johthryugftyson\",\"quotation\",\"aa\",\"tr\",\"drucker\",\"empw\",\"validity\",\"xlsx\",\"pass\",\"uninstalle\",\"storage\",\"plus\",\"initial\",\"cb\",\"eh\",\"improvement\",\"registergerirtcht\",\"than\",\"rfwlsoej\",\"yvtjzkaw\",\"track\",\"temperature\",\"nx\",\"forward\",\"cad\",\"def\",\"possibly\",\"chk\",\"ref\",\"rest\",\"reconfigure\",\"uplink\",\"enclose\",\"sev\",\"proper\",\"browse\",\"ramdnty\",\"anti\",\"intercompany\",\"pradtheyp\",\"attribute\",\"loop\",\"marfhtyio\",\"finished\",\"johthryu\",\"chance\",\"epmsystem\",\"incorrectly\",\"less\",\"counter\",\"engg\",\"synche\",\"chrome\",\"transport\",\"hit\",\"busy\",\"spreadsheet\",\"permanent\",\"potential\",\"ssl\",\"phishe\",\"avoid\",\"zhengpe\",\"da\",\"feed\",\"demand\",\"invoice\",\"index\",\"china\",\"zone\",\"reading\",\"except\",\"endpoint\",\"mscrm\",\"gru\\ufb02\",\"anubis\",\"probable\",\"infected\",\"nginx\",\"thu\",\"ng\",\"situation\",\"kathght\",\"shfhyw\",\"te\",\"mozilla\",\"lhqsid\",\"kb\",\"skv\",\"initiate\",\"how\",\"michghytuael\",\"what\",\"infect\",\"divestiture\",\"netbio\",\"blaster\",\"msblast\",\"lovsan\",\"welchia\",\"nachi\",\"reatle\",\"rerun\",\"encryption\",\"hw\",\"enquiry\",\"amssm\",\"rather\",\"enough\",\"participate\",\"seek\",\"consignment\",\"pi\",\"vice\",\"kd\",\"fwd\",\"indirect\",\"development\",\"wafglhdrhjop\",\"abap\",\"probleme\",\"font\",\"conf\",\"intranet\",\"reopen\",\"ticketing\",\"mbps\",\"president\",\"beyond\",\"rqxw\",\"accidentally\",\"gigaset\",\"terminal\",\"mass\",\"steel\",\"msc\",\"half\",\"vmsliazh\",\"ltksxmyv\",\"logo\",\"deactivate\",\"range\",\"himghtmelreich\",\"approver\",\"usas\",\"byte\",\"operational\",\"yellow\",\"menu\",\"mexico\",\"nc\",\"cv\",\"plugin\",\"interrupt\",\"pende\",\"\\u00f6\",\"sequence\",\"bma\",\"ps\",\"technician\",\"serial\",\"profit\",\"faulty\",\"apprentice\",\"logistics\",\"cf\",\"specialist\",\"xerox\",\"trial\",\"ever\",\"npc\",\"eagcldaten\",\"grade\",\"imei\",\"an\",\"kpm\",\"sao\",\"ist\",\"united\",\"maximum\",\"joiner\",\"difficulty\",\"unsuccessful\",\"cisco\",\"defect\",\"reader\",\"lunch\",\"centre\",\"punch\",\"posting\",\"carry\",\"ora\",\"bulk\",\"dir\",\"as\",\"dan\",\"vh\",\"supplier\",\"siemens\",\"ewewx\",\"pose\",\"miro\",\"automate\",\"nxd\",\"eagw\",\"absolutely\",\"designer\",\"into\",\"sm\",\"feel\",\"june\",\"newly\",\"reimbursement\",\"partial\",\"correction\",\"anyway\",\"cd\",\"bf\",\"mgr\",\"history\",\"participant\",\"force\",\"tape\",\"research\",\"sabrthy\",\"swap\",\"tess\",\"d\",\"vfx\",\"panel\",\"markhty\",\"ba\",\"snapshot\",\"nicrhty\",\"erirtc\",\"snip\",\"usaed\",\"ea\",\"saver\",\"universal\",\"actually\",\"authority\",\"google\",\"smtp\",\"cvd\",\"together\",\"while\",\"fault\",\"prt\",\"movement\",\"nop\",\"dce\",\"certify\",\"easy\",\"thomklmas\",\"cec\",\"attend\",\"tologin\",\"victim\",\"execution\",\"srinfhyath\",\"dv\",\"attack\",\"shutdown\",\"ansi\",\"reimage\",\"usage\",\"ru\",\"relationship\",\"oneteam\",\"common\",\"jul\",\"misconfigure\",\"zdsxmcwu\",\"abende\",\"karaffa\",\"calculation\",\"srv\",\"accessible\",\"trace\",\"scratch\",\"scrap\",\"hxgayczeed\",\"dispatch\",\"acknowledgement\",\"parent\",\"inspection\",\"prospect\",\"await\",\"behavior\",\"sfb\",\"everytime\",\"publish\",\"otc\",\"sn\",\"dialog\",\"ftp\",\"lmsl\",\"updation\",\"optiplex\",\"memo\",\"mam\",\"by\",\"through\",\"temporary\",\"meter\",\"ewel\",\"auditor\",\"purchasingupstreamsso\",\"samaccountname\",\"xjhpznds\",\"odbc\",\"aidl\",\"hd\",\"repeatedly\",\"erro\",\"otherwise\",\"uwe\",\"workplace\",\"rrc\",\"trail\",\"shopfloor\",\"balancing\",\"encrypt\",\"pre\",\"central\",\"logistic\",\"indexing\",\"morning\",\"expedite\",\"pcs\",\"calculator\",\"dv\\u02c6zlettel\",\"rmt\",\"synch\",\"corrupt\",\"tooling\",\"almost\",\"thus\",\"variant\",\"letter\",\"bitte\",\"sie\",\"air\",\"hu\",\"physical\",\"zsd\",\"circle\",\"greatly\",\"color\",\"csd\",\"ha\",\"precision\",\"construct\",\"turkey\",\"invoicing\",\"evhw\",\"pro\",\"exception\",\"hash\",\"ui\",\"capacity\",\"severity\",\"sk\",\"liable\",\"bay\",\"remember\",\"rr\",\"launcher\",\"bob\",\"combination\",\"su\",\"earthwork\",\"ground\",\"duty\",\"fu\",\"ecs\",\"late\",\"sridthshar\",\"herytur\",\"pradyhtueep\",\"yyufs\",\"fmxcnwpu\",\"tcwrdqboinition\",\"timeout\",\"regardless\",\"sim\",\"briefly\",\"deal\",\"gtehdnyu\",\"trurthyuft\",\"visio\",\"defekt\",\"tier\",\"totally\",\"voucher\",\"validation\",\"blink\",\"connected\",\"allocate\",\"proxy\",\"coat\",\"stuck\",\"presentation\",\"agree\",\"karghyuen\",\"sec\",\"processor\",\"snap\",\"pcl\",\"shall\",\"exclude\",\"inter\",\"why\",\"fca\",\"clarification\",\"gt\",\"dealer\",\"definition\",\"responsibility\",\"compatibility\",\"appointment\",\"timecard\",\"shrugott\",\"tyhuellis\",\"characteristic\",\"kingdom\",\"communicate\",\"incomplete\",\"serious\",\"life\",\"inconvenience\",\"invite\",\"ppt\",\"world\",\"ahead\",\"script\",\"extraction\",\"unauthorised\",\"canada\",\"explain\",\"pack\",\"ipc\",\"commit\",\"former\",\"eastern\",\"nicht\",\"hrb\",\"alive\",\"foreseeexternalip\",\"vendorpriority\",\"isp\",\"furnace\",\"lacw\",\"familiar\",\"direction\",\"compensation\",\"gergryth\",\"cpic\",\"structure\",\"awareness\",\"accompany\",\"exempt\",\"shopping\",\"peer\",\"deploy\",\"gdhyrt\",\"muggftyali\",\"xt\",\"pds\",\"bin\",\"clean\",\"lisbon\",\"anbtr\",\"xf\",\"bluetooth\",\"trade\",\"sl\",\"sproc\",\"compatible\",\"ehs\",\"primarily\",\"germanytially\",\"compromised\",\"individual\",\"isensplant\",\"discover\",\"vulnerable\",\"effectively\",\"choice\",\"exploit\",\"exploitation\",\"constraint\",\"bom\",\"whole\",\"grugermany\",\"deeghyupak\",\"efdl\",\"sab\",\"news\",\"dot\",\"av\",\"quite\",\"screensaver\",\"historically\",\"epmap\",\"mapper\",\"locator\",\"datagramdnty\",\"smb\",\"ebhsm\",\"callie\",\"pollaurido\",\"tor\",\"thdjzolwronization\",\"palo\",\"patch\",\"integrity\",\"icmp\",\"srcassetofinterest\",\"xed\",\"scm\",\"mx\",\"bda\",\"gain\",\"expert\",\"cs\",\"outbox\",\"acrobat\",\"rom\",\"shi\",\"educate\",\"acc\",\"guide\",\"insurance\",\"receiver\",\"troubleshooting\",\"jan\",\"babiluntr\",\"eagl\",\"layer\",\"flicker\",\"cnc\",\"shortcut\",\"invitation\",\"am\",\"land\",\"soft\",\"freezing\",\"vsp\",\"alakrisyuhnyrtn\",\"collegue\",\"too\",\"consulting\",\"above\",\"poncacity\",\"cyber\",\"fr\",\"ii\",\"lowercase\",\"november\",\"topic\",\"jump\",\"bug\",\"spot\",\"transportation\",\"approximately\",\"csqe\",\"infonet\",\"perhaps\",\"mi\",\"vb\",\"anyone\",\"toold\",\"corp\",\"wzs\",\"fast\",\"portion\",\"vat\",\"documentation\",\"suite\",\"del\",\"implementation\",\"class\",\"roboworker\",\"city\",\"rmb\",\"console\",\"cantabria\",\"stat\",\"weight\",\"nice\",\"lagp\",\"networking\",\"used\",\"coast\",\"train\",\"cpp\",\"programdntym\",\"legal\",\"wild\",\"gentleman\",\"restriction\",\"projector\",\"commstorage\",\"prepare\",\"representative\",\"sha\",\"jet\",\"row\",\"backorder\",\"tim\",\"qs\",\"cursor\",\"manipulate\",\"partially\",\"max\",\"apple\",\"troubleshoot\",\"servers\",\"dabhruji\",\"receiving\",\"brand\",\"freundlichem\",\"planning\",\"loaner\",\"offer\",\"transmission\",\"analyze\",\"mtb\",\"adaptor\",\"elengineere\",\"un\",\"lrrsm\",\"generirtc\",\"popup\",\"obtain\",\"awb\",\"authorisation\",\"verification\",\"rj\",\"intermittently\",\"workgroup\",\"nov\",\"random\",\"petrghada\",\"trainer\",\"nathyresh\",\"oa\",\"rs\",\"bakyhr\",\"huhuyghe\",\"christgry\",\"knock\",\"regularly\",\"bhayhtrathramdnty\",\"mamilujli\",\"asst\",\"markhtye\",\"numerirtcal\",\"pur\",\"suhtnhdyio\",\"extent\",\"parkeyhrt\",\"jeffrghryey\",\"erkheim\",\"construction\",\"ir\",\"keyhtyvin\",\"toriaytun\",\"reduce\",\"front\",\"mismatch\",\"vvamrtryot\",\"reg\",\"flap\",\"npr\",\"ron\",\"more\",\"rzucjgvp\",\"ioqjgmah\",\"jdamieul\",\"fandyhgg\",\"vf\",\"character\",\"keyboard\",\"resale\",\"man\",\"wonder\",\"hrs\",\"hxgayczee\",\"reconciliation\",\"hotel\",\"toolcal\",\"mess\",\"correspondence\",\"checking\",\"printout\",\"indication\",\"favorite\",\"il\",\"buyer\",\"nyifqpmv\",\"kfirxjag\",\"copier\",\"failagain\",\"territory\",\"sufficient\",\"hello\\u00f6\",\"facilities\",\"prtqv\",\"tone\",\"workbook\",\"detection\",\"cust\",\"finding\",\"taiwan\",\"oss\",\"vv\",\"survey\",\"wrench\",\"earliest\",\"jb\",\"delta\",\"qiantang\",\"xin\",\"shanghai\",\"postal\",\"drill\",\"settle\",\"risk\",\"manjgtiry\",\"con\",\"cloud\",\"hsh\",\"aqihfoly\",\"xsrkthvf\",\"bls\",\"embed\",\"productivity\",\"bcd\",\"tom\",\"executable\",\"downloader\",\"xe\",\"lhql\",\"refererproxycorrelationurl\",\"vendoreventid\",\"tcpflag\",\"inlineaction\",\"globalproxycorrelationurl\",\"vendorversion\",\"element\",\"massive\",\"claim\",\"settlement\",\"edi\",\"liuytre\",\"udp\",\"noris\",\"watch\",\"segment\",\"realize\",\"suggestion\",\"able\",\"se\",\"environmental\",\"caution\",\"sole\",\"destrtgoy\",\"cart\",\"revise\",\"effort\",\"undeliverable\",\"txt\",\"selector\",\"lu\",\"ft\",\"val\",\"crosscomp\",\"posrt\",\"showing\",\"proposal\",\"smxoklny\",\"hbecskgl\",\"shathyra\",\"authorized\",\"produce\",\"coating\",\"csscdrill\",\"au\",\"cde\",\"cont\",\"ent\",\"xsso\",\"encoding\",\"foreign\",\"concerned\",\"campaign\",\"slowness\",\"hnynhsth\",\"jsuyhwssad\",\"xjhpznd\",\"rod\",\"es\",\"cn\",\"php\",\"scenario\",\"wlan\",\"workshop\",\"onsite\",\"dscsag\",\"zigioachstyac\",\"attachement\",\"indonesia\",\"pvd\",\"jashyht\",\"apul\",\"ita\",\"milano\",\"examine\",\"translate\",\"assigning\",\"easily\",\"certainly\",\"additionally\",\"dmz\",\"cve\",\"grid\",\"leverage\",\"urlencoded\",\"editor\",\"fact\",\"king\",\"rn\",\"apparently\",\"digital\",\"estorage\",\"productly\",\"imts\",\"respective\",\"orange\",\"erpstartsrv\",\"meantime\",\"zcor\",\"tip\",\"malaysia\",\"productive\",\"bokrgadu\",\"euobrlcn\",\"ctu\",\"intern\",\"paycheck\",\"pptx\",\"koenigsee\",\"dsccache\",\"flags\",\"syn\",\"macro\",\"iid\",\"ar\",\"vs\",\"wh\",\"lhqwx\",\"kt\",\"anonymize\",\"holiday\",\"fall\",\"assurance\",\"folk\",\"wanrtyg\",\"cutview\",\"franhtyu\",\"eight\",\"article\",\"echo\",\"tooldcvcgenratn\",\"filename\",\"uidgt\",\"flat\",\"versions\",\"reputation\",\"intrusion\",\"prevention\",\"eraser\",\"revocation\",\"sonar\",\"dsthostname\",\"xwbesorf\",\"dhcp\",\"guess\",\"care\",\"initiative\",\"abc\",\"al\",\"campus\",\"tm\",\"api\",\"bapi\",\"expiry\",\"roll\",\"waste\",\"mms\",\"apart\",\"pozna\",\"enhance\",\"wtqdyoin\",\"house\",\"prs\",\"both\",\"misplaced\",\"commercial\",\"ipbl\",\"beshryuliste\",\"uploading\",\"very\",\"wherein\",\"entrie\",\"beamer\",\"ware\",\"sandplant\",\"preserve\",\"ownership\",\"overall\",\"fully\",\"acceptance\",\"vksfrhdx\",\"njhaqket\",\"hint\",\"ksem\",\"globalengservice\",\"ia\",\"ransomware\",\"badge\",\"beginning\",\"before\",\"explore\",\"daylight\",\"saving\",\"crack\",\"hz\",\"mount\",\"ost\",\"automation\",\"develop\",\"music\",\"bwdpmbkp\",\"interruption\",\"ctc\",\"refuse\",\"commodity\",\"ethics\",\"emsw\",\"applications\",\"shared\",\"merdivan\",\"sinc\\u00ebre\",\"salutation\",\"eps\",\"kentip\",\"zheqafyo\",\"bqirpxag\",\"fence\",\"april\",\"modem\",\"sub\",\"guy\",\"off\",\"pasword\",\"iten\",\"qc\",\"cubicle\",\"corpbusinessdev\",\"whose\",\"capability\",\"leiter\",\"money\",\"configurator\",\"ibm\",\"pwr\",\"hmc\",\"mecftgobusa\",\"kenci\",\"iak\",\"wire\",\"attached\",\"scheduling\",\"stage\",\"interns\",\"west\",\"polycom\",\"fert\",\"holemake\",\"mex\",\"gray\",\"ear\",\"fp\",\"lady\",\"pin\",\"pweaver\",\"string\",\"glovia\",\"reinstate\",\"submittal\",\"bernardo\",\"campo\",\"edksm\",\"pray\",\"ups\",\"aplication\",\"court\",\"harald\",\"nnlein\",\"rar\",\"den\",\"hop\",\"intelligence\",\"msoffice\",\"formatheywte\",\"aspx\",\"nda\",\"exceed\",\"configured\",\"giuliasana\",\"byhdderni\",\"mat\",\"infostand\",\"quota\",\"lync\",\"graphic\",\"express\",\"ver\",\"bld\",\"psf\",\"zaf\",\"hire\",\"blocker\",\"archived\",\"tomashtgd\",\"mchectg\",\"itclukpe\",\"aimcfeko\",\"attention\",\"exec\",\"vc\",\"phishing\",\"fjaqbgnld\",\"yukdzwxs\",\"ramdntyassthywamy\",\"produktion\",\"pethrywr\",\"alt\",\"maryhtutina\",\"bauuyternfeyt\",\"gayhtjula\",\"mu\",\"danyhuie\",\"deyhtwet\",\"randomly\",\"property\",\"counsel\",\"migo\",\"zkwfqagbs\",\"closing\",\"mgmt\",\"lalthy\",\"vivthyek\",\"byuihand\",\"hotline\",\"li\",\"std\",\"vga\",\"solid\",\"bwhrertran\",\"psfshytd\",\"numerous\",\"doug\",\"systems\",\"afe\",\"black\",\"prtqi\",\"malfunction\",\"gokcerthy\",\"lt\",\"eva\",\"azm\",\"edksw\",\"javascript\",\"safety\",\"dialing\",\"unchecked\",\"photo\",\"iom\",\"chassis\",\"dob\",\"thrgxqsuojr\",\"tracert\",\"vsphere\",\"eagcutview\",\"virakv\",\"reachable\",\"dsc\",\"unreachable\",\"hierarchy\",\"pathuick\",\"march\",\"geoyhurg\",\"chriuimjiann\",\"compare\",\"bi\",\"charm\",\"wrongly\",\"vtykrubi\",\"whsipqno\",\"shesyhur\",\"wise\",\"managing\",\"sls\",\"left\",\"pulverleitstand\",\"abend\",\"config\",\"hrt\",\"st\\u02c6hr\",\"wothyehre\",\"oh\",\"pressure\",\"understanding\",\"symbol\",\"stream\",\"schlumhdyhter\",\"will\",\"closed\",\"apps\",\"ebus\",\"sind\",\"bunch\",\"fellow\",\"cash\",\"xhaomnjl\",\"ctusaqpr\",\"spool\",\"clearly\",\"anybody\",\"executive\",\"accordance\",\"spend\",\"scorecard\",\"erathyur\",\"smartphone\",\"vmware\",\"der\",\"aus\",\"originally\",\"ethical\",\"sipppr\",\"these\",\"estimate\",\"wish\",\"qwsjptlo\",\"krisyuhnyrt\",\"strange\",\"massage\",\"poor\",\"oprbatch\",\"consign\",\"tommyth\",\"duyhurmont\",\"eject\",\"grey\",\"excellence\",\"mwst\",\"qualify\",\"dardabthyr\",\"sun\",\"fengxian\",\"district\",\"chen\",\"qiao\",\"liu\",\"companycenter\",\"ot\",\"clhqsm\",\"alrthyu\",\"toolonic\",\"kvp\",\"panghyiraj\",\"shthuihog\",\"beschichtungsleitstand\",\"handheld\",\"gj\",\"operating\",\"knethyen\",\"grechduy\",\"mae\",\"smhdyhti\",\"haunm\",\"raw\",\"schtrtgoyht\",\"basic\",\"ssen\",\"inconsistent\",\"street\",\"bare\",\"xref\",\"foreseedstipgeo\",\"nld\",\"srcmacaddress\",\"bucket\",\"woman\",\"bridgex\",\"atp\",\"safrgyynjit\",\"disconnecting\",\"dg\",\"zno\",\"christgrytoph\",\"ti\",\"miiadmin\",\"weird\",\"sense\",\"accout\",\"nightly\",\"defender\",\"village\",\"required\",\"aes\",\"references\",\"yb\",\"vw\",\"cm\",\"planet\",\"earth\",\"les\",\"olympus\",\"sebfghkasthian\",\"tempuser\",\"layout\",\"recieve\",\"ghkkytu\",\"tempo\",\"rarily\",\"tml\",\"cook\",\"doma\",\"gzip\",\"abb\",\"banking\",\"oe\",\"closet\",\"usx\",\"chandruhdty\",\"xp\",\"ytd\",\"adjustment\",\"programdntya\",\"docad\",\"ebusiness\",\"msie\",\"xb\",\"invest\",\"organisation\",\"nobody\",\"estate\",\"sethdyr\",\"hdtyr\",\"opposite\",\"fiber\",\"restoration\",\"excise\",\"pthsqroz\",\"moedyanvess\",\"doe\",\"charger\",\"shed\",\"reconnect\",\"coworker\",\"dallas\",\"rm\",\"branch\",\"sinkholes\",\"false\",\"enforcement\",\"mitigation\",\"curious\",\"hierarchical\",\"naming\",\"entity\",\"locating\",\"authoritative\",\"subdomain\",\"hole\",\"routable\",\"logs\",\"somewhat\",\"benign\",\"ramdntyification\",\"leakage\",\"unlikely\",\"identifiable\",\"reputational\",\"beshryulist\",\"impede\",\"fea\",\"four\",\"simple\",\"smart\",\"corresponding\",\"toner\",\"mic\",\"infotype\",\"gthydanp\",\"lack\",\"injection\",\"running\",\"relatively\",\"cms\",\"zw\",\"lid\",\"dt\",\"but\",\"raghyvhdra\",\"najuty\",\"aborting\",\"zload\",\"nieghjyukea\",\"italy\",\"gf\",\"behind\",\"mti\",\"vbda\",\"stanfghyley\",\"guhtyke\",\"fmp\",\"tonight\",\"mandatory\",\"ghjkzalez\",\"abstechprogramdntym\",\"february\",\"earbud\",\"rabhtui\",\"zedlet\",\"january\",\"wear\",\"homburg\",\"junior\",\"contractor\",\"unlocking\",\"lhbsm\",\"leader\",\"emporarily\",\"serv\",\"over\",\"contribute\",\"oc\",\"implement\",\"eligibility\",\"nter\",\"gecko\",\"modific\",\"bur\",\"gap\",\"hebrew\",\"lmxl\",\"simfghon\",\"apologize\",\"aghynil\",\"formatheywting\",\"grinding\",\"dump\",\"khrtyujuine\",\"adoption\",\"cube\",\"presence\",\"vpns\",\"registry\",\"dnc\",\"danghtnuell\",\"rdp\",\"homepage\",\"lbdw\",\"matghyuthdw\",\"vk\",\"jc\",\"edml\",\"radiant\",\"phr\",\"uperform\",\"treat\",\"mercedes\",\"benz\",\"caas\",\"pogredrty\",\"reconnaissance\",\"discovery\",\"hartbearbeitung\",\"cord\",\"globalview\",\"tru\",\"projekte\",\"jusfrttin\",\"gtehdnyuerrf\",\"debgrtybie\",\"savgrtyuille\",\"svc\",\"msfc\",\"domestic\",\"international\",\"affiliate\",\"definitely\",\"sc\",\"suhrhtyju\",\"migration\",\"disturb\",\"vmax\",\"filesystem\",\"mswineventlog\",\"mmaster\",\"infoblox\",\"mss\",\"deposit\",\"andrdgrtew\",\"typ\",\"daghyunny\",\"kds\",\"santiago\",\"zcnc\",\"olibercsu\",\"sbinuxja\",\"vtbegcho\",\"nicolmghyu\",\"docx\",\"division\",\"rak\",\"gncpezhx\",\"hopqcvza\",\"wilsfgtjl\"],\"x_coord\":{\"__ndarray__\":\"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\",\"dtype\":\"float32\",\"shape\":[3135]},\"y_coord\":{\"__ndarray__\":\"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\",\"dtype\":\"float32\",\"shape\":[3135]}},\"selected\":{\"id\":\"1053\",\"type\":\"Selection\"},\"selection_policy\":{\"id\":\"1054\",\"type\":\"UnionRenderers\"}},\"id\":\"1003\",\"type\":\"ColumnDataSource\"},{\"attributes\":{\"callback\":null,\"tooltips\":\"@word\"},\"id\":\"1040\",\"type\":\"HoverTool\"},{\"attributes\":{\"overlay\":{\"id\":\"1032\",\"type\":\"BoxAnnotation\"}},\"id\":\"1027\",\"type\":\"BoxZoomTool\"},{\"attributes\":{},\"id\":\"1029\",\"type\":\"ResetTool\"},{\"attributes\":{\"callback\":null},\"id\":\"1007\",\"type\":\"DataRange1d\"},{\"attributes\":{\"callback\":null,\"overlay\":{\"id\":\"1035\",\"type\":\"BoxAnnotation\"}},\"id\":\"1028\",\"type\":\"BoxSelectTool\"},{\"attributes\":{},\"id\":\"1053\",\"type\":\"Selection\"},{\"attributes\":{\"fill_color\":{\"value\":\"#1f77b4\"},\"size\":{\"units\":\"screen\",\"value\":10},\"x\":{\"field\":\"x_coord\"},\"y\":{\"field\":\"y_coord\"}},\"id\":\"1045\",\"type\":\"Circle\"},{\"attributes\":{\"plot\":null,\"text\":\"t-SNE Word Embeddings\",\"text_font_size\":{\"value\":\"16pt\"}},\"id\":\"1004\",\"type\":\"Title\"},{\"attributes\":{},\"id\":\"1026\",\"type\":\"WheelZoomTool\"},{\"attributes\":{\"fill_alpha\":{\"value\":0.1},\"fill_color\":{\"value\":\"#1f77b4\"},\"line_alpha\":{\"value\":0.1},\"line_color\":{\"value\":\"#1f77b4\"},\"size\":{\"units\":\"screen\",\"value\":10},\"x\":{\"field\":\"x_coord\"},\"y\":{\"field\":\"y_coord\"}},\"id\":\"1044\",\"type\":\"Circle\"},{\"attributes\":{\"bottom_units\":\"screen\",\"fill_alpha\":{\"value\":0.5},\"fill_color\":{\"value\":\"lightgrey\"},\"left_units\":\"screen\",\"level\":\"overlay\",\"line_alpha\":{\"value\":1.0},\"line_color\":{\"value\":\"black\"},\"line_dash\":[4,4],\"line_width\":{\"value\":2},\"plot\":null,\"render_mode\":\"css\",\"right_units\":\"screen\",\"top_units\":\"screen\"},\"id\":\"1032\",\"type\":\"BoxAnnotation\"},{\"attributes\":{},\"id\":\"1051\",\"type\":\"BasicTickFormatter\"},{\"attributes\":{},\"id\":\"1054\",\"type\":\"UnionRenderers\"},{\"attributes\":{\"callback\":null},\"id\":\"1009\",\"type\":\"DataRange1d\"},{\"attributes\":{},\"id\":\"1011\",\"type\":\"LinearScale\"},{\"attributes\":{\"fill_alpha\":{\"value\":0.1},\"fill_color\":{\"value\":\"blue\"},\"line_alpha\":{\"value\":0.2},\"line_color\":{\"value\":\"blue\"},\"size\":{\"units\":\"screen\",\"value\":10},\"x\":{\"field\":\"x_coord\"},\"y\":{\"field\":\"y_coord\"}},\"id\":\"1043\",\"type\":\"Circle\"},{\"attributes\":{\"active_drag\":\"auto\",\"active_inspect\":\"auto\",\"active_multi\":null,\"active_scroll\":{\"id\":\"1026\",\"type\":\"WheelZoomTool\"},\"active_tap\":\"auto\",\"tools\":[{\"id\":\"1025\",\"type\":\"PanTool\"},{\"id\":\"1026\",\"type\":\"WheelZoomTool\"},{\"id\":\"1027\",\"type\":\"BoxZoomTool\"},{\"id\":\"1028\",\"type\":\"BoxSelectTool\"},{\"id\":\"1029\",\"type\":\"ResetTool\"},{\"id\":\"1040\",\"type\":\"HoverTool\"}]},\"id\":\"1030\",\"type\":\"Toolbar\"},{\"attributes\":{},\"id\":\"1013\",\"type\":\"LinearScale\"},{\"attributes\":{\"formatter\":{\"id\":\"1049\",\"type\":\"BasicTickFormatter\"},\"plot\":{\"id\":\"1005\",\"subtype\":\"Figure\",\"type\":\"Plot\"},\"ticker\":{\"id\":\"1016\",\"type\":\"BasicTicker\"},\"visible\":false},\"id\":\"1015\",\"type\":\"LinearAxis\"},{\"attributes\":{\"source\":{\"id\":\"1003\",\"type\":\"ColumnDataSource\"}},\"id\":\"1047\",\"type\":\"CDSView\"},{\"attributes\":{},\"id\":\"1049\",\"type\":\"BasicTickFormatter\"},{\"attributes\":{\"formatter\":{\"id\":\"1051\",\"type\":\"BasicTickFormatter\"},\"plot\":{\"id\":\"1005\",\"subtype\":\"Figure\",\"type\":\"Plot\"},\"ticker\":{\"id\":\"1021\",\"type\":\"BasicTicker\"},\"visible\":false},\"id\":\"1020\",\"type\":\"LinearAxis\"},{\"attributes\":{},\"id\":\"1021\",\"type\":\"BasicTicker\"}],\"root_ids\":[\"1005\"]},\"title\":\"Bokeh Application\",\"version\":\"1.0.4\"}};\n",
       "  var render_items = [{\"docid\":\"e4021356-f795-418d-b0ab-bf38bcce40db\",\"roots\":{\"1005\":\"02b69e34-62c9-4cea-ae24-bb84071859c9\"}}];\n",
       "  root.Bokeh.embed.embed_items_notebook(docs_json, render_items);\n",
       "\n",
       "  }\n",
       "  if (root.Bokeh !== undefined) {\n",
       "    embed_document(root);\n",
       "  } else {\n",
       "    var attempts = 0;\n",
       "    var timer = setInterval(function(root) {\n",
       "      if (root.Bokeh !== undefined) {\n",
       "        embed_document(root);\n",
       "        clearInterval(timer);\n",
       "      }\n",
       "      attempts++;\n",
       "      if (attempts > 100) {\n",
       "        console.log(\"Bokeh: ERROR: Unable to run BokehJS code because BokehJS library is missing\");\n",
       "        clearInterval(timer);\n",
       "      }\n",
       "    }, 10, root)\n",
       "  }\n",
       "})(window);"
      ],
      "application/vnd.bokehjs_exec.v0+json": ""
     },
     "metadata": {
      "application/vnd.bokehjs_exec.v0+json": {
       "id": "1005"
      }
     },
     "output_type": "display_data"
    }
   ],
   "source": [
    "# add our DataFrame as a ColumnDataSource for Bokeh\n",
    "plot_data = ColumnDataSource(tsne_vectors1)\n",
    "\n",
    "# create the plot and configure the\n",
    "# title, dimensions, and tools\n",
    "tsne_plot = figure(title='t-SNE Word Embeddings',\n",
    "                   plot_width = 800,\n",
    "                   plot_height = 800,\n",
    "                   tools= ('pan, wheel_zoom, box_zoom,'\n",
    "                           'box_select, reset'),\n",
    "                   active_scroll='wheel_zoom')\n",
    "tsne_plot.add_tools( HoverTool(tooltips = '@word') )\n",
    "# draw the words as circles on the plot\n",
    "tsne_plot.circle('x_coord', 'y_coord', source=plot_data,\n",
    "                 color='blue', line_alpha=0.2, fill_alpha=0.1,\n",
    "                 size=10, hover_line_color='black')\n",
    "\n",
    "# configure visual elements of the plot\n",
    "tsne_plot.title.text_font_size = value(u'16pt')\n",
    "tsne_plot.xaxis.visible = False\n",
    "tsne_plot.yaxis.visible = False\n",
    "tsne_plot.grid.grid_line_color = None\n",
    "tsne_plot.outline_line_color = None\n",
    "\n",
    "# engage!\n",
    "show(tsne_plot);"
   ]
  },
  {
   "cell_type": "markdown",
   "metadata": {},
   "source": [
    "# Combining Assignment Groups\n",
    "\n",
    "We had earlier mentioned that a lof assignment groups had very less records and thus we would need to combine all such groups into a \"Other\" Group."
   ]
  },
  {
   "cell_type": "code",
   "execution_count": 67,
   "metadata": {},
   "outputs": [],
   "source": [
    "new_df['New grouping']=new_df['Assignment group'].copy()"
   ]
  },
  {
   "cell_type": "code",
   "execution_count": 68,
   "metadata": {},
   "outputs": [],
   "source": [
    "cols = ['New grouping']\n",
    "for col in cols:\n",
    "    val = new_df[col].value_counts()\n",
    "    y = val[val < 30].index # all groups with less than 30 records will be combined into others\n",
    "    new_df[col] = new_df[col].replace({x:'other' for x in y})"
   ]
  },
  {
   "cell_type": "code",
   "execution_count": 69,
   "metadata": {},
   "outputs": [
    {
     "data": {
      "text/html": [
       "<div>\n",
       "<style scoped>\n",
       "    .dataframe tbody tr th:only-of-type {\n",
       "        vertical-align: middle;\n",
       "    }\n",
       "\n",
       "    .dataframe tbody tr th {\n",
       "        vertical-align: top;\n",
       "    }\n",
       "\n",
       "    .dataframe thead th {\n",
       "        text-align: right;\n",
       "    }\n",
       "</style>\n",
       "<table border=\"1\" class=\"dataframe\">\n",
       "  <thead>\n",
       "    <tr style=\"text-align: right;\">\n",
       "      <th></th>\n",
       "      <th>Short description</th>\n",
       "      <th>Description</th>\n",
       "      <th>Caller</th>\n",
       "      <th>Assignment group</th>\n",
       "      <th>Total</th>\n",
       "      <th>Clean Description</th>\n",
       "      <th>word_count</th>\n",
       "      <th>New grouping</th>\n",
       "    </tr>\n",
       "  </thead>\n",
       "  <tbody>\n",
       "    <tr>\n",
       "      <th>0</th>\n",
       "      <td>login issue</td>\n",
       "      <td>verified user details employee manager name ch...</td>\n",
       "      <td>spxjnwir pjlcoqds</td>\n",
       "      <td>GRP_0</td>\n",
       "      <td>login issue verify user detail employee manage...</td>\n",
       "      <td>login issue verify user detail employee manage...</td>\n",
       "      <td>17</td>\n",
       "      <td>GRP_0</td>\n",
       "    </tr>\n",
       "    <tr>\n",
       "      <th>1</th>\n",
       "      <td>outlook</td>\n",
       "      <td>received from hello team my meetings skype mee...</td>\n",
       "      <td>hmjdrvpb komuaywn</td>\n",
       "      <td>GRP_0</td>\n",
       "      <td>outlook receive from hello team meeting skype ...</td>\n",
       "      <td>outlook team meeting skype etc not appear cale...</td>\n",
       "      <td>12</td>\n",
       "      <td>GRP_0</td>\n",
       "    </tr>\n",
       "    <tr>\n",
       "      <th>2</th>\n",
       "      <td>cant log in to vpn</td>\n",
       "      <td>received from hi i cannot log on to vpn best</td>\n",
       "      <td>eylqgodm ybqkwiam</td>\n",
       "      <td>GRP_0</td>\n",
       "      <td>can not log in to vpn receive from hi i can no...</td>\n",
       "      <td>can not log vpn not best</td>\n",
       "      <td>6</td>\n",
       "      <td>GRP_0</td>\n",
       "    </tr>\n",
       "    <tr>\n",
       "      <th>3</th>\n",
       "      <td>unable to access hr tool page</td>\n",
       "      <td>unable to access hr tool page</td>\n",
       "      <td>xbkucsvz gcpydteq</td>\n",
       "      <td>GRP_0</td>\n",
       "      <td>unable to access hr tool page</td>\n",
       "      <td>unable access hr tool page</td>\n",
       "      <td>5</td>\n",
       "      <td>GRP_0</td>\n",
       "    </tr>\n",
       "    <tr>\n",
       "      <th>4</th>\n",
       "      <td>skype error</td>\n",
       "      <td>skype error</td>\n",
       "      <td>owlgqjme qhcozdfx</td>\n",
       "      <td>GRP_0</td>\n",
       "      <td>skype error</td>\n",
       "      <td>skype error</td>\n",
       "      <td>2</td>\n",
       "      <td>GRP_0</td>\n",
       "    </tr>\n",
       "  </tbody>\n",
       "</table>\n",
       "</div>"
      ],
      "text/plain": [
       "               Short description  \\\n",
       "0                    login issue   \n",
       "1                        outlook   \n",
       "2             cant log in to vpn   \n",
       "3  unable to access hr tool page   \n",
       "4                    skype error   \n",
       "\n",
       "                                         Description             Caller  \\\n",
       "0  verified user details employee manager name ch...  spxjnwir pjlcoqds   \n",
       "1  received from hello team my meetings skype mee...  hmjdrvpb komuaywn   \n",
       "2       received from hi i cannot log on to vpn best  eylqgodm ybqkwiam   \n",
       "3                      unable to access hr tool page  xbkucsvz gcpydteq   \n",
       "4                                        skype error  owlgqjme qhcozdfx   \n",
       "\n",
       "  Assignment group                                              Total  \\\n",
       "0            GRP_0  login issue verify user detail employee manage...   \n",
       "1            GRP_0  outlook receive from hello team meeting skype ...   \n",
       "2            GRP_0  can not log in to vpn receive from hi i can no...   \n",
       "3            GRP_0                      unable to access hr tool page   \n",
       "4            GRP_0                                        skype error   \n",
       "\n",
       "                                   Clean Description  word_count New grouping  \n",
       "0  login issue verify user detail employee manage...          17        GRP_0  \n",
       "1  outlook team meeting skype etc not appear cale...          12        GRP_0  \n",
       "2                           can not log vpn not best           6        GRP_0  \n",
       "3                         unable access hr tool page           5        GRP_0  \n",
       "4                                        skype error           2        GRP_0  "
      ]
     },
     "execution_count": 69,
     "metadata": {},
     "output_type": "execute_result"
    }
   ],
   "source": [
    "new_df.head()"
   ]
  },
  {
   "cell_type": "code",
   "execution_count": 70,
   "metadata": {},
   "outputs": [
    {
     "data": {
      "text/plain": [
       "GRP_0     3976\n",
       "GRP_8      661\n",
       "other      357\n",
       "GRP_24     289\n",
       "GRP_12     257\n",
       "GRP_9      252\n",
       "GRP_2      241\n",
       "GRP_19     215\n",
       "GRP_3      200\n",
       "GRP_6      184\n",
       "GRP_13     145\n",
       "GRP_10     140\n",
       "GRP_5      129\n",
       "GRP_14     118\n",
       "GRP_25     116\n",
       "GRP_33     107\n",
       "GRP_4      100\n",
       "GRP_29      97\n",
       "GRP_18      88\n",
       "GRP_16      85\n",
       "GRP_17      81\n",
       "GRP_31      69\n",
       "GRP_7       68\n",
       "GRP_34      62\n",
       "GRP_26      56\n",
       "GRP_40      45\n",
       "GRP_28      44\n",
       "GRP_41      40\n",
       "GRP_30      39\n",
       "GRP_15      39\n",
       "GRP_42      37\n",
       "GRP_20      36\n",
       "GRP_45      35\n",
       "GRP_1       31\n",
       "GRP_22      31\n",
       "GRP_11      30\n",
       "Name: New grouping, dtype: int64"
      ]
     },
     "execution_count": 70,
     "metadata": {},
     "output_type": "execute_result"
    }
   ],
   "source": [
    "new_df['New grouping'].value_counts()"
   ]
  },
  {
   "cell_type": "markdown",
   "metadata": {},
   "source": [
    "Thus Now from the earlier 74 groups, we now have only 36 groups - with a group called as \"others\". While the groups are quite unbalanced in terms of no. of records in each group, at this stage, we would not be undertaking any balancing exercise but check the accuracies of the models and of required at the next stage try and balance the groups."
   ]
  },
  {
   "cell_type": "markdown",
   "metadata": {},
   "source": [
    "## Milestone 2: Model Building\n",
    "● Building a model architecture which can classify.\n",
    "<br>● Trying different model architectures by researching state of the art for similar tasks.\n",
    "<br>● Train the model\n",
    "<br>● To deal with large training time, save the weights so that you can use them when training the model for the second time without starting from scratch."
   ]
  },
  {
   "cell_type": "markdown",
   "metadata": {},
   "source": [
    "### Let's do some analysis that can help us to set the appropriate parameter values for model\n",
    "\n",
    "This is meant to be a trial run of an initial model to understand likely accuracies. At this stage, we have two columns of interest, \"Clean Description\" and \"New grouping\". A new dataframe will be created using only these two columns and a trial model would be run"
   ]
  },
  {
   "cell_type": "code",
   "execution_count": 71,
   "metadata": {},
   "outputs": [],
   "source": [
    "model_df = new_df[{'Clean Description','New grouping'}]"
   ]
  },
  {
   "cell_type": "code",
   "execution_count": 72,
   "metadata": {},
   "outputs": [
    {
     "data": {
      "text/html": [
       "<div>\n",
       "<style scoped>\n",
       "    .dataframe tbody tr th:only-of-type {\n",
       "        vertical-align: middle;\n",
       "    }\n",
       "\n",
       "    .dataframe tbody tr th {\n",
       "        vertical-align: top;\n",
       "    }\n",
       "\n",
       "    .dataframe thead th {\n",
       "        text-align: right;\n",
       "    }\n",
       "</style>\n",
       "<table border=\"1\" class=\"dataframe\">\n",
       "  <thead>\n",
       "    <tr style=\"text-align: right;\">\n",
       "      <th></th>\n",
       "      <th>Clean Description</th>\n",
       "      <th>New grouping</th>\n",
       "    </tr>\n",
       "  </thead>\n",
       "  <tbody>\n",
       "    <tr>\n",
       "      <th>0</th>\n",
       "      <td>login issue verify user detail employee manage...</td>\n",
       "      <td>GRP_0</td>\n",
       "    </tr>\n",
       "    <tr>\n",
       "      <th>1</th>\n",
       "      <td>outlook team meeting skype etc not appear cale...</td>\n",
       "      <td>GRP_0</td>\n",
       "    </tr>\n",
       "    <tr>\n",
       "      <th>2</th>\n",
       "      <td>can not log vpn not best</td>\n",
       "      <td>GRP_0</td>\n",
       "    </tr>\n",
       "    <tr>\n",
       "      <th>3</th>\n",
       "      <td>unable access hr tool page</td>\n",
       "      <td>GRP_0</td>\n",
       "    </tr>\n",
       "    <tr>\n",
       "      <th>4</th>\n",
       "      <td>skype error</td>\n",
       "      <td>GRP_0</td>\n",
       "    </tr>\n",
       "  </tbody>\n",
       "</table>\n",
       "</div>"
      ],
      "text/plain": [
       "                                   Clean Description New grouping\n",
       "0  login issue verify user detail employee manage...        GRP_0\n",
       "1  outlook team meeting skype etc not appear cale...        GRP_0\n",
       "2                           can not log vpn not best        GRP_0\n",
       "3                         unable access hr tool page        GRP_0\n",
       "4                                        skype error        GRP_0"
      ]
     },
     "execution_count": 72,
     "metadata": {},
     "output_type": "execute_result"
    }
   ],
   "source": [
    "model_df.head()"
   ]
  },
  {
   "cell_type": "code",
   "execution_count": 73,
   "metadata": {},
   "outputs": [
    {
     "data": {
      "text/plain": [
       "(8500, 2)"
      ]
     },
     "execution_count": 73,
     "metadata": {},
     "output_type": "execute_result"
    }
   ],
   "source": [
    "model_df.shape"
   ]
  },
  {
   "cell_type": "code",
   "execution_count": 74,
   "metadata": {},
   "outputs": [
    {
     "data": {
      "text/html": [
       "<div>\n",
       "<style scoped>\n",
       "    .dataframe tbody tr th:only-of-type {\n",
       "        vertical-align: middle;\n",
       "    }\n",
       "\n",
       "    .dataframe tbody tr th {\n",
       "        vertical-align: top;\n",
       "    }\n",
       "\n",
       "    .dataframe thead th {\n",
       "        text-align: right;\n",
       "    }\n",
       "</style>\n",
       "<table border=\"1\" class=\"dataframe\">\n",
       "  <thead>\n",
       "    <tr style=\"text-align: right;\">\n",
       "      <th></th>\n",
       "      <th>count</th>\n",
       "      <th>unique</th>\n",
       "      <th>top</th>\n",
       "      <th>freq</th>\n",
       "    </tr>\n",
       "  </thead>\n",
       "  <tbody>\n",
       "    <tr>\n",
       "      <th>Clean Description</th>\n",
       "      <td>8500</td>\n",
       "      <td>6634</td>\n",
       "      <td>job fail scheduler from</td>\n",
       "      <td>445</td>\n",
       "    </tr>\n",
       "    <tr>\n",
       "      <th>New grouping</th>\n",
       "      <td>8500</td>\n",
       "      <td>36</td>\n",
       "      <td>GRP_0</td>\n",
       "      <td>3976</td>\n",
       "    </tr>\n",
       "  </tbody>\n",
       "</table>\n",
       "</div>"
      ],
      "text/plain": [
       "                  count unique                      top  freq\n",
       "Clean Description  8500   6634  job fail scheduler from   445\n",
       "New grouping       8500     36                    GRP_0  3976"
      ]
     },
     "execution_count": 74,
     "metadata": {},
     "output_type": "execute_result"
    }
   ],
   "source": [
    "model_df.describe().transpose()"
   ]
  },
  {
   "cell_type": "markdown",
   "metadata": {},
   "source": [
    "## Get the Length of each line and find the maximum length\n",
    "As different lines are of different length. We need to pad the our sequences using the max length."
   ]
  },
  {
   "cell_type": "code",
   "execution_count": 75,
   "metadata": {},
   "outputs": [],
   "source": [
    "#creating a column for determining word count\n",
    "model_df['word_count'] = model_df['Clean Description'].str.split().map(len)"
   ]
  },
  {
   "cell_type": "code",
   "execution_count": 76,
   "metadata": {},
   "outputs": [
    {
     "data": {
      "text/html": [
       "<div>\n",
       "<style scoped>\n",
       "    .dataframe tbody tr th:only-of-type {\n",
       "        vertical-align: middle;\n",
       "    }\n",
       "\n",
       "    .dataframe tbody tr th {\n",
       "        vertical-align: top;\n",
       "    }\n",
       "\n",
       "    .dataframe thead th {\n",
       "        text-align: right;\n",
       "    }\n",
       "</style>\n",
       "<table border=\"1\" class=\"dataframe\">\n",
       "  <thead>\n",
       "    <tr style=\"text-align: right;\">\n",
       "      <th></th>\n",
       "      <th>Clean Description</th>\n",
       "      <th>New grouping</th>\n",
       "      <th>word_count</th>\n",
       "    </tr>\n",
       "  </thead>\n",
       "  <tbody>\n",
       "    <tr>\n",
       "      <th>0</th>\n",
       "      <td>login issue verify user detail employee manage...</td>\n",
       "      <td>GRP_0</td>\n",
       "      <td>17</td>\n",
       "    </tr>\n",
       "    <tr>\n",
       "      <th>1</th>\n",
       "      <td>outlook team meeting skype etc not appear cale...</td>\n",
       "      <td>GRP_0</td>\n",
       "      <td>12</td>\n",
       "    </tr>\n",
       "    <tr>\n",
       "      <th>2</th>\n",
       "      <td>can not log vpn not best</td>\n",
       "      <td>GRP_0</td>\n",
       "      <td>6</td>\n",
       "    </tr>\n",
       "    <tr>\n",
       "      <th>3</th>\n",
       "      <td>unable access hr tool page</td>\n",
       "      <td>GRP_0</td>\n",
       "      <td>5</td>\n",
       "    </tr>\n",
       "    <tr>\n",
       "      <th>4</th>\n",
       "      <td>skype error</td>\n",
       "      <td>GRP_0</td>\n",
       "      <td>2</td>\n",
       "    </tr>\n",
       "  </tbody>\n",
       "</table>\n",
       "</div>"
      ],
      "text/plain": [
       "                                   Clean Description New grouping  word_count\n",
       "0  login issue verify user detail employee manage...        GRP_0          17\n",
       "1  outlook team meeting skype etc not appear cale...        GRP_0          12\n",
       "2                           can not log vpn not best        GRP_0           6\n",
       "3                         unable access hr tool page        GRP_0           5\n",
       "4                                        skype error        GRP_0           2"
      ]
     },
     "execution_count": 76,
     "metadata": {},
     "output_type": "execute_result"
    }
   ],
   "source": [
    "model_df.head()"
   ]
  },
  {
   "cell_type": "code",
   "execution_count": 77,
   "metadata": {},
   "outputs": [
    {
     "data": {
      "text/plain": [
       "486"
      ]
     },
     "execution_count": 77,
     "metadata": {},
     "output_type": "execute_result"
    }
   ],
   "source": [
    "# understanding the max no. of words\n",
    "max (model_df['word_count'])"
   ]
  },
  {
   "cell_type": "markdown",
   "metadata": {},
   "source": [
    "Thus the maximum no. of words is 486"
   ]
  },
  {
   "cell_type": "code",
   "execution_count": 78,
   "metadata": {},
   "outputs": [
    {
     "data": {
      "text/plain": [
       "13.77070588235294"
      ]
     },
     "execution_count": 78,
     "metadata": {},
     "output_type": "execute_result"
    }
   ],
   "source": [
    "np.mean (model_df['word_count'])"
   ]
  },
  {
   "cell_type": "code",
   "execution_count": 79,
   "metadata": {},
   "outputs": [
    {
     "data": {
      "text/plain": [
       "20.593414440671673"
      ]
     },
     "execution_count": 79,
     "metadata": {},
     "output_type": "execute_result"
    }
   ],
   "source": [
    "np.std (model_df['word_count'])"
   ]
  },
  {
   "cell_type": "markdown",
   "metadata": {},
   "source": [
    "Given that the average no. of words is ~ 14 and standard deviation is ~21, we could safely fix the max number of words at 100 without too much loss in data"
   ]
  },
  {
   "cell_type": "markdown",
   "metadata": {},
   "source": [
    "# Set Different Parameters for the model. "
   ]
  },
  {
   "cell_type": "code",
   "execution_count": 80,
   "metadata": {},
   "outputs": [],
   "source": [
    "max_features = 10000\n",
    "maxlen = 100\n",
    "embedding_size = 200"
   ]
  },
  {
   "cell_type": "markdown",
   "metadata": {},
   "source": [
    "## Apply Keras Tokenizer on \"Clean Description\" column\n",
    "First creating a tokenizer instance using Tokenizer(num_words=max_features) \n",
    "And then fit this tokenizer instance on your data column model_df['Clean Description'] using .fit_on_texts()"
   ]
  },
  {
   "cell_type": "code",
   "execution_count": 81,
   "metadata": {},
   "outputs": [],
   "source": [
    "tokenizer = Tokenizer(num_words=max_features,filters= '!\"#$%&()*+,-./:;<=>?@[\\]^_`{|}\\n“~”')"
   ]
  },
  {
   "cell_type": "code",
   "execution_count": 82,
   "metadata": {},
   "outputs": [],
   "source": [
    "tokenizer.fit_on_texts(model_df['Clean Description'])"
   ]
  },
  {
   "cell_type": "markdown",
   "metadata": {},
   "source": [
    "# Defining X and y for the model."
   ]
  },
  {
   "cell_type": "code",
   "execution_count": 83,
   "metadata": {},
   "outputs": [
    {
     "name": "stdout",
     "output_type": "stream",
     "text": [
      "<class 'pandas.core.frame.DataFrame'>\n",
      "RangeIndex: 8500 entries, 0 to 8499\n",
      "Data columns (total 3 columns):\n",
      "Clean Description    8500 non-null object\n",
      "New grouping         8500 non-null int8\n",
      "word_count           8500 non-null int64\n",
      "dtypes: int64(1), int8(1), object(1)\n",
      "memory usage: 141.2+ KB\n"
     ]
    }
   ],
   "source": [
    "# First to Create a target categorical column\n",
    "model_df['New grouping'] = model_df['New grouping'].astype('category').cat.codes\n",
    "model_df.info()"
   ]
  },
  {
   "cell_type": "code",
   "execution_count": 84,
   "metadata": {},
   "outputs": [
    {
     "data": {
      "text/html": [
       "<div>\n",
       "<style scoped>\n",
       "    .dataframe tbody tr th:only-of-type {\n",
       "        vertical-align: middle;\n",
       "    }\n",
       "\n",
       "    .dataframe tbody tr th {\n",
       "        vertical-align: top;\n",
       "    }\n",
       "\n",
       "    .dataframe thead th {\n",
       "        text-align: right;\n",
       "    }\n",
       "</style>\n",
       "<table border=\"1\" class=\"dataframe\">\n",
       "  <thead>\n",
       "    <tr style=\"text-align: right;\">\n",
       "      <th></th>\n",
       "      <th>Clean Description</th>\n",
       "      <th>New grouping</th>\n",
       "      <th>word_count</th>\n",
       "    </tr>\n",
       "  </thead>\n",
       "  <tbody>\n",
       "    <tr>\n",
       "      <th>0</th>\n",
       "      <td>login issue verify user detail employee manage...</td>\n",
       "      <td>0</td>\n",
       "      <td>17</td>\n",
       "    </tr>\n",
       "    <tr>\n",
       "      <th>1</th>\n",
       "      <td>outlook team meeting skype etc not appear cale...</td>\n",
       "      <td>0</td>\n",
       "      <td>12</td>\n",
       "    </tr>\n",
       "    <tr>\n",
       "      <th>2</th>\n",
       "      <td>can not log vpn not best</td>\n",
       "      <td>0</td>\n",
       "      <td>6</td>\n",
       "    </tr>\n",
       "    <tr>\n",
       "      <th>3</th>\n",
       "      <td>unable access hr tool page</td>\n",
       "      <td>0</td>\n",
       "      <td>5</td>\n",
       "    </tr>\n",
       "    <tr>\n",
       "      <th>4</th>\n",
       "      <td>skype error</td>\n",
       "      <td>0</td>\n",
       "      <td>2</td>\n",
       "    </tr>\n",
       "  </tbody>\n",
       "</table>\n",
       "</div>"
      ],
      "text/plain": [
       "                                   Clean Description  New grouping  word_count\n",
       "0  login issue verify user detail employee manage...             0          17\n",
       "1  outlook team meeting skype etc not appear cale...             0          12\n",
       "2                           can not log vpn not best             0           6\n",
       "3                         unable access hr tool page             0           5\n",
       "4                                        skype error             0           2"
      ]
     },
     "execution_count": 84,
     "metadata": {},
     "output_type": "execute_result"
    }
   ],
   "source": [
    "model_df.head()"
   ]
  },
  {
   "cell_type": "code",
   "execution_count": 85,
   "metadata": {},
   "outputs": [
    {
     "name": "stdout",
     "output_type": "stream",
     "text": [
      "Number of Samples: 8500\n",
      "[  0   0   0   0   0   0   0   0   0   0   0   0   0   0   0   0   0   0\n",
      "   0   0   0   0   0   0   0   0   0   0   0   0   0   0   0   0   0   0\n",
      "   0   0   0   0   0   0   0   0   0   0   0   0   0   0   0   0   0   0\n",
      "   0   0   0   0   0   0   0   0   0   0   0   0   0   0   0   0   0   0\n",
      "   0   0   0   0   0   0   0   0   0   0   0  30   6 102  11  89 129  59\n",
      "  25  32 207  10   2 161  32 257 142  78]\n",
      "Number of Labels:  8500\n",
      "0\n"
     ]
    }
   ],
   "source": [
    "X = tokenizer.texts_to_sequences(model_df['Clean Description'])\n",
    "X = pad_sequences(X, maxlen = maxlen)\n",
    "y = np.asarray(model_df['New grouping'])\n",
    "\n",
    "print(\"Number of Samples:\", len(X))\n",
    "print(X[0])\n",
    "print(\"Number of Labels: \", len(y))\n",
    "print(y[0])"
   ]
  },
  {
   "cell_type": "markdown",
   "metadata": {},
   "source": [
    "## Get the Vocabulary size \n",
    "Use tokenizer.word_index."
   ]
  },
  {
   "cell_type": "code",
   "execution_count": 86,
   "metadata": {},
   "outputs": [
    {
     "name": "stdout",
     "output_type": "stream",
     "text": [
      "Vocabulary size: 10328\n",
      "Documents count: 8500\n"
     ]
    }
   ],
   "source": [
    "vocab_size = len(tokenizer.word_index) + 1\n",
    "print('Vocabulary size: %d\\nDocuments count: %d' % (vocab_size, tokenizer.document_count))"
   ]
  },
  {
   "cell_type": "markdown",
   "metadata": {},
   "source": [
    "Note:\n",
    "\n",
    "That + 1 is because of reserving padding (i.e. index zero)."
   ]
  },
  {
   "cell_type": "markdown",
   "metadata": {},
   "source": [
    "## Get Glove Word Embeddings"
   ]
  },
  {
   "cell_type": "code",
   "execution_count": 221,
   "metadata": {},
   "outputs": [],
   "source": [
    "glove_file = \"glove.6B.zip\""
   ]
  },
  {
   "cell_type": "code",
   "execution_count": 222,
   "metadata": {},
   "outputs": [],
   "source": [
    "#Extract Glove embedding zip file\n",
    "from zipfile import ZipFile\n",
    "with ZipFile(glove_file, 'r') as z:\n",
    "  z.extractall()"
   ]
  },
  {
   "cell_type": "markdown",
   "metadata": {},
   "source": [
    "# Get the Word Embeddings using Embedding file and creating a weight matrix for words in training docs"
   ]
  },
  {
   "cell_type": "code",
   "execution_count": 87,
   "metadata": {},
   "outputs": [
    {
     "name": "stdout",
     "output_type": "stream",
     "text": [
      "Loaded 400000 word vectors.\n"
     ]
    }
   ],
   "source": [
    "# load the whole embedding into memory\n",
    "embeddings_index = dict()\n",
    "f = open('glove.6B.200d.txt', encoding=\"utf8\")\n",
    "for line in f:\n",
    "    values = line.split()\n",
    "    word = values[0]\n",
    "    coefs = np.asarray(values[1:], dtype='float32')\n",
    "    embeddings_index[word] = coefs\n",
    "f.close()\n",
    "print('Loaded %s word vectors.' % len(embeddings_index))\n",
    "\n",
    "# create a weight matrix for words in training docs\n",
    "embedding_matrix = np.zeros((vocab_size, 200))\n",
    "\n",
    "\n",
    "for word, i in tokenizer.word_index.items():\n",
    "    embedding_vector = embeddings_index.get(word)\n",
    "    if embedding_vector is not None:\n",
    "        embedding_matrix[i] = embedding_vector\n",
    "        "
   ]
  },
  {
   "cell_type": "markdown",
   "metadata": {},
   "source": [
    "# Splitting the data into training and validation samples"
   ]
  },
  {
   "cell_type": "code",
   "execution_count": 88,
   "metadata": {},
   "outputs": [],
   "source": [
    "from sklearn.model_selection import train_test_split\n",
    "\n",
    "X_train, X_test, y_train, y_test = train_test_split(X, y, test_size=0.20, random_state=1, stratify=y)"
   ]
  },
  {
   "cell_type": "markdown",
   "metadata": {},
   "source": [
    "## Create and Compile your Model\n",
    "Usinga  Sequential model instance and then add Embedding layer, Bidirectional(LSTM) layer, then dense and dropout layers as required. \n",
    "In the end add a final dense layer with softmax activation for binary classification.\n"
   ]
  },
  {
   "cell_type": "code",
   "execution_count": 89,
   "metadata": {},
   "outputs": [
    {
     "name": "stdout",
     "output_type": "stream",
     "text": [
      "Model: \"sequential_1\"\n",
      "_________________________________________________________________\n",
      "Layer (type)                 Output Shape              Param #   \n",
      "=================================================================\n",
      "embedding_1 (Embedding)      (None, 100, 200)          2065600   \n",
      "_________________________________________________________________\n",
      "spatial_dropout1d_1 (Spatial (None, 100, 200)          0         \n",
      "_________________________________________________________________\n",
      "bidirectional_1 (Bidirection (None, 256)               337920    \n",
      "_________________________________________________________________\n",
      "dropout_1 (Dropout)          (None, 256)               0         \n",
      "_________________________________________________________________\n",
      "dense_1 (Dense)              (None, 36)                9252      \n",
      "=================================================================\n",
      "Total params: 2,412,772\n",
      "Trainable params: 2,412,772\n",
      "Non-trainable params: 0\n",
      "_________________________________________________________________\n",
      "None\n"
     ]
    }
   ],
   "source": [
    "# Build the model\n",
    "embedding_dim = 200\n",
    "\n",
    "model = Sequential()\n",
    "model.add(Embedding(vocab_size,\n",
    "                    embedding_dim,\n",
    "                    embeddings_initializer=Constant(embedding_matrix),\n",
    "                    input_length=maxlen,\n",
    "                    trainable=True))\n",
    "model.add(SpatialDropout1D(0.2))\n",
    "model.add(Bidirectional(CuDNNLSTM(128)))\n",
    "#model.add(Bidirectional(CuDNNLSTM(128, return_sequences=True)))\n",
    "#model.add(Bidirectional(CuDNNLSTM(64, return_sequences=True)))\n",
    "#model.add(Bidirectional(CuDNNLSTM(32)))\n",
    "model.add(Dropout(0.25))\n",
    "model.add(Dense(units=36, activation='softmax'))\n",
    "model.compile(loss = 'categorical_crossentropy', optimizer='adam',metrics = ['accuracy'])\n",
    "print(model.summary())"
   ]
  },
  {
   "cell_type": "markdown",
   "metadata": {},
   "source": [
    "# Fitting the model with a batch size of 100 and validation_split = 0.2."
   ]
  },
  {
   "cell_type": "code",
   "execution_count": 90,
   "metadata": {},
   "outputs": [],
   "source": [
    "# Converting to categorical data\n",
    "y_train = to_categorical(y_train)\n",
    "y_test = to_categorical(y_test)"
   ]
  },
  {
   "cell_type": "code",
   "execution_count": 91,
   "metadata": {},
   "outputs": [
    {
     "name": "stdout",
     "output_type": "stream",
     "text": [
      "WARNING:tensorflow:From C:\\ProgramData\\Anaconda3\\lib\\site-packages\\keras\\backend\\tensorflow_backend.py:422: The name tf.global_variables is deprecated. Please use tf.compat.v1.global_variables instead.\n",
      "\n",
      "Train on 5440 samples, validate on 1360 samples\n",
      "Epoch 1/20\n",
      "5440/5440 [==============================] - 7s 1ms/step - loss: 2.4032 - accuracy: 0.4906 - val_loss: 2.0145 - val_accuracy: 0.5390\n",
      "Epoch 2/20\n",
      "5440/5440 [==============================] - 4s 746us/step - loss: 1.8557 - accuracy: 0.5511 - val_loss: 1.7470 - val_accuracy: 0.5676\n",
      "Epoch 3/20\n",
      "5440/5440 [==============================] - 5s 942us/step - loss: 1.6060 - accuracy: 0.5908 - val_loss: 1.6015 - val_accuracy: 0.5875\n",
      "Epoch 4/20\n",
      "5440/5440 [==============================] - 9s 2ms/step - loss: 1.4235 - accuracy: 0.6241 - val_loss: 1.4852 - val_accuracy: 0.6029\n",
      "Epoch 5/20\n",
      "5440/5440 [==============================] - 14s 3ms/step - loss: 1.2848 - accuracy: 0.6548 - val_loss: 1.4204 - val_accuracy: 0.6118\n",
      "Epoch 6/20\n",
      "5440/5440 [==============================] - 20s 4ms/step - loss: 1.1681 - accuracy: 0.6722 - val_loss: 1.4323 - val_accuracy: 0.6272\n",
      "Epoch 7/20\n",
      "5440/5440 [==============================] - 21s 4ms/step - loss: 1.0614 - accuracy: 0.6982 - val_loss: 1.3695 - val_accuracy: 0.6331\n",
      "Epoch 8/20\n",
      "5440/5440 [==============================] - 21s 4ms/step - loss: 0.9648 - accuracy: 0.7250 - val_loss: 1.3758 - val_accuracy: 0.6412\n",
      "Epoch 9/20\n",
      "5440/5440 [==============================] - 20s 4ms/step - loss: 0.8719 - accuracy: 0.7502 - val_loss: 1.3969 - val_accuracy: 0.6441\n",
      "Epoch 10/20\n",
      "5440/5440 [==============================] - 20s 4ms/step - loss: 0.7849 - accuracy: 0.7785 - val_loss: 1.3331 - val_accuracy: 0.6434\n",
      "Epoch 11/20\n",
      "5440/5440 [==============================] - 20s 4ms/step - loss: 0.7080 - accuracy: 0.7980 - val_loss: 1.3705 - val_accuracy: 0.6493\n",
      "Epoch 12/20\n",
      "5440/5440 [==============================] - 20s 4ms/step - loss: 0.6224 - accuracy: 0.8182 - val_loss: 1.3947 - val_accuracy: 0.6529\n",
      "Epoch 13/20\n",
      "5440/5440 [==============================] - 20s 4ms/step - loss: 0.5783 - accuracy: 0.8357 - val_loss: 1.3726 - val_accuracy: 0.6529\n",
      "Epoch 14/20\n",
      "5440/5440 [==============================] - 20s 4ms/step - loss: 0.5144 - accuracy: 0.8487 - val_loss: 1.4673 - val_accuracy: 0.6515\n",
      "Epoch 15/20\n",
      "5440/5440 [==============================] - 20s 4ms/step - loss: 0.4667 - accuracy: 0.8647 - val_loss: 1.4241 - val_accuracy: 0.6537\n",
      "Epoch 16/20\n",
      "5440/5440 [==============================] - 20s 4ms/step - loss: 0.4210 - accuracy: 0.8768 - val_loss: 1.4460 - val_accuracy: 0.6485\n",
      "Epoch 17/20\n",
      "5440/5440 [==============================] - 20s 4ms/step - loss: 0.4107 - accuracy: 0.8756 - val_loss: 1.4442 - val_accuracy: 0.6551\n",
      "Epoch 18/20\n",
      "5440/5440 [==============================] - 20s 4ms/step - loss: 0.3650 - accuracy: 0.8939 - val_loss: 1.4409 - val_accuracy: 0.6625\n",
      "Epoch 19/20\n",
      "5440/5440 [==============================] - 20s 4ms/step - loss: 0.3302 - accuracy: 0.9064 - val_loss: 1.5367 - val_accuracy: 0.6559\n",
      "Epoch 20/20\n",
      "5440/5440 [==============================] - 20s 4ms/step - loss: 0.3193 - accuracy: 0.9022 - val_loss: 1.5055 - val_accuracy: 0.6596\n"
     ]
    }
   ],
   "source": [
    "batch_size = 100\n",
    "epochs = 20\n",
    "history = model.fit(X_train, y_train, epochs=epochs, batch_size=batch_size, verbose=1, validation_split=0.2)"
   ]
  },
  {
   "cell_type": "code",
   "execution_count": 92,
   "metadata": {},
   "outputs": [
    {
     "data": {
      "image/png": "[encoded data removed]",
      "text/plain": [
       "<Figure size 432x288 with 1 Axes>"
      ]
     },
     "metadata": {
      "needs_background": "light"
     },
     "output_type": "display_data"
    },
    {
     "data": {
      "image/png": "[encoded data removed]",
      "text/plain": [
       "<Figure size 432x288 with 1 Axes>"
      ]
     },
     "metadata": {
      "needs_background": "light"
     },
     "output_type": "display_data"
    }
   ],
   "source": [
    "plt.plot(history.history['accuracy'])\n",
    "plt.plot(history.history['val_accuracy'])\n",
    "plt.title('model accuracy')\n",
    "plt.ylabel('accuracy')\n",
    "plt.xlabel('epoch')\n",
    "plt.legend(['train', 'validation'], loc='upper left')\n",
    "plt.show()\n",
    "\n",
    "plt.plot(history.history['loss'])\n",
    "plt.plot(history.history['val_loss'])\n",
    "plt.title('model loss')\n",
    "plt.ylabel('loss')\n",
    "plt.xlabel('epoch')\n",
    "plt.legend(['train', 'validation'], loc='upper left')\n",
    "plt.show()"
   ]
  },
  {
   "cell_type": "markdown",
   "metadata": {},
   "source": [
    "Model clearly overfits, on validation data it has an accuracy of only  ~ 66% whereas train accuracy is 90%"
   ]
  },
  {
   "cell_type": "markdown",
   "metadata": {},
   "source": [
    "## Prediction on Test Data"
   ]
  },
  {
   "cell_type": "code",
   "execution_count": 94,
   "metadata": {},
   "outputs": [],
   "source": [
    "# Generic method to print the classification report\n",
    "def classification_summary(y_test, y_pred, y_proba):\n",
    "    print('\\033[1mModel accuracy:\\033[0m %.2f%%' % (accuracy_score(y_test, y_pred) * 100))\n",
    "    print('_'*80)\n",
    "    print('\\033[1mConfusion matrix:\\033[0m\\n %s' % (confusion_matrix(y_test.argmax(axis=1), y_pred.argmax(axis=1))))\n",
    "    print('_'*80)\n",
    "    print('\\033[1mClassification report:\\033[0m\\n %s' % (classification_report(y_test, y_pred)))\n",
    "    print('_'*80)"
   ]
  },
  {
   "cell_type": "code",
   "execution_count": 95,
   "metadata": {},
   "outputs": [
    {
     "name": "stdout",
     "output_type": "stream",
     "text": [
      "\u001b[1mModel accuracy:\u001b[0m 58.82%\n",
      "________________________________________________________________________________\n",
      "\u001b[1mConfusion matrix:\u001b[0m\n",
      " [[731   0   0 ...   0   0  10]\n",
      " [  0   0   0 ...   0   0   0]\n",
      " [  7   0  17 ...   0   0   1]\n",
      " ...\n",
      " [ 47   0   1 ...  76   0   1]\n",
      " [ 47   0   0 ...   1   2   0]\n",
      " [ 41   1   0 ...   4   0  12]]\n",
      "________________________________________________________________________________\n",
      "\u001b[1mClassification report:\u001b[0m\n",
      "               precision    recall  f1-score   support\n",
      "\n",
      "           0       0.83      0.85      0.84       795\n",
      "           1       0.00      0.00      0.00         6\n",
      "           2       0.74      0.61      0.67        28\n",
      "           3       0.17      0.17      0.17         6\n",
      "           4       0.66      0.37      0.48        51\n",
      "           5       0.43      0.34      0.38        29\n",
      "           6       0.47      0.33      0.39        24\n",
      "           7       0.40      0.25      0.31         8\n",
      "           8       0.50      0.35      0.41        17\n",
      "           9       0.93      0.88      0.90        16\n",
      "          10       0.38      0.17      0.23        18\n",
      "          11       0.60      0.35      0.44        43\n",
      "          12       0.52      0.33      0.41        48\n",
      "          13       0.00      0.00      0.00         7\n",
      "          14       0.00      0.00      0.00         6\n",
      "          15       0.89      0.67      0.76        58\n",
      "          16       0.60      0.39      0.47        23\n",
      "          17       0.22      0.18      0.20        11\n",
      "          18       1.00      0.22      0.36         9\n",
      "          19       0.71      0.60      0.65        20\n",
      "          20       0.42      0.33      0.37        40\n",
      "          21       0.00      0.00      0.00         8\n",
      "          22       0.00      0.00      0.00        14\n",
      "          23       0.50      0.14      0.22        21\n",
      "          24       0.38      0.42      0.40        12\n",
      "          25       0.46      0.30      0.36        20\n",
      "          26       0.50      0.22      0.31         9\n",
      "          27       0.80      0.50      0.62         8\n",
      "          28       0.00      0.00      0.00         7\n",
      "          29       0.00      0.00      0.00         7\n",
      "          30       0.67      0.31      0.42        26\n",
      "          31       0.86      0.49      0.62        37\n",
      "          32       0.60      0.21      0.32        14\n",
      "          33       0.79      0.58      0.67       132\n",
      "          34       1.00      0.04      0.08        51\n",
      "          35       0.28      0.17      0.21        71\n",
      "\n",
      "   micro avg       0.74      0.59      0.66      1700\n",
      "   macro avg       0.48      0.30      0.35      1700\n",
      "weighted avg       0.70      0.59      0.62      1700\n",
      " samples avg       0.59      0.59      0.59      1700\n",
      "\n",
      "________________________________________________________________________________\n"
     ]
    },
    {
     "name": "stderr",
     "output_type": "stream",
     "text": [
      "C:\\ProgramData\\Anaconda3\\lib\\site-packages\\sklearn\\metrics\\classification.py:1143: UndefinedMetricWarning:\n",
      "\n",
      "Precision and F-score are ill-defined and being set to 0.0 in labels with no predicted samples.\n",
      "\n",
      "C:\\ProgramData\\Anaconda3\\lib\\site-packages\\sklearn\\metrics\\classification.py:1143: UndefinedMetricWarning:\n",
      "\n",
      "Precision and F-score are ill-defined and being set to 0.0 in labels with no predicted samples.\n",
      "\n",
      "C:\\ProgramData\\Anaconda3\\lib\\site-packages\\sklearn\\metrics\\classification.py:1143: UndefinedMetricWarning:\n",
      "\n",
      "Precision and F-score are ill-defined and being set to 0.0 in labels with no predicted samples.\n",
      "\n",
      "C:\\ProgramData\\Anaconda3\\lib\\site-packages\\sklearn\\metrics\\classification.py:1143: UndefinedMetricWarning:\n",
      "\n",
      "Precision and F-score are ill-defined and being set to 0.0 in samples with no predicted labels.\n",
      "\n"
     ]
    }
   ],
   "source": [
    "# Analyze Classification Summary\n",
    "y_proba = model.predict([X_test])\n",
    "y_pred = (y_proba > 0.5).astype('int32')\n",
    "classification_summary(y_test, y_pred, y_proba)"
   ]
  },
  {
   "cell_type": "markdown",
   "metadata": {},
   "source": [
    "For the smaller groups, the accuracy is really low; we can potentially think of merging groups with a record base of less than 50 (instead of 30)"
   ]
  },
  {
   "cell_type": "markdown",
   "metadata": {},
   "source": [
    "# Instead of Glove using Word2Vec\n",
    "\n",
    "Perhaps more appropriate in this situation since quite a few of the words like http, vpn, etc might not be present in the Glove Vocabulary and thus creating a vocabulary for this specific study might be better and we will use the Word2Vec model saved earlier"
   ]
  },
  {
   "cell_type": "markdown",
   "metadata": {},
   "source": [
    "# Modeling with Word2Vec"
   ]
  },
  {
   "cell_type": "code",
   "execution_count": 119,
   "metadata": {},
   "outputs": [],
   "source": [
    "# Load the Word2Vec model\n",
    "wmodel = Doc2Vec.load('word2vec.mdl')"
   ]
  },
  {
   "cell_type": "code",
   "execution_count": 120,
   "metadata": {},
   "outputs": [
    {
     "name": "stdout",
     "output_type": "stream",
     "text": [
      "Vocabulary Size: 3135 - Embedding Dim: 8000\n"
     ]
    }
   ],
   "source": [
    "w2v_weights = wmodel.wv.vectors\n",
    "vocab_size, embedding_size = w2v_weights.shape\n",
    "print(\"Vocabulary Size: {} - Embedding Dim: {}\".format(vocab_size, embedding_size))"
   ]
  },
  {
   "cell_type": "code",
   "execution_count": 121,
   "metadata": {},
   "outputs": [
    {
     "name": "stdout",
     "output_type": "stream",
     "text": [
      "WARNING:tensorflow:From C:\\ProgramData\\Anaconda3\\lib\\site-packages\\tensorflow\\python\\keras\\backend.py:3794: add_dispatch_support.<locals>.wrapper (from tensorflow.python.ops.array_ops) is deprecated and will be removed in a future version.\n",
      "Instructions for updating:\n",
      "Use tf.where in 2.0, which has the same broadcast rule as np.where\n",
      "Model: \"sequential_2\"\n",
      "_________________________________________________________________\n",
      "Layer (type)                 Output Shape              Param #   \n",
      "=================================================================\n",
      "embedding_2 (Embedding)      (None, 100, 8000)         25080000  \n",
      "_________________________________________________________________\n",
      "spatial_dropout1d_2 (Spatial (None, 100, 8000)         0         \n",
      "_________________________________________________________________\n",
      "bidirectional_2 (Bidirection (None, 256)               8324096   \n",
      "_________________________________________________________________\n",
      "dropout_2 (Dropout)          (None, 256)               0         \n",
      "_________________________________________________________________\n",
      "dense_2 (Dense)              (None, 36)                9252      \n",
      "=================================================================\n",
      "Total params: 33,413,348\n",
      "Trainable params: 8,333,348\n",
      "Non-trainable params: 25,080,000\n",
      "_________________________________________________________________\n",
      "None\n"
     ]
    }
   ],
   "source": [
    "# CREATE the MODEL\n",
    "\n",
    "# Samples of categories with less than this number of samples will be ignored\n",
    "DROP_THRESHOLD = 10000\n",
    "model_wv = Sequential()\n",
    "model_wv.add(Embedding(input_dim=vocab_size, \n",
    "                        output_dim=embedding_size, \n",
    "                        weights=[w2v_weights], \n",
    "                        input_length=maxlen, \n",
    "                        mask_zero=True,\n",
    "                        trainable=False))\n",
    "model_wv.add(SpatialDropout1D(0.2))\n",
    "model_wv.add(Bidirectional(LSTM(128)))\n",
    "#model_wv.add(Bidirectional(LSTM(128, return_sequences=True)))\n",
    "#model_wv.add(Bidirectional(LSTM(64)))\n",
    "model_wv.add(Dropout(0.25))\n",
    "#model.add(Dense(units=2, activation='sigmoid')) # found softmax to work better\n",
    "model_wv.add(Dense(units=36, activation='softmax'))\n",
    "model_wv.compile(loss = 'categorical_crossentropy', optimizer='adam',metrics = ['accuracy'])\n",
    "print(model_wv.summary())"
   ]
  },
  {
   "cell_type": "code",
   "execution_count": 123,
   "metadata": {},
   "outputs": [
    {
     "name": "stdout",
     "output_type": "stream",
     "text": [
      "Train on 5440 samples, validate on 1360 samples\n",
      "Epoch 1/20\n",
      "5440/5440 [==============================] - 305s 56ms/step - loss: 1.8256 - accuracy: 0.5482 - val_loss: 1.7986 - val_accuracy: 0.5544\n",
      "Epoch 2/20\n",
      "5440/5440 [==============================] - 305s 56ms/step - loss: 1.7717 - accuracy: 0.5581 - val_loss: 1.7611 - val_accuracy: 0.5463\n",
      "Epoch 3/20\n",
      "5440/5440 [==============================] - 307s 56ms/step - loss: 1.7248 - accuracy: 0.5642 - val_loss: 1.7097 - val_accuracy: 0.5632\n",
      "Epoch 4/20\n",
      "5440/5440 [==============================] - 308s 57ms/step - loss: 1.6725 - accuracy: 0.5647 - val_loss: 1.7163 - val_accuracy: 0.5632\n",
      "Epoch 5/20\n",
      "5440/5440 [==============================] - 308s 57ms/step - loss: 1.6489 - accuracy: 0.5686 - val_loss: 1.6687 - val_accuracy: 0.5662\n",
      "Epoch 6/20\n",
      "5440/5440 [==============================] - 308s 57ms/step - loss: 1.6093 - accuracy: 0.5752 - val_loss: 1.6351 - val_accuracy: 0.5618\n",
      "Epoch 7/20\n",
      "5440/5440 [==============================] - 308s 57ms/step - loss: 1.5864 - accuracy: 0.5767 - val_loss: 1.6166 - val_accuracy: 0.5765\n",
      "Epoch 8/20\n",
      "5440/5440 [==============================] - 309s 57ms/step - loss: 1.5603 - accuracy: 0.5756 - val_loss: 1.6184 - val_accuracy: 0.5699\n",
      "Epoch 9/20\n",
      "5440/5440 [==============================] - 309s 57ms/step - loss: 1.5347 - accuracy: 0.5838 - val_loss: 1.5882 - val_accuracy: 0.5721\n",
      "Epoch 10/20\n",
      "5440/5440 [==============================] - 309s 57ms/step - loss: 1.4956 - accuracy: 0.5914 - val_loss: 1.5971 - val_accuracy: 0.5640\n",
      "Epoch 11/20\n",
      "5440/5440 [==============================] - 309s 57ms/step - loss: 1.4918 - accuracy: 0.5938 - val_loss: 1.5650 - val_accuracy: 0.5853\n",
      "Epoch 12/20\n",
      "5440/5440 [==============================] - 309s 57ms/step - loss: 1.4643 - accuracy: 0.6040 - val_loss: 1.5583 - val_accuracy: 0.5926\n",
      "Epoch 13/20\n",
      "5440/5440 [==============================] - 309s 57ms/step - loss: 1.4268 - accuracy: 0.6061 - val_loss: 1.5583 - val_accuracy: 0.5824\n",
      "Epoch 14/20\n",
      "5440/5440 [==============================] - 309s 57ms/step - loss: 1.4041 - accuracy: 0.6081 - val_loss: 1.5291 - val_accuracy: 0.5941\n",
      "Epoch 15/20\n",
      "5440/5440 [==============================] - 309s 57ms/step - loss: 1.3860 - accuracy: 0.6127 - val_loss: 1.5381 - val_accuracy: 0.5934\n",
      "Epoch 16/20\n",
      "5440/5440 [==============================] - 309s 57ms/step - loss: 1.3771 - accuracy: 0.6147 - val_loss: 1.5733 - val_accuracy: 0.5882\n",
      "Epoch 17/20\n",
      "5440/5440 [==============================] - 309s 57ms/step - loss: 1.3430 - accuracy: 0.6171 - val_loss: 1.5684 - val_accuracy: 0.5904\n",
      "Epoch 18/20\n",
      "5440/5440 [==============================] - 309s 57ms/step - loss: 1.3207 - accuracy: 0.6268 - val_loss: 1.5206 - val_accuracy: 0.5941\n",
      "Epoch 19/20\n",
      "5440/5440 [==============================] - 309s 57ms/step - loss: 1.3000 - accuracy: 0.6259 - val_loss: 1.5280 - val_accuracy: 0.5926\n",
      "Epoch 20/20\n",
      "5440/5440 [==============================] - 309s 57ms/step - loss: 1.2810 - accuracy: 0.6381 - val_loss: 1.5832 - val_accuracy: 0.5941\n"
     ]
    }
   ],
   "source": [
    "batch_size = 100\n",
    "epochs = 20\n",
    "history = model_wv.fit(X_train, y_train, epochs=epochs, batch_size=batch_size, verbose=1, validation_split=0.2)"
   ]
  },
  {
   "cell_type": "code",
   "execution_count": 124,
   "metadata": {},
   "outputs": [
    {
     "data": {
      "image/png": "[encoded data removed]",
      "text/plain": [
       "<Figure size 432x288 with 1 Axes>"
      ]
     },
     "metadata": {
      "needs_background": "light"
     },
     "output_type": "display_data"
    },
    {
     "data": {
      "image/png": "[encoded data removed]",
      "text/plain": [
       "<Figure size 432x288 with 1 Axes>"
      ]
     },
     "metadata": {
      "needs_background": "light"
     },
     "output_type": "display_data"
    }
   ],
   "source": [
    "plt.plot(history.history['accuracy'])\n",
    "plt.plot(history.history['val_accuracy'])\n",
    "plt.title('model accuracy')\n",
    "plt.ylabel('accuracy')\n",
    "plt.xlabel('epoch')\n",
    "plt.legend(['train', 'validation'], loc='upper left')\n",
    "plt.show()\n",
    "\n",
    "plt.plot(history.history['loss'])\n",
    "plt.plot(history.history['val_loss'])\n",
    "plt.title('model loss')\n",
    "plt.ylabel('loss')\n",
    "plt.xlabel('epoch')\n",
    "plt.legend(['train', 'validation'], loc='upper left')\n",
    "plt.show()"
   ]
  },
  {
   "cell_type": "code",
   "execution_count": 126,
   "metadata": {},
   "outputs": [
    {
     "name": "stdout",
     "output_type": "stream",
     "text": [
      "\u001b[1mModel accuracy:\u001b[0m 48.24%\n",
      "________________________________________________________________________________\n",
      "\u001b[1mConfusion matrix:\u001b[0m\n",
      " [[782   0   0 ...   0   0   0]\n",
      " [  3   0   0 ...   3   0   0]\n",
      " [ 19   0   7 ...   2   0   0]\n",
      " ...\n",
      " [ 49   0   1 ...  76   0   0]\n",
      " [ 50   0   0 ...   0   1   0]\n",
      " [ 67   1   0 ...   3   0   0]]\n",
      "________________________________________________________________________________\n",
      "\u001b[1mClassification report:\u001b[0m\n",
      "               precision    recall  f1-score   support\n",
      "\n",
      "           0       0.74      0.85      0.79       795\n",
      "           1       0.00      0.00      0.00         6\n",
      "           2       0.88      0.25      0.39        28\n",
      "           3       0.00      0.00      0.00         6\n",
      "           4       0.75      0.12      0.20        51\n",
      "           5       0.00      0.00      0.00        29\n",
      "           6       0.50      0.08      0.14        24\n",
      "           7       0.00      0.00      0.00         8\n",
      "           8       0.00      0.00      0.00        17\n",
      "           9       0.92      0.75      0.83        16\n",
      "          10       0.00      0.00      0.00        18\n",
      "          11       0.00      0.00      0.00        43\n",
      "          12       0.80      0.08      0.15        48\n",
      "          13       0.00      0.00      0.00         7\n",
      "          14       0.00      0.00      0.00         6\n",
      "          15       0.75      0.57      0.65        58\n",
      "          16       1.00      0.04      0.08        23\n",
      "          17       0.00      0.00      0.00        11\n",
      "          18       0.00      0.00      0.00         9\n",
      "          19       0.00      0.00      0.00        20\n",
      "          20       0.00      0.00      0.00        40\n",
      "          21       0.00      0.00      0.00         8\n",
      "          22       0.00      0.00      0.00        14\n",
      "          23       0.50      0.05      0.09        21\n",
      "          24       0.00      0.00      0.00        12\n",
      "          25       0.12      0.05      0.07        20\n",
      "          26       0.00      0.00      0.00         9\n",
      "          27       0.00      0.00      0.00         8\n",
      "          28       0.00      0.00      0.00         7\n",
      "          29       0.00      0.00      0.00         7\n",
      "          30       0.00      0.00      0.00        26\n",
      "          31       0.00      0.00      0.00        37\n",
      "          32       0.00      0.00      0.00        14\n",
      "          33       0.64      0.58      0.61       132\n",
      "          34       1.00      0.02      0.04        51\n",
      "          35       0.00      0.00      0.00        71\n",
      "\n",
      "   micro avg       0.73      0.48      0.58      1700\n",
      "   macro avg       0.24      0.10      0.11      1700\n",
      "weighted avg       0.55      0.48      0.47      1700\n",
      " samples avg       0.48      0.48      0.48      1700\n",
      "\n",
      "________________________________________________________________________________\n"
     ]
    },
    {
     "name": "stderr",
     "output_type": "stream",
     "text": [
      "C:\\ProgramData\\Anaconda3\\lib\\site-packages\\sklearn\\metrics\\classification.py:1143: UndefinedMetricWarning:\n",
      "\n",
      "Precision and F-score are ill-defined and being set to 0.0 in labels with no predicted samples.\n",
      "\n",
      "C:\\ProgramData\\Anaconda3\\lib\\site-packages\\sklearn\\metrics\\classification.py:1143: UndefinedMetricWarning:\n",
      "\n",
      "Precision and F-score are ill-defined and being set to 0.0 in labels with no predicted samples.\n",
      "\n",
      "C:\\ProgramData\\Anaconda3\\lib\\site-packages\\sklearn\\metrics\\classification.py:1143: UndefinedMetricWarning:\n",
      "\n",
      "Precision and F-score are ill-defined and being set to 0.0 in labels with no predicted samples.\n",
      "\n",
      "C:\\ProgramData\\Anaconda3\\lib\\site-packages\\sklearn\\metrics\\classification.py:1143: UndefinedMetricWarning:\n",
      "\n",
      "Precision and F-score are ill-defined and being set to 0.0 in samples with no predicted labels.\n",
      "\n"
     ]
    }
   ],
   "source": [
    "# Analyze Classification Summary\n",
    "y_proba = model_wv.predict([X_test])\n",
    "y_pred = (y_proba > 0.5).astype('int32')\n",
    "classification_summary(y_test, y_pred, y_proba)"
   ]
  },
  {
   "cell_type": "markdown",
   "metadata": {},
   "source": [
    "# Summary of Model Fits:\n",
    "\n",
    "The same bi-directional LSTM model (with all parameters the same) has been applied to both the Glove as well as the WOrd2Vec Embedding.\n",
    "\n",
    "The Glove based LSTM gives a higher validation accuracy of ~ 66% vis-a-vis the Word2Vec based one which has a validation accuracy of 59%    "
   ]
  },
  {
   "cell_type": "code",
   "execution_count": null,
   "metadata": {},
   "outputs": [],
   "source": []
  }
 ],
 "metadata": {
  "kernelspec": {
   "display_name": "Python 3",
   "language": "python",
   "name": "python3"
  },
  "language_info": {
   "codemirror_mode": {
    "name": "ipython",
    "version": 3
   },
   "file_extension": ".py",
   "mimetype": "text/x-python",
   "name": "python",
   "nbconvert_exporter": "python",
   "pygments_lexer": "ipython3",
   "version": "3.7.3"
  }
 },
 "nbformat": 4,
 "nbformat_minor": 2
}
