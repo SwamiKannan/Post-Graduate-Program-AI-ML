{
 "cells": [
  {
   "cell_type": "markdown",
   "metadata": {},
   "source": [
    "# Milestone 2 - AUTOMATIC TICKET ASSIGNMENT\n",
    "\n"
   ]
  },
  {
   "cell_type": "markdown",
   "metadata": {},
   "source": [
    "# Problem Statement\n",
    "\n",
    "Manual assignment of incidents is time consuming and requires human efforts. There may be mistakes due to human errors and resource consumption is carried out ineffectively because of the misaddressing. On the other hand, manual assignment increases the response and resolution times which result in user satisfaction deterioration / poor customer service"
   ]
  },
  {
   "cell_type": "markdown",
   "metadata": {},
   "source": [
    "# Business Value Proposition\n",
    "\n",
    "In the support process, incoming incidents are analyzed and assessed by organization’s support teams to fulfill the request. In many organizations, better allocation and effective usage of the valuable support resources will directly result in substantial cost savings"
   ]
  },
  {
   "cell_type": "markdown",
   "metadata": {},
   "source": [
    "# Modeling Objective\n",
    "\n",
    "Develop a model for automatic ticket assignment to the relevant team so that problem addressal can be done in an efficient manner that reduces time for resolution"
   ]
  },
  {
   "cell_type": "markdown",
   "metadata": {},
   "source": [
    "# Brief Summary of Milestone1 Submission\n",
    "\n",
    "- The text data was cleaned, relationships understood \n",
    "- Word2Vec (unigram) and Glove (200d) were tried out for the modeling"
   ]
  },
  {
   "cell_type": "markdown",
   "metadata": {},
   "source": [
    "# Milestone 2\n",
    "\n",
    "This is the stage where new models and existing models would be finetuned to improve accuracy\n",
    "- in this stage, n-gram Wor2Vec models along with Glove are explored\n",
    "- Given the sample imbalance in the Groups, Re-Sampling procedures done to get more balanced samples\n",
    "- Model fine tuning done to improve accuracies"
   ]
  },
  {
   "cell_type": "markdown",
   "metadata": {},
   "source": [
    "The new_df pandadataframe was saved and imported for this session"
   ]
  },
  {
   "cell_type": "code",
   "execution_count": 1,
   "metadata": {},
   "outputs": [],
   "source": [
    "# Libraries Used"
   ]
  },
  {
   "cell_type": "code",
   "execution_count": 1,
   "metadata": {},
   "outputs": [
    {
     "name": "stdout",
     "output_type": "stream",
     "text": [
      "Processing c:\\users\\shiv\\appdata\\local\\pip\\cache\\wheels\\7b\\05\\a0\\99c0cf60d383f0494e10eca2b238ea98faca9a1fe03cac2894\\keras_self_attention-0.42.0-cp37-none-any.whl\n",
      "Requirement already satisfied: Keras in c:\\programdata\\anaconda3\\lib\\site-packages (from keras-self-attention) (2.3.1)\n",
      "Requirement already satisfied: numpy in c:\\programdata\\anaconda3\\lib\\site-packages (from keras-self-attention) (1.18.1)\n",
      "Requirement already satisfied: scipy>=0.14 in c:\\programdata\\anaconda3\\lib\\site-packages (from Keras->keras-self-attention) (1.4.1)\n",
      "Requirement already satisfied: six>=1.9.0 in c:\\programdata\\anaconda3\\lib\\site-packages (from Keras->keras-self-attention) (1.14.0)\n",
      "Requirement already satisfied: pyyaml in c:\\programdata\\anaconda3\\lib\\site-packages (from Keras->keras-self-attention) (5.3)\n",
      "Requirement already satisfied: h5py in c:\\programdata\\anaconda3\\lib\\site-packages (from Keras->keras-self-attention) (2.10.0)\n",
      "Requirement already satisfied: keras_applications>=1.0.6 in c:\\programdata\\anaconda3\\lib\\site-packages (from Keras->keras-self-attention) (1.0.8)\n",
      "Requirement already satisfied: keras_preprocessing>=1.0.5 in c:\\programdata\\anaconda3\\lib\\site-packages (from Keras->keras-self-attention) (1.1.0)\n",
      "Installing collected packages: keras-self-attention\n",
      "Successfully installed keras-self-attention-0.42.0\n",
      "Note: you may need to restart the kernel to use updated packages.\n"
     ]
    }
   ],
   "source": [
    "pip install keras-self-attention"
   ]
  },
  {
   "cell_type": "code",
   "execution_count": 1,
   "metadata": {},
   "outputs": [
    {
     "name": "stdout",
     "output_type": "stream",
     "text": [
      "Requirement already satisfied: en_core_web_sm==2.2.5 from https://github.com/explosion/spacy-models/releases/download/en_core_web_sm-2.2.5/en_core_web_sm-2.2.5.tar.gz#egg=en_core_web_sm==2.2.5 in c:\\programdata\\anaconda3\\lib\\site-packages (2.2.5)\n",
      "Requirement already satisfied: spacy>=2.2.2 in c:\\programdata\\anaconda3\\lib\\site-packages (from en_core_web_sm==2.2.5) (2.2.4)\n",
      "Requirement already satisfied: thinc==7.4.0 in c:\\programdata\\anaconda3\\lib\\site-packages (from spacy>=2.2.2->en_core_web_sm==2.2.5) (7.4.0)\n",
      "Requirement already satisfied: srsly<1.1.0,>=1.0.2 in c:\\programdata\\anaconda3\\lib\\site-packages (from spacy>=2.2.2->en_core_web_sm==2.2.5) (1.0.2)\n",
      "Requirement already satisfied: plac<1.2.0,>=0.9.6 in c:\\programdata\\anaconda3\\lib\\site-packages (from spacy>=2.2.2->en_core_web_sm==2.2.5) (1.1.3)\n",
      "Requirement already satisfied: tqdm<5.0.0,>=4.38.0 in c:\\programdata\\anaconda3\\lib\\site-packages (from spacy>=2.2.2->en_core_web_sm==2.2.5) (4.42.1)\n",
      "Requirement already satisfied: preshed<3.1.0,>=3.0.2 in c:\\programdata\\anaconda3\\lib\\site-packages (from spacy>=2.2.2->en_core_web_sm==2.2.5) (3.0.2)\n",
      "Requirement already satisfied: catalogue<1.1.0,>=0.0.7 in c:\\programdata\\anaconda3\\lib\\site-packages (from spacy>=2.2.2->en_core_web_sm==2.2.5) (1.0.0)\n",
      "Requirement already satisfied: setuptools in c:\\programdata\\anaconda3\\lib\\site-packages (from spacy>=2.2.2->en_core_web_sm==2.2.5) (45.2.0.post20200210)\n",
      "Requirement already satisfied: wasabi<1.1.0,>=0.4.0 in c:\\programdata\\anaconda3\\lib\\site-packages (from spacy>=2.2.2->en_core_web_sm==2.2.5) (0.6.0)\n",
      "Requirement already satisfied: murmurhash<1.1.0,>=0.28.0 in c:\\programdata\\anaconda3\\lib\\site-packages (from spacy>=2.2.2->en_core_web_sm==2.2.5) (1.0.2)\n",
      "Requirement already satisfied: blis<0.5.0,>=0.4.0 in c:\\programdata\\anaconda3\\lib\\site-packages (from spacy>=2.2.2->en_core_web_sm==2.2.5) (0.4.1)\n",
      "Requirement already satisfied: numpy>=1.15.0 in c:\\programdata\\anaconda3\\lib\\site-packages (from spacy>=2.2.2->en_core_web_sm==2.2.5) (1.18.1)\n",
      "Requirement already satisfied: cymem<2.1.0,>=2.0.2 in c:\\programdata\\anaconda3\\lib\\site-packages (from spacy>=2.2.2->en_core_web_sm==2.2.5) (2.0.3)\n",
      "Requirement already satisfied: requests<3.0.0,>=2.13.0 in c:\\programdata\\anaconda3\\lib\\site-packages (from spacy>=2.2.2->en_core_web_sm==2.2.5) (2.22.0)\n",
      "Requirement already satisfied: importlib-metadata>=0.20; python_version < \"3.8\" in c:\\programdata\\anaconda3\\lib\\site-packages (from catalogue<1.1.0,>=0.0.7->spacy>=2.2.2->en_core_web_sm==2.2.5) (1.5.0)\n",
      "Requirement already satisfied: certifi>=2017.4.17 in c:\\programdata\\anaconda3\\lib\\site-packages (from requests<3.0.0,>=2.13.0->spacy>=2.2.2->en_core_web_sm==2.2.5) (2019.11.28)\n",
      "Requirement already satisfied: chardet<3.1.0,>=3.0.2 in c:\\programdata\\anaconda3\\lib\\site-packages (from requests<3.0.0,>=2.13.0->spacy>=2.2.2->en_core_web_sm==2.2.5) (3.0.4)\n",
      "Requirement already satisfied: urllib3!=1.25.0,!=1.25.1,<1.26,>=1.21.1 in c:\\programdata\\anaconda3\\lib\\site-packages (from requests<3.0.0,>=2.13.0->spacy>=2.2.2->en_core_web_sm==2.2.5) (1.25.8)\n",
      "Requirement already satisfied: idna<2.9,>=2.5 in c:\\programdata\\anaconda3\\lib\\site-packages (from requests<3.0.0,>=2.13.0->spacy>=2.2.2->en_core_web_sm==2.2.5) (2.8)\n",
      "Requirement already satisfied: zipp>=0.5 in c:\\programdata\\anaconda3\\lib\\site-packages (from importlib-metadata>=0.20; python_version < \"3.8\"->catalogue<1.1.0,>=0.0.7->spacy>=2.2.2->en_core_web_sm==2.2.5) (2.2.0)\n",
      "symbolic link created for C:\\ProgramData\\Anaconda3\\lib\\site-packages\\spacy\\data\\en <<===>> C:\\ProgramData\\Anaconda3\\lib\\site-packages\\en_core_web_sm\n",
      "[+] Download and installation successful\n",
      "You can now load the model via spacy.load('en_core_web_sm')\n",
      "[+] Linking successful\n",
      "C:\\ProgramData\\Anaconda3\\lib\\site-packages\\en_core_web_sm -->\n",
      "C:\\ProgramData\\Anaconda3\\lib\\site-packages\\spacy\\data\\en\n",
      "You can now load the model via spacy.load('en')\n"
     ]
    },
    {
     "data": {
      "text/html": [
       "\n",
       "    <div class=\"bk-root\">\n",
       "        <a href=\"https://bokeh.org\" target=\"_blank\" class=\"bk-logo bk-logo-small bk-logo-notebook\"></a>\n",
       "        <span id=\"1001\">Loading BokehJS ...</span>\n",
       "    </div>"
      ]
     },
     "metadata": {},
     "output_type": "display_data"
    },
    {
     "data": {
      "application/javascript": [
       "\n",
       "(function(root) {\n",
       "  function now() {\n",
       "    return new Date();\n",
       "  }\n",
       "\n",
       "  var force = true;\n",
       "\n",
       "  if (typeof root._bokeh_onload_callbacks === \"undefined\" || force === true) {\n",
       "    root._bokeh_onload_callbacks = [];\n",
       "    root._bokeh_is_loading = undefined;\n",
       "  }\n",
       "\n",
       "  var JS_MIME_TYPE = 'application/javascript';\n",
       "  var HTML_MIME_TYPE = 'text/html';\n",
       "  var EXEC_MIME_TYPE = 'application/vnd.bokehjs_exec.v0+json';\n",
       "  var CLASS_NAME = 'output_bokeh rendered_html';\n",
       "\n",
       "  /**\n",
       "   * Render data to the DOM node\n",
       "   */\n",
       "  function render(props, node) {\n",
       "    var script = document.createElement(\"script\");\n",
       "    node.appendChild(script);\n",
       "  }\n",
       "\n",
       "  /**\n",
       "   * Handle when an output is cleared or removed\n",
       "   */\n",
       "  function handleClearOutput(event, handle) {\n",
       "    var cell = handle.cell;\n",
       "\n",
       "    var id = cell.output_area._bokeh_element_id;\n",
       "    var server_id = cell.output_area._bokeh_server_id;\n",
       "    // Clean up Bokeh references\n",
       "    if (id != null && id in Bokeh.index) {\n",
       "      Bokeh.index[id].model.document.clear();\n",
       "      delete Bokeh.index[id];\n",
       "    }\n",
       "\n",
       "    if (server_id !== undefined) {\n",
       "      // Clean up Bokeh references\n",
       "      var cmd = \"from bokeh.io.state import curstate; print(curstate().uuid_to_server['\" + server_id + \"'].get_sessions()[0].document.roots[0]._id)\";\n",
       "      cell.notebook.kernel.execute(cmd, {\n",
       "        iopub: {\n",
       "          output: function(msg) {\n",
       "            var id = msg.content.text.trim();\n",
       "            if (id in Bokeh.index) {\n",
       "              Bokeh.index[id].model.document.clear();\n",
       "              delete Bokeh.index[id];\n",
       "            }\n",
       "          }\n",
       "        }\n",
       "      });\n",
       "      // Destroy server and session\n",
       "      var cmd = \"import bokeh.io.notebook as ion; ion.destroy_server('\" + server_id + \"')\";\n",
       "      cell.notebook.kernel.execute(cmd);\n",
       "    }\n",
       "  }\n",
       "\n",
       "  /**\n",
       "   * Handle when a new output is added\n",
       "   */\n",
       "  function handleAddOutput(event, handle) {\n",
       "    var output_area = handle.output_area;\n",
       "    var output = handle.output;\n",
       "\n",
       "    // limit handleAddOutput to display_data with EXEC_MIME_TYPE content only\n",
       "    if ((output.output_type != \"display_data\") || (!output.data.hasOwnProperty(EXEC_MIME_TYPE))) {\n",
       "      return\n",
       "    }\n",
       "\n",
       "    var toinsert = output_area.element.find(\".\" + CLASS_NAME.split(' ')[0]);\n",
       "\n",
       "    if (output.metadata[EXEC_MIME_TYPE][\"id\"] !== undefined) {\n",
       "      toinsert[toinsert.length - 1].firstChild.textContent = output.data[JS_MIME_TYPE];\n",
       "      // store reference to embed id on output_area\n",
       "      output_area._bokeh_element_id = output.metadata[EXEC_MIME_TYPE][\"id\"];\n",
       "    }\n",
       "    if (output.metadata[EXEC_MIME_TYPE][\"server_id\"] !== undefined) {\n",
       "      var bk_div = document.createElement(\"div\");\n",
       "      bk_div.innerHTML = output.data[HTML_MIME_TYPE];\n",
       "      var script_attrs = bk_div.children[0].attributes;\n",
       "      for (var i = 0; i < script_attrs.length; i++) {\n",
       "        toinsert[toinsert.length - 1].firstChild.setAttribute(script_attrs[i].name, script_attrs[i].value);\n",
       "      }\n",
       "      // store reference to server id on output_area\n",
       "      output_area._bokeh_server_id = output.metadata[EXEC_MIME_TYPE][\"server_id\"];\n",
       "    }\n",
       "  }\n",
       "\n",
       "  function register_renderer(events, OutputArea) {\n",
       "\n",
       "    function append_mime(data, metadata, element) {\n",
       "      // create a DOM node to render to\n",
       "      var toinsert = this.create_output_subarea(\n",
       "        metadata,\n",
       "        CLASS_NAME,\n",
       "        EXEC_MIME_TYPE\n",
       "      );\n",
       "      this.keyboard_manager.register_events(toinsert);\n",
       "      // Render to node\n",
       "      var props = {data: data, metadata: metadata[EXEC_MIME_TYPE]};\n",
       "      render(props, toinsert[toinsert.length - 1]);\n",
       "      element.append(toinsert);\n",
       "      return toinsert\n",
       "    }\n",
       "\n",
       "    /* Handle when an output is cleared or removed */\n",
       "    events.on('clear_output.CodeCell', handleClearOutput);\n",
       "    events.on('delete.Cell', handleClearOutput);\n",
       "\n",
       "    /* Handle when a new output is added */\n",
       "    events.on('output_added.OutputArea', handleAddOutput);\n",
       "\n",
       "    /**\n",
       "     * Register the mime type and append_mime function with output_area\n",
       "     */\n",
       "    OutputArea.prototype.register_mime_type(EXEC_MIME_TYPE, append_mime, {\n",
       "      /* Is output safe? */\n",
       "      safe: true,\n",
       "      /* Index of renderer in `output_area.display_order` */\n",
       "      index: 0\n",
       "    });\n",
       "  }\n",
       "\n",
       "  // register the mime type if in Jupyter Notebook environment and previously unregistered\n",
       "  if (root.Jupyter !== undefined) {\n",
       "    var events = require('base/js/events');\n",
       "    var OutputArea = require('notebook/js/outputarea').OutputArea;\n",
       "\n",
       "    if (OutputArea.prototype.mime_types().indexOf(EXEC_MIME_TYPE) == -1) {\n",
       "      register_renderer(events, OutputArea);\n",
       "    }\n",
       "  }\n",
       "\n",
       "  \n",
       "  if (typeof (root._bokeh_timeout) === \"undefined\" || force === true) {\n",
       "    root._bokeh_timeout = Date.now() + 5000;\n",
       "    root._bokeh_failed_load = false;\n",
       "  }\n",
       "\n",
       "  var NB_LOAD_WARNING = {'data': {'text/html':\n",
       "     \"<div style='background-color: #fdd'>\\n\"+\n",
       "     \"<p>\\n\"+\n",
       "     \"BokehJS does not appear to have successfully loaded. If loading BokehJS from CDN, this \\n\"+\n",
       "     \"may be due to a slow or bad network connection. Possible fixes:\\n\"+\n",
       "     \"</p>\\n\"+\n",
       "     \"<ul>\\n\"+\n",
       "     \"<li>re-rerun `output_notebook()` to attempt to load from CDN again, or</li>\\n\"+\n",
       "     \"<li>use INLINE resources instead, as so:</li>\\n\"+\n",
       "     \"</ul>\\n\"+\n",
       "     \"<code>\\n\"+\n",
       "     \"from bokeh.resources import INLINE\\n\"+\n",
       "     \"output_notebook(resources=INLINE)\\n\"+\n",
       "     \"</code>\\n\"+\n",
       "     \"</div>\"}};\n",
       "\n",
       "  function display_loaded() {\n",
       "    var el = document.getElementById(\"1001\");\n",
       "    if (el != null) {\n",
       "      el.textContent = \"BokehJS is loading...\";\n",
       "    }\n",
       "    if (root.Bokeh !== undefined) {\n",
       "      if (el != null) {\n",
       "        el.textContent = \"BokehJS \" + root.Bokeh.version + \" successfully loaded.\";\n",
       "      }\n",
       "    } else if (Date.now() < root._bokeh_timeout) {\n",
       "      setTimeout(display_loaded, 100)\n",
       "    }\n",
       "  }\n",
       "\n",
       "\n",
       "  function run_callbacks() {\n",
       "    try {\n",
       "      root._bokeh_onload_callbacks.forEach(function(callback) {\n",
       "        if (callback != null)\n",
       "          callback();\n",
       "      });\n",
       "    } finally {\n",
       "      delete root._bokeh_onload_callbacks\n",
       "    }\n",
       "    console.debug(\"Bokeh: all callbacks have finished\");\n",
       "  }\n",
       "\n",
       "  function load_libs(css_urls, js_urls, callback) {\n",
       "    if (css_urls == null) css_urls = [];\n",
       "    if (js_urls == null) js_urls = [];\n",
       "\n",
       "    root._bokeh_onload_callbacks.push(callback);\n",
       "    if (root._bokeh_is_loading > 0) {\n",
       "      console.debug(\"Bokeh: BokehJS is being loaded, scheduling callback at\", now());\n",
       "      return null;\n",
       "    }\n",
       "    if (js_urls == null || js_urls.length === 0) {\n",
       "      run_callbacks();\n",
       "      return null;\n",
       "    }\n",
       "    console.debug(\"Bokeh: BokehJS not loaded, scheduling load and callback at\", now());\n",
       "    root._bokeh_is_loading = css_urls.length + js_urls.length;\n",
       "\n",
       "    function on_load() {\n",
       "      root._bokeh_is_loading--;\n",
       "      if (root._bokeh_is_loading === 0) {\n",
       "        console.debug(\"Bokeh: all BokehJS libraries/stylesheets loaded\");\n",
       "        run_callbacks()\n",
       "      }\n",
       "    }\n",
       "\n",
       "    function on_error() {\n",
       "      console.error(\"failed to load \" + url);\n",
       "    }\n",
       "\n",
       "    for (var i = 0; i < css_urls.length; i++) {\n",
       "      var url = css_urls[i];\n",
       "      const element = document.createElement(\"link\");\n",
       "      element.onload = on_load;\n",
       "      element.onerror = on_error;\n",
       "      element.rel = \"stylesheet\";\n",
       "      element.type = \"text/css\";\n",
       "      element.href = url;\n",
       "      console.debug(\"Bokeh: injecting link tag for BokehJS stylesheet: \", url);\n",
       "      document.body.appendChild(element);\n",
       "    }\n",
       "\n",
       "    for (var i = 0; i < js_urls.length; i++) {\n",
       "      var url = js_urls[i];\n",
       "      var element = document.createElement('script');\n",
       "      element.onload = on_load;\n",
       "      element.onerror = on_error;\n",
       "      element.async = false;\n",
       "      element.src = url;\n",
       "      console.debug(\"Bokeh: injecting script tag for BokehJS library: \", url);\n",
       "      document.head.appendChild(element);\n",
       "    }\n",
       "  };var element = document.getElementById(\"1001\");\n",
       "  if (element == null) {\n",
       "    console.error(\"Bokeh: ERROR: autoload.js configured with elementid '1001' but no matching script tag was found. \")\n",
       "    return false;\n",
       "  }\n",
       "\n",
       "  function inject_raw_css(css) {\n",
       "    const element = document.createElement(\"style\");\n",
       "    element.appendChild(document.createTextNode(css));\n",
       "    document.body.appendChild(element);\n",
       "  }\n",
       "\n",
       "  \n",
       "  var js_urls = [\"https://cdn.pydata.org/bokeh/release/bokeh-1.4.0.min.js\", \"https://cdn.pydata.org/bokeh/release/bokeh-widgets-1.4.0.min.js\", \"https://cdn.pydata.org/bokeh/release/bokeh-tables-1.4.0.min.js\", \"https://cdn.pydata.org/bokeh/release/bokeh-gl-1.4.0.min.js\"];\n",
       "  var css_urls = [];\n",
       "  \n",
       "\n",
       "  var inline_js = [\n",
       "    function(Bokeh) {\n",
       "      Bokeh.set_log_level(\"info\");\n",
       "    },\n",
       "    function(Bokeh) {\n",
       "    \n",
       "    \n",
       "    }\n",
       "  ];\n",
       "\n",
       "  function run_inline_js() {\n",
       "    \n",
       "    if (root.Bokeh !== undefined || force === true) {\n",
       "      \n",
       "    for (var i = 0; i < inline_js.length; i++) {\n",
       "      inline_js[i].call(root, root.Bokeh);\n",
       "    }\n",
       "    if (force === true) {\n",
       "        display_loaded();\n",
       "      }} else if (Date.now() < root._bokeh_timeout) {\n",
       "      setTimeout(run_inline_js, 100);\n",
       "    } else if (!root._bokeh_failed_load) {\n",
       "      console.log(\"Bokeh: BokehJS failed to load within specified timeout.\");\n",
       "      root._bokeh_failed_load = true;\n",
       "    } else if (force !== true) {\n",
       "      var cell = $(document.getElementById(\"1001\")).parents('.cell').data().cell;\n",
       "      cell.output_area.append_execute_result(NB_LOAD_WARNING)\n",
       "    }\n",
       "\n",
       "  }\n",
       "\n",
       "  if (root._bokeh_is_loading === 0) {\n",
       "    console.debug(\"Bokeh: BokehJS loaded, going straight to plotting\");\n",
       "    run_inline_js();\n",
       "  } else {\n",
       "    load_libs(css_urls, js_urls, function() {\n",
       "      console.debug(\"Bokeh: BokehJS plotting callback run at\", now());\n",
       "      run_inline_js();\n",
       "    });\n",
       "  }\n",
       "}(window));"
      ],
      "application/vnd.bokehjs_load.v0+json": "\n(function(root) {\n  function now() {\n    return new Date();\n  }\n\n  var force = true;\n\n  if (typeof root._bokeh_onload_callbacks === \"undefined\" || force === true) {\n    root._bokeh_onload_callbacks = [];\n    root._bokeh_is_loading = undefined;\n  }\n\n  \n\n  \n  if (typeof (root._bokeh_timeout) === \"undefined\" || force === true) {\n    root._bokeh_timeout = Date.now() + 5000;\n    root._bokeh_failed_load = false;\n  }\n\n  var NB_LOAD_WARNING = {'data': {'text/html':\n     \"<div style='background-color: #fdd'>\\n\"+\n     \"<p>\\n\"+\n     \"BokehJS does not appear to have successfully loaded. If loading BokehJS from CDN, this \\n\"+\n     \"may be due to a slow or bad network connection. Possible fixes:\\n\"+\n     \"</p>\\n\"+\n     \"<ul>\\n\"+\n     \"<li>re-rerun `output_notebook()` to attempt to load from CDN again, or</li>\\n\"+\n     \"<li>use INLINE resources instead, as so:</li>\\n\"+\n     \"</ul>\\n\"+\n     \"<code>\\n\"+\n     \"from bokeh.resources import INLINE\\n\"+\n     \"output_notebook(resources=INLINE)\\n\"+\n     \"</code>\\n\"+\n     \"</div>\"}};\n\n  function display_loaded() {\n    var el = document.getElementById(\"1001\");\n    if (el != null) {\n      el.textContent = \"BokehJS is loading...\";\n    }\n    if (root.Bokeh !== undefined) {\n      if (el != null) {\n        el.textContent = \"BokehJS \" + root.Bokeh.version + \" successfully loaded.\";\n      }\n    } else if (Date.now() < root._bokeh_timeout) {\n      setTimeout(display_loaded, 100)\n    }\n  }\n\n\n  function run_callbacks() {\n    try {\n      root._bokeh_onload_callbacks.forEach(function(callback) {\n        if (callback != null)\n          callback();\n      });\n    } finally {\n      delete root._bokeh_onload_callbacks\n    }\n    console.debug(\"Bokeh: all callbacks have finished\");\n  }\n\n  function load_libs(css_urls, js_urls, callback) {\n    if (css_urls == null) css_urls = [];\n    if (js_urls == null) js_urls = [];\n\n    root._bokeh_onload_callbacks.push(callback);\n    if (root._bokeh_is_loading > 0) {\n      console.debug(\"Bokeh: BokehJS is being loaded, scheduling callback at\", now());\n      return null;\n    }\n    if (js_urls == null || js_urls.length === 0) {\n      run_callbacks();\n      return null;\n    }\n    console.debug(\"Bokeh: BokehJS not loaded, scheduling load and callback at\", now());\n    root._bokeh_is_loading = css_urls.length + js_urls.length;\n\n    function on_load() {\n      root._bokeh_is_loading--;\n      if (root._bokeh_is_loading === 0) {\n        console.debug(\"Bokeh: all BokehJS libraries/stylesheets loaded\");\n        run_callbacks()\n      }\n    }\n\n    function on_error() {\n      console.error(\"failed to load \" + url);\n    }\n\n    for (var i = 0; i < css_urls.length; i++) {\n      var url = css_urls[i];\n      const element = document.createElement(\"link\");\n      element.onload = on_load;\n      element.onerror = on_error;\n      element.rel = \"stylesheet\";\n      element.type = \"text/css\";\n      element.href = url;\n      console.debug(\"Bokeh: injecting link tag for BokehJS stylesheet: \", url);\n      document.body.appendChild(element);\n    }\n\n    for (var i = 0; i < js_urls.length; i++) {\n      var url = js_urls[i];\n      var element = document.createElement('script');\n      element.onload = on_load;\n      element.onerror = on_error;\n      element.async = false;\n      element.src = url;\n      console.debug(\"Bokeh: injecting script tag for BokehJS library: \", url);\n      document.head.appendChild(element);\n    }\n  };var element = document.getElementById(\"1001\");\n  if (element == null) {\n    console.error(\"Bokeh: ERROR: autoload.js configured with elementid '1001' but no matching script tag was found. \")\n    return false;\n  }\n\n  function inject_raw_css(css) {\n    const element = document.createElement(\"style\");\n    element.appendChild(document.createTextNode(css));\n    document.body.appendChild(element);\n  }\n\n  \n  var js_urls = [\"https://cdn.pydata.org/bokeh/release/bokeh-1.4.0.min.js\", \"https://cdn.pydata.org/bokeh/release/bokeh-widgets-1.4.0.min.js\", \"https://cdn.pydata.org/bokeh/release/bokeh-tables-1.4.0.min.js\", \"https://cdn.pydata.org/bokeh/release/bokeh-gl-1.4.0.min.js\"];\n  var css_urls = [];\n  \n\n  var inline_js = [\n    function(Bokeh) {\n      Bokeh.set_log_level(\"info\");\n    },\n    function(Bokeh) {\n    \n    \n    }\n  ];\n\n  function run_inline_js() {\n    \n    if (root.Bokeh !== undefined || force === true) {\n      \n    for (var i = 0; i < inline_js.length; i++) {\n      inline_js[i].call(root, root.Bokeh);\n    }\n    if (force === true) {\n        display_loaded();\n      }} else if (Date.now() < root._bokeh_timeout) {\n      setTimeout(run_inline_js, 100);\n    } else if (!root._bokeh_failed_load) {\n      console.log(\"Bokeh: BokehJS failed to load within specified timeout.\");\n      root._bokeh_failed_load = true;\n    } else if (force !== true) {\n      var cell = $(document.getElementById(\"1001\")).parents('.cell').data().cell;\n      cell.output_area.append_execute_result(NB_LOAD_WARNING)\n    }\n\n  }\n\n  if (root._bokeh_is_loading === 0) {\n    console.debug(\"Bokeh: BokehJS loaded, going straight to plotting\");\n    run_inline_js();\n  } else {\n    load_libs(css_urls, js_urls, function() {\n      console.debug(\"Bokeh: BokehJS plotting callback run at\", now());\n      run_inline_js();\n    });\n  }\n}(window));"
     },
     "metadata": {},
     "output_type": "display_data"
    },
    {
     "data": {
      "text/html": [
       "        <script type=\"text/javascript\">\n",
       "        window.PlotlyConfig = {MathJaxConfig: 'local'};\n",
       "        if (window.MathJax) {MathJax.Hub.Config({SVG: {font: \"STIX-Web\"}});}\n",
       "        if (typeof require !== 'undefined') {\n",
       "        require.undef(\"plotly\");\n",
       "        requirejs.config({\n",
       "            paths: {\n",
       "                'plotly': ['https://cdn.plot.ly/plotly-latest.min']\n",
       "            }\n",
       "        });\n",
       "        require(['plotly'], function(Plotly) {\n",
       "            window._Plotly = Plotly;\n",
       "        });\n",
       "        }\n",
       "        </script>\n",
       "        "
      ]
     },
     "metadata": {},
     "output_type": "display_data"
    },
    {
     "name": "stderr",
     "output_type": "stream",
     "text": [
      "[nltk_data] Downloading package stopwords to\n",
      "[nltk_data]     C:\\Users\\shiv\\AppData\\Roaming\\nltk_data...\n",
      "[nltk_data]   Package stopwords is already up-to-date!\n",
      "[nltk_data] Downloading package punkt to\n",
      "[nltk_data]     C:\\Users\\shiv\\AppData\\Roaming\\nltk_data...\n",
      "[nltk_data]   Package punkt is already up-to-date!\n",
      "C:\\ProgramData\\Anaconda3\\lib\\site-packages\\tensorflow\\python\\framework\\dtypes.py:516: FutureWarning:\n",
      "\n",
      "Passing (type, 1) or '1type' as a synonym of type is deprecated; in a future version of numpy, it will be understood as (type, (1,)) / '(1,)type'.\n",
      "\n",
      "C:\\ProgramData\\Anaconda3\\lib\\site-packages\\tensorflow\\python\\framework\\dtypes.py:517: FutureWarning:\n",
      "\n",
      "Passing (type, 1) or '1type' as a synonym of type is deprecated; in a future version of numpy, it will be understood as (type, (1,)) / '(1,)type'.\n",
      "\n",
      "C:\\ProgramData\\Anaconda3\\lib\\site-packages\\tensorflow\\python\\framework\\dtypes.py:518: FutureWarning:\n",
      "\n",
      "Passing (type, 1) or '1type' as a synonym of type is deprecated; in a future version of numpy, it will be understood as (type, (1,)) / '(1,)type'.\n",
      "\n",
      "C:\\ProgramData\\Anaconda3\\lib\\site-packages\\tensorflow\\python\\framework\\dtypes.py:519: FutureWarning:\n",
      "\n",
      "Passing (type, 1) or '1type' as a synonym of type is deprecated; in a future version of numpy, it will be understood as (type, (1,)) / '(1,)type'.\n",
      "\n",
      "C:\\ProgramData\\Anaconda3\\lib\\site-packages\\tensorflow\\python\\framework\\dtypes.py:520: FutureWarning:\n",
      "\n",
      "Passing (type, 1) or '1type' as a synonym of type is deprecated; in a future version of numpy, it will be understood as (type, (1,)) / '(1,)type'.\n",
      "\n",
      "C:\\ProgramData\\Anaconda3\\lib\\site-packages\\tensorflow\\python\\framework\\dtypes.py:525: FutureWarning:\n",
      "\n",
      "Passing (type, 1) or '1type' as a synonym of type is deprecated; in a future version of numpy, it will be understood as (type, (1,)) / '(1,)type'.\n",
      "\n",
      "C:\\ProgramData\\Anaconda3\\lib\\site-packages\\tensorboard\\compat\\tensorflow_stub\\dtypes.py:541: FutureWarning:\n",
      "\n",
      "Passing (type, 1) or '1type' as a synonym of type is deprecated; in a future version of numpy, it will be understood as (type, (1,)) / '(1,)type'.\n",
      "\n",
      "C:\\ProgramData\\Anaconda3\\lib\\site-packages\\tensorboard\\compat\\tensorflow_stub\\dtypes.py:542: FutureWarning:\n",
      "\n",
      "Passing (type, 1) or '1type' as a synonym of type is deprecated; in a future version of numpy, it will be understood as (type, (1,)) / '(1,)type'.\n",
      "\n",
      "C:\\ProgramData\\Anaconda3\\lib\\site-packages\\tensorboard\\compat\\tensorflow_stub\\dtypes.py:543: FutureWarning:\n",
      "\n",
      "Passing (type, 1) or '1type' as a synonym of type is deprecated; in a future version of numpy, it will be understood as (type, (1,)) / '(1,)type'.\n",
      "\n",
      "C:\\ProgramData\\Anaconda3\\lib\\site-packages\\tensorboard\\compat\\tensorflow_stub\\dtypes.py:544: FutureWarning:\n",
      "\n",
      "Passing (type, 1) or '1type' as a synonym of type is deprecated; in a future version of numpy, it will be understood as (type, (1,)) / '(1,)type'.\n",
      "\n",
      "C:\\ProgramData\\Anaconda3\\lib\\site-packages\\tensorboard\\compat\\tensorflow_stub\\dtypes.py:545: FutureWarning:\n",
      "\n",
      "Passing (type, 1) or '1type' as a synonym of type is deprecated; in a future version of numpy, it will be understood as (type, (1,)) / '(1,)type'.\n",
      "\n",
      "C:\\ProgramData\\Anaconda3\\lib\\site-packages\\tensorboard\\compat\\tensorflow_stub\\dtypes.py:550: FutureWarning:\n",
      "\n",
      "Passing (type, 1) or '1type' as a synonym of type is deprecated; in a future version of numpy, it will be understood as (type, (1,)) / '(1,)type'.\n",
      "\n",
      "Using TensorFlow backend.\n"
     ]
    }
   ],
   "source": [
    "# Utilities\n",
    "import os\n",
    "import zipfile, warnings\n",
    "import sys\n",
    "!{sys.executable} -m spacy download en\n",
    "from time import time\n",
    "#import cv2\n",
    "\n",
    "# Numerical calculation\n",
    "import numpy as np\n",
    "\n",
    "# Data Handling\n",
    "import pandas as pd\n",
    "\n",
    "# Tools & Evaluation metrics\n",
    "from sklearn.feature_extraction.text import CountVectorizer\n",
    "from sklearn.feature_extraction.text import TfidfVectorizer\n",
    "from sklearn.metrics import confusion_matrix, accuracy_score\n",
    "from sklearn.model_selection import train_test_split\n",
    "from sklearn.preprocessing import LabelEncoder,scale\n",
    "from sklearn.metrics import confusion_matrix, classification_report, roc_curve, auc, accuracy_score, precision_recall_curve\n",
    "from sklearn.manifold import TSNE\n",
    "\n",
    "# Data Visualization\n",
    "import seaborn as sns\n",
    "import matplotlib.pyplot as plt\n",
    "%matplotlib inline\n",
    "from bokeh.plotting import figure, show, output_notebook\n",
    "from bokeh.models import HoverTool, ColumnDataSource, value\n",
    "output_notebook()\n",
    "import cufflinks\n",
    "import plotly as py\n",
    "import plotly.graph_objs as go\n",
    "import plotly.figure_factory as ff\n",
    "from plotly.offline import download_plotlyjs, init_notebook_mode, plot, iplot\n",
    "cufflinks.go_offline()\n",
    "cufflinks.set_config_file(world_readable=True, theme='pearl')\n",
    "\n",
    "import re # for applying Regex pattern to subject strings\n",
    "\n",
    "# NLP toolkits\n",
    "import spacy\n",
    "import nltk as nltk\n",
    "from nltk import tokenize\n",
    "from nltk.corpus import stopwords\n",
    "nltk.download('stopwords')\n",
    "from nltk.tokenize import word_tokenize\n",
    "nltk.download('punkt')\n",
    "import gensim\n",
    "import gensim.corpora as corpora\n",
    "from gensim.utils import simple_preprocess\n",
    "from gensim.parsing import preprocessing\n",
    "from gensim.test.utils import common_texts\n",
    "from gensim.models.doc2vec import Doc2Vec, TaggedDocument\n",
    "from gensim.models.phrases import Phraser\n",
    "from gensim.models import Phrases, CoherenceModel\n",
    "from gensim.models import Word2Vec\n",
    "\n",
    "# Sequential Modeling\n",
    "import tensorflow as tf\n",
    "from tensorflow import keras\n",
    "from keras.preprocessing.text import Tokenizer\n",
    "from keras.preprocessing.sequence import pad_sequences\n",
    "from keras.models import Sequential\n",
    "from keras.layers import *\n",
    "from keras.utils.np_utils import to_categorical\n",
    "from keras.initializers import Constant\n",
    "import keras.backend as K\n",
    "from keras import initializers\n",
    "from keras.engine.topology import Layer, InputSpec\n",
    "from keras.models import Model, Sequential\n",
    "from keras.layers import Dense, LSTM, TimeDistributed, Conv1D, MaxPooling1D\n",
    "from keras.layers import Embedding, Activation, Dropout, Flatten, Bidirectional\n",
    "from keras.layers import Permute, merge, Input, multiply, concatenate\n",
    "from keras.callbacks import Callback, ModelCheckpoint, EarlyStopping\n",
    "from keras.constraints import max_norm, unit_norm\n",
    "from keras.preprocessing.text import Tokenizer, text_to_word_sequence\n",
    "from keras.preprocessing.sequence import pad_sequences\n",
    "from keras import regularizers, constraints, initializers, activations\n",
    "from keras.layers.recurrent import Recurrent\n",
    "from keras.engine import InputSpec\n",
    "from keras_self_attention import SeqSelfAttention\n",
    "\n",
    "from collections import Counter\n",
    "from sklearn.datasets import make_classification\n",
    "from matplotlib import pyplot\n",
    "from numpy import where"
   ]
  },
  {
   "cell_type": "code",
   "execution_count": 2,
   "metadata": {},
   "outputs": [],
   "source": [
    "os.chdir('D:\\GreatLakes\\Capstone\\Python Code') # Set the working directory"
   ]
  },
  {
   "cell_type": "code",
   "execution_count": 3,
   "metadata": {},
   "outputs": [
    {
     "data": {
      "text/html": [
       "<div>\n",
       "<style scoped>\n",
       "    .dataframe tbody tr th:only-of-type {\n",
       "        vertical-align: middle;\n",
       "    }\n",
       "\n",
       "    .dataframe tbody tr th {\n",
       "        vertical-align: top;\n",
       "    }\n",
       "\n",
       "    .dataframe thead th {\n",
       "        text-align: right;\n",
       "    }\n",
       "</style>\n",
       "<table border=\"1\" class=\"dataframe\">\n",
       "  <thead>\n",
       "    <tr style=\"text-align: right;\">\n",
       "      <th></th>\n",
       "      <th>Short description</th>\n",
       "      <th>Description</th>\n",
       "      <th>Caller</th>\n",
       "      <th>Assignment group</th>\n",
       "      <th>Total</th>\n",
       "      <th>Clean Description</th>\n",
       "    </tr>\n",
       "  </thead>\n",
       "  <tbody>\n",
       "    <tr>\n",
       "      <th>0</th>\n",
       "      <td>login issue</td>\n",
       "      <td>verified user details employee manager name ch...</td>\n",
       "      <td>spxjnwir pjlcoqds</td>\n",
       "      <td>GRP_0</td>\n",
       "      <td>login issue verify user detail employee manage...</td>\n",
       "      <td>login issue verify user detail employee manage...</td>\n",
       "    </tr>\n",
       "    <tr>\n",
       "      <th>1</th>\n",
       "      <td>outlook</td>\n",
       "      <td>received from hello team my meetings skype mee...</td>\n",
       "      <td>hmjdrvpb komuaywn</td>\n",
       "      <td>GRP_0</td>\n",
       "      <td>outlook receive from hello team meeting skype ...</td>\n",
       "      <td>outlook team meeting skype etc not appear cale...</td>\n",
       "    </tr>\n",
       "    <tr>\n",
       "      <th>2</th>\n",
       "      <td>cant log in to vpn</td>\n",
       "      <td>received from hi i cannot log on to vpn best</td>\n",
       "      <td>eylqgodm ybqkwiam</td>\n",
       "      <td>GRP_0</td>\n",
       "      <td>can not log in to vpn receive from hi i can no...</td>\n",
       "      <td>can not log vpn not best</td>\n",
       "    </tr>\n",
       "    <tr>\n",
       "      <th>3</th>\n",
       "      <td>unable to access hr tool page</td>\n",
       "      <td>unable to access hr tool page</td>\n",
       "      <td>xbkucsvz gcpydteq</td>\n",
       "      <td>GRP_0</td>\n",
       "      <td>unable to access hr tool page</td>\n",
       "      <td>unable access hr tool page</td>\n",
       "    </tr>\n",
       "    <tr>\n",
       "      <th>4</th>\n",
       "      <td>skype error</td>\n",
       "      <td>skype error</td>\n",
       "      <td>owlgqjme qhcozdfx</td>\n",
       "      <td>GRP_0</td>\n",
       "      <td>skype error</td>\n",
       "      <td>skype error</td>\n",
       "    </tr>\n",
       "  </tbody>\n",
       "</table>\n",
       "</div>"
      ],
      "text/plain": [
       "               Short description  \\\n",
       "0                    login issue   \n",
       "1                        outlook   \n",
       "2             cant log in to vpn   \n",
       "3  unable to access hr tool page   \n",
       "4                    skype error   \n",
       "\n",
       "                                         Description             Caller  \\\n",
       "0  verified user details employee manager name ch...  spxjnwir pjlcoqds   \n",
       "1  received from hello team my meetings skype mee...  hmjdrvpb komuaywn   \n",
       "2       received from hi i cannot log on to vpn best  eylqgodm ybqkwiam   \n",
       "3                      unable to access hr tool page  xbkucsvz gcpydteq   \n",
       "4                                        skype error  owlgqjme qhcozdfx   \n",
       "\n",
       "  Assignment group                                              Total  \\\n",
       "0            GRP_0  login issue verify user detail employee manage...   \n",
       "1            GRP_0  outlook receive from hello team meeting skype ...   \n",
       "2            GRP_0  can not log in to vpn receive from hi i can no...   \n",
       "3            GRP_0                      unable to access hr tool page   \n",
       "4            GRP_0                                        skype error   \n",
       "\n",
       "                                   Clean Description  \n",
       "0  login issue verify user detail employee manage...  \n",
       "1  outlook team meeting skype etc not appear cale...  \n",
       "2                           can not log vpn not best  \n",
       "3                         unable access hr tool page  \n",
       "4                                        skype error  "
      ]
     },
     "execution_count": 3,
     "metadata": {},
     "output_type": "execute_result"
    }
   ],
   "source": [
    "new_df = pd.read_csv('new_df.csv') # importing the saved csv file\n",
    "new_df.head()"
   ]
  },
  {
   "cell_type": "markdown",
   "metadata": {},
   "source": [
    "# Modeling\n",
    "\n",
    "In Milestone 1, Word2Vec embedding were generated with uni-grams. At this stage, Word2Vec embeddings would be generated incorporating bigrams and trigrams to check whether this improves accuracy (as it was observed that there were many bigrams and trigrams present with large frequencies) "
   ]
  },
  {
   "cell_type": "code",
   "execution_count": 5,
   "metadata": {},
   "outputs": [],
   "source": [
    "# Initialize spacy 'en' medium model, keeping only tagger component needed for lemmatization\n",
    "nlp = spacy.load('en_core_web_sm', disable=['parser', 'ner'])"
   ]
  },
  {
   "cell_type": "code",
   "execution_count": 6,
   "metadata": {},
   "outputs": [],
   "source": [
    "# Function to create the tokenized sentence\n",
    "def tokenize_sentences(sentence):\n",
    "    doc = nlp(sentence)\n",
    "    return [token.lemma_ for token in doc if token.lemma_ !='-PRON-' and not token.is_stop]\n",
    "\n",
    "sentence_stream=[]\n",
    "for sent in new_df['Clean Description'].values.tolist():\n",
    "    sentence_stream.append(tokenize_sentences(sent))"
   ]
  },
  {
   "cell_type": "code",
   "execution_count": 7,
   "metadata": {},
   "outputs": [],
   "source": [
    "# Create the Bigram and Trigram models\n",
    "bigram = Phrases(sentence_stream, min_count=2, threshold=2)\n",
    "trigram = Phrases(bigram[sentence_stream], min_count=2, threshold=1)\n",
    "bigram_phraser = Phraser(bigram)\n",
    "trigram_phraser = Phraser(trigram)\n",
    "ngram_sentences=[]\n",
    "for sent in sentence_stream:\n",
    "    tokens_ = bigram_phraser[sent]\n",
    "    #print(\"Bigrams Tokens:\\t\", tokens_)\n",
    "    tokens_ = trigram_phraser[tokens_]\n",
    "    ngram_sentences.append(tokens_)"
   ]
  },
  {
   "cell_type": "code",
   "execution_count": 8,
   "metadata": {},
   "outputs": [
    {
     "name": "stdout",
     "output_type": "stream",
     "text": [
      "Length of Tagged Documents: 8500\n",
      "Tagged Documents[0]: TaggedDocument(['login_issue_verify_user', 'detail_employee_manager_check', 'ad_reset_password_advise', 'check_caller_confirm_resolve'], [0])\n"
     ]
    }
   ],
   "source": [
    "#Creating the tagged documents\n",
    "documents = [TaggedDocument(words=doc, tags=[i]) for i, doc in enumerate(ngram_sentences)]\n",
    "print(\"Length of Tagged Documents:\",len(documents))\n",
    "print(\"Tagged Documents[0]:\",documents[0])"
   ]
  },
  {
   "cell_type": "code",
   "execution_count": 10,
   "metadata": {},
   "outputs": [
    {
     "name": "stderr",
     "output_type": "stream",
     "text": [
      "C:\\ProgramData\\Anaconda3\\lib\\site-packages\\ipykernel_launcher.py:13: DeprecationWarning:\n",
      "\n",
      "Call to deprecated `iter` (Attribute will be removed in 4.0.0, use self.epochs instead).\n",
      "\n"
     ]
    },
    {
     "name": "stdout",
     "output_type": "stream",
     "text": [
      "Model Saved\n"
     ]
    }
   ],
   "source": [
    "#Generating embedding of the size 1000\n",
    "max_epochs = 100\n",
    "model_1000 = Doc2Vec(vector_size=1000,window=2,\n",
    "                alpha=0.025, \n",
    "                min_alpha=0.00025,\n",
    "                min_count=2,\n",
    "                dm =1)\n",
    "model_1000.build_vocab(documents)\n",
    "\n",
    "for epoch in range(max_epochs):\n",
    "    model_1000.train(documents, \n",
    "                total_examples=model_1000.corpus_count,\n",
    "                epochs=model_1000.iter)\n",
    "    # decrease the learning rate\n",
    "    model_1000.alpha -= 0.0002\n",
    "    # fix the learning rate, no decay\n",
    "    model_1000.min_alpha = model_1000.alpha\n",
    "\n",
    "model_1000.save(\"w2v_1000.mdl\")\n",
    "print(\"Model Saved\")"
   ]
  },
  {
   "cell_type": "markdown",
   "metadata": {},
   "source": [
    "# Modeling"
   ]
  },
  {
   "cell_type": "code",
   "execution_count": 4,
   "metadata": {},
   "outputs": [],
   "source": [
    "model_df = new_df[{'Clean Description','Assignment group'}]"
   ]
  },
  {
   "cell_type": "code",
   "execution_count": 5,
   "metadata": {},
   "outputs": [],
   "source": [
    "cols = ['Assignment group']\n",
    "for col in cols:\n",
    "    val = new_df[col].value_counts()\n",
    "    y = val[val < 30].index # all groups with less than 30 records will be combined into others\n",
    "    model_df[col] = model_df[col].replace({x:'GRP_99' for x in y})"
   ]
  },
  {
   "cell_type": "code",
   "execution_count": 6,
   "metadata": {},
   "outputs": [
    {
     "data": {
      "text/html": [
       "<div>\n",
       "<style scoped>\n",
       "    .dataframe tbody tr th:only-of-type {\n",
       "        vertical-align: middle;\n",
       "    }\n",
       "\n",
       "    .dataframe tbody tr th {\n",
       "        vertical-align: top;\n",
       "    }\n",
       "\n",
       "    .dataframe thead th {\n",
       "        text-align: right;\n",
       "    }\n",
       "</style>\n",
       "<table border=\"1\" class=\"dataframe\">\n",
       "  <thead>\n",
       "    <tr style=\"text-align: right;\">\n",
       "      <th></th>\n",
       "      <th>Assignment group</th>\n",
       "      <th>Clean Description</th>\n",
       "    </tr>\n",
       "  </thead>\n",
       "  <tbody>\n",
       "    <tr>\n",
       "      <th>0</th>\n",
       "      <td>GRP_0</td>\n",
       "      <td>login issue verify user detail employee manage...</td>\n",
       "    </tr>\n",
       "    <tr>\n",
       "      <th>1</th>\n",
       "      <td>GRP_0</td>\n",
       "      <td>outlook team meeting skype etc not appear cale...</td>\n",
       "    </tr>\n",
       "    <tr>\n",
       "      <th>2</th>\n",
       "      <td>GRP_0</td>\n",
       "      <td>can not log vpn not best</td>\n",
       "    </tr>\n",
       "    <tr>\n",
       "      <th>3</th>\n",
       "      <td>GRP_0</td>\n",
       "      <td>unable access hr tool page</td>\n",
       "    </tr>\n",
       "    <tr>\n",
       "      <th>4</th>\n",
       "      <td>GRP_0</td>\n",
       "      <td>skype error</td>\n",
       "    </tr>\n",
       "  </tbody>\n",
       "</table>\n",
       "</div>"
      ],
      "text/plain": [
       "  Assignment group                                  Clean Description\n",
       "0            GRP_0  login issue verify user detail employee manage...\n",
       "1            GRP_0  outlook team meeting skype etc not appear cale...\n",
       "2            GRP_0                           can not log vpn not best\n",
       "3            GRP_0                         unable access hr tool page\n",
       "4            GRP_0                                        skype error"
      ]
     },
     "execution_count": 6,
     "metadata": {},
     "output_type": "execute_result"
    }
   ],
   "source": [
    "model_df.head()"
   ]
  },
  {
   "cell_type": "code",
   "execution_count": 14,
   "metadata": {},
   "outputs": [],
   "source": [
    "model_df.to_csv('model_df.csv')"
   ]
  },
  {
   "cell_type": "code",
   "execution_count": 15,
   "metadata": {},
   "outputs": [
    {
     "data": {
      "text/html": [
       "<div>\n",
       "<style scoped>\n",
       "    .dataframe tbody tr th:only-of-type {\n",
       "        vertical-align: middle;\n",
       "    }\n",
       "\n",
       "    .dataframe tbody tr th {\n",
       "        vertical-align: top;\n",
       "    }\n",
       "\n",
       "    .dataframe thead th {\n",
       "        text-align: right;\n",
       "    }\n",
       "</style>\n",
       "<table border=\"1\" class=\"dataframe\">\n",
       "  <thead>\n",
       "    <tr style=\"text-align: right;\">\n",
       "      <th></th>\n",
       "      <th>count</th>\n",
       "      <th>unique</th>\n",
       "      <th>top</th>\n",
       "      <th>freq</th>\n",
       "    </tr>\n",
       "  </thead>\n",
       "  <tbody>\n",
       "    <tr>\n",
       "      <th>Assignment group</th>\n",
       "      <td>8500</td>\n",
       "      <td>36</td>\n",
       "      <td>GRP_0</td>\n",
       "      <td>3976</td>\n",
       "    </tr>\n",
       "    <tr>\n",
       "      <th>Clean Description</th>\n",
       "      <td>8500</td>\n",
       "      <td>6634</td>\n",
       "      <td>job fail scheduler from</td>\n",
       "      <td>445</td>\n",
       "    </tr>\n",
       "  </tbody>\n",
       "</table>\n",
       "</div>"
      ],
      "text/plain": [
       "                  count unique                      top  freq\n",
       "Assignment group   8500     36                    GRP_0  3976\n",
       "Clean Description  8500   6634  job fail scheduler from   445"
      ]
     },
     "execution_count": 15,
     "metadata": {},
     "output_type": "execute_result"
    }
   ],
   "source": [
    "model_df.describe().transpose()"
   ]
  },
  {
   "cell_type": "code",
   "execution_count": 7,
   "metadata": {},
   "outputs": [
    {
     "name": "stdout",
     "output_type": "stream",
     "text": [
      "<class 'pandas.core.frame.DataFrame'>\n",
      "RangeIndex: 8500 entries, 0 to 8499\n",
      "Data columns (total 2 columns):\n",
      " #   Column             Non-Null Count  Dtype \n",
      "---  ------             --------------  ----- \n",
      " 0   Assignment group   8500 non-null   int8  \n",
      " 1   Clean Description  8500 non-null   object\n",
      "dtypes: int8(1), object(1)\n",
      "memory usage: 74.8+ KB\n"
     ]
    }
   ],
   "source": [
    "# First to Create a target categorical column\n",
    "model_df['Assignment group'] = model_df['Assignment group'].astype('category').cat.codes\n",
    "model_df.info()"
   ]
  },
  {
   "cell_type": "code",
   "execution_count": 293,
   "metadata": {},
   "outputs": [],
   "source": [
    "# Model Setting Parameters"
   ]
  },
  {
   "cell_type": "code",
   "execution_count": 17,
   "metadata": {},
   "outputs": [],
   "source": [
    "max_features = 10000\n",
    "maxlen = 100\n",
    "#embedding_size = 1000"
   ]
  },
  {
   "cell_type": "code",
   "execution_count": 18,
   "metadata": {},
   "outputs": [],
   "source": [
    "tokenizer = Tokenizer(num_words=max_features)"
   ]
  },
  {
   "cell_type": "code",
   "execution_count": 19,
   "metadata": {},
   "outputs": [],
   "source": [
    "tokenizer.fit_on_texts(model_df['Clean Description'])"
   ]
  },
  {
   "cell_type": "code",
   "execution_count": 20,
   "metadata": {},
   "outputs": [
    {
     "name": "stdout",
     "output_type": "stream",
     "text": [
      "Number of Samples: 8500\n",
      "[   0    0    0    0    0    0    0    0    0    0    0    0    0    0\n",
      "    0    0    0    0    0    0    0    0    0    0    0    0    0    0\n",
      "    0    0    0    0    0    0    0    0    0    0    0    0    0    0\n",
      "    0    0    0    0    0    0    0    0    0    0    0    0    0    0\n",
      "    0    0    0    0    0    0    0    0    0    0    0    0    0    0\n",
      "    0    0    0    0    0    0    0    0    0    0    0    0    0    0\n",
      "    0    0    0    0    0    0    0    0  131   39   86   11   26 3182\n",
      "  462 4774]\n",
      "Number of Labels:  8500\n",
      "0\n"
     ]
    }
   ],
   "source": [
    "X = tokenizer.texts_to_sequences(model_df['Clean Description'])\n",
    "X = pad_sequences(X, maxlen = maxlen)\n",
    "y = np.asarray(model_df['Assignment group'])\n",
    "\n",
    "print(\"Number of Samples:\", len(X))\n",
    "print(X[367])\n",
    "print(\"Number of Labels: \", len(y))\n",
    "print(y[367])"
   ]
  },
  {
   "cell_type": "code",
   "execution_count": 21,
   "metadata": {},
   "outputs": [],
   "source": [
    "X_train, X_test, y_train, y_test = train_test_split(X, y, test_size=0.20, random_state=1, stratify=y)"
   ]
  },
  {
   "cell_type": "code",
   "execution_count": 22,
   "metadata": {},
   "outputs": [
    {
     "name": "stdout",
     "output_type": "stream",
     "text": [
      "Counter({0: 3181, 33: 529, 35: 286, 15: 231, 4: 206, 34: 201, 12: 193, 11: 172, 20: 160, 31: 147, 5: 116, 2: 112, 30: 103, 6: 94, 16: 93, 23: 86, 25: 80, 19: 77, 10: 70, 8: 68, 9: 65, 22: 55, 32: 54, 24: 50, 17: 45, 26: 36, 18: 35, 27: 32, 21: 31, 7: 31, 28: 30, 13: 29, 29: 28, 1: 25, 14: 25, 3: 24})\n",
      "Counter({0: 795, 33: 132, 35: 71, 15: 58, 34: 51, 4: 51, 12: 48, 11: 43, 20: 40, 31: 37, 5: 29, 2: 28, 30: 26, 6: 24, 16: 23, 23: 21, 19: 20, 25: 20, 10: 18, 8: 17, 9: 16, 22: 14, 32: 14, 24: 12, 17: 11, 26: 9, 18: 9, 7: 8, 21: 8, 27: 8, 29: 7, 13: 7, 28: 7, 14: 6, 1: 6, 3: 6})\n"
     ]
    }
   ],
   "source": [
    "counter = Counter(y_train)\n",
    "print(counter)\n",
    "counter = Counter(y_test)\n",
    "print(counter)"
   ]
  },
  {
   "cell_type": "markdown",
   "metadata": {},
   "source": [
    "# Modeling with Word2Vec 1000 dimensions"
   ]
  },
  {
   "cell_type": "code",
   "execution_count": 23,
   "metadata": {},
   "outputs": [],
   "source": [
    "# Load the Word2Vec model\n",
    "wmodel = Doc2Vec.load('w2v_1000.mdl')"
   ]
  },
  {
   "cell_type": "code",
   "execution_count": 24,
   "metadata": {},
   "outputs": [
    {
     "name": "stdout",
     "output_type": "stream",
     "text": [
      "Vocabulary Size: 7518 - Embedding Dim: 1000\n"
     ]
    }
   ],
   "source": [
    "w2v_weights = wmodel.wv.vectors\n",
    "vocab_size, embedding_size = w2v_weights.shape\n",
    "print(\"Vocabulary Size: {} - Embedding Dim: {}\".format(vocab_size, embedding_size))"
   ]
  },
  {
   "cell_type": "code",
   "execution_count": 25,
   "metadata": {},
   "outputs": [
    {
     "name": "stdout",
     "output_type": "stream",
     "text": [
      "WARNING:tensorflow:From C:\\ProgramData\\Anaconda3\\lib\\site-packages\\tensorflow\\python\\keras\\backend.py:3794: add_dispatch_support.<locals>.wrapper (from tensorflow.python.ops.array_ops) is deprecated and will be removed in a future version.\n",
      "Instructions for updating:\n",
      "Use tf.where in 2.0, which has the same broadcast rule as np.where\n",
      "Model: \"sequential_1\"\n",
      "_________________________________________________________________\n",
      "Layer (type)                 Output Shape              Param #   \n",
      "=================================================================\n",
      "embedding_1 (Embedding)      (None, 100, 1000)         7518000   \n",
      "_________________________________________________________________\n",
      "spatial_dropout1d_1 (Spatial (None, 100, 1000)         0         \n",
      "_________________________________________________________________\n",
      "bidirectional_1 (Bidirection (None, 256)               1156096   \n",
      "_________________________________________________________________\n",
      "dropout_1 (Dropout)          (None, 256)               0         \n",
      "_________________________________________________________________\n",
      "dense_1 (Dense)              (None, 36)                9252      \n",
      "=================================================================\n",
      "Total params: 8,683,348\n",
      "Trainable params: 1,165,348\n",
      "Non-trainable params: 7,518,000\n",
      "_________________________________________________________________\n",
      "None\n"
     ]
    }
   ],
   "source": [
    "# CREATE the MODEL\n",
    "\n",
    "\n",
    "model_wv_1000 = Sequential()\n",
    "model_wv_1000.add(Embedding(input_dim=vocab_size, \n",
    "                        output_dim=embedding_size, \n",
    "                        weights=[w2v_weights], \n",
    "                        input_length=maxlen, \n",
    "                        mask_zero=True,\n",
    "                        trainable=False))\n",
    "model_wv_1000.add(SpatialDropout1D(0.2))\n",
    "model_wv_1000.add(Bidirectional(LSTM(128)))\n",
    "model_wv_1000.add(Dropout(0.2))\n",
    "model_wv_1000.add(Dense(units=36, activation='softmax'))\n",
    "model_wv_1000.compile(loss = 'categorical_crossentropy', optimizer='adam',metrics = ['accuracy'])\n",
    "print(model_wv_1000.summary())"
   ]
  },
  {
   "cell_type": "code",
   "execution_count": 26,
   "metadata": {},
   "outputs": [],
   "source": [
    "# Code for getting Class weight\n",
    "from sklearn.utils import class_weight\n",
    "class_weight = class_weight.compute_class_weight('balanced' ,np.unique(y_train) ,y_train)"
   ]
  },
  {
   "cell_type": "code",
   "execution_count": 27,
   "metadata": {},
   "outputs": [],
   "source": [
    "# Converting to categorical data\n",
    "y_train = to_categorical(y_train)\n",
    "y_test = to_categorical(y_test)"
   ]
  },
  {
   "cell_type": "code",
   "execution_count": 28,
   "metadata": {},
   "outputs": [
    {
     "name": "stdout",
     "output_type": "stream",
     "text": [
      "WARNING:tensorflow:From C:\\ProgramData\\Anaconda3\\lib\\site-packages\\keras\\backend\\tensorflow_backend.py:422: The name tf.global_variables is deprecated. Please use tf.compat.v1.global_variables instead.\n",
      "\n",
      "Train on 5440 samples, validate on 1360 samples\n",
      "Epoch 1/20\n",
      "5440/5440 [==============================] - 9s 2ms/step - loss: 2.6477 - accuracy: 0.4167 - val_loss: 2.1578 - val_accuracy: 0.5287\n",
      "Epoch 2/20\n",
      "5440/5440 [==============================] - 17s 3ms/step - loss: 2.0304 - accuracy: 0.5369 - val_loss: 1.9177 - val_accuracy: 0.5493\n",
      "Epoch 3/20\n",
      "5440/5440 [==============================] - 40s 7ms/step - loss: 1.8415 - accuracy: 0.5561 - val_loss: 1.8256 - val_accuracy: 0.5559\n",
      "Epoch 4/20\n",
      "5440/5440 [==============================] - 41s 8ms/step - loss: 1.7184 - accuracy: 0.5676 - val_loss: 1.7166 - val_accuracy: 0.5750\n",
      "Epoch 5/20\n",
      "5440/5440 [==============================] - 41s 8ms/step - loss: 1.6006 - accuracy: 0.5915 - val_loss: 1.6367 - val_accuracy: 0.5926\n",
      "Epoch 6/20\n",
      "5440/5440 [==============================] - 41s 8ms/step - loss: 1.4924 - accuracy: 0.6075 - val_loss: 1.5719 - val_accuracy: 0.6022\n",
      "Epoch 7/20\n",
      "5440/5440 [==============================] - 41s 8ms/step - loss: 1.3865 - accuracy: 0.6272 - val_loss: 1.5055 - val_accuracy: 0.6199\n",
      "Epoch 8/20\n",
      "5440/5440 [==============================] - 41s 8ms/step - loss: 1.2914 - accuracy: 0.6493 - val_loss: 1.4488 - val_accuracy: 0.6184\n",
      "Epoch 9/20\n",
      "5440/5440 [==============================] - 41s 8ms/step - loss: 1.1983 - accuracy: 0.6634 - val_loss: 1.4097 - val_accuracy: 0.6235\n",
      "Epoch 10/20\n",
      "5440/5440 [==============================] - 41s 8ms/step - loss: 1.1106 - accuracy: 0.6903 - val_loss: 1.3744 - val_accuracy: 0.6309\n",
      "Epoch 11/20\n",
      "5440/5440 [==============================] - 41s 8ms/step - loss: 1.0465 - accuracy: 0.6971 - val_loss: 1.3412 - val_accuracy: 0.6390\n",
      "Epoch 12/20\n",
      "5440/5440 [==============================] - 41s 8ms/step - loss: 0.9654 - accuracy: 0.7226 - val_loss: 1.3204 - val_accuracy: 0.6493\n",
      "Epoch 13/20\n",
      "5440/5440 [==============================] - 41s 8ms/step - loss: 0.8953 - accuracy: 0.7432 - val_loss: 1.3065 - val_accuracy: 0.6471\n",
      "Epoch 14/20\n",
      "5440/5440 [==============================] - 41s 8ms/step - loss: 0.8336 - accuracy: 0.7608 - val_loss: 1.2943 - val_accuracy: 0.6419\n",
      "Epoch 15/20\n",
      "5440/5440 [==============================] - 41s 8ms/step - loss: 0.7744 - accuracy: 0.7765 - val_loss: 1.2845 - val_accuracy: 0.6544\n",
      "Epoch 16/20\n",
      "5440/5440 [==============================] - 41s 8ms/step - loss: 0.7205 - accuracy: 0.7947 - val_loss: 1.2791 - val_accuracy: 0.6596\n",
      "Epoch 17/20\n",
      "5440/5440 [==============================] - 41s 8ms/step - loss: 0.6677 - accuracy: 0.8068 - val_loss: 1.2832 - val_accuracy: 0.6596\n",
      "Epoch 18/20\n",
      "5440/5440 [==============================] - 41s 8ms/step - loss: 0.6284 - accuracy: 0.8169 - val_loss: 1.2780 - val_accuracy: 0.6500\n",
      "Epoch 19/20\n",
      "5440/5440 [==============================] - 42s 8ms/step - loss: 0.5799 - accuracy: 0.8358 - val_loss: 1.2724 - val_accuracy: 0.6647\n",
      "Epoch 20/20\n",
      "5440/5440 [==============================] - 42s 8ms/step - loss: 0.5407 - accuracy: 0.8465 - val_loss: 1.2856 - val_accuracy: 0.6574\n"
     ]
    }
   ],
   "source": [
    "batch_size = 1000\n",
    "epochs = 20\n",
    "history = model_wv_1000.fit(X_train, y_train, epochs=epochs, batch_size=batch_size, verbose=1,validation_split=0.2)"
   ]
  },
  {
   "cell_type": "code",
   "execution_count": 29,
   "metadata": {},
   "outputs": [
    {
     "data": {
      "image/png": "[encoded data removed]",
      "text/plain": [
       "<Figure size 432x288 with 1 Axes>"
      ]
     },
     "metadata": {
      "needs_background": "light"
     },
     "output_type": "display_data"
    },
    {
     "data": {
      "image/png": "[encoded data removed]",
      "text/plain": [
       "<Figure size 432x288 with 1 Axes>"
      ]
     },
     "metadata": {
      "needs_background": "light"
     },
     "output_type": "display_data"
    }
   ],
   "source": [
    "plt.plot(history.history['accuracy'])\n",
    "plt.plot(history.history['val_accuracy'])\n",
    "plt.title('model accuracy')\n",
    "plt.ylabel('accuracy')\n",
    "plt.xlabel('epoch')\n",
    "plt.legend(['train', 'validation'], loc='upper left')\n",
    "plt.show()\n",
    "\n",
    "plt.plot(history.history['loss'])\n",
    "plt.plot(history.history['val_loss'])\n",
    "plt.title('model loss')\n",
    "plt.ylabel('loss')\n",
    "plt.xlabel('epoch')\n",
    "plt.legend(['train', 'validation'], loc='upper left')\n",
    "plt.show()"
   ]
  },
  {
   "cell_type": "code",
   "execution_count": 61,
   "metadata": {},
   "outputs": [],
   "source": [
    "# Generic method to print the classification report\n",
    "def classification_summary(y_test, y_pred, y_proba):\n",
    "    print('\\033[1mModel accuracy:\\033[0m %.2f%%' % (accuracy_score(y_test, y_pred) * 100))\n",
    "    print('_'*80)\n",
    "    print('\\033[1mConfusion matrix:\\033[0m\\n %s' % (confusion_matrix(y_test.argmax(axis=1), y_pred.argmax(axis=1))))\n",
    "    print('_'*80)\n",
    "    print('\\033[1mClassification report:\\033[0m\\n %s' % (classification_report(y_test, y_pred)))\n",
    "    print('_'*80)"
   ]
  },
  {
   "cell_type": "code",
   "execution_count": 31,
   "metadata": {},
   "outputs": [
    {
     "name": "stdout",
     "output_type": "stream",
     "text": [
      "\u001b[1mModel accuracy:\u001b[0m 55.82%\n",
      "________________________________________________________________________________\n",
      "\u001b[1mConfusion matrix:\u001b[0m\n",
      " [[763   0   0 ...   0   0   3]\n",
      " [  2   0   0 ...   1   0   0]\n",
      " [ 15   0  10 ...   0   0   0]\n",
      " ...\n",
      " [ 51   0   1 ...  73   0   0]\n",
      " [ 49   0   0 ...   0   1   1]\n",
      " [ 55   2   0 ...   3   0   5]]\n",
      "________________________________________________________________________________\n",
      "\u001b[1mClassification report:\u001b[0m\n",
      "               precision    recall  f1-score   support\n",
      "\n",
      "           0       0.81      0.85      0.83       795\n",
      "           1       0.00      0.00      0.00         6\n",
      "           2       0.91      0.36      0.51        28\n",
      "           3       0.00      0.00      0.00         6\n",
      "           4       0.60      0.51      0.55        51\n",
      "           5       0.59      0.34      0.43        29\n",
      "           6       0.71      0.21      0.32        24\n",
      "           7       0.50      0.12      0.20         8\n",
      "           8       0.57      0.24      0.33        17\n",
      "           9       0.94      0.94      0.94        16\n",
      "          10       0.50      0.22      0.31        18\n",
      "          11       0.50      0.16      0.25        43\n",
      "          12       0.68      0.35      0.47        48\n",
      "          13       0.00      0.00      0.00         7\n",
      "          14       0.00      0.00      0.00         6\n",
      "          15       0.90      0.62      0.73        58\n",
      "          16       0.67      0.35      0.46        23\n",
      "          17       0.67      0.18      0.29        11\n",
      "          18       0.00      0.00      0.00         9\n",
      "          19       1.00      0.10      0.18        20\n",
      "          20       0.57      0.20      0.30        40\n",
      "          21       0.00      0.00      0.00         8\n",
      "          22       1.00      0.07      0.13        14\n",
      "          23       0.29      0.10      0.14        21\n",
      "          24       0.50      0.17      0.25        12\n",
      "          25       0.50      0.30      0.37        20\n",
      "          26       0.50      0.11      0.18         9\n",
      "          27       0.00      0.00      0.00         8\n",
      "          28       0.00      0.00      0.00         7\n",
      "          29       0.00      0.00      0.00         7\n",
      "          30       0.78      0.27      0.40        26\n",
      "          31       1.00      0.43      0.60        37\n",
      "          32       0.38      0.21      0.27        14\n",
      "          33       0.81      0.55      0.66       132\n",
      "          34       1.00      0.02      0.04        51\n",
      "          35       0.38      0.07      0.12        71\n",
      "\n",
      "   micro avg       0.78      0.56      0.65      1700\n",
      "   macro avg       0.51      0.22      0.29      1700\n",
      "weighted avg       0.73      0.56      0.59      1700\n",
      " samples avg       0.56      0.56      0.56      1700\n",
      "\n",
      "________________________________________________________________________________\n"
     ]
    },
    {
     "name": "stderr",
     "output_type": "stream",
     "text": [
      "C:\\ProgramData\\Anaconda3\\lib\\site-packages\\sklearn\\metrics\\_classification.py:1272: UndefinedMetricWarning:\n",
      "\n",
      "Precision and F-score are ill-defined and being set to 0.0 in labels with no predicted samples. Use `zero_division` parameter to control this behavior.\n",
      "\n",
      "C:\\ProgramData\\Anaconda3\\lib\\site-packages\\sklearn\\metrics\\_classification.py:1272: UndefinedMetricWarning:\n",
      "\n",
      "Precision and F-score are ill-defined and being set to 0.0 in samples with no predicted labels. Use `zero_division` parameter to control this behavior.\n",
      "\n"
     ]
    }
   ],
   "source": [
    "# Analyze Classification Summary\n",
    "y_proba = model_wv_1000.predict([X_test])\n",
    "y_pred = (y_proba > 0.5).astype('int32')\n",
    "classification_summary(y_test, y_pred, y_proba)"
   ]
  },
  {
   "cell_type": "markdown",
   "metadata": {},
   "source": [
    "Observations: The n-gram Word2Vec model as compared to the unigram Word2Vec model improves the accuracy from 58% to 65%. However it is seen that in the test sample, groups with low record base have very poor accuracy; hence the next trial is to try and balance the samples "
   ]
  },
  {
   "cell_type": "markdown",
   "metadata": {},
   "source": [
    "# Applying balancing for Groups"
   ]
  },
  {
   "cell_type": "code",
   "execution_count": 32,
   "metadata": {
    "scrolled": true
   },
   "outputs": [
    {
     "name": "stdout",
     "output_type": "stream",
     "text": [
      "Train on 5440 samples, validate on 1360 samples\n",
      "Epoch 1/20\n",
      "5440/5440 [==============================] - 8s 1ms/step - loss: 0.4977 - accuracy: 0.8601 - val_loss: 1.2848 - val_accuracy: 0.6618\n",
      "Epoch 2/20\n",
      "5440/5440 [==============================] - 9s 2ms/step - loss: 0.4641 - accuracy: 0.8722 - val_loss: 1.3065 - val_accuracy: 0.6493\n",
      "Epoch 3/20\n",
      "5440/5440 [==============================] - 9s 2ms/step - loss: 0.4364 - accuracy: 0.8770 - val_loss: 1.3133 - val_accuracy: 0.6537\n",
      "Epoch 4/20\n",
      "5440/5440 [==============================] - 9s 2ms/step - loss: 0.4107 - accuracy: 0.8945 - val_loss: 1.3228 - val_accuracy: 0.6544\n",
      "Epoch 5/20\n",
      "5440/5440 [==============================] - 10s 2ms/step - loss: 0.3820 - accuracy: 0.8960 - val_loss: 1.3178 - val_accuracy: 0.6574\n",
      "Epoch 6/20\n",
      "5440/5440 [==============================] - 23s 4ms/step - loss: 0.3627 - accuracy: 0.9031 - val_loss: 1.3533 - val_accuracy: 0.6493\n",
      "Epoch 7/20\n",
      "5440/5440 [==============================] - 41s 8ms/step - loss: 0.3396 - accuracy: 0.9105 - val_loss: 1.3441 - val_accuracy: 0.6596\n",
      "Epoch 8/20\n",
      "5440/5440 [==============================] - 41s 8ms/step - loss: 0.3185 - accuracy: 0.9175 - val_loss: 1.3672 - val_accuracy: 0.6647\n",
      "Epoch 9/20\n",
      "5440/5440 [==============================] - 41s 8ms/step - loss: 0.3065 - accuracy: 0.9208 - val_loss: 1.3675 - val_accuracy: 0.6654\n",
      "Epoch 10/20\n",
      "5440/5440 [==============================] - 41s 8ms/step - loss: 0.2930 - accuracy: 0.9191 - val_loss: 1.3788 - val_accuracy: 0.6640\n",
      "Epoch 11/20\n",
      "5440/5440 [==============================] - 41s 8ms/step - loss: 0.2843 - accuracy: 0.9204 - val_loss: 1.3810 - val_accuracy: 0.6559\n",
      "Epoch 12/20\n",
      "5440/5440 [==============================] - 41s 8ms/step - loss: 0.2684 - accuracy: 0.9261 - val_loss: 1.4055 - val_accuracy: 0.6581\n",
      "Epoch 13/20\n",
      "5440/5440 [==============================] - 41s 8ms/step - loss: 0.2595 - accuracy: 0.9265 - val_loss: 1.4155 - val_accuracy: 0.6588\n",
      "Epoch 14/20\n",
      "5440/5440 [==============================] - 41s 8ms/step - loss: 0.2533 - accuracy: 0.9300 - val_loss: 1.4107 - val_accuracy: 0.6566\n",
      "Epoch 15/20\n",
      "5440/5440 [==============================] - 41s 8ms/step - loss: 0.2462 - accuracy: 0.9331 - val_loss: 1.4329 - val_accuracy: 0.6566\n",
      "Epoch 16/20\n",
      "5440/5440 [==============================] - 41s 8ms/step - loss: 0.2262 - accuracy: 0.9388 - val_loss: 1.4376 - val_accuracy: 0.6632\n",
      "Epoch 17/20\n",
      "5440/5440 [==============================] - 41s 8ms/step - loss: 0.2288 - accuracy: 0.9382 - val_loss: 1.4507 - val_accuracy: 0.6529\n",
      "Epoch 18/20\n",
      "5440/5440 [==============================] - 41s 8ms/step - loss: 0.2243 - accuracy: 0.9371 - val_loss: 1.4647 - val_accuracy: 0.6559\n",
      "Epoch 19/20\n",
      "5440/5440 [==============================] - 41s 8ms/step - loss: 0.2090 - accuracy: 0.9419 - val_loss: 1.5012 - val_accuracy: 0.6610\n",
      "Epoch 20/20\n",
      "5440/5440 [==============================] - 41s 8ms/step - loss: 0.2097 - accuracy: 0.9377 - val_loss: 1.4844 - val_accuracy: 0.6566\n"
     ]
    }
   ],
   "source": [
    "batch_size = 1000\n",
    "epochs = 20\n",
    "history = model_wv_1000.fit(X_train, y_train, epochs=epochs, class_weight=class_weight, batch_size=batch_size, verbose=1,validation_split=0.2)"
   ]
  },
  {
   "cell_type": "code",
   "execution_count": 33,
   "metadata": {},
   "outputs": [
    {
     "data": {
      "image/png": "[encoded data removed]",
      "text/plain": [
       "<Figure size 432x288 with 1 Axes>"
      ]
     },
     "metadata": {
      "needs_background": "light"
     },
     "output_type": "display_data"
    },
    {
     "data": {
      "image/png": "[encoded data removed]",
      "text/plain": [
       "<Figure size 432x288 with 1 Axes>"
      ]
     },
     "metadata": {
      "needs_background": "light"
     },
     "output_type": "display_data"
    }
   ],
   "source": [
    "plt.plot(history.history['accuracy'])\n",
    "plt.plot(history.history['val_accuracy'])\n",
    "plt.title('model accuracy')\n",
    "plt.ylabel('accuracy')\n",
    "plt.xlabel('epoch')\n",
    "plt.legend(['train', 'validation'], loc='upper left')\n",
    "plt.show()\n",
    "\n",
    "plt.plot(history.history['loss'])\n",
    "plt.plot(history.history['val_loss'])\n",
    "plt.title('model loss')\n",
    "plt.ylabel('loss')\n",
    "plt.xlabel('epoch')\n",
    "plt.legend(['train', 'validation'], loc='upper left')\n",
    "plt.show()"
   ]
  },
  {
   "cell_type": "code",
   "execution_count": 34,
   "metadata": {},
   "outputs": [
    {
     "name": "stdout",
     "output_type": "stream",
     "text": [
      "\u001b[1mModel accuracy:\u001b[0m 58.41%\n",
      "________________________________________________________________________________\n",
      "\u001b[1mConfusion matrix:\u001b[0m\n",
      " [[743   0   1 ...   1   0   3]\n",
      " [  3   0   0 ...   1   0   0]\n",
      " [ 14   0  11 ...   0   0   0]\n",
      " ...\n",
      " [ 47   0   1 ...  72   0   0]\n",
      " [ 47   0   0 ...   0   2   1]\n",
      " [ 44   2   2 ...   3   0   6]]\n",
      "________________________________________________________________________________\n",
      "\u001b[1mClassification report:\u001b[0m\n",
      "               precision    recall  f1-score   support\n",
      "\n",
      "           0       0.78      0.88      0.82       795\n",
      "           1       0.00      0.00      0.00         6\n",
      "           2       0.52      0.39      0.45        28\n",
      "           3       0.00      0.00      0.00         6\n",
      "           4       0.61      0.53      0.57        51\n",
      "           5       0.50      0.28      0.36        29\n",
      "           6       0.56      0.21      0.30        24\n",
      "           7       0.67      0.25      0.36         8\n",
      "           8       0.57      0.24      0.33        17\n",
      "           9       0.93      0.88      0.90        16\n",
      "          10       0.40      0.22      0.29        18\n",
      "          11       0.42      0.19      0.26        43\n",
      "          12       0.50      0.40      0.44        48\n",
      "          13       0.00      0.00      0.00         7\n",
      "          14       0.00      0.00      0.00         6\n",
      "          15       0.86      0.66      0.75        58\n",
      "          16       0.80      0.35      0.48        23\n",
      "          17       0.67      0.36      0.47        11\n",
      "          18       1.00      0.11      0.20         9\n",
      "          19       0.75      0.15      0.25        20\n",
      "          20       0.44      0.30      0.36        40\n",
      "          21       0.00      0.00      0.00         8\n",
      "          22       1.00      0.21      0.35        14\n",
      "          23       0.33      0.14      0.20        21\n",
      "          24       0.43      0.25      0.32        12\n",
      "          25       0.38      0.30      0.33        20\n",
      "          26       0.75      0.33      0.46         9\n",
      "          27       1.00      0.12      0.22         8\n",
      "          28       0.00      0.00      0.00         7\n",
      "          29       0.00      0.00      0.00         7\n",
      "          30       0.69      0.35      0.46        26\n",
      "          31       1.00      0.41      0.58        37\n",
      "          32       0.36      0.29      0.32        14\n",
      "          33       0.81      0.55      0.65       132\n",
      "          34       1.00      0.04      0.08        51\n",
      "          35       0.35      0.08      0.14        71\n",
      "\n",
      "   micro avg       0.73      0.58      0.65      1700\n",
      "   macro avg       0.53      0.26      0.33      1700\n",
      "weighted avg       0.69      0.58      0.60      1700\n",
      " samples avg       0.58      0.58      0.58      1700\n",
      "\n",
      "________________________________________________________________________________\n"
     ]
    },
    {
     "name": "stderr",
     "output_type": "stream",
     "text": [
      "C:\\ProgramData\\Anaconda3\\lib\\site-packages\\sklearn\\metrics\\_classification.py:1272: UndefinedMetricWarning:\n",
      "\n",
      "Precision and F-score are ill-defined and being set to 0.0 in labels with no predicted samples. Use `zero_division` parameter to control this behavior.\n",
      "\n",
      "C:\\ProgramData\\Anaconda3\\lib\\site-packages\\sklearn\\metrics\\_classification.py:1272: UndefinedMetricWarning:\n",
      "\n",
      "Precision and F-score are ill-defined and being set to 0.0 in samples with no predicted labels. Use `zero_division` parameter to control this behavior.\n",
      "\n"
     ]
    }
   ],
   "source": [
    "# Analyze Classification Summary\n",
    "y_proba = model_wv_1000.predict([X_test])\n",
    "y_pred = (y_proba > 0.5).astype('int32')\n",
    "classification_summary(y_test, y_pred, y_proba)"
   ]
  },
  {
   "cell_type": "markdown",
   "metadata": {},
   "source": [
    "Observations: It is seen that trying to balance improves the accuracy on measures like overall accuracy, F1 Macro and weighted average"
   ]
  },
  {
   "cell_type": "markdown",
   "metadata": {},
   "source": [
    "Next Steps: Thus it is observed that it would be beneficial to try and re-sample the data to take care of large imbalance in the assignment groups "
   ]
  },
  {
   "cell_type": "markdown",
   "metadata": {},
   "source": [
    "# Upsampling & Downsampling"
   ]
  },
  {
   "cell_type": "code",
   "execution_count": 8,
   "metadata": {},
   "outputs": [],
   "source": [
    "Samp_df = new_df[{'Clean Description','Assignment group'}]"
   ]
  },
  {
   "cell_type": "code",
   "execution_count": 9,
   "metadata": {},
   "outputs": [],
   "source": [
    "cols = ['Assignment group']\n",
    "for col in cols:\n",
    "    val = new_df[col].value_counts()\n",
    "    y = val[val < 30].index # all groups with less than 30 records will be combined into others\n",
    "    Samp_df[col] = Samp_df[col].replace({x:'GRP_99' for x in y})"
   ]
  },
  {
   "cell_type": "code",
   "execution_count": 10,
   "metadata": {},
   "outputs": [
    {
     "name": "stdout",
     "output_type": "stream",
     "text": [
      "GRP_0     3976\n",
      "GRP_8      661\n",
      "GRP_99     357\n",
      "GRP_24     289\n",
      "GRP_12     257\n",
      "GRP_9      252\n",
      "GRP_2      241\n",
      "GRP_19     215\n",
      "GRP_3      200\n",
      "GRP_6      184\n",
      "GRP_13     145\n",
      "GRP_10     140\n",
      "GRP_5      129\n",
      "GRP_14     118\n",
      "GRP_25     116\n",
      "GRP_33     107\n",
      "GRP_4      100\n",
      "GRP_29      97\n",
      "GRP_18      88\n",
      "GRP_16      85\n",
      "GRP_17      81\n",
      "GRP_31      69\n",
      "GRP_7       68\n",
      "GRP_34      62\n",
      "GRP_26      56\n",
      "GRP_40      45\n",
      "GRP_28      44\n",
      "GRP_41      40\n",
      "GRP_15      39\n",
      "GRP_30      39\n",
      "GRP_42      37\n",
      "GRP_20      36\n",
      "GRP_45      35\n",
      "GRP_1       31\n",
      "GRP_22      31\n",
      "GRP_11      30\n",
      "Name: Assignment group, dtype: int64\n"
     ]
    }
   ],
   "source": [
    "count = Samp_df['Assignment group'].value_counts() \n",
    "print(count)"
   ]
  },
  {
   "cell_type": "markdown",
   "metadata": {},
   "source": [
    "We want to downsample Group 0 to about 2000 cases and upsample all groups that have a sample less than 200 to 200 (i.e. at least 10% of the Group with the largest sample). Other groups that have a sample>150 will be left as is "
   ]
  },
  {
   "cell_type": "code",
   "execution_count": 11,
   "metadata": {},
   "outputs": [
    {
     "data": {
      "text/html": [
       "<div>\n",
       "<style scoped>\n",
       "    .dataframe tbody tr th:only-of-type {\n",
       "        vertical-align: middle;\n",
       "    }\n",
       "\n",
       "    .dataframe tbody tr th {\n",
       "        vertical-align: top;\n",
       "    }\n",
       "\n",
       "    .dataframe thead th {\n",
       "        text-align: right;\n",
       "    }\n",
       "</style>\n",
       "<table border=\"1\" class=\"dataframe\">\n",
       "  <thead>\n",
       "    <tr style=\"text-align: right;\">\n",
       "      <th></th>\n",
       "      <th>count</th>\n",
       "      <th>unique</th>\n",
       "      <th>top</th>\n",
       "      <th>freq</th>\n",
       "    </tr>\n",
       "  </thead>\n",
       "  <tbody>\n",
       "    <tr>\n",
       "      <th>Assignment group</th>\n",
       "      <td>3976</td>\n",
       "      <td>1</td>\n",
       "      <td>GRP_0</td>\n",
       "      <td>3976</td>\n",
       "    </tr>\n",
       "    <tr>\n",
       "      <th>Clean Description</th>\n",
       "      <td>3976</td>\n",
       "      <td>3104</td>\n",
       "      <td>ticket update inplant</td>\n",
       "      <td>82</td>\n",
       "    </tr>\n",
       "  </tbody>\n",
       "</table>\n",
       "</div>"
      ],
      "text/plain": [
       "                  count unique                    top  freq\n",
       "Assignment group   3976      1                  GRP_0  3976\n",
       "Clean Description  3976   3104  ticket update inplant    82"
      ]
     },
     "execution_count": 11,
     "metadata": {},
     "output_type": "execute_result"
    }
   ],
   "source": [
    "df_GRP0 = Samp_df[Samp_df['Assignment group'] =='GRP_0']\n",
    "df_GRP0.describe().transpose()"
   ]
  },
  {
   "cell_type": "code",
   "execution_count": 12,
   "metadata": {},
   "outputs": [],
   "source": [
    "from sklearn.utils import resample\n",
    "df_GRP0_downsampled = resample(df_GRP0, \n",
    "                                 replace=False,    # sample without replacement\n",
    "                                 n_samples=2000,     # to match minority class\n",
    "                                 random_state=123) # reproducible results"
   ]
  },
  {
   "cell_type": "code",
   "execution_count": 13,
   "metadata": {},
   "outputs": [],
   "source": [
    "groups = ['GRP_8' , 'GRP_99' , 'GRP_24' , 'GRP_12' , 'GRP_9' , 'GRP_2' , 'GRP_19' , 'GRP_3']"
   ]
  },
  {
   "cell_type": "code",
   "execution_count": 14,
   "metadata": {},
   "outputs": [],
   "source": [
    "df_retain_group= Samp_df[Samp_df['Assignment group'].isin(groups)]"
   ]
  },
  {
   "cell_type": "code",
   "execution_count": 15,
   "metadata": {},
   "outputs": [
    {
     "data": {
      "text/html": [
       "<div>\n",
       "<style scoped>\n",
       "    .dataframe tbody tr th:only-of-type {\n",
       "        vertical-align: middle;\n",
       "    }\n",
       "\n",
       "    .dataframe tbody tr th {\n",
       "        vertical-align: top;\n",
       "    }\n",
       "\n",
       "    .dataframe thead th {\n",
       "        text-align: right;\n",
       "    }\n",
       "</style>\n",
       "<table border=\"1\" class=\"dataframe\">\n",
       "  <thead>\n",
       "    <tr style=\"text-align: right;\">\n",
       "      <th></th>\n",
       "      <th>count</th>\n",
       "      <th>unique</th>\n",
       "      <th>top</th>\n",
       "      <th>freq</th>\n",
       "    </tr>\n",
       "  </thead>\n",
       "  <tbody>\n",
       "    <tr>\n",
       "      <th>Assignment group</th>\n",
       "      <td>2472</td>\n",
       "      <td>8</td>\n",
       "      <td>GRP_8</td>\n",
       "      <td>661</td>\n",
       "    </tr>\n",
       "    <tr>\n",
       "      <th>Clean Description</th>\n",
       "      <td>2472</td>\n",
       "      <td>1841</td>\n",
       "      <td>job fail scheduler from</td>\n",
       "      <td>335</td>\n",
       "    </tr>\n",
       "  </tbody>\n",
       "</table>\n",
       "</div>"
      ],
      "text/plain": [
       "                  count unique                      top freq\n",
       "Assignment group   2472      8                    GRP_8  661\n",
       "Clean Description  2472   1841  job fail scheduler from  335"
      ]
     },
     "execution_count": 15,
     "metadata": {},
     "output_type": "execute_result"
    }
   ],
   "source": [
    "df_retain_group.describe().transpose()"
   ]
  },
  {
   "cell_type": "code",
   "execution_count": 16,
   "metadata": {},
   "outputs": [],
   "source": [
    "df_GRP6 = Samp_df[Samp_df['Assignment group'] =='GRP_6']\n",
    "df_GRP6.describe().transpose()\n",
    "df_GRP6_upsampled = resample(df_GRP6, \n",
    "                                 replace=True,     # sample with replacement\n",
    "                                 n_samples=200,    # to match majority class\n",
    "                                 random_state=123) # reproducible results"
   ]
  },
  {
   "cell_type": "code",
   "execution_count": 17,
   "metadata": {},
   "outputs": [],
   "source": [
    "df_GRP13 = Samp_df[Samp_df['Assignment group'] =='GRP_13']\n",
    "df_GRP13.describe().transpose()\n",
    "df_GRP13_upsampled = resample(df_GRP13, \n",
    "                                 replace=True,     # sample with replacement\n",
    "                                 n_samples=200,    # to match majority class\n",
    "                                 random_state=123) # reproducible results"
   ]
  },
  {
   "cell_type": "code",
   "execution_count": 18,
   "metadata": {},
   "outputs": [],
   "source": [
    "df_GRP10 = Samp_df[Samp_df['Assignment group'] =='GRP_10']\n",
    "df_GRP10.describe().transpose()\n",
    "df_GRP10_upsampled = resample(df_GRP10, \n",
    "                                 replace=True,     # sample with replacement\n",
    "                                 n_samples=200,    # to match majority class\n",
    "                                 random_state=123) # reproducible results"
   ]
  },
  {
   "cell_type": "code",
   "execution_count": 19,
   "metadata": {},
   "outputs": [],
   "source": [
    "df_GRP5 = Samp_df[Samp_df['Assignment group'] =='GRP_5']\n",
    "df_GRP5.describe().transpose()\n",
    "df_GRP5_upsampled = resample(df_GRP5, \n",
    "                                 replace=True,     # sample with replacement\n",
    "                                 n_samples=200,    # to match majority class\n",
    "                                 random_state=123) # reproducible results"
   ]
  },
  {
   "cell_type": "code",
   "execution_count": 20,
   "metadata": {},
   "outputs": [],
   "source": [
    "df_GRP14 = Samp_df[Samp_df['Assignment group'] =='GRP_14']\n",
    "df_GRP14.describe().transpose()\n",
    "df_GRP14_upsampled = resample(df_GRP14, \n",
    "                                 replace=True,     # sample with replacement\n",
    "                                 n_samples=200,    # to match majority class\n",
    "                                 random_state=123) # reproducible results"
   ]
  },
  {
   "cell_type": "code",
   "execution_count": 21,
   "metadata": {},
   "outputs": [],
   "source": [
    "df_GRP25 = Samp_df[Samp_df['Assignment group'] =='GRP_25']\n",
    "df_GRP25.describe().transpose()\n",
    "df_GRP25_upsampled = resample(df_GRP25, \n",
    "                                 replace=True,     # sample with replacement\n",
    "                                 n_samples=200,    # to match majority class\n",
    "                                 random_state=123) # reproducible results"
   ]
  },
  {
   "cell_type": "code",
   "execution_count": 22,
   "metadata": {},
   "outputs": [],
   "source": [
    "df_GRP33 = Samp_df[Samp_df['Assignment group'] =='GRP_33']\n",
    "df_GRP33.describe().transpose()\n",
    "df_GRP33_upsampled = resample(df_GRP33, \n",
    "                                 replace=True,     # sample with replacement\n",
    "                                 n_samples=200,    # to match majority class\n",
    "                                 random_state=123) # reproducible results"
   ]
  },
  {
   "cell_type": "code",
   "execution_count": 23,
   "metadata": {},
   "outputs": [],
   "source": [
    "df_GRP4 = Samp_df[Samp_df['Assignment group'] =='GRP_4']\n",
    "df_GRP4.describe().transpose()\n",
    "df_GRP4_upsampled = resample(df_GRP4, \n",
    "                                 replace=True,     # sample with replacement\n",
    "                                 n_samples=200,    # to match majority class\n",
    "                                 random_state=123) # reproducible results"
   ]
  },
  {
   "cell_type": "code",
   "execution_count": 24,
   "metadata": {},
   "outputs": [],
   "source": [
    "df_GRP29 = Samp_df[Samp_df['Assignment group'] =='GRP_29']\n",
    "df_GRP29.describe().transpose()\n",
    "df_GRP29_upsampled = resample(df_GRP29, \n",
    "                                 replace=True,     # sample with replacement\n",
    "                                 n_samples=200,    # to match majority class\n",
    "                                 random_state=123) # reproducible results"
   ]
  },
  {
   "cell_type": "code",
   "execution_count": 25,
   "metadata": {},
   "outputs": [
    {
     "data": {
      "text/html": [
       "<div>\n",
       "<style scoped>\n",
       "    .dataframe tbody tr th:only-of-type {\n",
       "        vertical-align: middle;\n",
       "    }\n",
       "\n",
       "    .dataframe tbody tr th {\n",
       "        vertical-align: top;\n",
       "    }\n",
       "\n",
       "    .dataframe thead th {\n",
       "        text-align: right;\n",
       "    }\n",
       "</style>\n",
       "<table border=\"1\" class=\"dataframe\">\n",
       "  <thead>\n",
       "    <tr style=\"text-align: right;\">\n",
       "      <th></th>\n",
       "      <th>count</th>\n",
       "      <th>unique</th>\n",
       "      <th>top</th>\n",
       "      <th>freq</th>\n",
       "    </tr>\n",
       "  </thead>\n",
       "  <tbody>\n",
       "    <tr>\n",
       "      <th>Assignment group</th>\n",
       "      <td>88</td>\n",
       "      <td>1</td>\n",
       "      <td>GRP_18</td>\n",
       "      <td>88</td>\n",
       "    </tr>\n",
       "    <tr>\n",
       "      <th>Clean Description</th>\n",
       "      <td>88</td>\n",
       "      <td>85</td>\n",
       "      <td>job fail scheduler from</td>\n",
       "      <td>3</td>\n",
       "    </tr>\n",
       "  </tbody>\n",
       "</table>\n",
       "</div>"
      ],
      "text/plain": [
       "                  count unique                      top freq\n",
       "Assignment group     88      1                   GRP_18   88\n",
       "Clean Description    88     85  job fail scheduler from    3"
      ]
     },
     "execution_count": 25,
     "metadata": {},
     "output_type": "execute_result"
    }
   ],
   "source": [
    "df_GRP18 = Samp_df[Samp_df['Assignment group'] =='GRP_18']\n",
    "df_GRP18.describe().transpose()"
   ]
  },
  {
   "cell_type": "code",
   "execution_count": 26,
   "metadata": {},
   "outputs": [],
   "source": [
    "df_GRP18_upsampled = resample(df_GRP18, \n",
    "                                 replace=True,     # sample with replacement\n",
    "                                 n_samples=200,    # to match majority class\n",
    "                                 random_state=123) # reproducible results"
   ]
  },
  {
   "cell_type": "code",
   "execution_count": 27,
   "metadata": {},
   "outputs": [
    {
     "data": {
      "text/html": [
       "<div>\n",
       "<style scoped>\n",
       "    .dataframe tbody tr th:only-of-type {\n",
       "        vertical-align: middle;\n",
       "    }\n",
       "\n",
       "    .dataframe tbody tr th {\n",
       "        vertical-align: top;\n",
       "    }\n",
       "\n",
       "    .dataframe thead th {\n",
       "        text-align: right;\n",
       "    }\n",
       "</style>\n",
       "<table border=\"1\" class=\"dataframe\">\n",
       "  <thead>\n",
       "    <tr style=\"text-align: right;\">\n",
       "      <th></th>\n",
       "      <th>count</th>\n",
       "      <th>unique</th>\n",
       "      <th>top</th>\n",
       "      <th>freq</th>\n",
       "    </tr>\n",
       "  </thead>\n",
       "  <tbody>\n",
       "    <tr>\n",
       "      <th>Assignment group</th>\n",
       "      <td>200</td>\n",
       "      <td>1</td>\n",
       "      <td>GRP_18</td>\n",
       "      <td>200</td>\n",
       "    </tr>\n",
       "    <tr>\n",
       "      <th>Clean Description</th>\n",
       "      <td>200</td>\n",
       "      <td>77</td>\n",
       "      <td>the not generate dn dear would pls check this</td>\n",
       "      <td>7</td>\n",
       "    </tr>\n",
       "  </tbody>\n",
       "</table>\n",
       "</div>"
      ],
      "text/plain": [
       "                  count unique                                            top  \\\n",
       "Assignment group    200      1                                         GRP_18   \n",
       "Clean Description   200     77  the not generate dn dear would pls check this   \n",
       "\n",
       "                  freq  \n",
       "Assignment group   200  \n",
       "Clean Description    7  "
      ]
     },
     "execution_count": 27,
     "metadata": {},
     "output_type": "execute_result"
    }
   ],
   "source": [
    "df_GRP18_upsampled.describe().transpose()"
   ]
  },
  {
   "cell_type": "code",
   "execution_count": 28,
   "metadata": {},
   "outputs": [],
   "source": [
    "df_GRP16 = Samp_df[Samp_df['Assignment group'] =='GRP_16']\n",
    "df_GRP16.describe().transpose()\n",
    "df_GRP16_upsampled = resample(df_GRP16, \n",
    "                                 replace=True,     # sample with replacement\n",
    "                                 n_samples=200,    # to match majority class\n",
    "                                 random_state=123) # reproducible results"
   ]
  },
  {
   "cell_type": "code",
   "execution_count": 29,
   "metadata": {},
   "outputs": [],
   "source": [
    "df_GRP17 = Samp_df[Samp_df['Assignment group'] =='GRP_17']\n",
    "df_GRP17.describe().transpose()\n",
    "df_GRP17_upsampled = resample(df_GRP17, \n",
    "                                 replace=True,     # sample with replacement\n",
    "                                 n_samples=200,    # to match majority class\n",
    "                                 random_state=123) # reproducible results"
   ]
  },
  {
   "cell_type": "code",
   "execution_count": 30,
   "metadata": {},
   "outputs": [],
   "source": [
    "df_GRP31 = Samp_df[Samp_df['Assignment group'] =='GRP_31']\n",
    "df_GRP31.describe().transpose()\n",
    "df_GRP31_upsampled = resample(df_GRP31, \n",
    "                                 replace=True,     # sample with replacement\n",
    "                                 n_samples=200,    # to match majority class\n",
    "                                 random_state=123) # reproducible results"
   ]
  },
  {
   "cell_type": "code",
   "execution_count": 31,
   "metadata": {},
   "outputs": [],
   "source": [
    "df_GRP7 = Samp_df[Samp_df['Assignment group'] =='GRP_7']\n",
    "df_GRP7.describe().transpose()\n",
    "df_GRP7_upsampled = resample(df_GRP7, \n",
    "                                 replace=True,     # sample with replacement\n",
    "                                 n_samples=200,    # to match majority class\n",
    "                                 random_state=123) # reproducible results"
   ]
  },
  {
   "cell_type": "code",
   "execution_count": 32,
   "metadata": {},
   "outputs": [],
   "source": [
    "df_GRP34 = Samp_df[Samp_df['Assignment group'] =='GRP_34']\n",
    "df_GRP34.describe().transpose()\n",
    "df_GRP34_upsampled = resample(df_GRP34, \n",
    "                                 replace=True,     # sample with replacement\n",
    "                                 n_samples=200,    # to match majority class\n",
    "                                 random_state=123) # reproducible results"
   ]
  },
  {
   "cell_type": "code",
   "execution_count": 33,
   "metadata": {},
   "outputs": [],
   "source": [
    "df_GRP26 = Samp_df[Samp_df['Assignment group'] =='GRP_26']\n",
    "df_GRP26.describe().transpose()\n",
    "df_GRP26_upsampled = resample(df_GRP26, \n",
    "                                 replace=True,     # sample with replacement\n",
    "                                 n_samples=200,    # to match majority class\n",
    "                                 random_state=123) # reproducible results"
   ]
  },
  {
   "cell_type": "code",
   "execution_count": 34,
   "metadata": {},
   "outputs": [],
   "source": [
    "df_GRP40 = Samp_df[Samp_df['Assignment group'] =='GRP_40']\n",
    "df_GRP40.describe().transpose()\n",
    "df_GRP40_upsampled = resample(df_GRP40, \n",
    "                                 replace=True,     # sample with replacement\n",
    "                                 n_samples=200,    # to match majority class\n",
    "                                 random_state=123) # reproducible results"
   ]
  },
  {
   "cell_type": "code",
   "execution_count": 35,
   "metadata": {},
   "outputs": [],
   "source": [
    "df_GRP28 = Samp_df[Samp_df['Assignment group'] =='GRP_28']\n",
    "df_GRP28.describe().transpose()\n",
    "df_GRP28_upsampled = resample(df_GRP28, \n",
    "                                 replace=True,     # sample with replacement\n",
    "                                 n_samples=200,    # to match majority class\n",
    "                                 random_state=123) # reproducible results"
   ]
  },
  {
   "cell_type": "code",
   "execution_count": 36,
   "metadata": {},
   "outputs": [],
   "source": [
    "df_GRP41 = Samp_df[Samp_df['Assignment group'] =='GRP_41']\n",
    "df_GRP41.describe().transpose()\n",
    "df_GRP41_upsampled = resample(df_GRP41, \n",
    "                                 replace=True,     # sample with replacement\n",
    "                                 n_samples=200,    # to match majority class\n",
    "                                 random_state=123) # reproducible results"
   ]
  },
  {
   "cell_type": "code",
   "execution_count": 37,
   "metadata": {},
   "outputs": [],
   "source": [
    "df_GRP15 = Samp_df[Samp_df['Assignment group'] =='GRP_15']\n",
    "df_GRP15.describe().transpose()\n",
    "df_GRP15_upsampled = resample(df_GRP15, \n",
    "                                 replace=True,     # sample with replacement\n",
    "                                 n_samples=200,    # to match majority class\n",
    "                                 random_state=123) # reproducible results"
   ]
  },
  {
   "cell_type": "code",
   "execution_count": 38,
   "metadata": {},
   "outputs": [],
   "source": [
    "df_GRP30 = Samp_df[Samp_df['Assignment group'] =='GRP_30']\n",
    "df_GRP30.describe().transpose()\n",
    "df_GRP30_upsampled = resample(df_GRP30, \n",
    "                                 replace=True,     # sample with replacement\n",
    "                                 n_samples=200,    # to match majority class\n",
    "                                 random_state=123) # reproducible results"
   ]
  },
  {
   "cell_type": "code",
   "execution_count": 39,
   "metadata": {},
   "outputs": [],
   "source": [
    "df_GRP42 = Samp_df[Samp_df['Assignment group'] =='GRP_42']\n",
    "df_GRP42.describe().transpose()\n",
    "df_GRP42_upsampled = resample(df_GRP42, \n",
    "                                 replace=True,     # sample with replacement\n",
    "                                 n_samples=200,    # to match majority class\n",
    "                                 random_state=123) # reproducible results"
   ]
  },
  {
   "cell_type": "code",
   "execution_count": 40,
   "metadata": {},
   "outputs": [],
   "source": [
    "df_GRP20 = Samp_df[Samp_df['Assignment group'] =='GRP_20']\n",
    "df_GRP20.describe().transpose()\n",
    "df_GRP20_upsampled = resample(df_GRP20, \n",
    "                                 replace=True,     # sample with replacement\n",
    "                                 n_samples=200,    # to match majority class\n",
    "                                 random_state=123) # reproducible results"
   ]
  },
  {
   "cell_type": "code",
   "execution_count": 41,
   "metadata": {},
   "outputs": [],
   "source": [
    "df_GRP45 = Samp_df[Samp_df['Assignment group'] =='GRP_45']\n",
    "df_GRP45.describe().transpose()\n",
    "df_GRP45_upsampled = resample(df_GRP45, \n",
    "                                 replace=True,     # sample with replacement\n",
    "                                 n_samples=200,    # to match majority class\n",
    "                                 random_state=123) # reproducible results"
   ]
  },
  {
   "cell_type": "code",
   "execution_count": 42,
   "metadata": {},
   "outputs": [],
   "source": [
    "df_GRP22 = Samp_df[Samp_df['Assignment group'] =='GRP_22']\n",
    "df_GRP22.describe().transpose()\n",
    "df_GRP22_upsampled = resample(df_GRP22, \n",
    "                                 replace=True,     # sample with replacement\n",
    "                                 n_samples=200,    # to match majority class\n",
    "                                 random_state=123) # reproducible results"
   ]
  },
  {
   "cell_type": "code",
   "execution_count": 43,
   "metadata": {},
   "outputs": [],
   "source": [
    "df_GRP1 = Samp_df[Samp_df['Assignment group'] =='GRP_1']\n",
    "df_GRP1.describe().transpose()\n",
    "df_GRP1_upsampled = resample(df_GRP1, \n",
    "                                 replace=True,     # sample with replacement\n",
    "                                 n_samples=200,    # to match majority class\n",
    "                                 random_state=123) # reproducible results"
   ]
  },
  {
   "cell_type": "code",
   "execution_count": 44,
   "metadata": {},
   "outputs": [],
   "source": [
    "df_GRP11 = Samp_df[Samp_df['Assignment group'] =='GRP_11']\n",
    "df_GRP11.describe().transpose()\n",
    "df_GRP11_upsampled = resample(df_GRP11, \n",
    "                                 replace=True,     # sample with replacement\n",
    "                                 n_samples=200,    # to match majority class\n",
    "                                 random_state=123) # reproducible results"
   ]
  },
  {
   "cell_type": "code",
   "execution_count": 45,
   "metadata": {},
   "outputs": [],
   "source": [
    "df_sampled = pd.concat([df_GRP0_downsampled, df_retain_group, df_GRP6_upsampled, df_GRP13_upsampled, df_GRP10_upsampled, df_GRP5_upsampled,   \n",
    "                        df_GRP14_upsampled, df_GRP25_upsampled, df_GRP33_upsampled, df_GRP4_upsampled, df_GRP29_upsampled,\n",
    "                        df_GRP18_upsampled, df_GRP16_upsampled, df_GRP17_upsampled, \n",
    "                          df_GRP31_upsampled, df_GRP7_upsampled, df_GRP34_upsampled, df_GRP26_upsampled, df_GRP40_upsampled,\n",
    "                          df_GRP28_upsampled, df_GRP41_upsampled, df_GRP15_upsampled, df_GRP30_upsampled, df_GRP42_upsampled, \n",
    "                          df_GRP20_upsampled, df_GRP45_upsampled, df_GRP22_upsampled, df_GRP1_upsampled, df_GRP11_upsampled])"
   ]
  },
  {
   "cell_type": "code",
   "execution_count": 46,
   "metadata": {},
   "outputs": [
    {
     "data": {
      "text/html": [
       "<div>\n",
       "<style scoped>\n",
       "    .dataframe tbody tr th:only-of-type {\n",
       "        vertical-align: middle;\n",
       "    }\n",
       "\n",
       "    .dataframe tbody tr th {\n",
       "        vertical-align: top;\n",
       "    }\n",
       "\n",
       "    .dataframe thead th {\n",
       "        text-align: right;\n",
       "    }\n",
       "</style>\n",
       "<table border=\"1\" class=\"dataframe\">\n",
       "  <thead>\n",
       "    <tr style=\"text-align: right;\">\n",
       "      <th></th>\n",
       "      <th>count</th>\n",
       "      <th>unique</th>\n",
       "      <th>top</th>\n",
       "      <th>freq</th>\n",
       "    </tr>\n",
       "  </thead>\n",
       "  <tbody>\n",
       "    <tr>\n",
       "      <th>Assignment group</th>\n",
       "      <td>9872</td>\n",
       "      <td>36</td>\n",
       "      <td>GRP_0</td>\n",
       "      <td>2000</td>\n",
       "    </tr>\n",
       "    <tr>\n",
       "      <th>Clean Description</th>\n",
       "      <td>9872</td>\n",
       "      <td>4946</td>\n",
       "      <td>job fail scheduler from</td>\n",
       "      <td>508</td>\n",
       "    </tr>\n",
       "  </tbody>\n",
       "</table>\n",
       "</div>"
      ],
      "text/plain": [
       "                  count unique                      top  freq\n",
       "Assignment group   9872     36                    GRP_0  2000\n",
       "Clean Description  9872   4946  job fail scheduler from   508"
      ]
     },
     "execution_count": 46,
     "metadata": {},
     "output_type": "execute_result"
    }
   ],
   "source": [
    "df_sampled.describe().transpose()"
   ]
  },
  {
   "cell_type": "code",
   "execution_count": 49,
   "metadata": {},
   "outputs": [],
   "source": [
    "df_sampled.to_csv('df_sampled.csv')"
   ]
  },
  {
   "cell_type": "code",
   "execution_count": 47,
   "metadata": {},
   "outputs": [
    {
     "name": "stdout",
     "output_type": "stream",
     "text": [
      "<class 'pandas.core.frame.DataFrame'>\n",
      "Int64Index: 9872 entries, 1822 to 4958\n",
      "Data columns (total 2 columns):\n",
      " #   Column             Non-Null Count  Dtype \n",
      "---  ------             --------------  ----- \n",
      " 0   Assignment group   9872 non-null   int8  \n",
      " 1   Clean Description  9872 non-null   object\n",
      "dtypes: int8(1), object(1)\n",
      "memory usage: 163.9+ KB\n"
     ]
    }
   ],
   "source": [
    "# First to Create a target categorical column\n",
    "df_sampled['Assignment group'] = df_sampled['Assignment group'].astype('category').cat.codes\n",
    "df_sampled.info()"
   ]
  },
  {
   "cell_type": "markdown",
   "metadata": {},
   "source": [
    "# Modeling with Re-sampled database"
   ]
  },
  {
   "cell_type": "code",
   "execution_count": 48,
   "metadata": {},
   "outputs": [],
   "source": [
    "max_features = 10000\n",
    "maxlen = 100\n",
    "#embedding_size = 1000"
   ]
  },
  {
   "cell_type": "code",
   "execution_count": 49,
   "metadata": {},
   "outputs": [],
   "source": [
    "tokenizer = Tokenizer(num_words=max_features)"
   ]
  },
  {
   "cell_type": "code",
   "execution_count": 50,
   "metadata": {},
   "outputs": [],
   "source": [
    "tokenizer.fit_on_texts(df_sampled['Clean Description'])"
   ]
  },
  {
   "cell_type": "code",
   "execution_count": 51,
   "metadata": {},
   "outputs": [
    {
     "name": "stdout",
     "output_type": "stream",
     "text": [
      "Number of Samples: 9872\n",
      "[   0    0    0    0    0    0    0    0    0    0    0    0    0    0\n",
      "    0    0    0    0    0    0    0    0    0    0    0    0    0    0\n",
      "    0    0    0    0    0    0    0    0    0    0    0    0    0    0\n",
      "    0    0    0    0    0    0    0    0    0    0    0    0    0    0\n",
      "    0    0    0    0    0    0    0    0    0    0    0    0    0    0\n",
      "    0    0    0    0    0    0    0    0    0    0    0    0    0    0\n",
      "    0    0    0    5   12   54  386 1786    4   83   19   54  307  248\n",
      "   41 1787]\n",
      "Number of Labels:  9872\n",
      "0\n"
     ]
    }
   ],
   "source": [
    "X = tokenizer.texts_to_sequences(df_sampled['Clean Description'])\n",
    "X = pad_sequences(X, maxlen = maxlen)\n",
    "y = np.asarray(df_sampled['Assignment group'])\n",
    "\n",
    "print(\"Number of Samples:\", len(X))\n",
    "print(X[367])\n",
    "print(\"Number of Labels: \", len(y))\n",
    "print(y[367])"
   ]
  },
  {
   "cell_type": "code",
   "execution_count": 52,
   "metadata": {},
   "outputs": [],
   "source": [
    "X_train, X_test, y_train, y_test = train_test_split(X, y, test_size=0.20, random_state=1, stratify=y)"
   ]
  },
  {
   "cell_type": "code",
   "execution_count": 53,
   "metadata": {},
   "outputs": [],
   "source": [
    "# Load the Word2Vec model\n",
    "wmodel = Doc2Vec.load('w2v_1000.mdl')"
   ]
  },
  {
   "cell_type": "code",
   "execution_count": 54,
   "metadata": {},
   "outputs": [
    {
     "name": "stdout",
     "output_type": "stream",
     "text": [
      "Vocabulary Size: 7518 - Embedding Dim: 1000\n"
     ]
    }
   ],
   "source": [
    "w2v_weights = wmodel.wv.vectors\n",
    "vocab_size, embedding_size = w2v_weights.shape\n",
    "print(\"Vocabulary Size: {} - Embedding Dim: {}\".format(vocab_size, embedding_size))"
   ]
  },
  {
   "cell_type": "code",
   "execution_count": 140,
   "metadata": {},
   "outputs": [
    {
     "name": "stdout",
     "output_type": "stream",
     "text": [
      "Model: \"sequential_4\"\n",
      "_________________________________________________________________\n",
      "Layer (type)                 Output Shape              Param #   \n",
      "=================================================================\n",
      "embedding_4 (Embedding)      (None, 100, 1000)         7518000   \n",
      "_________________________________________________________________\n",
      "spatial_dropout1d_4 (Spatial (None, 100, 1000)         0         \n",
      "_________________________________________________________________\n",
      "bidirectional_4 (Bidirection (None, 256)               1156096   \n",
      "_________________________________________________________________\n",
      "dropout_4 (Dropout)          (None, 256)               0         \n",
      "_________________________________________________________________\n",
      "dense_4 (Dense)              (None, 36)                9252      \n",
      "=================================================================\n",
      "Total params: 8,683,348\n",
      "Trainable params: 1,165,348\n",
      "Non-trainable params: 7,518,000\n",
      "_________________________________________________________________\n",
      "None\n"
     ]
    }
   ],
   "source": [
    "# CREATE the MODEL\n",
    "\n",
    "model_wv_1000 = Sequential()\n",
    "model_wv_1000.add(Embedding(input_dim=vocab_size, \n",
    "                        output_dim=embedding_size, \n",
    "                        weights=[w2v_weights], \n",
    "                        input_length=maxlen, \n",
    "                        mask_zero=True,\n",
    "                        trainable=False))\n",
    "model_wv_1000.add(SpatialDropout1D(0.2))\n",
    "model_wv_1000.add(Bidirectional(LSTM(128)))\n",
    "model_wv_1000.add(Dropout(0.2))\n",
    "model_wv_1000.add(Dense(units=36, activation='softmax'))\n",
    "model_wv_1000.compile(loss = 'categorical_crossentropy', optimizer='adam',metrics = ['accuracy'])\n",
    "print(model_wv_1000.summary())"
   ]
  },
  {
   "cell_type": "code",
   "execution_count": 55,
   "metadata": {},
   "outputs": [],
   "source": [
    "# Code for getting Class weight\n",
    "from sklearn.utils import class_weight\n",
    "class_weight = class_weight.compute_class_weight('balanced' ,np.unique(y_train) ,y_train)"
   ]
  },
  {
   "cell_type": "code",
   "execution_count": 56,
   "metadata": {},
   "outputs": [],
   "source": [
    "# Converting to categorical data\n",
    "y_train = to_categorical(y_train)\n",
    "y_test = to_categorical(y_test)"
   ]
  },
  {
   "cell_type": "code",
   "execution_count": 143,
   "metadata": {},
   "outputs": [
    {
     "name": "stdout",
     "output_type": "stream",
     "text": [
      "Train on 6317 samples, validate on 1580 samples\n",
      "Epoch 1/20\n",
      "6317/6317 [==============================] - 10s 2ms/step - loss: 3.1679 - accuracy: 0.2128 - val_loss: 2.7350 - val_accuracy: 0.2861\n",
      "Epoch 2/20\n",
      "6317/6317 [==============================] - 20s 3ms/step - loss: 2.5739 - accuracy: 0.3177 - val_loss: 2.3658 - val_accuracy: 0.3437\n",
      "Epoch 3/20\n",
      "6317/6317 [==============================] - 46s 7ms/step - loss: 2.1774 - accuracy: 0.4266 - val_loss: 2.0455 - val_accuracy: 0.4785\n",
      "Epoch 4/20\n",
      "6317/6317 [==============================] - 47s 8ms/step - loss: 1.8303 - accuracy: 0.5382 - val_loss: 1.7783 - val_accuracy: 0.5348\n",
      "Epoch 5/20\n",
      "6317/6317 [==============================] - 48s 8ms/step - loss: 1.5421 - accuracy: 0.5989 - val_loss: 1.5773 - val_accuracy: 0.5684\n",
      "Epoch 6/20\n",
      "6317/6317 [==============================] - 48s 8ms/step - loss: 1.3333 - accuracy: 0.6445 - val_loss: 1.4117 - val_accuracy: 0.6057\n",
      "Epoch 7/20\n",
      "6317/6317 [==============================] - 47s 8ms/step - loss: 1.1580 - accuracy: 0.6919 - val_loss: 1.3057 - val_accuracy: 0.6259\n",
      "Epoch 8/20\n",
      "6317/6317 [==============================] - 48s 8ms/step - loss: 1.0284 - accuracy: 0.7266 - val_loss: 1.1954 - val_accuracy: 0.6532\n",
      "Epoch 9/20\n",
      "6317/6317 [==============================] - 47s 8ms/step - loss: 0.9158 - accuracy: 0.7564 - val_loss: 1.1332 - val_accuracy: 0.6842\n",
      "Epoch 10/20\n",
      "6317/6317 [==============================] - 47s 8ms/step - loss: 0.8194 - accuracy: 0.7793 - val_loss: 1.0790 - val_accuracy: 0.6975\n",
      "Epoch 11/20\n",
      "6317/6317 [==============================] - 47s 8ms/step - loss: 0.7428 - accuracy: 0.8056 - val_loss: 1.0236 - val_accuracy: 0.7044\n",
      "Epoch 12/20\n",
      "6317/6317 [==============================] - 47s 8ms/step - loss: 0.6766 - accuracy: 0.8192 - val_loss: 0.9838 - val_accuracy: 0.7158\n",
      "Epoch 13/20\n",
      "6317/6317 [==============================] - 47s 8ms/step - loss: 0.6205 - accuracy: 0.8379 - val_loss: 0.9506 - val_accuracy: 0.7310\n",
      "Epoch 14/20\n",
      "6317/6317 [==============================] - 47s 8ms/step - loss: 0.5686 - accuracy: 0.8536 - val_loss: 0.9228 - val_accuracy: 0.7297\n",
      "Epoch 15/20\n",
      "6317/6317 [==============================] - 47s 8ms/step - loss: 0.5267 - accuracy: 0.8634 - val_loss: 0.9183 - val_accuracy: 0.7380\n",
      "Epoch 16/20\n",
      "6317/6317 [==============================] - 47s 8ms/step - loss: 0.4941 - accuracy: 0.8688 - val_loss: 0.9185 - val_accuracy: 0.7272\n",
      "Epoch 17/20\n",
      "6317/6317 [==============================] - 48s 8ms/step - loss: 0.4619 - accuracy: 0.8787 - val_loss: 0.8880 - val_accuracy: 0.7462\n",
      "Epoch 18/20\n",
      "6317/6317 [==============================] - 48s 8ms/step - loss: 0.4316 - accuracy: 0.8863 - val_loss: 0.8764 - val_accuracy: 0.7449\n",
      "Epoch 19/20\n",
      "6317/6317 [==============================] - 48s 8ms/step - loss: 0.4029 - accuracy: 0.8946 - val_loss: 0.8770 - val_accuracy: 0.7443\n",
      "Epoch 20/20\n",
      "6317/6317 [==============================] - 48s 8ms/step - loss: 0.3842 - accuracy: 0.8962 - val_loss: 0.8587 - val_accuracy: 0.7519\n"
     ]
    }
   ],
   "source": [
    "batch_size = 1000\n",
    "epochs = 20\n",
    "history = model_wv_1000.fit(X_train, y_train, epochs=epochs, batch_size=batch_size, verbose=1,validation_split=0.2)"
   ]
  },
  {
   "cell_type": "code",
   "execution_count": 144,
   "metadata": {},
   "outputs": [
    {
     "data": {
      "image/png": "[encoded data removed]",
      "text/plain": [
       "<Figure size 432x288 with 1 Axes>"
      ]
     },
     "metadata": {
      "needs_background": "light"
     },
     "output_type": "display_data"
    },
    {
     "data": {
      "image/png": "[encoded data removed]",
      "text/plain": [
       "<Figure size 432x288 with 1 Axes>"
      ]
     },
     "metadata": {
      "needs_background": "light"
     },
     "output_type": "display_data"
    }
   ],
   "source": [
    "plt.plot(history.history['accuracy'])\n",
    "plt.plot(history.history['val_accuracy'])\n",
    "plt.title('model accuracy')\n",
    "plt.ylabel('accuracy')\n",
    "plt.xlabel('epoch')\n",
    "plt.legend(['train', 'validation'], loc='upper left')\n",
    "plt.show()\n",
    "\n",
    "plt.plot(history.history['loss'])\n",
    "plt.plot(history.history['val_loss'])\n",
    "plt.title('model loss')\n",
    "plt.ylabel('loss')\n",
    "plt.xlabel('epoch')\n",
    "plt.legend(['train', 'validation'], loc='upper left')\n",
    "plt.show()"
   ]
  },
  {
   "cell_type": "code",
   "execution_count": 145,
   "metadata": {},
   "outputs": [
    {
     "name": "stdout",
     "output_type": "stream",
     "text": [
      "\u001b[1mModel accuracy:\u001b[0m 67.80%\n",
      "________________________________________________________________________________\n",
      "\u001b[1mConfusion matrix:\u001b[0m\n",
      " [[363   0   0 ...   0   0   3]\n",
      " [  3  37   0 ...   0   0   0]\n",
      " [ 15   0  22 ...   0   0   2]\n",
      " ...\n",
      " [ 47   3   2 ...  75   0   2]\n",
      " [ 47   0   0 ...   0   1   0]\n",
      " [ 52   0   0 ...   4   0   3]]\n",
      "________________________________________________________________________________\n",
      "\u001b[1mClassification report:\u001b[0m\n",
      "               precision    recall  f1-score   support\n",
      "\n",
      "           0       0.78      0.73      0.75       400\n",
      "           1       0.77      0.93      0.84        40\n",
      "           2       0.92      0.55      0.69        40\n",
      "           3       1.00      1.00      1.00        40\n",
      "           4       0.74      0.56      0.64        52\n",
      "           5       0.78      0.70      0.74        40\n",
      "           6       0.96      0.68      0.79        40\n",
      "           7       1.00      0.97      0.99        40\n",
      "           8       0.91      0.75      0.82        40\n",
      "           9       1.00      1.00      1.00        40\n",
      "          10       0.92      0.90      0.91        40\n",
      "          11       0.44      0.19      0.26        43\n",
      "          12       0.57      0.25      0.35        48\n",
      "          13       1.00      1.00      1.00        40\n",
      "          14       1.00      1.00      1.00        40\n",
      "          15       0.85      0.57      0.68        58\n",
      "          16       0.77      0.57      0.66        40\n",
      "          17       0.83      0.85      0.84        40\n",
      "          18       0.92      0.88      0.90        40\n",
      "          19       0.84      0.78      0.81        40\n",
      "          20       0.67      0.15      0.24        40\n",
      "          21       0.93      0.97      0.95        40\n",
      "          22       0.86      0.80      0.83        40\n",
      "          23       0.97      0.78      0.86        40\n",
      "          24       0.82      0.80      0.81        40\n",
      "          25       0.88      0.72      0.79        40\n",
      "          26       0.97      0.97      0.97        40\n",
      "          27       1.00      0.95      0.97        40\n",
      "          28       1.00      0.97      0.99        40\n",
      "          29       0.84      0.80      0.82        40\n",
      "          30       1.00      0.40      0.57        40\n",
      "          31       0.89      0.42      0.58        40\n",
      "          32       0.95      0.88      0.91        40\n",
      "          33       0.83      0.57      0.68       132\n",
      "          34       1.00      0.02      0.04        50\n",
      "          35       0.21      0.04      0.07        72\n",
      "\n",
      "   micro avg       0.86      0.68      0.76      1975\n",
      "   macro avg       0.86      0.70      0.74      1975\n",
      "weighted avg       0.83      0.68      0.72      1975\n",
      " samples avg       0.68      0.68      0.68      1975\n",
      "\n",
      "________________________________________________________________________________\n"
     ]
    },
    {
     "name": "stderr",
     "output_type": "stream",
     "text": [
      "C:\\ProgramData\\Anaconda3\\lib\\site-packages\\sklearn\\metrics\\_classification.py:1272: UndefinedMetricWarning:\n",
      "\n",
      "Precision and F-score are ill-defined and being set to 0.0 in samples with no predicted labels. Use `zero_division` parameter to control this behavior.\n",
      "\n"
     ]
    }
   ],
   "source": [
    "# Analyze Classification Summary\n",
    "y_proba = model_wv_1000.predict([X_test])\n",
    "y_pred = (y_proba > 0.5).astype('int32')\n",
    "classification_summary(y_test, y_pred, y_proba)"
   ]
  },
  {
   "cell_type": "markdown",
   "metadata": {},
   "source": [
    "Observations: Good improvement seen in all measures of accuracy"
   ]
  },
  {
   "cell_type": "markdown",
   "metadata": {},
   "source": [
    "# Applying Class weight"
   ]
  },
  {
   "cell_type": "code",
   "execution_count": 146,
   "metadata": {},
   "outputs": [
    {
     "name": "stdout",
     "output_type": "stream",
     "text": [
      "Train on 6317 samples, validate on 1580 samples\n",
      "Epoch 1/20\n",
      "6317/6317 [==============================] - 34s 5ms/step - loss: 0.3576 - accuracy: 0.9077 - val_loss: 0.8406 - val_accuracy: 0.7627\n",
      "Epoch 2/20\n",
      "6317/6317 [==============================] - 48s 8ms/step - loss: 0.3425 - accuracy: 0.9095 - val_loss: 0.8624 - val_accuracy: 0.7646\n",
      "Epoch 3/20\n",
      "6317/6317 [==============================] - 48s 8ms/step - loss: 0.3224 - accuracy: 0.9148 - val_loss: 0.8499 - val_accuracy: 0.7595\n",
      "Epoch 4/20\n",
      "6317/6317 [==============================] - 48s 8ms/step - loss: 0.3148 - accuracy: 0.9166 - val_loss: 0.8455 - val_accuracy: 0.7671\n",
      "Epoch 5/20\n",
      "6317/6317 [==============================] - 48s 8ms/step - loss: 0.3021 - accuracy: 0.9174 - val_loss: 0.8583 - val_accuracy: 0.7633\n",
      "Epoch 6/20\n",
      "6317/6317 [==============================] - 48s 8ms/step - loss: 0.2801 - accuracy: 0.9272 - val_loss: 0.8616 - val_accuracy: 0.7576\n",
      "Epoch 7/20\n",
      "6317/6317 [==============================] - 48s 8ms/step - loss: 0.2768 - accuracy: 0.9234 - val_loss: 0.8566 - val_accuracy: 0.7614\n",
      "Epoch 8/20\n",
      "6317/6317 [==============================] - 48s 8ms/step - loss: 0.2632 - accuracy: 0.9231 - val_loss: 0.8575 - val_accuracy: 0.7620\n",
      "Epoch 9/20\n",
      "6317/6317 [==============================] - 48s 8ms/step - loss: 0.2515 - accuracy: 0.9310 - val_loss: 0.8659 - val_accuracy: 0.7620\n",
      "Epoch 10/20\n",
      "6317/6317 [==============================] - 48s 8ms/step - loss: 0.2469 - accuracy: 0.9332 - val_loss: 0.8526 - val_accuracy: 0.7620\n",
      "Epoch 11/20\n",
      "6317/6317 [==============================] - 48s 8ms/step - loss: 0.2376 - accuracy: 0.9348 - val_loss: 0.8655 - val_accuracy: 0.7677\n",
      "Epoch 12/20\n",
      "6317/6317 [==============================] - 48s 8ms/step - loss: 0.2313 - accuracy: 0.9362 - val_loss: 0.8702 - val_accuracy: 0.7627\n",
      "Epoch 13/20\n",
      "6317/6317 [==============================] - 48s 8ms/step - loss: 0.2237 - accuracy: 0.9383 - val_loss: 0.8670 - val_accuracy: 0.7639\n",
      "Epoch 14/20\n",
      "6317/6317 [==============================] - 48s 8ms/step - loss: 0.2180 - accuracy: 0.9386 - val_loss: 0.8612 - val_accuracy: 0.7614\n",
      "Epoch 15/20\n",
      "6317/6317 [==============================] - 48s 8ms/step - loss: 0.2181 - accuracy: 0.9383 - val_loss: 0.8770 - val_accuracy: 0.7595\n",
      "Epoch 16/20\n",
      "6317/6317 [==============================] - 48s 8ms/step - loss: 0.2139 - accuracy: 0.9403 - val_loss: 0.8868 - val_accuracy: 0.7633\n",
      "Epoch 17/20\n",
      "6317/6317 [==============================] - 48s 8ms/step - loss: 0.2096 - accuracy: 0.9435 - val_loss: 0.8777 - val_accuracy: 0.7646\n",
      "Epoch 18/20\n",
      "6317/6317 [==============================] - 48s 8ms/step - loss: 0.2051 - accuracy: 0.9395 - val_loss: 0.8870 - val_accuracy: 0.7646\n",
      "Epoch 19/20\n",
      "6317/6317 [==============================] - 48s 8ms/step - loss: 0.1983 - accuracy: 0.9435 - val_loss: 0.8955 - val_accuracy: 0.7665\n",
      "Epoch 20/20\n",
      "6317/6317 [==============================] - 48s 8ms/step - loss: 0.1990 - accuracy: 0.9379 - val_loss: 0.8910 - val_accuracy: 0.7658\n"
     ]
    }
   ],
   "source": [
    "batch_size = 1000\n",
    "epochs = 20\n",
    "history = model_wv_1000.fit(X_train, y_train, epochs=epochs, class_weight=class_weight, batch_size=batch_size, verbose=1,validation_split=0.2)"
   ]
  },
  {
   "cell_type": "code",
   "execution_count": 147,
   "metadata": {},
   "outputs": [
    {
     "data": {
      "image/png": "[encoded data removed]",
      "text/plain": [
       "<Figure size 432x288 with 1 Axes>"
      ]
     },
     "metadata": {
      "needs_background": "light"
     },
     "output_type": "display_data"
    },
    {
     "data": {
      "image/png": "[encoded data removed]",
      "text/plain": [
       "<Figure size 432x288 with 1 Axes>"
      ]
     },
     "metadata": {
      "needs_background": "light"
     },
     "output_type": "display_data"
    }
   ],
   "source": [
    "plt.plot(history.history['accuracy'])\n",
    "plt.plot(history.history['val_accuracy'])\n",
    "plt.title('model accuracy')\n",
    "plt.ylabel('accuracy')\n",
    "plt.xlabel('epoch')\n",
    "plt.legend(['train', 'validation'], loc='upper left')\n",
    "plt.show()\n",
    "\n",
    "plt.plot(history.history['loss'])\n",
    "plt.plot(history.history['val_loss'])\n",
    "plt.title('model loss')\n",
    "plt.ylabel('loss')\n",
    "plt.xlabel('epoch')\n",
    "plt.legend(['train', 'validation'], loc='upper left')\n",
    "plt.show()"
   ]
  },
  {
   "cell_type": "code",
   "execution_count": 148,
   "metadata": {},
   "outputs": [
    {
     "name": "stdout",
     "output_type": "stream",
     "text": [
      "\u001b[1mModel accuracy:\u001b[0m 71.14%\n",
      "________________________________________________________________________________\n",
      "\u001b[1mConfusion matrix:\u001b[0m\n",
      " [[345   0   0 ...   0   2   8]\n",
      " [  5  33   0 ...   2   0   0]\n",
      " [ 11   0  26 ...   0   0   1]\n",
      " ...\n",
      " [ 45   1   2 ...  76   0   2]\n",
      " [ 41   0   0 ...   0   6   1]\n",
      " [ 43   0   0 ...   6   0   5]]\n",
      "________________________________________________________________________________\n",
      "\u001b[1mClassification report:\u001b[0m\n",
      "               precision    recall  f1-score   support\n",
      "\n",
      "           0       0.78      0.76      0.77       400\n",
      "           1       0.97      0.82      0.89        40\n",
      "           2       0.93      0.65      0.76        40\n",
      "           3       1.00      1.00      1.00        40\n",
      "           4       0.73      0.62      0.67        52\n",
      "           5       0.72      0.72      0.73        40\n",
      "           6       0.91      0.75      0.82        40\n",
      "           7       1.00      0.97      0.99        40\n",
      "           8       0.83      0.75      0.79        40\n",
      "           9       1.00      1.00      1.00        40\n",
      "          10       0.90      0.88      0.89        40\n",
      "          11       0.47      0.21      0.29        43\n",
      "          12       0.59      0.27      0.37        48\n",
      "          13       0.98      1.00      0.99        40\n",
      "          14       0.98      1.00      0.99        40\n",
      "          15       0.88      0.60      0.71        58\n",
      "          16       0.82      0.57      0.68        40\n",
      "          17       0.83      0.88      0.85        40\n",
      "          18       0.92      0.90      0.91        40\n",
      "          19       0.76      0.85      0.80        40\n",
      "          20       0.33      0.20      0.25        40\n",
      "          21       0.98      1.00      0.99        40\n",
      "          22       0.82      0.93      0.87        40\n",
      "          23       0.85      0.82      0.84        40\n",
      "          24       0.86      0.93      0.89        40\n",
      "          25       0.89      0.80      0.84        40\n",
      "          26       0.97      0.97      0.97        40\n",
      "          27       1.00      0.95      0.97        40\n",
      "          28       0.97      0.97      0.97        40\n",
      "          29       0.88      0.90      0.89        40\n",
      "          30       0.92      0.60      0.73        40\n",
      "          31       0.94      0.42      0.59        40\n",
      "          32       0.95      0.90      0.92        40\n",
      "          33       0.82      0.58      0.68       132\n",
      "          34       0.75      0.12      0.21        50\n",
      "          35       0.19      0.07      0.10        72\n",
      "\n",
      "   micro avg       0.84      0.71      0.77      1975\n",
      "   macro avg       0.84      0.73      0.77      1975\n",
      "weighted avg       0.81      0.71      0.75      1975\n",
      " samples avg       0.71      0.71      0.71      1975\n",
      "\n",
      "________________________________________________________________________________\n"
     ]
    },
    {
     "name": "stderr",
     "output_type": "stream",
     "text": [
      "C:\\ProgramData\\Anaconda3\\lib\\site-packages\\sklearn\\metrics\\_classification.py:1272: UndefinedMetricWarning:\n",
      "\n",
      "Precision and F-score are ill-defined and being set to 0.0 in samples with no predicted labels. Use `zero_division` parameter to control this behavior.\n",
      "\n"
     ]
    }
   ],
   "source": [
    "# Analyze Classification Summary\n",
    "y_proba = model_wv_1000.predict([X_test])\n",
    "y_pred = (y_proba > 0.5).astype('int32')\n",
    "classification_summary(y_test, y_pred, y_proba)"
   ]
  },
  {
   "cell_type": "markdown",
   "metadata": {},
   "source": [
    "Observations: Again improvement seen in accuracy measures"
   ]
  },
  {
   "cell_type": "markdown",
   "metadata": {},
   "source": [
    "# Fine Tuning\n",
    "\n",
    "We have tried fune tuning using the following measures\n",
    "- Adding Attention Layer\n",
    "- Adding additional layer of Bidirectional LSTM\n",
    "- Changing the drop out rate\n",
    "- Optimizing Adam\n",
    "- Adding batch normalization"
   ]
  },
  {
   "cell_type": "markdown",
   "metadata": {},
   "source": [
    "# Adding attention layer"
   ]
  },
  {
   "cell_type": "code",
   "execution_count": 57,
   "metadata": {},
   "outputs": [
    {
     "name": "stdout",
     "output_type": "stream",
     "text": [
      "Model: \"sequential_1\"\n",
      "_________________________________________________________________\n",
      "Layer (type)                 Output Shape              Param #   \n",
      "=================================================================\n",
      "embedding_1 (Embedding)      (None, 100, 1000)         7518000   \n",
      "_________________________________________________________________\n",
      "spatial_dropout1d_1 (Spatial (None, 100, 1000)         0         \n",
      "_________________________________________________________________\n",
      "bidirectional_1 (Bidirection (None, 100, 256)          1156096   \n",
      "_________________________________________________________________\n",
      "seq_self_attention_1 (SeqSel (None, 100, 256)          16449     \n",
      "_________________________________________________________________\n",
      "dropout_1 (Dropout)          (None, 100, 256)          0         \n",
      "_________________________________________________________________\n",
      "flatten_1 (Flatten)          (None, 25600)             0         \n",
      "_________________________________________________________________\n",
      "dense_1 (Dense)              (None, 36)                921636    \n",
      "=================================================================\n",
      "Total params: 9,612,181\n",
      "Trainable params: 2,094,181\n",
      "Non-trainable params: 7,518,000\n",
      "_________________________________________________________________\n",
      "None\n"
     ]
    }
   ],
   "source": [
    "# CREATE the MODEL\n",
    "\n",
    "model_wv_1000 = Sequential()\n",
    "model_wv_1000.add(Embedding(input_dim=vocab_size, \n",
    "                        output_dim=embedding_size, \n",
    "                        weights=[w2v_weights], \n",
    "                        input_length=maxlen, \n",
    "                        mask_zero=False,\n",
    "                        trainable=False))\n",
    "model_wv_1000.add(SpatialDropout1D(0.2))\n",
    "model_wv_1000.add(Bidirectional(LSTM(128, return_sequences=True)))\n",
    "model_wv_1000.add(SeqSelfAttention(attention_activation='softmax')) # added attention layer\n",
    "model_wv_1000.add(Dropout(0.2))\n",
    "model_wv_1000.add(Flatten())\n",
    "model_wv_1000.add(Dense(units=36, activation='softmax'))\n",
    "model_wv_1000.compile(loss = 'categorical_crossentropy', optimizer='adam',metrics = ['accuracy'])\n",
    "print(model_wv_1000.summary())"
   ]
  },
  {
   "cell_type": "code",
   "execution_count": 58,
   "metadata": {},
   "outputs": [
    {
     "name": "stdout",
     "output_type": "stream",
     "text": [
      "WARNING:tensorflow:From C:\\ProgramData\\Anaconda3\\lib\\site-packages\\keras\\backend\\tensorflow_backend.py:422: The name tf.global_variables is deprecated. Please use tf.compat.v1.global_variables instead.\n",
      "\n",
      "Train on 6317 samples, validate on 1580 samples\n",
      "Epoch 1/30\n",
      "6317/6317 [==============================] - 19s 3ms/step - loss: 3.6728 - accuracy: 0.1482 - val_loss: 3.2558 - val_accuracy: 0.2241\n",
      "Epoch 2/30\n",
      "6317/6317 [==============================] - 43s 7ms/step - loss: 3.1795 - accuracy: 0.2167 - val_loss: 3.0482 - val_accuracy: 0.2342\n",
      "Epoch 3/30\n",
      "6317/6317 [==============================] - 79s 12ms/step - loss: 2.8890 - accuracy: 0.2652 - val_loss: 2.6262 - val_accuracy: 0.3171\n",
      "Epoch 4/30\n",
      "6317/6317 [==============================] - 79s 12ms/step - loss: 2.3893 - accuracy: 0.3551 - val_loss: 2.1543 - val_accuracy: 0.3924\n",
      "Epoch 5/30\n",
      "6317/6317 [==============================] - 79s 13ms/step - loss: 1.9307 - accuracy: 0.4494 - val_loss: 1.8445 - val_accuracy: 0.4835\n",
      "Epoch 6/30\n",
      "6317/6317 [==============================] - 79s 13ms/step - loss: 1.6590 - accuracy: 0.5249 - val_loss: 1.6591 - val_accuracy: 0.5538\n",
      "Epoch 7/30\n",
      "6317/6317 [==============================] - 79s 13ms/step - loss: 1.4038 - accuracy: 0.5973 - val_loss: 1.5376 - val_accuracy: 0.5709\n",
      "Epoch 8/30\n",
      "6317/6317 [==============================] - 79s 13ms/step - loss: 1.2365 - accuracy: 0.6394 - val_loss: 1.4012 - val_accuracy: 0.6120\n",
      "Epoch 9/30\n",
      "6317/6317 [==============================] - 79s 12ms/step - loss: 1.1018 - accuracy: 0.6788 - val_loss: 1.3377 - val_accuracy: 0.6424\n",
      "Epoch 10/30\n",
      "6317/6317 [==============================] - 79s 13ms/step - loss: 0.9506 - accuracy: 0.7225 - val_loss: 1.2633 - val_accuracy: 0.6437\n",
      "Epoch 11/30\n",
      "6317/6317 [==============================] - 79s 12ms/step - loss: 0.8647 - accuracy: 0.7416 - val_loss: 1.2446 - val_accuracy: 0.6696\n",
      "Epoch 12/30\n",
      "6317/6317 [==============================] - 79s 13ms/step - loss: 0.7795 - accuracy: 0.7673 - val_loss: 1.1934 - val_accuracy: 0.6848\n",
      "Epoch 13/30\n",
      "6317/6317 [==============================] - 79s 13ms/step - loss: 0.7200 - accuracy: 0.7842 - val_loss: 1.1565 - val_accuracy: 0.6880\n",
      "Epoch 14/30\n",
      "6317/6317 [==============================] - 79s 13ms/step - loss: 0.6401 - accuracy: 0.8077 - val_loss: 1.1315 - val_accuracy: 0.7019\n",
      "Epoch 15/30\n",
      "6317/6317 [==============================] - 79s 13ms/step - loss: 0.5860 - accuracy: 0.8267 - val_loss: 1.1282 - val_accuracy: 0.7177\n",
      "Epoch 16/30\n",
      "6317/6317 [==============================] - 79s 13ms/step - loss: 0.5321 - accuracy: 0.8330 - val_loss: 1.1563 - val_accuracy: 0.7247\n",
      "Epoch 17/30\n",
      "6317/6317 [==============================] - 79s 13ms/step - loss: 0.4970 - accuracy: 0.8445 - val_loss: 1.1568 - val_accuracy: 0.7089\n",
      "Epoch 18/30\n",
      "6317/6317 [==============================] - 79s 13ms/step - loss: 0.4758 - accuracy: 0.8512 - val_loss: 1.1662 - val_accuracy: 0.7367\n",
      "Epoch 19/30\n",
      "6317/6317 [==============================] - 79s 13ms/step - loss: 0.4402 - accuracy: 0.8609 - val_loss: 1.1298 - val_accuracy: 0.7310\n",
      "Epoch 20/30\n",
      "6317/6317 [==============================] - 79s 13ms/step - loss: 0.4043 - accuracy: 0.8721 - val_loss: 1.1341 - val_accuracy: 0.7386\n",
      "Epoch 21/30\n",
      "6317/6317 [==============================] - 79s 13ms/step - loss: 0.3745 - accuracy: 0.8816 - val_loss: 1.1583 - val_accuracy: 0.7494\n",
      "Epoch 22/30\n",
      "6317/6317 [==============================] - 79s 13ms/step - loss: 0.3519 - accuracy: 0.8838 - val_loss: 1.1782 - val_accuracy: 0.7506\n",
      "Epoch 23/30\n",
      "6317/6317 [==============================] - 79s 13ms/step - loss: 0.3365 - accuracy: 0.8876 - val_loss: 1.2446 - val_accuracy: 0.7462\n",
      "Epoch 24/30\n",
      "6317/6317 [==============================] - 79s 13ms/step - loss: 0.3150 - accuracy: 0.8996 - val_loss: 1.2332 - val_accuracy: 0.7437\n",
      "Epoch 25/30\n",
      "6317/6317 [==============================] - 79s 13ms/step - loss: 0.2828 - accuracy: 0.9047 - val_loss: 1.2728 - val_accuracy: 0.7462\n",
      "Epoch 26/30\n",
      "6317/6317 [==============================] - 79s 13ms/step - loss: 0.2730 - accuracy: 0.9120 - val_loss: 1.2673 - val_accuracy: 0.7576\n",
      "Epoch 27/30\n",
      "6317/6317 [==============================] - 79s 13ms/step - loss: 0.2529 - accuracy: 0.9170 - val_loss: 1.2954 - val_accuracy: 0.7544\n",
      "Epoch 28/30\n",
      "6317/6317 [==============================] - 79s 13ms/step - loss: 0.2498 - accuracy: 0.9199 - val_loss: 1.3244 - val_accuracy: 0.7443\n",
      "Epoch 29/30\n",
      "6317/6317 [==============================] - 79s 13ms/step - loss: 0.2391 - accuracy: 0.9234 - val_loss: 1.3520 - val_accuracy: 0.7563\n",
      "Epoch 30/30\n",
      "6317/6317 [==============================] - 79s 13ms/step - loss: 0.2386 - accuracy: 0.9227 - val_loss: 1.3701 - val_accuracy: 0.7386\n"
     ]
    }
   ],
   "source": [
    "batch_size = 500\n",
    "epochs = 30\n",
    "history = model_wv_1000.fit(X_train, y_train, epochs=epochs, class_weight=class_weight, batch_size=batch_size, verbose=1,validation_split=0.2)"
   ]
  },
  {
   "cell_type": "code",
   "execution_count": 59,
   "metadata": {},
   "outputs": [
    {
     "data": {
      "image/png": "[encoded data removed]",
      "text/plain": [
       "<Figure size 432x288 with 1 Axes>"
      ]
     },
     "metadata": {
      "needs_background": "light"
     },
     "output_type": "display_data"
    },
    {
     "data": {
      "image/png": "[encoded data removed]",
      "text/plain": [
       "<Figure size 432x288 with 1 Axes>"
      ]
     },
     "metadata": {
      "needs_background": "light"
     },
     "output_type": "display_data"
    }
   ],
   "source": [
    "plt.plot(history.history['accuracy'])\n",
    "plt.plot(history.history['val_accuracy'])\n",
    "plt.title('model accuracy')\n",
    "plt.ylabel('accuracy')\n",
    "plt.xlabel('epoch')\n",
    "plt.legend(['train', 'validation'], loc='upper left')\n",
    "plt.show()\n",
    "\n",
    "plt.plot(history.history['loss'])\n",
    "plt.plot(history.history['val_loss'])\n",
    "plt.title('model loss')\n",
    "plt.ylabel('loss')\n",
    "plt.xlabel('epoch')\n",
    "plt.legend(['train', 'validation'], loc='upper left')\n",
    "plt.show()"
   ]
  },
  {
   "cell_type": "code",
   "execution_count": 62,
   "metadata": {},
   "outputs": [
    {
     "name": "stdout",
     "output_type": "stream",
     "text": [
      "\u001b[1mModel accuracy:\u001b[0m 70.28%\n",
      "________________________________________________________________________________\n",
      "\u001b[1mConfusion matrix:\u001b[0m\n",
      " [[295   0   0 ...   0   0  20]\n",
      " [  0  35   0 ...   0   0   0]\n",
      " [  9   0  24 ...   0   0   2]\n",
      " ...\n",
      " [ 42   1   2 ...  70   0   4]\n",
      " [ 33   0   0 ...   0   9   4]\n",
      " [ 25   0   0 ...   2   0  13]]\n",
      "________________________________________________________________________________\n",
      "\u001b[1mClassification report:\u001b[0m\n",
      "               precision    recall  f1-score   support\n",
      "\n",
      "           0       0.80      0.66      0.73       400\n",
      "           1       0.95      0.88      0.91        40\n",
      "           2       0.89      0.60      0.72        40\n",
      "           3       0.93      1.00      0.96        40\n",
      "           4       0.64      0.44      0.52        52\n",
      "           5       0.61      0.78      0.68        40\n",
      "           6       0.83      0.72      0.77        40\n",
      "           7       0.91      1.00      0.95        40\n",
      "           8       0.89      0.78      0.83        40\n",
      "           9       1.00      1.00      1.00        40\n",
      "          10       0.85      0.88      0.86        40\n",
      "          11       0.44      0.26      0.32        43\n",
      "          12       0.31      0.46      0.37        48\n",
      "          13       0.89      1.00      0.94        40\n",
      "          14       0.91      1.00      0.95        40\n",
      "          15       0.79      0.59      0.67        58\n",
      "          16       0.87      0.68      0.76        40\n",
      "          17       0.90      0.88      0.89        40\n",
      "          18       0.86      0.90      0.88        40\n",
      "          19       0.81      0.88      0.84        40\n",
      "          20       0.27      0.20      0.23        40\n",
      "          21       0.91      1.00      0.95        40\n",
      "          22       0.84      0.95      0.89        40\n",
      "          23       0.84      0.80      0.82        40\n",
      "          24       0.80      0.93      0.86        40\n",
      "          25       0.78      0.78      0.78        40\n",
      "          26       0.91      0.97      0.94        40\n",
      "          27       1.00      0.95      0.97        40\n",
      "          28       0.89      0.97      0.93        40\n",
      "          29       0.85      0.85      0.85        40\n",
      "          30       0.70      0.82      0.76        40\n",
      "          31       0.77      0.50      0.61        40\n",
      "          32       0.92      0.88      0.90        40\n",
      "          33       0.86      0.53      0.66       132\n",
      "          34       0.82      0.18      0.30        50\n",
      "          35       0.19      0.18      0.19        72\n",
      "\n",
      "   micro avg       0.78      0.70      0.74      1975\n",
      "   macro avg       0.79      0.75      0.76      1975\n",
      "weighted avg       0.78      0.70      0.73      1975\n",
      " samples avg       0.70      0.70      0.70      1975\n",
      "\n",
      "________________________________________________________________________________\n"
     ]
    },
    {
     "name": "stderr",
     "output_type": "stream",
     "text": [
      "C:\\ProgramData\\Anaconda3\\lib\\site-packages\\sklearn\\metrics\\_classification.py:1272: UndefinedMetricWarning:\n",
      "\n",
      "Precision and F-score are ill-defined and being set to 0.0 in samples with no predicted labels. Use `zero_division` parameter to control this behavior.\n",
      "\n"
     ]
    }
   ],
   "source": [
    "# Analyze Classification Summary\n",
    "y_proba = model_wv_1000.predict([X_test])\n",
    "y_pred = (y_proba > 0.5).astype('int32')\n",
    "classification_summary(y_test, y_pred, y_proba)"
   ]
  },
  {
   "cell_type": "markdown",
   "metadata": {},
   "source": [
    "No Major improvment seen by adding Attention Layer"
   ]
  },
  {
   "cell_type": "markdown",
   "metadata": {},
   "source": [
    "# Adding one more layer of Bi-directional LSTM"
   ]
  },
  {
   "cell_type": "code",
   "execution_count": 63,
   "metadata": {},
   "outputs": [
    {
     "name": "stdout",
     "output_type": "stream",
     "text": [
      "WARNING:tensorflow:From C:\\ProgramData\\Anaconda3\\lib\\site-packages\\tensorflow\\python\\keras\\backend.py:3794: add_dispatch_support.<locals>.wrapper (from tensorflow.python.ops.array_ops) is deprecated and will be removed in a future version.\n",
      "Instructions for updating:\n",
      "Use tf.where in 2.0, which has the same broadcast rule as np.where\n",
      "Model: \"sequential_2\"\n",
      "_________________________________________________________________\n",
      "Layer (type)                 Output Shape              Param #   \n",
      "=================================================================\n",
      "embedding_2 (Embedding)      (None, 100, 1000)         7518000   \n",
      "_________________________________________________________________\n",
      "spatial_dropout1d_2 (Spatial (None, 100, 1000)         0         \n",
      "_________________________________________________________________\n",
      "bidirectional_2 (Bidirection (None, 100, 256)          1156096   \n",
      "_________________________________________________________________\n",
      "bidirectional_3 (Bidirection (None, 128)               164352    \n",
      "_________________________________________________________________\n",
      "dropout_2 (Dropout)          (None, 128)               0         \n",
      "_________________________________________________________________\n",
      "dense_2 (Dense)              (None, 36)                4644      \n",
      "=================================================================\n",
      "Total params: 8,843,092\n",
      "Trainable params: 1,325,092\n",
      "Non-trainable params: 7,518,000\n",
      "_________________________________________________________________\n",
      "None\n"
     ]
    }
   ],
   "source": [
    "# Adding one more layer of bidirectional LSTM\n",
    "\n",
    "\n",
    "model_wv_1000 = Sequential()\n",
    "model_wv_1000.add(Embedding(input_dim=vocab_size, \n",
    "                        output_dim=embedding_size, \n",
    "                        weights=[w2v_weights], \n",
    "                        input_length=maxlen, \n",
    "                        mask_zero=True,\n",
    "                        trainable=False))\n",
    "model_wv_1000.add(SpatialDropout1D(0.2))\n",
    "model_wv_1000.add(Bidirectional(LSTM(128, return_sequences=True)))\n",
    "model_wv_1000.add(Bidirectional(LSTM(64))) # added additional layer\n",
    "model_wv_1000.add(Dropout(0.2))\n",
    "model_wv_1000.add(Dense(units=36, activation='softmax'))\n",
    "model_wv_1000.compile(loss = 'categorical_crossentropy', optimizer='adam',metrics = ['accuracy'])\n",
    "print(model_wv_1000.summary())"
   ]
  },
  {
   "cell_type": "code",
   "execution_count": 64,
   "metadata": {},
   "outputs": [
    {
     "name": "stdout",
     "output_type": "stream",
     "text": [
      "Train on 6317 samples, validate on 1580 samples\n",
      "Epoch 1/30\n",
      "6317/6317 [==============================] - 64s 10ms/step - loss: 3.1018 - accuracy: 0.2485 - val_loss: 2.6614 - val_accuracy: 0.2892\n",
      "Epoch 2/30\n",
      "6317/6317 [==============================] - 71s 11ms/step - loss: 2.3745 - accuracy: 0.3706 - val_loss: 2.1143 - val_accuracy: 0.4373\n",
      "Epoch 3/30\n",
      "6317/6317 [==============================] - 71s 11ms/step - loss: 1.8307 - accuracy: 0.5238 - val_loss: 1.7314 - val_accuracy: 0.5411\n",
      "Epoch 4/30\n",
      "6317/6317 [==============================] - 71s 11ms/step - loss: 1.4721 - accuracy: 0.6076 - val_loss: 1.4986 - val_accuracy: 0.5949\n",
      "Epoch 5/30\n",
      "6317/6317 [==============================] - 71s 11ms/step - loss: 1.2466 - accuracy: 0.6630 - val_loss: 1.3419 - val_accuracy: 0.6304\n",
      "Epoch 6/30\n",
      "6317/6317 [==============================] - 71s 11ms/step - loss: 1.0502 - accuracy: 0.7146 - val_loss: 1.2222 - val_accuracy: 0.6525\n",
      "Epoch 7/30\n",
      "6317/6317 [==============================] - 71s 11ms/step - loss: 0.9026 - accuracy: 0.7549 - val_loss: 1.1232 - val_accuracy: 0.6918\n",
      "Epoch 8/30\n",
      "6317/6317 [==============================] - 71s 11ms/step - loss: 0.7947 - accuracy: 0.7852 - val_loss: 1.0711 - val_accuracy: 0.6918\n",
      "Epoch 9/30\n",
      "6317/6317 [==============================] - 71s 11ms/step - loss: 0.7043 - accuracy: 0.8031 - val_loss: 1.0275 - val_accuracy: 0.7063\n",
      "Epoch 10/30\n",
      "6317/6317 [==============================] - 71s 11ms/step - loss: 0.6123 - accuracy: 0.8333 - val_loss: 0.9825 - val_accuracy: 0.7190\n",
      "Epoch 11/30\n",
      "6317/6317 [==============================] - 71s 11ms/step - loss: 0.5428 - accuracy: 0.8563 - val_loss: 0.9517 - val_accuracy: 0.7310\n",
      "Epoch 12/30\n",
      "6317/6317 [==============================] - 71s 11ms/step - loss: 0.4910 - accuracy: 0.8692 - val_loss: 0.9267 - val_accuracy: 0.7354\n",
      "Epoch 13/30\n",
      "6317/6317 [==============================] - 71s 11ms/step - loss: 0.4501 - accuracy: 0.8783 - val_loss: 0.9316 - val_accuracy: 0.7367\n",
      "Epoch 14/30\n",
      "6317/6317 [==============================] - 71s 11ms/step - loss: 0.4076 - accuracy: 0.8884 - val_loss: 0.9163 - val_accuracy: 0.7380\n",
      "Epoch 15/30\n",
      "6317/6317 [==============================] - 71s 11ms/step - loss: 0.3726 - accuracy: 0.8995 - val_loss: 0.9194 - val_accuracy: 0.7519\n",
      "Epoch 16/30\n",
      "6317/6317 [==============================] - 71s 11ms/step - loss: 0.3480 - accuracy: 0.9007 - val_loss: 0.9116 - val_accuracy: 0.7506\n",
      "Epoch 17/30\n",
      "6317/6317 [==============================] - 71s 11ms/step - loss: 0.3262 - accuracy: 0.9099 - val_loss: 0.9066 - val_accuracy: 0.7601\n",
      "Epoch 18/30\n",
      "6317/6317 [==============================] - 71s 11ms/step - loss: 0.3025 - accuracy: 0.9158 - val_loss: 0.9160 - val_accuracy: 0.7563\n",
      "Epoch 19/30\n",
      "6317/6317 [==============================] - 71s 11ms/step - loss: 0.2784 - accuracy: 0.9235 - val_loss: 0.9127 - val_accuracy: 0.7544\n",
      "Epoch 20/30\n",
      "6317/6317 [==============================] - 71s 11ms/step - loss: 0.2676 - accuracy: 0.9240 - val_loss: 0.9297 - val_accuracy: 0.7601\n",
      "Epoch 21/30\n",
      "6317/6317 [==============================] - 71s 11ms/step - loss: 0.2579 - accuracy: 0.9250 - val_loss: 0.9167 - val_accuracy: 0.7601\n",
      "Epoch 22/30\n",
      "6317/6317 [==============================] - 71s 11ms/step - loss: 0.2415 - accuracy: 0.9284 - val_loss: 0.9336 - val_accuracy: 0.7589\n",
      "Epoch 23/30\n",
      "6317/6317 [==============================] - 71s 11ms/step - loss: 0.2343 - accuracy: 0.9324 - val_loss: 0.9474 - val_accuracy: 0.7614\n",
      "Epoch 24/30\n",
      "6317/6317 [==============================] - 71s 11ms/step - loss: 0.2244 - accuracy: 0.9348 - val_loss: 0.9563 - val_accuracy: 0.7544\n",
      "Epoch 25/30\n",
      "6317/6317 [==============================] - 71s 11ms/step - loss: 0.2160 - accuracy: 0.9372 - val_loss: 0.9458 - val_accuracy: 0.7608\n",
      "Epoch 26/30\n",
      "6317/6317 [==============================] - 71s 11ms/step - loss: 0.2052 - accuracy: 0.9368 - val_loss: 0.9555 - val_accuracy: 0.7551\n",
      "Epoch 27/30\n",
      "6317/6317 [==============================] - 71s 11ms/step - loss: 0.1988 - accuracy: 0.9398 - val_loss: 0.9712 - val_accuracy: 0.7589\n",
      "Epoch 28/30\n",
      "6317/6317 [==============================] - 71s 11ms/step - loss: 0.1977 - accuracy: 0.9414 - val_loss: 0.9731 - val_accuracy: 0.7532\n",
      "Epoch 29/30\n",
      "6317/6317 [==============================] - 71s 11ms/step - loss: 0.1872 - accuracy: 0.9417 - val_loss: 0.9772 - val_accuracy: 0.7582\n",
      "Epoch 30/30\n",
      "6317/6317 [==============================] - 71s 11ms/step - loss: 0.1881 - accuracy: 0.9413 - val_loss: 0.9763 - val_accuracy: 0.7570\n"
     ]
    }
   ],
   "source": [
    "batch_size = 500\n",
    "epochs = 30\n",
    "history = model_wv_1000.fit(X_train, y_train, epochs=epochs, class_weight=class_weight, batch_size=batch_size, verbose=1,validation_split=0.2)"
   ]
  },
  {
   "cell_type": "code",
   "execution_count": 65,
   "metadata": {},
   "outputs": [
    {
     "data": {
      "image/png": "[encoded data removed]",
      "text/plain": [
       "<Figure size 432x288 with 1 Axes>"
      ]
     },
     "metadata": {
      "needs_background": "light"
     },
     "output_type": "display_data"
    },
    {
     "data": {
      "image/png": "[encoded data removed]",
      "text/plain": [
       "<Figure size 432x288 with 1 Axes>"
      ]
     },
     "metadata": {
      "needs_background": "light"
     },
     "output_type": "display_data"
    }
   ],
   "source": [
    "plt.plot(history.history['accuracy'])\n",
    "plt.plot(history.history['val_accuracy'])\n",
    "plt.title('model accuracy')\n",
    "plt.ylabel('accuracy')\n",
    "plt.xlabel('epoch')\n",
    "plt.legend(['train', 'validation'], loc='upper left')\n",
    "plt.show()\n",
    "\n",
    "plt.plot(history.history['loss'])\n",
    "plt.plot(history.history['val_loss'])\n",
    "plt.title('model loss')\n",
    "plt.ylabel('loss')\n",
    "plt.xlabel('epoch')\n",
    "plt.legend(['train', 'validation'], loc='upper left')\n",
    "plt.show()"
   ]
  },
  {
   "cell_type": "code",
   "execution_count": 155,
   "metadata": {},
   "outputs": [
    {
     "name": "stdout",
     "output_type": "stream",
     "text": [
      "\u001b[1mModel accuracy:\u001b[0m 71.44%\n",
      "________________________________________________________________________________\n",
      "\u001b[1mConfusion matrix:\u001b[0m\n",
      " [[347   0   1 ...   0   1  12]\n",
      " [  2  37   0 ...   1   0   0]\n",
      " [ 11   0  27 ...   1   0   0]\n",
      " ...\n",
      " [ 44   2   2 ...  78   0   2]\n",
      " [ 37   0   0 ...   0   6   6]\n",
      " [ 34   0   2 ...   4   1  16]]\n",
      "________________________________________________________________________________\n",
      "\u001b[1mClassification report:\u001b[0m\n",
      "               precision    recall  f1-score   support\n",
      "\n",
      "           0       0.76      0.77      0.76       400\n",
      "           1       0.80      0.93      0.86        40\n",
      "           2       0.73      0.68      0.70        40\n",
      "           3       1.00      1.00      1.00        40\n",
      "           4       0.65      0.58      0.61        52\n",
      "           5       0.76      0.70      0.73        40\n",
      "           6       0.91      0.75      0.82        40\n",
      "           7       0.98      1.00      0.99        40\n",
      "           8       0.94      0.78      0.85        40\n",
      "           9       1.00      1.00      1.00        40\n",
      "          10       0.97      0.90      0.94        40\n",
      "          11       0.50      0.16      0.25        43\n",
      "          12       0.62      0.31      0.42        48\n",
      "          13       0.87      1.00      0.93        40\n",
      "          14       1.00      1.00      1.00        40\n",
      "          15       0.80      0.57      0.67        58\n",
      "          16       0.86      0.60      0.71        40\n",
      "          17       0.85      0.88      0.86        40\n",
      "          18       0.92      0.90      0.91        40\n",
      "          19       0.77      0.82      0.80        40\n",
      "          20       0.43      0.15      0.22        40\n",
      "          21       0.98      1.00      0.99        40\n",
      "          22       0.86      0.95      0.90        40\n",
      "          23       0.84      0.80      0.82        40\n",
      "          24       0.93      0.95      0.94        40\n",
      "          25       0.91      0.72      0.81        40\n",
      "          26       0.97      0.97      0.97        40\n",
      "          27       0.97      0.95      0.96        40\n",
      "          28       0.93      0.97      0.95        40\n",
      "          29       0.91      0.80      0.85        40\n",
      "          30       0.91      0.53      0.67        40\n",
      "          31       0.79      0.38      0.51        40\n",
      "          32       0.95      0.90      0.92        40\n",
      "          33       0.79      0.59      0.68       132\n",
      "          34       0.75      0.12      0.21        50\n",
      "          35       0.33      0.22      0.26        72\n",
      "\n",
      "   micro avg       0.83      0.71      0.77      1975\n",
      "   macro avg       0.83      0.73      0.76      1975\n",
      "weighted avg       0.81      0.71      0.74      1975\n",
      " samples avg       0.71      0.71      0.71      1975\n",
      "\n",
      "________________________________________________________________________________\n"
     ]
    },
    {
     "name": "stderr",
     "output_type": "stream",
     "text": [
      "C:\\ProgramData\\Anaconda3\\lib\\site-packages\\sklearn\\metrics\\_classification.py:1272: UndefinedMetricWarning:\n",
      "\n",
      "Precision and F-score are ill-defined and being set to 0.0 in samples with no predicted labels. Use `zero_division` parameter to control this behavior.\n",
      "\n"
     ]
    }
   ],
   "source": [
    "# Analyze Classification Summary\n",
    "y_proba = model_wv_1000.predict([X_test])\n",
    "y_pred = (y_proba > 0.5).astype('int32')\n",
    "classification_summary(y_test, y_pred, y_proba)"
   ]
  },
  {
   "cell_type": "markdown",
   "metadata": {},
   "source": [
    "Observations: No real change in accuracies"
   ]
  },
  {
   "cell_type": "markdown",
   "metadata": {},
   "source": [
    "# Changing Drop out rate"
   ]
  },
  {
   "cell_type": "code",
   "execution_count": 66,
   "metadata": {},
   "outputs": [
    {
     "name": "stdout",
     "output_type": "stream",
     "text": [
      "Model: \"sequential_3\"\n",
      "_________________________________________________________________\n",
      "Layer (type)                 Output Shape              Param #   \n",
      "=================================================================\n",
      "embedding_3 (Embedding)      (None, 100, 1000)         7518000   \n",
      "_________________________________________________________________\n",
      "spatial_dropout1d_3 (Spatial (None, 100, 1000)         0         \n",
      "_________________________________________________________________\n",
      "bidirectional_4 (Bidirection (None, 256)               1156096   \n",
      "_________________________________________________________________\n",
      "dropout_3 (Dropout)          (None, 256)               0         \n",
      "_________________________________________________________________\n",
      "dense_3 (Dense)              (None, 36)                9252      \n",
      "=================================================================\n",
      "Total params: 8,683,348\n",
      "Trainable params: 1,165,348\n",
      "Non-trainable params: 7,518,000\n",
      "_________________________________________________________________\n",
      "None\n"
     ]
    }
   ],
   "source": [
    "# Changing the drop out rate\n",
    "\n",
    "\n",
    "model_wv_1000 = Sequential()\n",
    "model_wv_1000.add(Embedding(input_dim=vocab_size, \n",
    "                        output_dim=embedding_size, \n",
    "                        weights=[w2v_weights], \n",
    "                        input_length=maxlen, \n",
    "                        mask_zero=True,\n",
    "                        trainable=False))\n",
    "model_wv_1000.add(SpatialDropout1D(0.1)) # changed the drop out rate\n",
    "model_wv_1000.add(Bidirectional(LSTM(128)))\n",
    "model_wv_1000.add(Dropout(0.1)) # changed the drop out rate\n",
    "model_wv_1000.add(Dense(units=36, activation='softmax'))\n",
    "model_wv_1000.compile(loss = 'categorical_crossentropy', optimizer='adam',metrics = ['accuracy'])\n",
    "print(model_wv_1000.summary())"
   ]
  },
  {
   "cell_type": "code",
   "execution_count": 67,
   "metadata": {},
   "outputs": [
    {
     "name": "stdout",
     "output_type": "stream",
     "text": [
      "Train on 6317 samples, validate on 1580 samples\n",
      "Epoch 1/30\n",
      "6317/6317 [==============================] - 42s 7ms/step - loss: 2.9146 - accuracy: 0.2610 - val_loss: 2.4376 - val_accuracy: 0.3215\n",
      "Epoch 2/30\n",
      "6317/6317 [==============================] - 50s 8ms/step - loss: 2.0995 - accuracy: 0.4518 - val_loss: 1.8832 - val_accuracy: 0.4937\n",
      "Epoch 3/30\n",
      "6317/6317 [==============================] - 51s 8ms/step - loss: 1.5479 - accuracy: 0.6004 - val_loss: 1.5262 - val_accuracy: 0.5741\n",
      "Epoch 4/30\n",
      "6317/6317 [==============================] - 51s 8ms/step - loss: 1.2004 - accuracy: 0.6813 - val_loss: 1.3002 - val_accuracy: 0.6342\n",
      "Epoch 5/30\n",
      "6317/6317 [==============================] - 51s 8ms/step - loss: 0.9508 - accuracy: 0.7456 - val_loss: 1.1439 - val_accuracy: 0.6772\n",
      "Epoch 6/30\n",
      "6317/6317 [==============================] - 51s 8ms/step - loss: 0.7815 - accuracy: 0.7937 - val_loss: 1.0384 - val_accuracy: 0.7032\n",
      "Epoch 7/30\n",
      "6317/6317 [==============================] - 51s 8ms/step - loss: 0.6562 - accuracy: 0.8324 - val_loss: 0.9919 - val_accuracy: 0.7133\n",
      "Epoch 8/30\n",
      "6317/6317 [==============================] - 51s 8ms/step - loss: 0.5615 - accuracy: 0.8582 - val_loss: 0.9515 - val_accuracy: 0.7291\n",
      "Epoch 9/30\n",
      "6317/6317 [==============================] - 51s 8ms/step - loss: 0.4899 - accuracy: 0.8710 - val_loss: 0.9093 - val_accuracy: 0.7392\n",
      "Epoch 10/30\n",
      "6317/6317 [==============================] - 51s 8ms/step - loss: 0.4277 - accuracy: 0.8916 - val_loss: 0.8885 - val_accuracy: 0.7532\n",
      "Epoch 11/30\n",
      "6317/6317 [==============================] - 51s 8ms/step - loss: 0.3764 - accuracy: 0.9068 - val_loss: 0.8598 - val_accuracy: 0.7456\n",
      "Epoch 12/30\n",
      "6317/6317 [==============================] - 51s 8ms/step - loss: 0.3417 - accuracy: 0.9156 - val_loss: 0.8686 - val_accuracy: 0.7405\n",
      "Epoch 13/30\n",
      "6317/6317 [==============================] - 51s 8ms/step - loss: 0.3081 - accuracy: 0.9194 - val_loss: 0.8712 - val_accuracy: 0.7544\n",
      "Epoch 14/30\n",
      "6317/6317 [==============================] - 51s 8ms/step - loss: 0.2833 - accuracy: 0.9243 - val_loss: 0.8648 - val_accuracy: 0.7513\n",
      "Epoch 15/30\n",
      "6317/6317 [==============================] - 51s 8ms/step - loss: 0.2648 - accuracy: 0.9300 - val_loss: 0.8672 - val_accuracy: 0.7576\n",
      "Epoch 16/30\n",
      "6317/6317 [==============================] - 51s 8ms/step - loss: 0.2453 - accuracy: 0.9360 - val_loss: 0.8752 - val_accuracy: 0.7538\n",
      "Epoch 17/30\n",
      "6317/6317 [==============================] - 51s 8ms/step - loss: 0.2325 - accuracy: 0.9383 - val_loss: 0.8769 - val_accuracy: 0.7570\n",
      "Epoch 18/30\n",
      "6317/6317 [==============================] - 51s 8ms/step - loss: 0.2217 - accuracy: 0.9357 - val_loss: 0.8698 - val_accuracy: 0.7582\n",
      "Epoch 19/30\n",
      "6317/6317 [==============================] - 51s 8ms/step - loss: 0.2132 - accuracy: 0.9397 - val_loss: 0.8808 - val_accuracy: 0.7557\n",
      "Epoch 20/30\n",
      "6317/6317 [==============================] - 51s 8ms/step - loss: 0.2029 - accuracy: 0.9421 - val_loss: 0.8774 - val_accuracy: 0.7500\n",
      "Epoch 21/30\n",
      "6317/6317 [==============================] - 51s 8ms/step - loss: 0.1972 - accuracy: 0.9438 - val_loss: 0.8969 - val_accuracy: 0.7576\n",
      "Epoch 22/30\n",
      "6317/6317 [==============================] - 51s 8ms/step - loss: 0.1905 - accuracy: 0.9425 - val_loss: 0.8894 - val_accuracy: 0.7576\n",
      "Epoch 23/30\n",
      "6317/6317 [==============================] - 51s 8ms/step - loss: 0.1860 - accuracy: 0.9436 - val_loss: 0.8942 - val_accuracy: 0.7614\n",
      "Epoch 24/30\n",
      "6317/6317 [==============================] - 51s 8ms/step - loss: 0.1819 - accuracy: 0.9435 - val_loss: 0.9047 - val_accuracy: 0.7608\n",
      "Epoch 25/30\n",
      "6317/6317 [==============================] - 51s 8ms/step - loss: 0.1801 - accuracy: 0.9441 - val_loss: 0.9007 - val_accuracy: 0.7601\n",
      "Epoch 26/30\n",
      "6317/6317 [==============================] - 51s 8ms/step - loss: 0.1738 - accuracy: 0.9457 - val_loss: 0.9115 - val_accuracy: 0.7608\n",
      "Epoch 27/30\n",
      "6317/6317 [==============================] - 51s 8ms/step - loss: 0.1726 - accuracy: 0.9441 - val_loss: 0.9196 - val_accuracy: 0.7589\n",
      "Epoch 28/30\n",
      "6317/6317 [==============================] - 51s 8ms/step - loss: 0.1693 - accuracy: 0.9465 - val_loss: 0.9296 - val_accuracy: 0.7633\n",
      "Epoch 29/30\n",
      "6317/6317 [==============================] - 51s 8ms/step - loss: 0.1681 - accuracy: 0.9465 - val_loss: 0.9330 - val_accuracy: 0.7589\n",
      "Epoch 30/30\n",
      "6317/6317 [==============================] - 51s 8ms/step - loss: 0.1639 - accuracy: 0.9455 - val_loss: 0.9292 - val_accuracy: 0.7595\n"
     ]
    }
   ],
   "source": [
    "batch_size = 500\n",
    "epochs = 30\n",
    "history = model_wv_1000.fit(X_train, y_train, epochs=epochs, class_weight=class_weight, batch_size=batch_size, verbose=1,validation_split=0.2)"
   ]
  },
  {
   "cell_type": "code",
   "execution_count": 68,
   "metadata": {},
   "outputs": [
    {
     "data": {
      "image/png": "[encoded data removed]",
      "text/plain": [
       "<Figure size 432x288 with 1 Axes>"
      ]
     },
     "metadata": {
      "needs_background": "light"
     },
     "output_type": "display_data"
    },
    {
     "data": {
      "image/png": "[encoded data removed]",
      "text/plain": [
       "<Figure size 432x288 with 1 Axes>"
      ]
     },
     "metadata": {
      "needs_background": "light"
     },
     "output_type": "display_data"
    }
   ],
   "source": [
    "plt.plot(history.history['accuracy'])\n",
    "plt.plot(history.history['val_accuracy'])\n",
    "plt.title('model accuracy')\n",
    "plt.ylabel('accuracy')\n",
    "plt.xlabel('epoch')\n",
    "plt.legend(['train', 'validation'], loc='upper left')\n",
    "plt.show()\n",
    "\n",
    "plt.plot(history.history['loss'])\n",
    "plt.plot(history.history['val_loss'])\n",
    "plt.title('model loss')\n",
    "plt.ylabel('loss')\n",
    "plt.xlabel('epoch')\n",
    "plt.legend(['train', 'validation'], loc='upper left')\n",
    "plt.show()"
   ]
  },
  {
   "cell_type": "code",
   "execution_count": 158,
   "metadata": {},
   "outputs": [
    {
     "name": "stdout",
     "output_type": "stream",
     "text": [
      "\u001b[1mModel accuracy:\u001b[0m 71.49%\n",
      "________________________________________________________________________________\n",
      "\u001b[1mConfusion matrix:\u001b[0m\n",
      " [[356   0   0 ...   0   0   7]\n",
      " [  1  37   0 ...   2   0   0]\n",
      " [ 12   0  25 ...   0   0   0]\n",
      " ...\n",
      " [ 42   3   2 ...  73   0   2]\n",
      " [ 39   0   0 ...   0   5   1]\n",
      " [ 43   0   0 ...   4   0  11]]\n",
      "________________________________________________________________________________\n",
      "\u001b[1mClassification report:\u001b[0m\n",
      "               precision    recall  f1-score   support\n",
      "\n",
      "           0       0.77      0.75      0.76       400\n",
      "           1       0.77      0.93      0.84        40\n",
      "           2       0.89      0.62      0.74        40\n",
      "           3       0.95      1.00      0.98        40\n",
      "           4       0.68      0.65      0.67        52\n",
      "           5       0.76      0.70      0.73        40\n",
      "           6       0.91      0.75      0.82        40\n",
      "           7       1.00      0.97      0.99        40\n",
      "           8       0.94      0.78      0.85        40\n",
      "           9       1.00      1.00      1.00        40\n",
      "          10       0.74      0.93      0.82        40\n",
      "          11       0.38      0.19      0.25        43\n",
      "          12       0.57      0.33      0.42        48\n",
      "          13       0.98      1.00      0.99        40\n",
      "          14       0.95      1.00      0.98        40\n",
      "          15       0.82      0.57      0.67        58\n",
      "          16       0.88      0.55      0.68        40\n",
      "          17       0.81      0.88      0.84        40\n",
      "          18       0.92      0.90      0.91        40\n",
      "          19       0.81      0.85      0.83        40\n",
      "          20       0.53      0.20      0.29        40\n",
      "          21       1.00      1.00      1.00        40\n",
      "          22       0.85      0.97      0.91        40\n",
      "          23       0.78      0.80      0.79        40\n",
      "          24       0.90      0.93      0.91        40\n",
      "          25       0.89      0.80      0.84        40\n",
      "          26       0.97      0.97      0.97        40\n",
      "          27       0.97      0.95      0.96        40\n",
      "          28       0.97      0.97      0.97        40\n",
      "          29       0.88      0.90      0.89        40\n",
      "          30       0.86      0.62      0.72        40\n",
      "          31       0.89      0.42      0.58        40\n",
      "          32       0.95      0.88      0.91        40\n",
      "          33       0.85      0.55      0.67       132\n",
      "          34       1.00      0.10      0.18        50\n",
      "          35       0.42      0.15      0.22        72\n",
      "\n",
      "   micro avg       0.83      0.71      0.77      1975\n",
      "   macro avg       0.84      0.74      0.77      1975\n",
      "weighted avg       0.82      0.71      0.75      1975\n",
      " samples avg       0.71      0.71      0.71      1975\n",
      "\n",
      "________________________________________________________________________________\n"
     ]
    },
    {
     "name": "stderr",
     "output_type": "stream",
     "text": [
      "C:\\ProgramData\\Anaconda3\\lib\\site-packages\\sklearn\\metrics\\_classification.py:1272: UndefinedMetricWarning:\n",
      "\n",
      "Precision and F-score are ill-defined and being set to 0.0 in samples with no predicted labels. Use `zero_division` parameter to control this behavior.\n",
      "\n"
     ]
    }
   ],
   "source": [
    "# Analyze Classification Summary\n",
    "y_proba = model_wv_1000.predict([X_test])\n",
    "y_pred = (y_proba > 0.5).astype('int32')\n",
    "classification_summary(y_test, y_pred, y_proba)"
   ]
  },
  {
   "cell_type": "markdown",
   "metadata": {},
   "source": [
    "Observations: No real change observed"
   ]
  },
  {
   "cell_type": "markdown",
   "metadata": {},
   "source": [
    "# Optimizing Adam"
   ]
  },
  {
   "cell_type": "code",
   "execution_count": 69,
   "metadata": {},
   "outputs": [
    {
     "name": "stdout",
     "output_type": "stream",
     "text": [
      "Model: \"sequential_4\"\n",
      "_________________________________________________________________\n",
      "Layer (type)                 Output Shape              Param #   \n",
      "=================================================================\n",
      "embedding_4 (Embedding)      (None, 100, 1000)         7518000   \n",
      "_________________________________________________________________\n",
      "spatial_dropout1d_4 (Spatial (None, 100, 1000)         0         \n",
      "_________________________________________________________________\n",
      "bidirectional_5 (Bidirection (None, 256)               1156096   \n",
      "_________________________________________________________________\n",
      "dropout_4 (Dropout)          (None, 256)               0         \n",
      "_________________________________________________________________\n",
      "dense_4 (Dense)              (None, 36)                9252      \n",
      "=================================================================\n",
      "Total params: 8,683,348\n",
      "Trainable params: 1,165,348\n",
      "Non-trainable params: 7,518,000\n",
      "_________________________________________________________________\n",
      "None\n"
     ]
    }
   ],
   "source": [
    "# Optimizing Adam\n",
    "\n",
    "from keras.optimizers import Adam\n",
    "\n",
    "adam = Adam(lr=0.001, beta_1=0.9, beta_2=0.999, epsilon=1e-08, decay=0.0, amsgrad=False)\n",
    "\n",
    "\n",
    "model_wv_1000 = Sequential()\n",
    "model_wv_1000.add(Embedding(input_dim=vocab_size, \n",
    "                        output_dim=embedding_size, \n",
    "                        weights=[w2v_weights], \n",
    "                        input_length=maxlen, \n",
    "                        mask_zero=True,\n",
    "                        trainable=False))\n",
    "model_wv_1000.add(SpatialDropout1D(0.2))\n",
    "model_wv_1000.add(Bidirectional(LSTM(128)))\n",
    "model_wv_1000.add(Dropout(0.25))\n",
    "model_wv_1000.add(Dense(units=36, activation='softmax'))\n",
    "model_wv_1000.compile(loss = 'categorical_crossentropy', optimizer='adam',metrics = ['accuracy'])\n",
    "print(model_wv_1000.summary())"
   ]
  },
  {
   "cell_type": "code",
   "execution_count": 70,
   "metadata": {},
   "outputs": [
    {
     "name": "stdout",
     "output_type": "stream",
     "text": [
      "Train on 6317 samples, validate on 1580 samples\n",
      "Epoch 1/30\n",
      "6317/6317 [==============================] - 26s 4ms/step - loss: 2.9545 - accuracy: 0.2531 - val_loss: 2.4892 - val_accuracy: 0.3291\n",
      "Epoch 2/30\n",
      "6317/6317 [==============================] - 51s 8ms/step - loss: 2.2183 - accuracy: 0.4168 - val_loss: 1.9708 - val_accuracy: 0.4810\n",
      "Epoch 3/30\n",
      "6317/6317 [==============================] - 51s 8ms/step - loss: 1.7081 - accuracy: 0.5590 - val_loss: 1.6165 - val_accuracy: 0.5646\n",
      "Epoch 4/30\n",
      "6317/6317 [==============================] - 51s 8ms/step - loss: 1.3678 - accuracy: 0.6308 - val_loss: 1.4011 - val_accuracy: 0.6177\n",
      "Epoch 5/30\n",
      "6317/6317 [==============================] - 51s 8ms/step - loss: 1.1330 - accuracy: 0.6899 - val_loss: 1.2416 - val_accuracy: 0.6544\n",
      "Epoch 6/30\n",
      "6317/6317 [==============================] - 51s 8ms/step - loss: 0.9493 - accuracy: 0.7445 - val_loss: 1.1367 - val_accuracy: 0.6829\n",
      "Epoch 7/30\n",
      "6317/6317 [==============================] - 51s 8ms/step - loss: 0.8271 - accuracy: 0.7746 - val_loss: 1.0488 - val_accuracy: 0.7013\n",
      "Epoch 8/30\n",
      "6317/6317 [==============================] - 51s 8ms/step - loss: 0.7280 - accuracy: 0.7994 - val_loss: 1.0030 - val_accuracy: 0.7120\n",
      "Epoch 9/30\n",
      "6317/6317 [==============================] - 51s 8ms/step - loss: 0.6505 - accuracy: 0.8229 - val_loss: 0.9512 - val_accuracy: 0.7310\n",
      "Epoch 10/30\n",
      "6317/6317 [==============================] - 51s 8ms/step - loss: 0.5686 - accuracy: 0.8468 - val_loss: 0.9236 - val_accuracy: 0.7342\n",
      "Epoch 11/30\n",
      "6317/6317 [==============================] - 51s 8ms/step - loss: 0.5214 - accuracy: 0.8567 - val_loss: 0.8971 - val_accuracy: 0.7418\n",
      "Epoch 12/30\n",
      "6317/6317 [==============================] - 51s 8ms/step - loss: 0.4691 - accuracy: 0.8737 - val_loss: 0.8651 - val_accuracy: 0.7462\n",
      "Epoch 13/30\n",
      "6317/6317 [==============================] - 51s 8ms/step - loss: 0.4211 - accuracy: 0.8881 - val_loss: 0.8596 - val_accuracy: 0.7519\n",
      "Epoch 14/30\n",
      "6317/6317 [==============================] - 51s 8ms/step - loss: 0.3913 - accuracy: 0.8931 - val_loss: 0.8584 - val_accuracy: 0.7544\n",
      "Epoch 15/30\n",
      "6317/6317 [==============================] - 51s 8ms/step - loss: 0.3600 - accuracy: 0.9039 - val_loss: 0.8381 - val_accuracy: 0.7551\n",
      "Epoch 16/30\n",
      "6317/6317 [==============================] - 51s 8ms/step - loss: 0.3355 - accuracy: 0.9106 - val_loss: 0.8277 - val_accuracy: 0.7690\n",
      "Epoch 17/30\n",
      "6317/6317 [==============================] - 51s 8ms/step - loss: 0.3152 - accuracy: 0.9156 - val_loss: 0.8360 - val_accuracy: 0.7582\n",
      "Epoch 18/30\n",
      "6317/6317 [==============================] - 51s 8ms/step - loss: 0.2947 - accuracy: 0.9163 - val_loss: 0.8506 - val_accuracy: 0.7614\n",
      "Epoch 19/30\n",
      "6317/6317 [==============================] - 51s 8ms/step - loss: 0.2849 - accuracy: 0.9221 - val_loss: 0.8457 - val_accuracy: 0.7608\n",
      "Epoch 20/30\n",
      "6317/6317 [==============================] - 51s 8ms/step - loss: 0.2626 - accuracy: 0.9264 - val_loss: 0.8512 - val_accuracy: 0.7589\n",
      "Epoch 21/30\n",
      "6317/6317 [==============================] - 51s 8ms/step - loss: 0.2517 - accuracy: 0.9322 - val_loss: 0.8547 - val_accuracy: 0.7690\n",
      "Epoch 22/30\n",
      "6317/6317 [==============================] - 51s 8ms/step - loss: 0.2442 - accuracy: 0.9346 - val_loss: 0.8467 - val_accuracy: 0.7709\n",
      "Epoch 23/30\n",
      "6317/6317 [==============================] - 51s 8ms/step - loss: 0.2322 - accuracy: 0.9337 - val_loss: 0.8517 - val_accuracy: 0.7671\n",
      "Epoch 24/30\n",
      "6317/6317 [==============================] - 51s 8ms/step - loss: 0.2266 - accuracy: 0.9367 - val_loss: 0.8626 - val_accuracy: 0.7703\n",
      "Epoch 25/30\n",
      "6317/6317 [==============================] - 51s 8ms/step - loss: 0.2185 - accuracy: 0.9354 - val_loss: 0.8646 - val_accuracy: 0.7652\n",
      "Epoch 26/30\n",
      "6317/6317 [==============================] - 51s 8ms/step - loss: 0.2123 - accuracy: 0.9378 - val_loss: 0.8583 - val_accuracy: 0.7677\n",
      "Epoch 27/30\n",
      "6317/6317 [==============================] - 51s 8ms/step - loss: 0.2118 - accuracy: 0.9368 - val_loss: 0.8606 - val_accuracy: 0.7759\n",
      "Epoch 28/30\n",
      "6317/6317 [==============================] - 51s 8ms/step - loss: 0.2083 - accuracy: 0.9357 - val_loss: 0.8878 - val_accuracy: 0.7741\n",
      "Epoch 29/30\n",
      "6317/6317 [==============================] - 51s 8ms/step - loss: 0.2031 - accuracy: 0.9405 - val_loss: 0.8767 - val_accuracy: 0.7715\n",
      "Epoch 30/30\n",
      "6317/6317 [==============================] - 51s 8ms/step - loss: 0.1956 - accuracy: 0.9383 - val_loss: 0.8805 - val_accuracy: 0.7734\n"
     ]
    }
   ],
   "source": [
    "batch_size = 500\n",
    "epochs = 30\n",
    "history = model_wv_1000.fit(X_train, y_train, epochs=epochs, class_weight=class_weight, batch_size=batch_size, verbose=1,validation_split=0.2)"
   ]
  },
  {
   "cell_type": "code",
   "execution_count": 71,
   "metadata": {},
   "outputs": [
    {
     "data": {
      "image/png": "[encoded data removed]",
      "text/plain": [
       "<Figure size 432x288 with 1 Axes>"
      ]
     },
     "metadata": {
      "needs_background": "light"
     },
     "output_type": "display_data"
    },
    {
     "data": {
      "image/png": "[encoded data removed]",
      "text/plain": [
       "<Figure size 432x288 with 1 Axes>"
      ]
     },
     "metadata": {
      "needs_background": "light"
     },
     "output_type": "display_data"
    }
   ],
   "source": [
    "plt.plot(history.history['accuracy'])\n",
    "plt.plot(history.history['val_accuracy'])\n",
    "plt.title('model accuracy')\n",
    "plt.ylabel('accuracy')\n",
    "plt.xlabel('epoch')\n",
    "plt.legend(['train', 'validation'], loc='upper left')\n",
    "plt.show()\n",
    "\n",
    "plt.plot(history.history['loss'])\n",
    "plt.plot(history.history['val_loss'])\n",
    "plt.title('model loss')\n",
    "plt.ylabel('loss')\n",
    "plt.xlabel('epoch')\n",
    "plt.legend(['train', 'validation'], loc='upper left')\n",
    "plt.show()"
   ]
  },
  {
   "cell_type": "code",
   "execution_count": 161,
   "metadata": {},
   "outputs": [
    {
     "name": "stdout",
     "output_type": "stream",
     "text": [
      "\u001b[1mModel accuracy:\u001b[0m 71.85%\n",
      "________________________________________________________________________________\n",
      "\u001b[1mConfusion matrix:\u001b[0m\n",
      " [[350   0   2 ...   0   0   9]\n",
      " [  3  37   0 ...   0   0   0]\n",
      " [ 12   0  25 ...   0   0   1]\n",
      " ...\n",
      " [ 44   3   2 ...  70   0   2]\n",
      " [ 42   0   0 ...   0   5   1]\n",
      " [ 44   0   0 ...   4   0  13]]\n",
      "________________________________________________________________________________\n",
      "\u001b[1mClassification report:\u001b[0m\n",
      "               precision    recall  f1-score   support\n",
      "\n",
      "           0       0.77      0.78      0.77       400\n",
      "           1       0.79      0.93      0.85        40\n",
      "           2       0.86      0.62      0.72        40\n",
      "           3       1.00      1.00      1.00        40\n",
      "           4       0.67      0.62      0.64        52\n",
      "           5       0.71      0.72      0.72        40\n",
      "           6       0.77      0.75      0.76        40\n",
      "           7       1.00      1.00      1.00        40\n",
      "           8       0.89      0.80      0.84        40\n",
      "           9       1.00      1.00      1.00        40\n",
      "          10       0.85      0.88      0.86        40\n",
      "          11       0.47      0.16      0.24        43\n",
      "          12       0.65      0.35      0.46        48\n",
      "          13       0.95      1.00      0.98        40\n",
      "          14       0.98      1.00      0.99        40\n",
      "          15       0.86      0.55      0.67        58\n",
      "          16       0.86      0.60      0.71        40\n",
      "          17       0.81      0.88      0.84        40\n",
      "          18       0.95      0.90      0.92        40\n",
      "          19       0.92      0.88      0.90        40\n",
      "          20       0.56      0.12      0.20        40\n",
      "          21       0.91      1.00      0.95        40\n",
      "          22       0.84      0.95      0.89        40\n",
      "          23       0.86      0.80      0.83        40\n",
      "          24       0.88      0.93      0.90        40\n",
      "          25       0.78      0.78      0.78        40\n",
      "          26       1.00      0.97      0.99        40\n",
      "          27       1.00      0.95      0.97        40\n",
      "          28       1.00      0.97      0.99        40\n",
      "          29       0.95      0.90      0.92        40\n",
      "          30       0.86      0.62      0.72        40\n",
      "          31       0.95      0.47      0.63        40\n",
      "          32       0.92      0.90      0.91        40\n",
      "          33       0.85      0.53      0.65       132\n",
      "          34       1.00      0.10      0.18        50\n",
      "          35       0.41      0.18      0.25        72\n",
      "\n",
      "   micro avg       0.84      0.72      0.77      1975\n",
      "   macro avg       0.85      0.74      0.77      1975\n",
      "weighted avg       0.83      0.72      0.75      1975\n",
      " samples avg       0.72      0.72      0.72      1975\n",
      "\n",
      "________________________________________________________________________________\n"
     ]
    },
    {
     "name": "stderr",
     "output_type": "stream",
     "text": [
      "C:\\ProgramData\\Anaconda3\\lib\\site-packages\\sklearn\\metrics\\_classification.py:1272: UndefinedMetricWarning:\n",
      "\n",
      "Precision and F-score are ill-defined and being set to 0.0 in samples with no predicted labels. Use `zero_division` parameter to control this behavior.\n",
      "\n"
     ]
    }
   ],
   "source": [
    "# Analyze Classification Summary\n",
    "y_proba = model_wv_1000.predict([X_test])\n",
    "y_pred = (y_proba > 0.5).astype('int32')\n",
    "classification_summary(y_test, y_pred, y_proba)"
   ]
  },
  {
   "cell_type": "markdown",
   "metadata": {},
   "source": [
    "Observations: Marginal Improvement seen and hence going forward will keep the Adam Optimization"
   ]
  },
  {
   "cell_type": "code",
   "execution_count": 72,
   "metadata": {},
   "outputs": [
    {
     "name": "stdout",
     "output_type": "stream",
     "text": [
      "Model: \"sequential_5\"\n",
      "_________________________________________________________________\n",
      "Layer (type)                 Output Shape              Param #   \n",
      "=================================================================\n",
      "embedding_5 (Embedding)      (None, 100, 1000)         7518000   \n",
      "_________________________________________________________________\n",
      "spatial_dropout1d_5 (Spatial (None, 100, 1000)         0         \n",
      "_________________________________________________________________\n",
      "bidirectional_6 (Bidirection (None, 256)               1156096   \n",
      "_________________________________________________________________\n",
      "batch_normalization_1 (Batch (None, 256)               1024      \n",
      "_________________________________________________________________\n",
      "dropout_5 (Dropout)          (None, 256)               0         \n",
      "_________________________________________________________________\n",
      "dense_5 (Dense)              (None, 36)                9252      \n",
      "=================================================================\n",
      "Total params: 8,684,372\n",
      "Trainable params: 1,165,860\n",
      "Non-trainable params: 7,518,512\n",
      "_________________________________________________________________\n",
      "None\n"
     ]
    }
   ],
   "source": [
    "# Adding batch Normalization\n",
    "\n",
    "from keras.optimizers import Adam\n",
    "\n",
    "adam = Adam(lr=0.001, beta_1=0.9, beta_2=0.999, epsilon=1e-08, decay=0.0, amsgrad=False)\n",
    "\n",
    "\n",
    "model_wv_1000 = Sequential()\n",
    "model_wv_1000.add(Embedding(input_dim=vocab_size, \n",
    "                        output_dim=embedding_size, \n",
    "                        weights=[w2v_weights], \n",
    "                        input_length=maxlen, \n",
    "                        mask_zero=True,\n",
    "                        trainable=False))\n",
    "model_wv_1000.add(SpatialDropout1D(0.2))\n",
    "model_wv_1000.add(Bidirectional(LSTM(128)))\n",
    "model_wv_1000.add(BatchNormalization(momentum=0.9,epsilon=0.02)) # added batch normalization\n",
    "model_wv_1000.add(Dropout(0.2))\n",
    "model_wv_1000.add(Dense(units=36, activation='softmax'))\n",
    "model_wv_1000.compile(loss = 'categorical_crossentropy', optimizer='adam',metrics = ['accuracy'])\n",
    "print(model_wv_1000.summary())"
   ]
  },
  {
   "cell_type": "code",
   "execution_count": 73,
   "metadata": {},
   "outputs": [
    {
     "name": "stdout",
     "output_type": "stream",
     "text": [
      "Train on 6317 samples, validate on 1580 samples\n",
      "Epoch 1/30\n",
      "6317/6317 [==============================] - 16s 2ms/step - loss: 2.7998 - accuracy: 0.3019 - val_loss: 2.4304 - val_accuracy: 0.4892\n",
      "Epoch 2/30\n",
      "6317/6317 [==============================] - 44s 7ms/step - loss: 1.6507 - accuracy: 0.5669 - val_loss: 1.6914 - val_accuracy: 0.5930\n",
      "Epoch 3/30\n",
      "6317/6317 [==============================] - 51s 8ms/step - loss: 1.2423 - accuracy: 0.6680 - val_loss: 1.3130 - val_accuracy: 0.6570\n",
      "Epoch 4/30\n",
      "6317/6317 [==============================] - 51s 8ms/step - loss: 0.9946 - accuracy: 0.7341 - val_loss: 1.1808 - val_accuracy: 0.6785\n",
      "Epoch 5/30\n",
      "6317/6317 [==============================] - 51s 8ms/step - loss: 0.8239 - accuracy: 0.7820 - val_loss: 1.0926 - val_accuracy: 0.7184\n",
      "Epoch 6/30\n",
      "6317/6317 [==============================] - 51s 8ms/step - loss: 0.6983 - accuracy: 0.8164 - val_loss: 1.0409 - val_accuracy: 0.7291\n",
      "Epoch 7/30\n",
      "6317/6317 [==============================] - 51s 8ms/step - loss: 0.6009 - accuracy: 0.8374 - val_loss: 1.0128 - val_accuracy: 0.7316\n",
      "Epoch 8/30\n",
      "6317/6317 [==============================] - 51s 8ms/step - loss: 0.5253 - accuracy: 0.8572 - val_loss: 0.9697 - val_accuracy: 0.7405\n",
      "Epoch 9/30\n",
      "6317/6317 [==============================] - 51s 8ms/step - loss: 0.4669 - accuracy: 0.8772 - val_loss: 0.9449 - val_accuracy: 0.7494\n",
      "Epoch 10/30\n",
      "6317/6317 [==============================] - 51s 8ms/step - loss: 0.4062 - accuracy: 0.8924 - val_loss: 0.9274 - val_accuracy: 0.7570\n",
      "Epoch 11/30\n",
      "6317/6317 [==============================] - 51s 8ms/step - loss: 0.3651 - accuracy: 0.9047 - val_loss: 0.9507 - val_accuracy: 0.7506\n",
      "Epoch 12/30\n",
      "6317/6317 [==============================] - 51s 8ms/step - loss: 0.3353 - accuracy: 0.9044 - val_loss: 0.9336 - val_accuracy: 0.7582\n",
      "Epoch 13/30\n",
      "6317/6317 [==============================] - 51s 8ms/step - loss: 0.3041 - accuracy: 0.9161 - val_loss: 0.9364 - val_accuracy: 0.7589\n",
      "Epoch 14/30\n",
      "6317/6317 [==============================] - 51s 8ms/step - loss: 0.2874 - accuracy: 0.9202 - val_loss: 0.9556 - val_accuracy: 0.7595\n",
      "Epoch 15/30\n",
      "6317/6317 [==============================] - 51s 8ms/step - loss: 0.2620 - accuracy: 0.9289 - val_loss: 0.9755 - val_accuracy: 0.7538\n",
      "Epoch 16/30\n",
      "6317/6317 [==============================] - 51s 8ms/step - loss: 0.2459 - accuracy: 0.9289 - val_loss: 0.9926 - val_accuracy: 0.7538\n",
      "Epoch 17/30\n",
      "6317/6317 [==============================] - 51s 8ms/step - loss: 0.2386 - accuracy: 0.9326 - val_loss: 0.9808 - val_accuracy: 0.7576\n",
      "Epoch 18/30\n",
      "6317/6317 [==============================] - 51s 8ms/step - loss: 0.2306 - accuracy: 0.9311 - val_loss: 0.9505 - val_accuracy: 0.7684\n",
      "Epoch 19/30\n",
      "6317/6317 [==============================] - 51s 8ms/step - loss: 0.2151 - accuracy: 0.9365 - val_loss: 0.9935 - val_accuracy: 0.7576\n",
      "Epoch 20/30\n",
      "6317/6317 [==============================] - 51s 8ms/step - loss: 0.2101 - accuracy: 0.9349 - val_loss: 1.0010 - val_accuracy: 0.7595\n",
      "Epoch 21/30\n",
      "6317/6317 [==============================] - 51s 8ms/step - loss: 0.1967 - accuracy: 0.9413 - val_loss: 1.0091 - val_accuracy: 0.7646\n",
      "Epoch 22/30\n",
      "6317/6317 [==============================] - 51s 8ms/step - loss: 0.1983 - accuracy: 0.9400 - val_loss: 1.0141 - val_accuracy: 0.7639\n",
      "Epoch 23/30\n",
      "6317/6317 [==============================] - 51s 8ms/step - loss: 0.1969 - accuracy: 0.9414 - val_loss: 1.0004 - val_accuracy: 0.7576\n",
      "Epoch 24/30\n",
      "6317/6317 [==============================] - 51s 8ms/step - loss: 0.1908 - accuracy: 0.9391 - val_loss: 1.0267 - val_accuracy: 0.7646\n",
      "Epoch 25/30\n",
      "6317/6317 [==============================] - 51s 8ms/step - loss: 0.1927 - accuracy: 0.9392 - val_loss: 1.0198 - val_accuracy: 0.7639\n",
      "Epoch 26/30\n",
      "6317/6317 [==============================] - 51s 8ms/step - loss: 0.1899 - accuracy: 0.9417 - val_loss: 1.0622 - val_accuracy: 0.7620\n",
      "Epoch 27/30\n",
      "6317/6317 [==============================] - 51s 8ms/step - loss: 0.1830 - accuracy: 0.9436 - val_loss: 1.0168 - val_accuracy: 0.7620\n",
      "Epoch 28/30\n",
      "6317/6317 [==============================] - 51s 8ms/step - loss: 0.1767 - accuracy: 0.9400 - val_loss: 1.0481 - val_accuracy: 0.7652\n",
      "Epoch 29/30\n",
      "6317/6317 [==============================] - 51s 8ms/step - loss: 0.1814 - accuracy: 0.9422 - val_loss: 1.0233 - val_accuracy: 0.7684\n",
      "Epoch 30/30\n",
      "6317/6317 [==============================] - 51s 8ms/step - loss: 0.1767 - accuracy: 0.9424 - val_loss: 1.0630 - val_accuracy: 0.7595\n"
     ]
    }
   ],
   "source": [
    "batch_size = 500\n",
    "epochs = 30\n",
    "history = model_wv_1000.fit(X_train, y_train, epochs=epochs, class_weight=class_weight, batch_size=batch_size, verbose=1,validation_split=0.2)"
   ]
  },
  {
   "cell_type": "code",
   "execution_count": 74,
   "metadata": {},
   "outputs": [
    {
     "data": {
      "image/png": "[encoded data removed]",
      "text/plain": [
       "<Figure size 432x288 with 1 Axes>"
      ]
     },
     "metadata": {
      "needs_background": "light"
     },
     "output_type": "display_data"
    },
    {
     "data": {
      "image/png": "[encoded data removed]",
      "text/plain": [
       "<Figure size 432x288 with 1 Axes>"
      ]
     },
     "metadata": {
      "needs_background": "light"
     },
     "output_type": "display_data"
    }
   ],
   "source": [
    "plt.plot(history.history['accuracy'])\n",
    "plt.plot(history.history['val_accuracy'])\n",
    "plt.title('model accuracy')\n",
    "plt.ylabel('accuracy')\n",
    "plt.xlabel('epoch')\n",
    "plt.legend(['train', 'validation'], loc='upper left')\n",
    "plt.show()\n",
    "\n",
    "plt.plot(history.history['loss'])\n",
    "plt.plot(history.history['val_loss'])\n",
    "plt.title('model loss')\n",
    "plt.ylabel('loss')\n",
    "plt.xlabel('epoch')\n",
    "plt.legend(['train', 'validation'], loc='upper left')\n",
    "plt.show()"
   ]
  },
  {
   "cell_type": "code",
   "execution_count": 164,
   "metadata": {},
   "outputs": [
    {
     "name": "stdout",
     "output_type": "stream",
     "text": [
      "\u001b[1mModel accuracy:\u001b[0m 72.10%\n",
      "________________________________________________________________________________\n",
      "\u001b[1mConfusion matrix:\u001b[0m\n",
      " [[336   0   1 ...   2   0  10]\n",
      " [  3  37   0 ...   0   0   0]\n",
      " [ 11   0  27 ...   0   0   1]\n",
      " ...\n",
      " [ 42   3   2 ...  73   0   2]\n",
      " [ 37   0   0 ...   0   6   2]\n",
      " [ 39   0   2 ...   3   0   9]]\n",
      "________________________________________________________________________________\n",
      "\u001b[1mClassification report:\u001b[0m\n",
      "               precision    recall  f1-score   support\n",
      "\n",
      "           0       0.79      0.74      0.77       400\n",
      "           1       0.79      0.93      0.85        40\n",
      "           2       0.82      0.68      0.74        40\n",
      "           3       1.00      1.00      1.00        40\n",
      "           4       0.68      0.58      0.62        52\n",
      "           5       0.81      0.75      0.78        40\n",
      "           6       0.74      0.80      0.77        40\n",
      "           7       1.00      0.97      0.99        40\n",
      "           8       0.89      0.82      0.86        40\n",
      "           9       1.00      1.00      1.00        40\n",
      "          10       0.80      0.90      0.85        40\n",
      "          11       0.33      0.16      0.22        43\n",
      "          12       0.65      0.42      0.51        48\n",
      "          13       0.89      1.00      0.94        40\n",
      "          14       0.95      1.00      0.98        40\n",
      "          15       0.86      0.64      0.73        58\n",
      "          16       0.86      0.60      0.71        40\n",
      "          17       0.85      0.88      0.86        40\n",
      "          18       0.97      0.90      0.94        40\n",
      "          19       0.83      0.88      0.85        40\n",
      "          20       0.40      0.25      0.31        40\n",
      "          21       0.87      1.00      0.93        40\n",
      "          22       0.83      0.95      0.88        40\n",
      "          23       0.79      0.82      0.80        40\n",
      "          24       0.88      0.95      0.92        40\n",
      "          25       0.86      0.78      0.82        40\n",
      "          26       0.93      0.97      0.95        40\n",
      "          27       1.00      0.95      0.97        40\n",
      "          28       0.95      0.97      0.96        40\n",
      "          29       0.88      0.90      0.89        40\n",
      "          30       0.86      0.62      0.72        40\n",
      "          31       0.94      0.42      0.59        40\n",
      "          32       0.92      0.90      0.91        40\n",
      "          33       0.86      0.55      0.67       132\n",
      "          34       1.00      0.12      0.21        50\n",
      "          35       0.26      0.12      0.17        72\n",
      "\n",
      "   micro avg       0.83      0.72      0.77      1975\n",
      "   macro avg       0.83      0.75      0.77      1975\n",
      "weighted avg       0.81      0.72      0.75      1975\n",
      " samples avg       0.72      0.72      0.72      1975\n",
      "\n",
      "________________________________________________________________________________\n"
     ]
    },
    {
     "name": "stderr",
     "output_type": "stream",
     "text": [
      "C:\\ProgramData\\Anaconda3\\lib\\site-packages\\sklearn\\metrics\\_classification.py:1272: UndefinedMetricWarning:\n",
      "\n",
      "Precision and F-score are ill-defined and being set to 0.0 in samples with no predicted labels. Use `zero_division` parameter to control this behavior.\n",
      "\n"
     ]
    }
   ],
   "source": [
    "# Analyze Classification Summary\n",
    "y_proba = model_wv_1000.predict([X_test])\n",
    "y_pred = (y_proba > 0.5).astype('int32')\n",
    "classification_summary(y_test, y_pred, y_proba)"
   ]
  },
  {
   "cell_type": "markdown",
   "metadata": {},
   "source": [
    "Observations: No Change observed in accuracy"
   ]
  },
  {
   "cell_type": "markdown",
   "metadata": {},
   "source": [
    "# Trying Glove on the balanced dataset"
   ]
  },
  {
   "cell_type": "code",
   "execution_count": 75,
   "metadata": {},
   "outputs": [],
   "source": [
    "max_features = 10000\n",
    "maxlen = 100\n",
    "embedding_size = 200"
   ]
  },
  {
   "cell_type": "code",
   "execution_count": 76,
   "metadata": {},
   "outputs": [],
   "source": [
    "tokenizer = Tokenizer(num_words=max_features,filters= '!\"#$%&()*+,-./:;<=>?@[\\]^_`{|}\\n“~”')"
   ]
  },
  {
   "cell_type": "code",
   "execution_count": 77,
   "metadata": {},
   "outputs": [],
   "source": [
    "tokenizer.fit_on_texts(df_sampled['Clean Description'])"
   ]
  },
  {
   "cell_type": "code",
   "execution_count": 78,
   "metadata": {},
   "outputs": [
    {
     "name": "stdout",
     "output_type": "stream",
     "text": [
      "<class 'pandas.core.frame.DataFrame'>\n",
      "Int64Index: 9872 entries, 1822 to 4958\n",
      "Data columns (total 2 columns):\n",
      " #   Column             Non-Null Count  Dtype \n",
      "---  ------             --------------  ----- \n",
      " 0   Assignment group   9872 non-null   int8  \n",
      " 1   Clean Description  9872 non-null   object\n",
      "dtypes: int8(1), object(1)\n",
      "memory usage: 163.9+ KB\n"
     ]
    }
   ],
   "source": [
    "# First to Create a target categorical column\n",
    "df_sampled['Assignment group'] = df_sampled['Assignment group'].astype('category').cat.codes\n",
    "df_sampled.info()"
   ]
  },
  {
   "cell_type": "code",
   "execution_count": 79,
   "metadata": {},
   "outputs": [
    {
     "name": "stdout",
     "output_type": "stream",
     "text": [
      "Number of Samples: 9872\n",
      "[ 0  0  0  0  0  0  0  0  0  0  0  0  0  0  0  0  0  0  0  0  0  0  0  0\n",
      "  0  0  0  0  0  0  0  0  0  0  0  0  0  0  0  0  0  0  0  0  0  0  0  0\n",
      "  0  0  0  0  0  0  0  0  0  0  0  0  0  0  0  0  0  0  0  0  0  0  0  0\n",
      "  0  0  0  0  0  0  0  0  0  0  0  0  0  0  0  0  0  0  0  0  0  0  0  0\n",
      "  5 12 13 22]\n",
      "Number of Labels:  9872\n",
      "0\n"
     ]
    }
   ],
   "source": [
    "X = tokenizer.texts_to_sequences(df_sampled['Clean Description'])\n",
    "X = pad_sequences(X, maxlen = maxlen)\n",
    "y = np.asarray(df_sampled['Assignment group'])\n",
    "\n",
    "print(\"Number of Samples:\", len(X))\n",
    "print(X[0])\n",
    "print(\"Number of Labels: \", len(y))\n",
    "print(y[0])"
   ]
  },
  {
   "cell_type": "code",
   "execution_count": 80,
   "metadata": {},
   "outputs": [
    {
     "name": "stdout",
     "output_type": "stream",
     "text": [
      "Vocabulary size: 9180\n",
      "Documents count: 9872\n"
     ]
    }
   ],
   "source": [
    "vocab_size = len(tokenizer.word_index) + 1\n",
    "print('Vocabulary size: %d\\nDocuments count: %d' % (vocab_size, tokenizer.document_count))"
   ]
  },
  {
   "cell_type": "code",
   "execution_count": 81,
   "metadata": {},
   "outputs": [
    {
     "name": "stdout",
     "output_type": "stream",
     "text": [
      "Loaded 400000 word vectors.\n"
     ]
    }
   ],
   "source": [
    "# load the whole embedding into memory\n",
    "embeddings_index = dict()\n",
    "f = open('glove.6B.200d.txt', encoding=\"utf8\")\n",
    "for line in f:\n",
    "    values = line.split()\n",
    "    word = values[0]\n",
    "    coefs = np.asarray(values[1:], dtype='float32')\n",
    "    embeddings_index[word] = coefs\n",
    "f.close()\n",
    "print('Loaded %s word vectors.' % len(embeddings_index))\n",
    "\n",
    "# create a weight matrix for words in training docs\n",
    "embedding_matrix = np.zeros((vocab_size, 200))\n",
    "\n",
    "\n",
    "for word, i in tokenizer.word_index.items():\n",
    "    embedding_vector = embeddings_index.get(word)\n",
    "    if embedding_vector is not None:\n",
    "        embedding_matrix[i] = embedding_vector\n",
    "        "
   ]
  },
  {
   "cell_type": "code",
   "execution_count": 82,
   "metadata": {},
   "outputs": [],
   "source": [
    "X_train, X_test, y_train, y_test = train_test_split(X, y, test_size=0.20, random_state=1, stratify=y)"
   ]
  },
  {
   "cell_type": "code",
   "execution_count": 83,
   "metadata": {},
   "outputs": [
    {
     "name": "stdout",
     "output_type": "stream",
     "text": [
      "Model: \"sequential_6\"\n",
      "_________________________________________________________________\n",
      "Layer (type)                 Output Shape              Param #   \n",
      "=================================================================\n",
      "embedding_6 (Embedding)      (None, 100, 200)          1836000   \n",
      "_________________________________________________________________\n",
      "spatial_dropout1d_6 (Spatial (None, 100, 200)          0         \n",
      "_________________________________________________________________\n",
      "bidirectional_7 (Bidirection (None, 256)               337920    \n",
      "_________________________________________________________________\n",
      "dropout_6 (Dropout)          (None, 256)               0         \n",
      "_________________________________________________________________\n",
      "dense_6 (Dense)              (None, 36)                9252      \n",
      "=================================================================\n",
      "Total params: 2,183,172\n",
      "Trainable params: 2,183,172\n",
      "Non-trainable params: 0\n",
      "_________________________________________________________________\n",
      "None\n"
     ]
    }
   ],
   "source": [
    "# Build the model\n",
    "embedding_dim = 200\n",
    "\n",
    "model = Sequential()\n",
    "model.add(Embedding(vocab_size,\n",
    "                    embedding_dim,\n",
    "                    embeddings_initializer=Constant(embedding_matrix),\n",
    "                    input_length=maxlen,\n",
    "                    trainable=True))\n",
    "model.add(SpatialDropout1D(0.2))\n",
    "model.add(Bidirectional(CuDNNLSTM(128)))\n",
    "model.add(Dropout(0.25))\n",
    "model.add(Dense(units=36, activation='softmax'))\n",
    "model.compile(loss = 'categorical_crossentropy', optimizer='adam',metrics = ['accuracy'])\n",
    "print(model.summary())"
   ]
  },
  {
   "cell_type": "code",
   "execution_count": 84,
   "metadata": {},
   "outputs": [],
   "source": [
    "# Code for getting Class weight\n",
    "from sklearn.utils import class_weight\n",
    "class_weight = class_weight.compute_class_weight('balanced' ,np.unique(y_train) ,y_train)"
   ]
  },
  {
   "cell_type": "code",
   "execution_count": 85,
   "metadata": {},
   "outputs": [],
   "source": [
    "# Converting to categorical data\n",
    "y_train = to_categorical(y_train)\n",
    "y_test = to_categorical(y_test)"
   ]
  },
  {
   "cell_type": "code",
   "execution_count": 86,
   "metadata": {},
   "outputs": [
    {
     "name": "stdout",
     "output_type": "stream",
     "text": [
      "Train on 6317 samples, validate on 1580 samples\n",
      "Epoch 1/30\n",
      "6317/6317 [==============================] - 6s 872us/step - loss: 3.3864 - accuracy: 0.1718 - val_loss: 3.1896 - val_accuracy: 0.2335\n",
      "Epoch 2/30\n",
      "6317/6317 [==============================] - 4s 688us/step - loss: 3.0885 - accuracy: 0.2523 - val_loss: 2.9185 - val_accuracy: 0.2658\n",
      "Epoch 3/30\n",
      "6317/6317 [==============================] - 11s 2ms/step - loss: 2.7867 - accuracy: 0.2815 - val_loss: 2.6235 - val_accuracy: 0.3095\n",
      "Epoch 4/30\n",
      "6317/6317 [==============================] - 18s 3ms/step - loss: 2.4914 - accuracy: 0.3240 - val_loss: 2.3651 - val_accuracy: 0.3690\n",
      "Epoch 5/30\n",
      "6317/6317 [==============================] - 18s 3ms/step - loss: 2.2122 - accuracy: 0.3978 - val_loss: 2.0992 - val_accuracy: 0.4291\n",
      "Epoch 6/30\n",
      "6317/6317 [==============================] - 18s 3ms/step - loss: 1.9427 - accuracy: 0.4710 - val_loss: 1.8830 - val_accuracy: 0.5032\n",
      "Epoch 7/30\n",
      "6317/6317 [==============================] - 18s 3ms/step - loss: 1.7354 - accuracy: 0.5281 - val_loss: 1.6852 - val_accuracy: 0.5456\n",
      "Epoch 8/30\n",
      "6317/6317 [==============================] - 18s 3ms/step - loss: 1.5489 - accuracy: 0.5699 - val_loss: 1.5432 - val_accuracy: 0.5873\n",
      "Epoch 9/30\n",
      "6317/6317 [==============================] - 18s 3ms/step - loss: 1.4224 - accuracy: 0.6054 - val_loss: 1.4771 - val_accuracy: 0.5899\n",
      "Epoch 10/30\n",
      "6317/6317 [==============================] - 18s 3ms/step - loss: 1.3143 - accuracy: 0.6418 - val_loss: 1.3983 - val_accuracy: 0.6114\n",
      "Epoch 11/30\n",
      "6317/6317 [==============================] - 18s 3ms/step - loss: 1.2056 - accuracy: 0.6603 - val_loss: 1.2881 - val_accuracy: 0.6405\n",
      "Epoch 12/30\n",
      "6317/6317 [==============================] - 18s 3ms/step - loss: 1.1029 - accuracy: 0.6953 - val_loss: 1.2222 - val_accuracy: 0.6601\n",
      "Epoch 13/30\n",
      "6317/6317 [==============================] - 18s 3ms/step - loss: 1.0132 - accuracy: 0.7151 - val_loss: 1.2068 - val_accuracy: 0.6551\n",
      "Epoch 14/30\n",
      "6317/6317 [==============================] - 18s 3ms/step - loss: 0.9687 - accuracy: 0.7276 - val_loss: 1.1554 - val_accuracy: 0.6753\n",
      "Epoch 15/30\n",
      "6317/6317 [==============================] - 18s 3ms/step - loss: 0.8975 - accuracy: 0.7515 - val_loss: 1.1015 - val_accuracy: 0.7032\n",
      "Epoch 16/30\n",
      "6317/6317 [==============================] - 18s 3ms/step - loss: 0.8290 - accuracy: 0.7622 - val_loss: 1.0613 - val_accuracy: 0.7082\n",
      "Epoch 17/30\n",
      "6317/6317 [==============================] - 18s 3ms/step - loss: 0.7820 - accuracy: 0.7781 - val_loss: 1.0269 - val_accuracy: 0.7127\n",
      "Epoch 18/30\n",
      "6317/6317 [==============================] - 18s 3ms/step - loss: 0.7256 - accuracy: 0.7955 - val_loss: 0.9863 - val_accuracy: 0.7278\n",
      "Epoch 19/30\n",
      "6317/6317 [==============================] - 18s 3ms/step - loss: 0.6675 - accuracy: 0.8154 - val_loss: 0.9683 - val_accuracy: 0.7278\n",
      "Epoch 20/30\n",
      "6317/6317 [==============================] - 18s 3ms/step - loss: 0.6330 - accuracy: 0.8210 - val_loss: 0.9617 - val_accuracy: 0.7399\n",
      "Epoch 21/30\n",
      "6317/6317 [==============================] - 18s 3ms/step - loss: 0.6099 - accuracy: 0.8268 - val_loss: 0.9468 - val_accuracy: 0.7348\n",
      "Epoch 22/30\n",
      "6317/6317 [==============================] - 18s 3ms/step - loss: 0.5675 - accuracy: 0.8430 - val_loss: 0.9629 - val_accuracy: 0.7399\n",
      "Epoch 23/30\n",
      "6317/6317 [==============================] - 18s 3ms/step - loss: 0.5502 - accuracy: 0.8439 - val_loss: 0.9328 - val_accuracy: 0.7494\n",
      "Epoch 24/30\n",
      "6317/6317 [==============================] - 18s 3ms/step - loss: 0.5155 - accuracy: 0.8574 - val_loss: 0.9354 - val_accuracy: 0.7513\n",
      "Epoch 25/30\n",
      "6317/6317 [==============================] - 18s 3ms/step - loss: 0.4907 - accuracy: 0.8601 - val_loss: 0.9103 - val_accuracy: 0.7525\n",
      "Epoch 26/30\n",
      "6317/6317 [==============================] - 18s 3ms/step - loss: 0.4695 - accuracy: 0.8680 - val_loss: 0.9049 - val_accuracy: 0.7525\n",
      "Epoch 27/30\n",
      "6317/6317 [==============================] - 18s 3ms/step - loss: 0.4494 - accuracy: 0.8718 - val_loss: 0.9104 - val_accuracy: 0.7551\n",
      "Epoch 28/30\n",
      "6317/6317 [==============================] - 18s 3ms/step - loss: 0.4395 - accuracy: 0.8726 - val_loss: 0.8974 - val_accuracy: 0.7595\n",
      "Epoch 29/30\n",
      "6317/6317 [==============================] - 18s 3ms/step - loss: 0.4284 - accuracy: 0.8770 - val_loss: 0.8843 - val_accuracy: 0.7563\n",
      "Epoch 30/30\n",
      "6317/6317 [==============================] - 18s 3ms/step - loss: 0.4056 - accuracy: 0.8843 - val_loss: 0.8811 - val_accuracy: 0.7665\n"
     ]
    }
   ],
   "source": [
    "batch_size = 500\n",
    "epochs = 30\n",
    "history = model.fit(X_train, y_train, epochs=epochs, class_weight=class_weight, batch_size=batch_size, verbose=1, validation_split=0.2)"
   ]
  },
  {
   "cell_type": "code",
   "execution_count": 87,
   "metadata": {},
   "outputs": [
    {
     "data": {
      "image/png": "[encoded data removed]",
      "text/plain": [
       "<Figure size 432x288 with 1 Axes>"
      ]
     },
     "metadata": {
      "needs_background": "light"
     },
     "output_type": "display_data"
    },
    {
     "data": {
      "image/png": "[encoded data removed]",
      "text/plain": [
       "<Figure size 432x288 with 1 Axes>"
      ]
     },
     "metadata": {
      "needs_background": "light"
     },
     "output_type": "display_data"
    }
   ],
   "source": [
    "plt.plot(history.history['accuracy'])\n",
    "plt.plot(history.history['val_accuracy'])\n",
    "plt.title('model accuracy')\n",
    "plt.ylabel('accuracy')\n",
    "plt.xlabel('epoch')\n",
    "plt.legend(['train', 'validation'], loc='upper left')\n",
    "plt.show()\n",
    "\n",
    "plt.plot(history.history['loss'])\n",
    "plt.plot(history.history['val_loss'])\n",
    "plt.title('model loss')\n",
    "plt.ylabel('loss')\n",
    "plt.xlabel('epoch')\n",
    "plt.legend(['train', 'validation'], loc='upper left')\n",
    "plt.show()"
   ]
  },
  {
   "cell_type": "code",
   "execution_count": 189,
   "metadata": {},
   "outputs": [
    {
     "name": "stdout",
     "output_type": "stream",
     "text": [
      "\u001b[1mModel accuracy:\u001b[0m 71.04%\n",
      "________________________________________________________________________________\n",
      "\u001b[1mConfusion matrix:\u001b[0m\n",
      " [[349   0   2 ...   1   0   7]\n",
      " [  2  38   0 ...   0   0   0]\n",
      " [ 14   0  24 ...   0   0   2]\n",
      " ...\n",
      " [ 44   2   2 ...  72   0   3]\n",
      " [ 42   0   0 ...   0   6   1]\n",
      " [ 42   0   0 ...   3   0  11]]\n",
      "________________________________________________________________________________\n",
      "\u001b[1mClassification report:\u001b[0m\n",
      "               precision    recall  f1-score   support\n",
      "\n",
      "           0       0.79      0.75      0.77       400\n",
      "           1       0.81      0.95      0.87        40\n",
      "           2       0.83      0.60      0.70        40\n",
      "           3       0.98      1.00      0.99        40\n",
      "           4       0.81      0.58      0.67        52\n",
      "           5       0.84      0.68      0.75        40\n",
      "           6       0.80      0.70      0.75        40\n",
      "           7       1.00      0.97      0.99        40\n",
      "           8       0.79      0.85      0.82        40\n",
      "           9       1.00      1.00      1.00        40\n",
      "          10       0.88      0.93      0.90        40\n",
      "          11       0.67      0.23      0.34        43\n",
      "          12       0.81      0.44      0.57        48\n",
      "          13       0.87      1.00      0.93        40\n",
      "          14       0.98      1.00      0.99        40\n",
      "          15       0.92      0.60      0.73        58\n",
      "          16       0.88      0.70      0.78        40\n",
      "          17       0.79      0.82      0.80        40\n",
      "          18       0.97      0.90      0.94        40\n",
      "          19       0.91      0.75      0.82        40\n",
      "          20       0.44      0.20      0.28        40\n",
      "          21       0.89      1.00      0.94        40\n",
      "          22       0.94      0.85      0.89        40\n",
      "          23       0.90      0.70      0.79        40\n",
      "          24       0.88      0.90      0.89        40\n",
      "          25       0.77      0.82      0.80        40\n",
      "          26       0.93      0.97      0.95        40\n",
      "          27       0.97      0.95      0.96        40\n",
      "          28       0.95      1.00      0.98        40\n",
      "          29       0.91      0.80      0.85        40\n",
      "          30       0.92      0.55      0.69        40\n",
      "          31       0.91      0.50      0.65        40\n",
      "          32       0.92      0.88      0.90        40\n",
      "          33       0.87      0.55      0.67       132\n",
      "          34       0.86      0.12      0.21        50\n",
      "          35       0.26      0.15      0.19        72\n",
      "\n",
      "   micro avg       0.84      0.71      0.77      1975\n",
      "   macro avg       0.85      0.73      0.77      1975\n",
      "weighted avg       0.83      0.71      0.75      1975\n",
      " samples avg       0.71      0.71      0.71      1975\n",
      "\n",
      "________________________________________________________________________________\n"
     ]
    },
    {
     "name": "stderr",
     "output_type": "stream",
     "text": [
      "C:\\ProgramData\\Anaconda3\\lib\\site-packages\\sklearn\\metrics\\_classification.py:1272: UndefinedMetricWarning:\n",
      "\n",
      "Precision and F-score are ill-defined and being set to 0.0 in samples with no predicted labels. Use `zero_division` parameter to control this behavior.\n",
      "\n"
     ]
    }
   ],
   "source": [
    "# Analyze Classification Summary\n",
    "y_proba = model.predict([X_test])\n",
    "y_pred = (y_proba > 0.5).astype('int32')\n",
    "classification_summary(y_test, y_pred, y_proba)"
   ]
  },
  {
   "cell_type": "markdown",
   "metadata": {},
   "source": [
    "Observations: Accuracies as good as on the n-gram Word2Vec modeling"
   ]
  },
  {
   "cell_type": "markdown",
   "metadata": {},
   "source": [
    "# Adding Adam Optimization and Batch Normalization"
   ]
  },
  {
   "cell_type": "code",
   "execution_count": 88,
   "metadata": {},
   "outputs": [
    {
     "name": "stdout",
     "output_type": "stream",
     "text": [
      "Model: \"sequential_7\"\n",
      "_________________________________________________________________\n",
      "Layer (type)                 Output Shape              Param #   \n",
      "=================================================================\n",
      "embedding_7 (Embedding)      (None, 100, 200)          1836000   \n",
      "_________________________________________________________________\n",
      "spatial_dropout1d_7 (Spatial (None, 100, 200)          0         \n",
      "_________________________________________________________________\n",
      "bidirectional_8 (Bidirection (None, 256)               337920    \n",
      "_________________________________________________________________\n",
      "batch_normalization_2 (Batch (None, 256)               1024      \n",
      "_________________________________________________________________\n",
      "dropout_7 (Dropout)          (None, 256)               0         \n",
      "_________________________________________________________________\n",
      "dense_7 (Dense)              (None, 36)                9252      \n",
      "=================================================================\n",
      "Total params: 2,184,196\n",
      "Trainable params: 2,183,684\n",
      "Non-trainable params: 512\n",
      "_________________________________________________________________\n",
      "None\n"
     ]
    }
   ],
   "source": [
    "# Optimizing Adam and adding Batch Normalization\n",
    "from keras.optimizers import Adam\n",
    "\n",
    "adam = Adam(lr=0.001, beta_1=0.9, beta_2=0.999, epsilon=1e-08, decay=0.0, amsgrad=False)\n",
    "\n",
    "embedding_dim = 200\n",
    "\n",
    "model = Sequential()\n",
    "model.add(Embedding(vocab_size,\n",
    "                    embedding_dim,\n",
    "                    embeddings_initializer=Constant(embedding_matrix),\n",
    "                    input_length=maxlen,\n",
    "                    trainable=True))\n",
    "model.add(SpatialDropout1D(0.2))\n",
    "model.add(Bidirectional(CuDNNLSTM(128)))\n",
    "model.add(BatchNormalization(momentum=0.9,epsilon=0.02)) # added batch normalization\n",
    "model.add(Dropout(0.25))\n",
    "model.add(Dense(units=36, activation='softmax'))\n",
    "model.compile(loss = 'categorical_crossentropy', optimizer='adam',metrics = ['accuracy'])\n",
    "print(model.summary())"
   ]
  },
  {
   "cell_type": "code",
   "execution_count": 89,
   "metadata": {},
   "outputs": [
    {
     "name": "stdout",
     "output_type": "stream",
     "text": [
      "Train on 6317 samples, validate on 1580 samples\n",
      "Epoch 1/30\n",
      "6317/6317 [==============================] - 4s 609us/step - loss: 3.2925 - accuracy: 0.1659 - val_loss: 3.2541 - val_accuracy: 0.2506\n",
      "Epoch 2/30\n",
      "6317/6317 [==============================] - 4s 571us/step - loss: 2.6845 - accuracy: 0.3043 - val_loss: 2.5886 - val_accuracy: 0.3557\n",
      "Epoch 3/30\n",
      "6317/6317 [==============================] - 6s 975us/step - loss: 2.2991 - accuracy: 0.3983 - val_loss: 2.1605 - val_accuracy: 0.4456\n",
      "Epoch 4/30\n",
      "6317/6317 [==============================] - 14s 2ms/step - loss: 1.9853 - accuracy: 0.4724 - val_loss: 1.8514 - val_accuracy: 0.4987\n",
      "Epoch 5/30\n",
      "6317/6317 [==============================] - 18s 3ms/step - loss: 1.6920 - accuracy: 0.5523 - val_loss: 1.6996 - val_accuracy: 0.5519\n",
      "Epoch 6/30\n",
      "6317/6317 [==============================] - 18s 3ms/step - loss: 1.4704 - accuracy: 0.5992 - val_loss: 1.4755 - val_accuracy: 0.6070\n",
      "Epoch 7/30\n",
      "6317/6317 [==============================] - 18s 3ms/step - loss: 1.3038 - accuracy: 0.6486 - val_loss: 1.3949 - val_accuracy: 0.6184\n",
      "Epoch 8/30\n",
      "6317/6317 [==============================] - 18s 3ms/step - loss: 1.1519 - accuracy: 0.6883 - val_loss: 1.3097 - val_accuracy: 0.6430\n",
      "Epoch 9/30\n",
      "6317/6317 [==============================] - 18s 3ms/step - loss: 1.0273 - accuracy: 0.7147 - val_loss: 1.2004 - val_accuracy: 0.6633\n",
      "Epoch 10/30\n",
      "6317/6317 [==============================] - 18s 3ms/step - loss: 0.9081 - accuracy: 0.7462 - val_loss: 1.1295 - val_accuracy: 0.6911\n",
      "Epoch 11/30\n",
      "6317/6317 [==============================] - 18s 3ms/step - loss: 0.8278 - accuracy: 0.7682 - val_loss: 1.0770 - val_accuracy: 0.7070\n",
      "Epoch 12/30\n",
      "6317/6317 [==============================] - 18s 3ms/step - loss: 0.7403 - accuracy: 0.7940 - val_loss: 1.0995 - val_accuracy: 0.6994\n",
      "Epoch 13/30\n",
      "6317/6317 [==============================] - 18s 3ms/step - loss: 0.6805 - accuracy: 0.8040 - val_loss: 1.0362 - val_accuracy: 0.7196\n",
      "Epoch 14/30\n",
      "6317/6317 [==============================] - 18s 3ms/step - loss: 0.6101 - accuracy: 0.8320 - val_loss: 0.9799 - val_accuracy: 0.7241\n",
      "Epoch 15/30\n",
      "6317/6317 [==============================] - 18s 3ms/step - loss: 0.5553 - accuracy: 0.8420 - val_loss: 0.9743 - val_accuracy: 0.7386\n",
      "Epoch 16/30\n",
      "6317/6317 [==============================] - 18s 3ms/step - loss: 0.5185 - accuracy: 0.8529 - val_loss: 0.9531 - val_accuracy: 0.7430\n",
      "Epoch 17/30\n",
      "6317/6317 [==============================] - 18s 3ms/step - loss: 0.4815 - accuracy: 0.8637 - val_loss: 0.9578 - val_accuracy: 0.7544\n",
      "Epoch 18/30\n",
      "6317/6317 [==============================] - 18s 3ms/step - loss: 0.4366 - accuracy: 0.8773 - val_loss: 0.9668 - val_accuracy: 0.7468\n",
      "Epoch 19/30\n",
      "6317/6317 [==============================] - 18s 3ms/step - loss: 0.4156 - accuracy: 0.8760 - val_loss: 0.9795 - val_accuracy: 0.7538\n",
      "Epoch 20/30\n",
      "6317/6317 [==============================] - 18s 3ms/step - loss: 0.3927 - accuracy: 0.8846 - val_loss: 0.9286 - val_accuracy: 0.7627\n",
      "Epoch 21/30\n",
      "6317/6317 [==============================] - 18s 3ms/step - loss: 0.3786 - accuracy: 0.8914 - val_loss: 0.9570 - val_accuracy: 0.7658\n",
      "Epoch 22/30\n",
      "6317/6317 [==============================] - 18s 3ms/step - loss: 0.3476 - accuracy: 0.8917 - val_loss: 0.9212 - val_accuracy: 0.7677\n",
      "Epoch 23/30\n",
      "6317/6317 [==============================] - 18s 3ms/step - loss: 0.3279 - accuracy: 0.9045 - val_loss: 0.9916 - val_accuracy: 0.7532\n",
      "Epoch 24/30\n",
      "6317/6317 [==============================] - 18s 3ms/step - loss: 0.3213 - accuracy: 0.9052 - val_loss: 0.9444 - val_accuracy: 0.7722\n",
      "Epoch 25/30\n",
      "6317/6317 [==============================] - 18s 3ms/step - loss: 0.3058 - accuracy: 0.9098 - val_loss: 0.9291 - val_accuracy: 0.7703\n",
      "Epoch 26/30\n",
      "6317/6317 [==============================] - 18s 3ms/step - loss: 0.2869 - accuracy: 0.9123 - val_loss: 0.9439 - val_accuracy: 0.7747\n",
      "Epoch 27/30\n",
      "6317/6317 [==============================] - 18s 3ms/step - loss: 0.2823 - accuracy: 0.9114 - val_loss: 0.9444 - val_accuracy: 0.7747\n",
      "Epoch 28/30\n",
      "6317/6317 [==============================] - 18s 3ms/step - loss: 0.2694 - accuracy: 0.9193 - val_loss: 0.9816 - val_accuracy: 0.7665\n",
      "Epoch 29/30\n",
      "6317/6317 [==============================] - 18s 3ms/step - loss: 0.2695 - accuracy: 0.9142 - val_loss: 0.9679 - val_accuracy: 0.7791\n",
      "Epoch 30/30\n",
      "6317/6317 [==============================] - 18s 3ms/step - loss: 0.2504 - accuracy: 0.9201 - val_loss: 0.9800 - val_accuracy: 0.7684\n"
     ]
    }
   ],
   "source": [
    "batch_size = 500\n",
    "epochs = 30\n",
    "history = model.fit(X_train, y_train, epochs=epochs, class_weight=class_weight, batch_size=batch_size, verbose=1, validation_split=0.2)"
   ]
  },
  {
   "cell_type": "code",
   "execution_count": 90,
   "metadata": {},
   "outputs": [
    {
     "data": {
      "image/png": "[encoded data removed]",
      "text/plain": [
       "<Figure size 432x288 with 1 Axes>"
      ]
     },
     "metadata": {
      "needs_background": "light"
     },
     "output_type": "display_data"
    },
    {
     "data": {
      "image/png": "[encoded data removed]",
      "text/plain": [
       "<Figure size 432x288 with 1 Axes>"
      ]
     },
     "metadata": {
      "needs_background": "light"
     },
     "output_type": "display_data"
    }
   ],
   "source": [
    "plt.plot(history.history['accuracy'])\n",
    "plt.plot(history.history['val_accuracy'])\n",
    "plt.title('model accuracy')\n",
    "plt.ylabel('accuracy')\n",
    "plt.xlabel('epoch')\n",
    "plt.legend(['train', 'validation'], loc='upper left')\n",
    "plt.show()\n",
    "\n",
    "plt.plot(history.history['loss'])\n",
    "plt.plot(history.history['val_loss'])\n",
    "plt.title('model loss')\n",
    "plt.ylabel('loss')\n",
    "plt.xlabel('epoch')\n",
    "plt.legend(['train', 'validation'], loc='upper left')\n",
    "plt.show()"
   ]
  },
  {
   "cell_type": "code",
   "execution_count": 67,
   "metadata": {},
   "outputs": [
    {
     "name": "stdout",
     "output_type": "stream",
     "text": [
      "\u001b[1mModel accuracy:\u001b[0m 71.29%\n",
      "________________________________________________________________________________\n",
      "\u001b[1mConfusion matrix:\u001b[0m\n",
      " [[333   0   1 ...   0   0   1]\n",
      " [  4  34   0 ...   0   0   0]\n",
      " [ 10   0  26 ...   0   0   1]\n",
      " ...\n",
      " [ 44   1   2 ...  70   0   2]\n",
      " [ 37   0   0 ...   0   6   3]\n",
      " [ 41   1   1 ...   4   1   6]]\n",
      "________________________________________________________________________________\n",
      "\u001b[1mClassification report:\u001b[0m\n",
      "               precision    recall  f1-score   support\n",
      "\n",
      "           0       0.82      0.70      0.75       400\n",
      "           1       0.94      0.85      0.89        40\n",
      "           2       0.84      0.65      0.73        40\n",
      "           3       0.95      1.00      0.98        40\n",
      "           4       0.63      0.65      0.64        52\n",
      "           5       0.88      0.70      0.78        40\n",
      "           6       0.81      0.75      0.78        40\n",
      "           7       1.00      0.97      0.99        40\n",
      "           8       0.67      0.82      0.74        40\n",
      "           9       0.98      1.00      0.99        40\n",
      "          10       0.77      0.90      0.83        40\n",
      "          11       0.50      0.23      0.32        43\n",
      "          12       0.67      0.42      0.51        48\n",
      "          13       0.98      1.00      0.99        40\n",
      "          14       1.00      1.00      1.00        40\n",
      "          15       0.95      0.66      0.78        58\n",
      "          16       0.87      0.65      0.74        40\n",
      "          17       0.78      0.88      0.82        40\n",
      "          18       0.78      0.97      0.87        40\n",
      "          19       0.76      0.88      0.81        40\n",
      "          20       0.39      0.33      0.36        40\n",
      "          21       0.98      1.00      0.99        40\n",
      "          22       0.86      0.95      0.90        40\n",
      "          23       0.86      0.80      0.83        40\n",
      "          24       0.97      0.93      0.95        40\n",
      "          25       0.84      0.78      0.81        40\n",
      "          26       0.97      0.97      0.97        40\n",
      "          27       0.95      0.95      0.95        40\n",
      "          28       0.97      0.97      0.97        40\n",
      "          29       0.88      0.90      0.89        40\n",
      "          30       0.79      0.68      0.73        40\n",
      "          31       0.90      0.45      0.60        40\n",
      "          32       0.95      0.88      0.91        40\n",
      "          33       0.90      0.53      0.67       132\n",
      "          34       0.86      0.12      0.21        50\n",
      "          35       0.32      0.08      0.13        72\n",
      "\n",
      "   micro avg       0.84      0.71      0.77      1975\n",
      "   macro avg       0.83      0.75      0.77      1975\n",
      "weighted avg       0.82      0.71      0.75      1975\n",
      " samples avg       0.71      0.71      0.71      1975\n",
      "\n",
      "________________________________________________________________________________\n"
     ]
    },
    {
     "name": "stderr",
     "output_type": "stream",
     "text": [
      "C:\\ProgramData\\Anaconda3\\lib\\site-packages\\sklearn\\metrics\\_classification.py:1272: UndefinedMetricWarning:\n",
      "\n",
      "Precision and F-score are ill-defined and being set to 0.0 in samples with no predicted labels. Use `zero_division` parameter to control this behavior.\n",
      "\n"
     ]
    }
   ],
   "source": [
    "# Analyze Classification Summary\n",
    "y_proba = model.predict([X_test])\n",
    "y_pred = (y_proba > 0.5).astype('int32')\n",
    "classification_summary(y_test, y_pred, y_proba)"
   ]
  },
  {
   "cell_type": "markdown",
   "metadata": {},
   "source": [
    "Observations: Improvement seen in Accuracy"
   ]
  },
  {
   "cell_type": "markdown",
   "metadata": {},
   "source": [
    "# Summary of Accuracies of the different models"
   ]
  },
  {
   "cell_type": "markdown",
   "metadata": {},
   "source": [
    "Accuracy on Test Data of the Different Models\n",
    "\n",
    "\n",
    "| Data | Model | F1-Micro Average | F1- Sample Average |\n",
    "| --- | --- | --- | --- |\n",
    "| As given | Unigram Word2Vec | 0.58 |0.48 |\n",
    "| As given | Glove (200d) | 0.66 |0.59 |\n",
    "| As given | n-gram Word2Vec | 0.65 |0.56 |\n",
    "| As given | n-gram Word2Vec (balance groups) | 0.65 |0.58 |\n",
    "| Re-sampled | n-gram Word2Vec | 0.76 |0.68 |\n",
    "| Re-sampled | n-gram Word2Vec (balance groups) | 0.77 |0.71 |\n",
    "| Re-sampled | n-gram Word2Vec (balance groups) + Attention Layer | 0.75 |0.71 |\n",
    "| Re-sampled | n-gram Word2Vec (balance groups) + 1 Bi-LSTM Layer | 0.77 |0.71 |\n",
    "| Re-sampled | n-gram Word2Vec (balance groups) + change drop out rate | 0.77 |0.71 |\n",
    "| Re-sampled | n-gram Word2Vec (balance groups) + Optimizing Adam | 0.77 |0.72 |\n",
    "| Re-sampled | n-gram Word2Vec (balance groups) + Optimizing Adam + batch normalization | 0.77 |0.72 |\n",
    "| Re-sampled | Glove (200d) | 0.77 |0.71 |\n",
    "| Re-sampled | Glove (200d) + Optimizing Adam + batch normalization | 0.77 |0.71 |\n",
    "\n",
    "The best optimized model seems to be n-gram Word2Vec + Optimizing Adam\n"
   ]
  },
  {
   "cell_type": "markdown",
   "metadata": {},
   "source": [
    "# Further Steps\n",
    "\n",
    "The overall accuracy still leaves a lot to be desired. As future steps, \n",
    "- Collect additional data on small groups to improve their accuracy of prediction\n",
    "- Apply advanced nlp models like Bert, Roberta, Elmo to try and improve accuracy of predictions"
   ]
  },
  {
   "cell_type": "code",
   "execution_count": null,
   "metadata": {},
   "outputs": [],
   "source": []
  }
 ],
 "metadata": {
  "kernelspec": {
   "display_name": "Python 3",
   "language": "python",
   "name": "python3"
  },
  "language_info": {
   "codemirror_mode": {
    "name": "ipython",
    "version": 3
   },
   "file_extension": ".py",
   "mimetype": "text/x-python",
   "name": "python",
   "nbconvert_exporter": "python",
   "pygments_lexer": "ipython3",
   "version": "3.7.6"
  }
 },
 "nbformat": 4,
 "nbformat_minor": 2
}
